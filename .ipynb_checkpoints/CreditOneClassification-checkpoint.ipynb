{
 "cells": [
  {
   "cell_type": "code",
   "execution_count": 19,
   "metadata": {},
   "outputs": [],
   "source": [
    "#imports\n",
    "#numpy,pandas,scipy, math, matplotlib\n",
    "import numpy as np\n",
    "import pandas as pd\n",
    "import scipy\n",
    "from math import sqrt\n",
    "import matplotlib.pyplot as plt\n",
    "import seaborn as sns \n",
    "from sklearn.feature_selection import RFE"
   ]
  },
  {
   "cell_type": "code",
   "execution_count": 20,
   "metadata": {},
   "outputs": [],
   "source": [
    "#estimators\n",
    "from sklearn.ensemble import RandomForestRegressor\n",
    "from sklearn.linear_model import LinearRegression\n",
    "from sklearn.svm import SVR\n",
    "from sklearn import linear_model"
   ]
  },
  {
   "cell_type": "code",
   "execution_count": 21,
   "metadata": {},
   "outputs": [],
   "source": [
    "#model metrics\n",
    "from sklearn.metrics import mean_squared_error\n",
    "from sklearn.metrics import r2_score\n",
    "from sklearn.model_selection import cross_val_score"
   ]
  },
  {
   "cell_type": "code",
   "execution_count": 22,
   "metadata": {},
   "outputs": [],
   "source": [
    "#cross validation\n",
    "\n",
    "from sklearn.model_selection import train_test_split # replaces deprecated code\n",
    "\n",
    "#from sklearn.cross_validation import train_test_split\n",
    "## This is deprecated. Why is it in the course material?"
   ]
  },
  {
   "cell_type": "code",
   "execution_count": 23,
   "metadata": {},
   "outputs": [
    {
     "data": {
      "text/html": [
       "<div>\n",
       "<style scoped>\n",
       "    .dataframe tbody tr th:only-of-type {\n",
       "        vertical-align: middle;\n",
       "    }\n",
       "\n",
       "    .dataframe tbody tr th {\n",
       "        vertical-align: top;\n",
       "    }\n",
       "\n",
       "    .dataframe thead th {\n",
       "        text-align: right;\n",
       "    }\n",
       "</style>\n",
       "<table border=\"1\" class=\"dataframe\">\n",
       "  <thead>\n",
       "    <tr style=\"text-align: right;\">\n",
       "      <th></th>\n",
       "      <th>Unnamed: 0</th>\n",
       "      <th>id</th>\n",
       "      <th>limit</th>\n",
       "      <th>sex</th>\n",
       "      <th>edu</th>\n",
       "      <th>marriage</th>\n",
       "      <th>age</th>\n",
       "      <th>pay1</th>\n",
       "      <th>pay2</th>\n",
       "      <th>pay3</th>\n",
       "      <th>...</th>\n",
       "      <th>bill4</th>\n",
       "      <th>bill5</th>\n",
       "      <th>bill6</th>\n",
       "      <th>paid1</th>\n",
       "      <th>paid2</th>\n",
       "      <th>paid3</th>\n",
       "      <th>paid4</th>\n",
       "      <th>paid5</th>\n",
       "      <th>paid6</th>\n",
       "      <th>default</th>\n",
       "    </tr>\n",
       "  </thead>\n",
       "  <tbody>\n",
       "    <tr>\n",
       "      <td>0</td>\n",
       "      <td>0</td>\n",
       "      <td>1</td>\n",
       "      <td>20000</td>\n",
       "      <td>2</td>\n",
       "      <td>2</td>\n",
       "      <td>1</td>\n",
       "      <td>24</td>\n",
       "      <td>2</td>\n",
       "      <td>2</td>\n",
       "      <td>-1</td>\n",
       "      <td>...</td>\n",
       "      <td>0</td>\n",
       "      <td>0</td>\n",
       "      <td>0</td>\n",
       "      <td>0</td>\n",
       "      <td>689</td>\n",
       "      <td>0</td>\n",
       "      <td>0</td>\n",
       "      <td>0</td>\n",
       "      <td>0</td>\n",
       "      <td>1</td>\n",
       "    </tr>\n",
       "    <tr>\n",
       "      <td>1</td>\n",
       "      <td>1</td>\n",
       "      <td>2</td>\n",
       "      <td>120000</td>\n",
       "      <td>2</td>\n",
       "      <td>2</td>\n",
       "      <td>2</td>\n",
       "      <td>26</td>\n",
       "      <td>-1</td>\n",
       "      <td>2</td>\n",
       "      <td>0</td>\n",
       "      <td>...</td>\n",
       "      <td>3272</td>\n",
       "      <td>3455</td>\n",
       "      <td>3261</td>\n",
       "      <td>0</td>\n",
       "      <td>1000</td>\n",
       "      <td>1000</td>\n",
       "      <td>1000</td>\n",
       "      <td>0</td>\n",
       "      <td>2000</td>\n",
       "      <td>1</td>\n",
       "    </tr>\n",
       "    <tr>\n",
       "      <td>2</td>\n",
       "      <td>2</td>\n",
       "      <td>3</td>\n",
       "      <td>90000</td>\n",
       "      <td>2</td>\n",
       "      <td>2</td>\n",
       "      <td>2</td>\n",
       "      <td>34</td>\n",
       "      <td>0</td>\n",
       "      <td>0</td>\n",
       "      <td>0</td>\n",
       "      <td>...</td>\n",
       "      <td>14331</td>\n",
       "      <td>14948</td>\n",
       "      <td>15549</td>\n",
       "      <td>1518</td>\n",
       "      <td>1500</td>\n",
       "      <td>1000</td>\n",
       "      <td>1000</td>\n",
       "      <td>1000</td>\n",
       "      <td>5000</td>\n",
       "      <td>0</td>\n",
       "    </tr>\n",
       "    <tr>\n",
       "      <td>3</td>\n",
       "      <td>3</td>\n",
       "      <td>4</td>\n",
       "      <td>50000</td>\n",
       "      <td>2</td>\n",
       "      <td>2</td>\n",
       "      <td>1</td>\n",
       "      <td>37</td>\n",
       "      <td>0</td>\n",
       "      <td>0</td>\n",
       "      <td>0</td>\n",
       "      <td>...</td>\n",
       "      <td>28314</td>\n",
       "      <td>28959</td>\n",
       "      <td>29547</td>\n",
       "      <td>2000</td>\n",
       "      <td>2019</td>\n",
       "      <td>1200</td>\n",
       "      <td>1100</td>\n",
       "      <td>1069</td>\n",
       "      <td>1000</td>\n",
       "      <td>0</td>\n",
       "    </tr>\n",
       "    <tr>\n",
       "      <td>4</td>\n",
       "      <td>4</td>\n",
       "      <td>5</td>\n",
       "      <td>50000</td>\n",
       "      <td>1</td>\n",
       "      <td>2</td>\n",
       "      <td>1</td>\n",
       "      <td>57</td>\n",
       "      <td>-1</td>\n",
       "      <td>0</td>\n",
       "      <td>-1</td>\n",
       "      <td>...</td>\n",
       "      <td>20940</td>\n",
       "      <td>19146</td>\n",
       "      <td>19131</td>\n",
       "      <td>2000</td>\n",
       "      <td>36681</td>\n",
       "      <td>10000</td>\n",
       "      <td>9000</td>\n",
       "      <td>689</td>\n",
       "      <td>679</td>\n",
       "      <td>0</td>\n",
       "    </tr>\n",
       "  </tbody>\n",
       "</table>\n",
       "<p>5 rows × 26 columns</p>\n",
       "</div>"
      ],
      "text/plain": [
       "   Unnamed: 0  id   limit  sex  edu  marriage  age  pay1  pay2  pay3  ...  \\\n",
       "0           0   1   20000    2    2         1   24     2     2    -1  ...   \n",
       "1           1   2  120000    2    2         2   26    -1     2     0  ...   \n",
       "2           2   3   90000    2    2         2   34     0     0     0  ...   \n",
       "3           3   4   50000    2    2         1   37     0     0     0  ...   \n",
       "4           4   5   50000    1    2         1   57    -1     0    -1  ...   \n",
       "\n",
       "   bill4  bill5  bill6  paid1  paid2  paid3  paid4  paid5  paid6  default  \n",
       "0      0      0      0      0    689      0      0      0      0        1  \n",
       "1   3272   3455   3261      0   1000   1000   1000      0   2000        1  \n",
       "2  14331  14948  15549   1518   1500   1000   1000   1000   5000        0  \n",
       "3  28314  28959  29547   2000   2019   1200   1100   1069   1000        0  \n",
       "4  20940  19146  19131   2000  36681  10000   9000    689    679        0  \n",
       "\n",
       "[5 rows x 26 columns]"
      ]
     },
     "execution_count": 23,
     "metadata": {},
     "output_type": "execute_result"
    }
   ],
   "source": [
    "#data\n",
    "rawData = pd.read_csv('creditFiltered.csv', header=0)\n",
    "rawData.head()"
   ]
  },
  {
   "cell_type": "markdown",
   "metadata": {},
   "source": [
    "# Cleaning and Preprocessing"
   ]
  },
  {
   "cell_type": "code",
   "execution_count": 24,
   "metadata": {
    "scrolled": true
   },
   "outputs": [
    {
     "name": "stdout",
     "output_type": "stream",
     "text": [
      "<class 'pandas.core.frame.DataFrame'>\n",
      "RangeIndex: 30000 entries, 0 to 29999\n",
      "Data columns (total 26 columns):\n",
      "Unnamed: 0    30000 non-null int64\n",
      "id            30000 non-null int64\n",
      "limit         30000 non-null int64\n",
      "sex           30000 non-null int64\n",
      "edu           30000 non-null int64\n",
      "marriage      30000 non-null int64\n",
      "age           30000 non-null int64\n",
      "pay1          30000 non-null int64\n",
      "pay2          30000 non-null int64\n",
      "pay3          30000 non-null int64\n",
      "pay4          30000 non-null int64\n",
      "pay5          30000 non-null int64\n",
      "pay6          30000 non-null int64\n",
      "bill1         30000 non-null int64\n",
      "bill2         30000 non-null int64\n",
      "bill3         30000 non-null int64\n",
      "bill4         30000 non-null int64\n",
      "bill5         30000 non-null int64\n",
      "bill6         30000 non-null int64\n",
      "paid1         30000 non-null int64\n",
      "paid2         30000 non-null int64\n",
      "paid3         30000 non-null int64\n",
      "paid4         30000 non-null int64\n",
      "paid5         30000 non-null int64\n",
      "paid6         30000 non-null int64\n",
      "default       30000 non-null int64\n",
      "dtypes: int64(26)\n",
      "memory usage: 6.0 MB\n"
     ]
    }
   ],
   "source": [
    "rawData.info()"
   ]
  },
  {
   "cell_type": "markdown",
   "metadata": {},
   "source": [
    "## Convert Categorical Variables that are Numeric Types into Category Types"
   ]
  },
  {
   "cell_type": "code",
   "execution_count": 25,
   "metadata": {},
   "outputs": [],
   "source": [
    "# Convert categorical variables that are inputted as numeric into categorical types\n",
    "rawData['sex'] = rawData.sex.astype('category')\n",
    "rawData['edu'] = rawData.edu.astype('category')\n",
    "rawData['marriage'] = rawData.marriage.astype('category')\n",
    "rawData['pay1'] = rawData.pay1.astype('category')\n",
    "rawData['pay2'] = rawData.pay2.astype('category')\n",
    "rawData['pay3'] = rawData.pay3.astype('category')\n",
    "rawData['pay4'] = rawData.pay4.astype('category')\n",
    "rawData['pay5'] = rawData.pay5.astype('category')\n",
    "rawData['pay6'] = rawData.pay6.astype('category')\n",
    "rawData['default'] = rawData.default.astype('category')"
   ]
  },
  {
   "cell_type": "markdown",
   "metadata": {},
   "source": [
    "## Create Train and Test set\n",
    "\n",
    "70% and 30% split\n",
    "Train Set: X_train, y_train: \n",
    " Test Set: X_test, y_test (also referred to as ground truth, used to test predictions on for performance)"
   ]
  },
  {
   "cell_type": "code",
   "execution_count": 26,
   "metadata": {},
   "outputs": [],
   "source": [
    "X = rawData.iloc[:,2:24]\n",
    "y = rawData['default']"
   ]
  },
  {
   "cell_type": "code",
   "execution_count": 27,
   "metadata": {},
   "outputs": [],
   "source": [
    "X_train, X_test, y_train, y_test = train_test_split(\n",
    "...     X, y, test_size=0.3, random_state=42)"
   ]
  },
  {
   "cell_type": "code",
   "execution_count": 28,
   "metadata": {},
   "outputs": [
    {
     "name": "stdout",
     "output_type": "stream",
     "text": [
      "The number of observations in the Y training set are: 21000\n"
     ]
    }
   ],
   "source": [
    "print('The number of observations in the Y training set are:',str(len(y_train.index)))\n"
   ]
  },
  {
   "cell_type": "code",
   "execution_count": 29,
   "metadata": {},
   "outputs": [
    {
     "name": "stdout",
     "output_type": "stream",
     "text": [
      "The number of observations in the X training set are: 21000\n"
     ]
    }
   ],
   "source": [
    "print('The number of observations in the X training set are:',str(len(X_train.index)))\n"
   ]
  },
  {
   "cell_type": "code",
   "execution_count": 30,
   "metadata": {},
   "outputs": [
    {
     "name": "stdout",
     "output_type": "stream",
     "text": [
      "The number of observations in the X testing set are: 9000\n"
     ]
    }
   ],
   "source": [
    "print('The number of observations in the X testing set are:',str(len(X_test.index)))\n"
   ]
  },
  {
   "cell_type": "code",
   "execution_count": 31,
   "metadata": {},
   "outputs": [
    {
     "name": "stdout",
     "output_type": "stream",
     "text": [
      "The number of observations in the y testing set are: 9000\n"
     ]
    }
   ],
   "source": [
    "print('The number of observations in the y testing set are:',str(len(y_test.index)))\n"
   ]
  },
  {
   "cell_type": "code",
   "execution_count": 32,
   "metadata": {},
   "outputs": [
    {
     "data": {
      "text/plain": [
       "0.3"
      ]
     },
     "execution_count": 32,
     "metadata": {},
     "output_type": "execute_result"
    }
   ],
   "source": [
    "# verify split\n",
    "len(X_test)/(len(X_test)+len(X_train))"
   ]
  },
  {
   "cell_type": "code",
   "execution_count": 33,
   "metadata": {},
   "outputs": [
    {
     "data": {
      "text/plain": [
       "0.3"
      ]
     },
     "execution_count": 33,
     "metadata": {},
     "output_type": "execute_result"
    }
   ],
   "source": [
    "# verify split\n",
    "len(y_test)/(len(y_test)+len(y_train))"
   ]
  },
  {
   "cell_type": "markdown",
   "metadata": {},
   "source": [
    "# Classification (4 Models) - First Attempt\n",
    "\n",
    "Which algorithms should we try?\n",
    "\n",
    "- Linear Classifiers: Logistic regression, Naive Bayes classifier, Fisher’s linear discriminant\n",
    "- Support vector machines: Least squares support vector machines\n",
    "- Quadratic classifiers\n",
    "- Kernel estimation: k-nearest neighbor \n",
    "- Decision trees: Random forests\n",
    "- Neural networks\n",
    "- Learning vector quantization"
   ]
  },
  {
   "cell_type": "markdown",
   "metadata": {},
   "source": [
    "## Random Forest"
   ]
  },
  {
   "cell_type": "code",
   "execution_count": 34,
   "metadata": {},
   "outputs": [],
   "source": [
    "# Random Forest Model \n",
    "from sklearn.ensemble import RandomForestClassifier\n",
    "rf_model = RandomForestClassifier(max_depth=2, random_state=0)\n",
    "rf_model.fit(X_train, y_train)\n",
    "predictions_rf= rf_model.predict(X_test)"
   ]
  },
  {
   "cell_type": "code",
   "execution_count": 35,
   "metadata": {},
   "outputs": [
    {
     "data": {
      "text/plain": [
       "<matplotlib.axes._subplots.AxesSubplot at 0x1a1f4ea510>"
      ]
     },
     "execution_count": 35,
     "metadata": {},
     "output_type": "execute_result"
    },
    {
     "data": {
      "image/png": "[encoded data removed]",
      "text/plain": [
       "<Figure size 432x288 with 2 Axes>"
      ]
     },
     "metadata": {
      "needs_background": "light"
     },
     "output_type": "display_data"
    }
   ],
   "source": [
    "# Create pandas data frame of prediction and y_test results and plot it\n",
    "\n",
    "predictions_df = pd.DataFrame(predictions_rf)\n",
    "predictions_df.columns = ['predictions_rf']\n",
    "predictions_df.reset_index(drop=True, inplace=True)\n",
    "ytest_df = pd.DataFrame(y_test)\n",
    "ytest_df.columns = ['actualResults']\n",
    "ytest_df.reset_index(drop=True, inplace=True)\n",
    "res = [ytest_df,predictions_df]\n",
    "results_rf = pd.concat(res,sort=False, axis = 1)\n",
    "\n",
    "fig, axes = plt.subplots(1,2, sharex=True, sharey= True)\n",
    "sns.despine(left=True)\n",
    "\n",
    "sns.countplot(x='actualResults', data = results_rf, ax=axes[0] )\n",
    "sns.countplot(x='predictions_rf', data = results_rf, ax=axes[1] )"
   ]
  },
  {
   "cell_type": "markdown",
   "metadata": {},
   "source": [
    "## Least Squares Support Vector Machine"
   ]
  },
  {
   "cell_type": "code",
   "execution_count": 36,
   "metadata": {},
   "outputs": [],
   "source": [
    "# Least Squares Support Vector Machine\n",
    "from sklearn.svm import LinearSVC\n",
    "lssVM_model = LinearSVC(random_state=0, tol=1000)\n",
    "lssVM_model.fit(X_train, y_train)\n",
    "predictions_lssVM= lssVM_model.predict(X_test)"
   ]
  },
  {
   "cell_type": "code",
   "execution_count": 37,
   "metadata": {},
   "outputs": [
    {
     "data": {
      "text/plain": [
       "<matplotlib.axes._subplots.AxesSubplot at 0x1a1e913950>"
      ]
     },
     "execution_count": 37,
     "metadata": {},
     "output_type": "execute_result"
    },
    {
     "data": {
      "image/png": "[encoded data removed]",
      "text/plain": [
       "<Figure size 432x288 with 2 Axes>"
      ]
     },
     "metadata": {
      "needs_background": "light"
     },
     "output_type": "display_data"
    }
   ],
   "source": [
    "# Create pandas data frame of prediction and y_test results and plot it\n",
    "predictions_df = pd.DataFrame(predictions_lssVM)\n",
    "predictions_df.columns = ['predictions_lssVM']\n",
    "predictions_df.reset_index(drop=True, inplace=True)\n",
    "ytest_df = pd.DataFrame(y_test)\n",
    "ytest_df.columns = ['actualResults']\n",
    "ytest_df.reset_index(drop=True, inplace=True)\n",
    "res = [ytest_df,predictions_df]\n",
    "results_lssVM = pd.concat(res,sort=False, axis = 1)\n",
    "\n",
    "fig, axes = plt.subplots(1,2, sharex=True, sharey= True)\n",
    "sns.despine(left=True)\n",
    "\n",
    "sns.countplot(x='actualResults', data = results_lssVM, ax=axes[0] )\n",
    "sns.countplot(x='predictions_lssVM', data = results_lssVM, ax=axes[1] )"
   ]
  },
  {
   "cell_type": "markdown",
   "metadata": {},
   "source": [
    "## K- Nearest Neighbor"
   ]
  },
  {
   "cell_type": "code",
   "execution_count": 38,
   "metadata": {},
   "outputs": [],
   "source": [
    "# K- Nearest Neighbor\n",
    "from sklearn.neighbors import KNeighborsClassifier\n",
    "knn_model = KNeighborsClassifier(n_neighbors=3)\n",
    "knn_model.fit(X_train, y_train)\n",
    "predictions_knn = knn_model.predict(X_test)"
   ]
  },
  {
   "cell_type": "code",
   "execution_count": 39,
   "metadata": {},
   "outputs": [
    {
     "data": {
      "text/plain": [
       "<matplotlib.axes._subplots.AxesSubplot at 0x1a1f2399d0>"
      ]
     },
     "execution_count": 39,
     "metadata": {},
     "output_type": "execute_result"
    },
    {
     "data": {
      "image/png": "[encoded data removed]",
      "text/plain": [
       "<Figure size 432x288 with 2 Axes>"
      ]
     },
     "metadata": {
      "needs_background": "light"
     },
     "output_type": "display_data"
    }
   ],
   "source": [
    "# Create pandas data frame of prediction and y_test results and plot it\n",
    "\n",
    "predictions_df = pd.DataFrame(predictions_knn)\n",
    "predictions_df.columns = ['predictions_knn']\n",
    "predictions_df.reset_index(drop=True, inplace=True)\n",
    "ytest_df = pd.DataFrame(y_test)\n",
    "ytest_df.columns = ['actualResults']\n",
    "ytest_df.reset_index(drop=True, inplace=True)\n",
    "res = [ytest_df,predictions_df]\n",
    "results_knn = pd.concat(res,sort=False, axis = 1)\n",
    "\n",
    "fig, axes = plt.subplots(1,2, sharex=True, sharey= True)\n",
    "sns.despine(left=True)\n",
    "\n",
    "sns.countplot(x='actualResults', data = results_knn, ax=axes[0] )\n",
    "sns.countplot(x='predictions_knn', data = results_knn, ax=axes[1] )"
   ]
  },
  {
   "cell_type": "markdown",
   "metadata": {},
   "source": [
    "## Gaussian Naive Bayes"
   ]
  },
  {
   "cell_type": "code",
   "execution_count": 40,
   "metadata": {},
   "outputs": [],
   "source": [
    "# Gaussian Naive Bayes\n",
    "from sklearn.naive_bayes import GaussianNB\n",
    "gnb_model = GaussianNB()\n",
    "gnb_model.fit(X_train, y_train)\n",
    "predictions_gnb=gnb_model.predict(X_test)"
   ]
  },
  {
   "cell_type": "code",
   "execution_count": 41,
   "metadata": {},
   "outputs": [
    {
     "data": {
      "text/plain": [
       "<matplotlib.axes._subplots.AxesSubplot at 0x119594450>"
      ]
     },
     "execution_count": 41,
     "metadata": {},
     "output_type": "execute_result"
    },
    {
     "data": {
      "image/png": "[encoded data removed]",
      "text/plain": [
       "<Figure size 432x288 with 2 Axes>"
      ]
     },
     "metadata": {
      "needs_background": "light"
     },
     "output_type": "display_data"
    }
   ],
   "source": [
    "# Create pandas data frame of prediction and y_test results and plot it\n",
    "\n",
    "predictions_df = pd.DataFrame(predictions_gnb)\n",
    "predictions_df.columns = ['predictions_gnb']\n",
    "predictions_df.reset_index(drop=True, inplace=True)\n",
    "ytest_df = pd.DataFrame(y_test)\n",
    "ytest_df.columns = ['actualResults']\n",
    "ytest_df.reset_index(drop=True, inplace=True)\n",
    "res = [ytest_df,predictions_df]\n",
    "results_gnb = pd.concat(res,sort=False, axis = 1)\n",
    "\n",
    "fig, axes = plt.subplots(1,2, sharex=True, sharey= True)\n",
    "sns.despine(left=True)\n",
    "\n",
    "sns.countplot(x='actualResults', data = results_gnb, ax=axes[0] )\n",
    "sns.countplot(x='predictions_gnb', data = results_gnb, ax=axes[1] )"
   ]
  },
  {
   "cell_type": "markdown",
   "metadata": {},
   "source": [
    "## Performace Metrics for Models"
   ]
  },
  {
   "cell_type": "markdown",
   "metadata": {},
   "source": [
    "### Model Accuracy\n",
    "\n",
    "We have a class imbalance. Most of our customers did not default (which is great) but that means that accuracy is not the best metric due to the accuracy paradox. "
   ]
  },
  {
   "cell_type": "code",
   "execution_count": 42,
   "metadata": {},
   "outputs": [
    {
     "name": "stdout",
     "output_type": "stream",
     "text": [
      "The RandomForest model Accuracy score is: 0.8067777777777778\n",
      "The Least Squares Support Vector Machine model Accuracy score is: 0.7668888888888888\n",
      "The  K-Nearest Neighbor model Accuracy score is: 0.735\n",
      "The Gaussian Naive Bayes model Accuracy score is: 0.3942222222222222\n"
     ]
    }
   ],
   "source": [
    "# Accuracy\n",
    "from sklearn.metrics import accuracy_score\n",
    "print('The RandomForest model Accuracy score is:',str(accuracy_score(y_test, predictions_rf)))\n",
    "print('The Least Squares Support Vector Machine model Accuracy score is:',str(accuracy_score(y_test, predictions_lssVM)))\n",
    "print('The  K-Nearest Neighbor model Accuracy score is:',str(accuracy_score(y_test, predictions_knn)))\n",
    "print('The Gaussian Naive Bayes model Accuracy score is:',str(accuracy_score(y_test, predictions_gnb)))"
   ]
  },
  {
   "cell_type": "markdown",
   "metadata": {},
   "source": [
    "#### cross_val_score"
   ]
  },
  {
   "cell_type": "code",
   "execution_count": 43,
   "metadata": {},
   "outputs": [
    {
     "name": "stdout",
     "output_type": "stream",
     "text": [
      "The RandomForest model cross_val_score is: [0.81047619 0.80690476 0.80833333 0.80761905 0.80333333]\n",
      "The Least Squares Support Vector Machine model cross_val_score is: [0.77714286 0.77333333 0.77738095 0.77714286 0.77738095]\n",
      "The K-Nearest Neighbor model cross_val_score is: [0.7347619  0.74166667 0.74142857 0.72785714 0.73      ]\n",
      "The Gaussian Naive Bayes model cross_val_score is: [0.37404762 0.39190476 0.3997619  0.39761905 0.39785714]\n"
     ]
    }
   ],
   "source": [
    "print('The RandomForest model cross_val_score is:',str(cross_val_score(rf_model, X_train, y_train)))\n",
    "print('The Least Squares Support Vector Machine model cross_val_score is:',str(cross_val_score(lssVM_model, X_train, y_train)))\n",
    "print('The K-Nearest Neighbor model cross_val_score is:',str(cross_val_score(knn_model, X_train, y_train)))\n",
    "print('The Gaussian Naive Bayes model cross_val_score is:',str(cross_val_score(gnb_model, X_train, y_train)))\n"
   ]
  },
  {
   "cell_type": "markdown",
   "metadata": {},
   "source": [
    "### Precision\n",
    "What proportion of positive identifications (defaults) was actually correct?\n",
    "When the model predicts a customer will default, how many times is it correct?\n",
    "Ideally, we want a high precision. The higher the better. "
   ]
  },
  {
   "cell_type": "code",
   "execution_count": 44,
   "metadata": {},
   "outputs": [
    {
     "name": "stdout",
     "output_type": "stream",
     "text": [
      "When the Random Forest model predicts a customer will default, it is correct 0.69352 of the time.\n",
      "When the Least Squares Support Vector Machine model predicts a customer will default, it is correct 0.29341 of the time.\n",
      "When the K-Nearest Neighbor model predicts a customer will default, it is correct 0.33840 of the time.\n",
      "When the Gaussian Naive Bayes model predicts a customer will default, it is correct 0.24622 of the time.\n"
     ]
    }
   ],
   "source": [
    "# Precision Score (Add percentage instead of decimal later)\n",
    "from sklearn.metrics import precision_score\n",
    "model=\"Random Forest\"\n",
    "score= precision_score(y_test, predictions_rf, average=\"binary\")\n",
    "print(f\"When the {model} model predicts a customer will default, it is correct {score:.5f} of the time.\")\n",
    "model=\"Least Squares Support Vector Machine\"\n",
    "score= precision_score(y_test, predictions_lssVM, average=\"binary\")\n",
    "print(f\"When the {model} model predicts a customer will default, it is correct {score:.5f} of the time.\")\n",
    "model=\"K-Nearest Neighbor\"\n",
    "score= precision_score(y_test, predictions_knn, average=\"binary\")\n",
    "print(f\"When the {model} model predicts a customer will default, it is correct {score:.5f} of the time.\")\n",
    "model=\"Gaussian Naive Bayes\"\n",
    "score= precision_score(y_test, predictions_gnb, average=\"binary\")\n",
    "print(f\"When the {model} model predicts a customer will default, it is correct {score:.5f} of the time.\")"
   ]
  },
  {
   "cell_type": "markdown",
   "metadata": {},
   "source": [
    "### Recall\n",
    "What proportion of actual positives was identified correctly?\n",
    "How many times did the model correctly identify all customers who defaulted?\n",
    "If we have false negatives, it means a customer defaulted but we did not detect it. Recall measures how many times our model predicts that a customer defaulted versus how many times customers actually defaulted. A higher score means we have little false negatives. A lower score means that the model is not correctly identifying these false negatives which is very important because this is our underlying problem. We have had customers who defaulted but we haven't successfully predicted who these customers are."
   ]
  },
  {
   "cell_type": "code",
   "execution_count": 45,
   "metadata": {},
   "outputs": [
    {
     "name": "stdout",
     "output_type": "stream",
     "text": [
      "The Random Forest model correctly identifed all customer who defaulted 0.20204 of the time.\n",
      "The Least Squares Support Vector Machine model correctly identifed all customer who defaulted 0.05000 of the time.\n",
      "The K-Nearest Neighbor model correctly identifed all customer who defaulted 0.22704 of the time.\n",
      "The Gaussian Naive Bayes model correctly identifed all customer who defaulted 0.86429 of the time.\n"
     ]
    }
   ],
   "source": [
    "#Recall Score (Add percentage instead of decimal later)\n",
    "from sklearn.metrics import recall_score\n",
    "model=\"Random Forest\"\n",
    "score= recall_score(y_test, predictions_rf, average=\"binary\")\n",
    "print(f\"The {model} model correctly identifed all customer who defaulted {score:.5f} of the time.\")\n",
    "model=\"Least Squares Support Vector Machine\"\n",
    "score= recall_score(y_test, predictions_lssVM, average=\"binary\")\n",
    "print(f\"The {model} model correctly identifed all customer who defaulted {score:.5f} of the time.\")\n",
    "model=\"K-Nearest Neighbor\"\n",
    "score= recall_score(y_test, predictions_knn, average=\"binary\")\n",
    "print(f\"The {model} model correctly identifed all customer who defaulted {score:.5f} of the time.\")\n",
    "model=\"Gaussian Naive Bayes\"\n",
    "score= recall_score(y_test, predictions_gnb, average=\"binary\")\n",
    "print(f\"The {model} model correctly identifed all customer who defaulted {score:.5f} of the time.\")"
   ]
  },
  {
   "cell_type": "markdown",
   "metadata": {},
   "source": [
    "### F1 Score\n",
    "F1 = 2 * (precision * recall) / (precision + recall)\n",
    "Combines precision and recall. We want a model with the highest F1 score. "
   ]
  },
  {
   "cell_type": "code",
   "execution_count": 46,
   "metadata": {
    "scrolled": true
   },
   "outputs": [
    {
     "name": "stdout",
     "output_type": "stream",
     "text": [
      "The Random Forest model has an f1 score of 0.31292 .\n",
      "The Least Squares Support Vector Machine model has an f1 score of 0.08544 .\n",
      "The K-Nearest Neighbor model has an f1 score of 0.27176 .\n",
      "The Gaussian Naive Bayes model has an f1 score of 0.38326 .\n"
     ]
    }
   ],
   "source": [
    "from sklearn.metrics import f1_score\n",
    "model=\"Random Forest\"\n",
    "score= f1_score(y_test, predictions_rf, average=\"binary\")\n",
    "print(f\"The {model} model has an f1 score of {score:.5f} .\")\n",
    "model=\"Least Squares Support Vector Machine\"\n",
    "score= f1_score(y_test, predictions_lssVM, average=\"binary\")\n",
    "print(f\"The {model} model has an f1 score of {score:.5f} .\")\n",
    "model=\"K-Nearest Neighbor\"\n",
    "score= f1_score(y_test, predictions_knn, average=\"binary\")\n",
    "print(f\"The {model} model has an f1 score of {score:.5f} .\")\n",
    "model=\"Gaussian Naive Bayes\"\n",
    "score= f1_score(y_test, predictions_gnb, average=\"binary\")\n",
    "print(f\"The {model} model has an f1 score of {score:.5f} .\")\n"
   ]
  },
  {
   "cell_type": "markdown",
   "metadata": {},
   "source": [
    "### Combined Bar Chart of Models: Actual vs Predictions"
   ]
  },
  {
   "cell_type": "code",
   "execution_count": 98,
   "metadata": {},
   "outputs": [
    {
     "data": {
      "image/png": "[encoded data removed]",
      "text/plain": [
       "<Figure size 864x432 with 5 Axes>"
      ]
     },
     "metadata": {
      "needs_background": "light"
     },
     "output_type": "display_data"
    }
   ],
   "source": [
    "fig, axes = plt.subplots(1,5, sharex=True, sharey= True, figsize=(12,6))\n",
    "sns.despine(left=True)\n",
    "\n",
    "sns.countplot(x='actualResults', data = results_rf, ax=axes[0], palette=\"Greens\" )\n",
    "sns.countplot(x='predictions_rf', data = results_rf, ax=axes[1] )\n",
    "sns.countplot(x='predictions_lssVM', data =results_lssVM, ax=axes[2] )\n",
    "sns.countplot(x='predictions_knn', data = results_knn, ax=axes[3] )\n",
    "sns.countplot(x='predictions_gnb', data = results_gnb, ax=axes[4] )\n",
    "\n",
    "fig.tight_layout()\n",
    "\n",
    "for ax in axes.flat:\n",
    "    ax.label_outer()"
   ]
  },
  {
   "cell_type": "markdown",
   "metadata": {},
   "source": [
    "# Classification (3 Models) - Second Attempt (Dimension Reduction 2 Methods, Outliers)\n",
    "\n",
    "Which algorithms should we try?\n",
    "\n",
    "- Linear Classifiers: Naive Bayes classifier\n",
    "- Kernel estimation: k-nearest neighbor \n",
    "- Decision trees: Random forests"
   ]
  },
  {
   "cell_type": "markdown",
   "metadata": {},
   "source": [
    "While doing the EDA, I have come up with several ways to improve the models:\n",
    "\n",
    "- Outliers\n",
    "- Dimension Reduction\n",
    " - Multicollinearity : Monthly Bills\n",
    "- Class Imbalance Techniques\n",
    "\n",
    "The first technique I will try in improving this model is by reducing the dimensions. Are there any improvements when removing highly correlated variables like monthly bill amounts?"
   ]
  },
  {
   "cell_type": "markdown",
   "metadata": {},
   "source": [
    "## Dimension Reduction - Multicollinearity"
   ]
  },
  {
   "cell_type": "code",
   "execution_count": null,
   "metadata": {},
   "outputs": [],
   "source": [
    "# Start Fresh\n",
    "\n",
    "## load data\n",
    "rawData = pd.read_csv('creditFiltered.csv', header=0)\n",
    "\n",
    "## change categorical variables to category type\n",
    "rawData['sex'] = rawData.sex.astype('category')\n",
    "rawData['edu'] = rawData.edu.astype('category')\n",
    "rawData['marriage'] = rawData.marriage.astype('category')\n",
    "rawData['pay1'] = rawData.pay1.astype('category')\n",
    "rawData['pay2'] = rawData.pay2.astype('category')\n",
    "rawData['pay3'] = rawData.pay3.astype('category')\n",
    "rawData['pay4'] = rawData.pay4.astype('category')\n",
    "rawData['pay5'] = rawData.pay5.astype('category')\n",
    "rawData['pay6'] = rawData.pay6.astype('category')\n",
    "rawData['default'] = rawData.default.astype('category')"
   ]
  },
  {
   "cell_type": "code",
   "execution_count": null,
   "metadata": {},
   "outputs": [],
   "source": [
    "# remove Bill Amounts from features\n",
    "cols = ['limit', 'sex', 'edu', 'marriage', 'age', 'pay1',\n",
    "       'pay2', 'pay3', 'pay4', 'pay5', 'pay6', 'paid1', 'paid2', 'paid3', 'paid4', 'paid5',\n",
    "       'paid6', 'default']\n",
    "X = rawData[cols]\n",
    "y = rawData['default']"
   ]
  },
  {
   "cell_type": "code",
   "execution_count": null,
   "metadata": {},
   "outputs": [],
   "source": [
    "X_train, X_test, y_train, y_test = train_test_split(\n",
    "...     X, y, test_size=0.3, random_state=42)"
   ]
  },
  {
   "cell_type": "markdown",
   "metadata": {},
   "source": [
    "### Random Forest"
   ]
  },
  {
   "cell_type": "code",
   "execution_count": null,
   "metadata": {},
   "outputs": [],
   "source": [
    "# Random Forest Model \n",
    "rf_model = RandomForestClassifier(max_depth=2, random_state=0)\n",
    "rf_model.fit(X_train, y_train)\n",
    "predictions_rf= rf_model.predict(X_test)"
   ]
  },
  {
   "cell_type": "code",
   "execution_count": null,
   "metadata": {},
   "outputs": [],
   "source": [
    "# Create pandas data frame of prediction and y_test results and plot it\n",
    "\n",
    "predictions_df = pd.DataFrame(predictions_rf)\n",
    "predictions_df.columns = ['predictions_rf']\n",
    "predictions_df.reset_index(drop=True, inplace=True)\n",
    "ytest_df = pd.DataFrame(y_test)\n",
    "ytest_df.columns = ['actualResults']\n",
    "ytest_df.reset_index(drop=True, inplace=True)\n",
    "res = [ytest_df,predictions_df]\n",
    "results_rf = pd.concat(res,sort=False, axis = 1)\n",
    "\n",
    "fig, axes = plt.subplots(1,2, sharex=True, sharey= True)\n",
    "sns.despine(left=True)\n",
    "\n",
    "sns.countplot(x='actualResults', data = results_rf, ax=axes[0] )\n",
    "sns.countplot(x='predictions_rf', data = results_rf, ax=axes[1] )"
   ]
  },
  {
   "cell_type": "markdown",
   "metadata": {},
   "source": [
    "### K- Nearest Neighbor"
   ]
  },
  {
   "cell_type": "code",
   "execution_count": null,
   "metadata": {},
   "outputs": [],
   "source": [
    "# K- Nearest Neighbor\n",
    "knn_model = KNeighborsClassifier(n_neighbors=3)\n",
    "knn_model.fit(X_train, y_train)\n",
    "predictions_knn = knn_model.predict(X_test)"
   ]
  },
  {
   "cell_type": "code",
   "execution_count": null,
   "metadata": {},
   "outputs": [],
   "source": [
    "# Create pandas data frame of prediction and y_test results and plot it\n",
    "\n",
    "predictions_df = pd.DataFrame(predictions_knn)\n",
    "predictions_df.columns = ['predictions_knn']\n",
    "predictions_df.reset_index(drop=True, inplace=True)\n",
    "ytest_df = pd.DataFrame(y_test)\n",
    "ytest_df.columns = ['actualResults']\n",
    "ytest_df.reset_index(drop=True, inplace=True)\n",
    "res = [ytest_df,predictions_df]\n",
    "results_knn = pd.concat(res,sort=False, axis = 1)\n",
    "\n",
    "fig, axes = plt.subplots(1,2, sharex=True, sharey= True)\n",
    "sns.despine(left=True)\n",
    "\n",
    "sns.countplot(x='actualResults', data = results_knn, ax=axes[0] )\n",
    "sns.countplot(x='predictions_knn', data = results_knn, ax=axes[1] )"
   ]
  },
  {
   "cell_type": "markdown",
   "metadata": {},
   "source": [
    "### Gaussian Naive Bayes"
   ]
  },
  {
   "cell_type": "code",
   "execution_count": null,
   "metadata": {},
   "outputs": [],
   "source": [
    "# Gaussian Naive Bayes\n",
    "gnb_model = GaussianNB()\n",
    "gnb_model.fit(X_train, y_train)\n",
    "predictions_gnb=gnb_model.predict(X_test)"
   ]
  },
  {
   "cell_type": "code",
   "execution_count": null,
   "metadata": {
    "scrolled": true
   },
   "outputs": [],
   "source": [
    "# Create pandas data frame of prediction and y_test results and plot it\n",
    "\n",
    "predictions_df = pd.DataFrame(predictions_gnb)\n",
    "predictions_df.columns = ['predictions_gnb']\n",
    "predictions_df.reset_index(drop=True, inplace=True)\n",
    "ytest_df = pd.DataFrame(y_test)\n",
    "ytest_df.columns = ['actualResults']\n",
    "ytest_df.reset_index(drop=True, inplace=True)\n",
    "res = [ytest_df,predictions_df]\n",
    "results_gnb = pd.concat(res,sort=False, axis = 1)\n",
    "\n",
    "fig, axes = plt.subplots(1,2, sharex=True, sharey= True)\n",
    "sns.despine(left=True)\n",
    "\n",
    "sns.countplot(x='actualResults', data = results_gnb, ax=axes[0] )\n",
    "sns.countplot(x='predictions_gnb', data = results_gnb, ax=axes[1] )"
   ]
  },
  {
   "cell_type": "markdown",
   "metadata": {},
   "source": [
    "### Performance Metrics for Models (Second Attempt - Multicollinearity)"
   ]
  },
  {
   "cell_type": "markdown",
   "metadata": {},
   "source": [
    "####  Recall\n"
   ]
  },
  {
   "cell_type": "code",
   "execution_count": null,
   "metadata": {},
   "outputs": [],
   "source": [
    "#Recall Score (Add percentage instead of decimal later)\n",
    "model=\"Random Forest\"\n",
    "score= recall_score(y_test, predictions_rf, average=\"binary\")\n",
    "print(f\"The {model} model correctly identifed all customer who defaulted {score:.5f} of the time.\")\n",
    "model=\"K-Nearest Neighbor\"\n",
    "score= recall_score(y_test, predictions_knn, average=\"binary\")\n",
    "print(f\"The {model} model correctly identifed all customer who defaulted {score:.5f} of the time.\")\n",
    "model=\"Gaussian Naive Bayes\"\n",
    "score= recall_score(y_test, predictions_gnb, average=\"binary\")\n",
    "print(f\"The {model} model correctly identifed all customer who defaulted {score:.5f} of the time.\")"
   ]
  },
  {
   "cell_type": "markdown",
   "metadata": {},
   "source": [
    "#### F1 Score\n",
    "F1 = 2 * (precision * recall) / (precision + recall)\n",
    "Combines precision and recall. We want a model with the highest F1 score. "
   ]
  },
  {
   "cell_type": "code",
   "execution_count": null,
   "metadata": {
    "scrolled": true
   },
   "outputs": [],
   "source": [
    "model=\"Random Forest\"\n",
    "score= f1_score(y_test, predictions_rf, average=\"binary\")\n",
    "print(f\"The {model} model has an f1 score of {score:.5f} .\")\n",
    "model=\"K-Nearest Neighbor\"\n",
    "score= f1_score(y_test, predictions_knn, average=\"binary\")\n",
    "print(f\"The {model} model has an f1 score of {score:.5f} .\")\n",
    "model=\"Gaussian Naive Bayes\"\n",
    "score= f1_score(y_test, predictions_gnb, average=\"binary\")\n",
    "print(f\"The {model} model has an f1 score of {score:.5f} .\")\n"
   ]
  },
  {
   "cell_type": "markdown",
   "metadata": {},
   "source": [
    "#### Combined Bar Chart of Models: Actual vs Predictions"
   ]
  },
  {
   "cell_type": "code",
   "execution_count": null,
   "metadata": {},
   "outputs": [],
   "source": [
    "fig, axes = plt.subplots(1,4, sharex=True, sharey= True, figsize=(12,6))\n",
    "sns.despine(left=True)\n",
    "\n",
    "sns.countplot(x='actualResults', data = results_lr, ax=axes[0], palette=\"Greens\" )\n",
    "sns.countplot(x='predictions_rf', data = results_rf, ax=axes[1] )\n",
    "sns.countplot(x='predictions_knn', data = results_knn, ax=axes[2] )\n",
    "sns.countplot(x='predictions_gnb', data = results_gnb, ax=axes[3] )\n",
    "\n",
    "fig.tight_layout()\n",
    "\n",
    "for ax in axes.flat:\n",
    "    ax.label_outer()"
   ]
  },
  {
   "cell_type": "markdown",
   "metadata": {},
   "source": [
    "Notes:\n",
    "\n",
    "Recall Score before:\n",
    "\n",
    "- The Random Forest model correctly identifed all customer who defaulted 0.20453 of the time.\n",
    "- The Least Squares Support Vector Machine model correctly identifed all customer who defaulted 0.00258 of the time.\n",
    "- The K-Nearest Neighbor model correctly identifed all customer who defaulted 0.23802 of the time.\n",
    "- The Gaussian Naive Bayest model correctly identifed all customer who defaulted 0.79650 of the time.\n",
    "\n",
    "Recall Score After:\n",
    "\n",
    " - The Random Forest model correctly identifed all customer who defaulted 0.70222 of the time.\n",
    " - The K-Nearest Neighbor model correctly identifed all customer who defaulted 0.22308 of the time.\n",
    " - The Gaussian Naive Bayes model correctly identifed all customer who defaulted 0.81659 of the time.\n",
    "\n",
    "\n",
    "\n",
    "F1 Score before:\n",
    "\n",
    "\n",
    " - <span style=\"color:red\"> The Random Forest model has an f1 score of 0.31913 . </span>\n",
    " - The Least Squares Support Vector Machine model has an f1 score of 0.00512 .\n",
    " - The K-Nearest Neighbor model has an f1 score of 0.28812 .\n",
    " - The Gaussian Naive Bayes model has an f1 score of 0.40679 .\n",
    "\n",
    "F1 Score after:\n",
    "\n",
    " - <span style=\"color:red\"> The Random Forest model has an f1 score of 0.82506 . </span>\n",
    " - The K-Nearest Neighbor model has an f1 score of 0.27545.\n",
    " - The Gaussian Naive Bayes model has an f1 score of 0.40787.\n",
    " \n",
    "Knn did not benefit from removing multocollinearity. It's F1 and Recall score decreased slighly. Gaussian Naive Bayes benefited only slighly Random Forest improved tremendously. "
   ]
  },
  {
   "cell_type": "markdown",
   "metadata": {},
   "source": [
    "## Recursive Feature Elimination\n",
    "\n",
    "* I chose RFE over PCA because when looking at variance in EDA, there weren't features with low variance. \n",
    "\n",
    "* Let's find top 20 features (then 15)"
   ]
  },
  {
   "cell_type": "markdown",
   "metadata": {},
   "source": [
    "### Recursive Feature Elimination for Random Forest\n"
   ]
  },
  {
   "cell_type": "code",
   "execution_count": null,
   "metadata": {},
   "outputs": [],
   "source": [
    "X_train, X_test, y_train, y_test = train_test_split(\n",
    "...     X, y, test_size=0.3, random_state=42)"
   ]
  },
  {
   "cell_type": "code",
   "execution_count": null,
   "metadata": {},
   "outputs": [],
   "source": [
    "from sklearn.feature_selection import RFE\n",
    "\n",
    "\n",
    "#rf_model = RandomForestClassifier(max_depth=2, random_state=0)\n",
    "#rf_model.fit(X_train, y_train)\n",
    "#predictions_rf= rf_model.predict(X_test)\n",
    "\n",
    "\n",
    "\n",
    "# Feature extraction\n",
    "model = RandomForestClassifier()\n",
    "rfe = RFE(model, 20)\n",
    "fit = rfe.fit(X_train, y_train)\n",
    "print(\"Num Features: %s\" % (fit.n_features_))\n",
    "print(\"Selected Features: %s\" % (fit.support_))\n",
    "print(\"Feature Ranking: %s\" % (fit.ranking_))\n",
    "\n",
    "\n",
    "#X = rawData.iloc[:,2:24]\n",
    "#y = rawData['default']"
   ]
  },
  {
   "cell_type": "code",
   "execution_count": null,
   "metadata": {},
   "outputs": [],
   "source": [
    "print(\"All Features: %s\" % (X_train.columns) )\n"
   ]
  },
  {
   "cell_type": "markdown",
   "metadata": {},
   "source": [
    "This is really surprising. I would have expected bills to have the least rating. Instead, they're all important except for sex and lastly, marriage. How surprising. "
   ]
  },
  {
   "cell_type": "markdown",
   "metadata": {},
   "source": [
    "### Run Random Forest with RFE Features Only"
   ]
  },
  {
   "cell_type": "code",
   "execution_count": null,
   "metadata": {},
   "outputs": [],
   "source": [
    "# Remove Sex and Marriage as Features\n",
    "cols = ['limit', 'edu', 'age', 'pay1', 'pay2', 'pay3',\n",
    "       'pay4', 'pay5', 'pay6', 'bill1', 'bill2', 'bill3', 'bill4', 'bill5',\n",
    "       'bill6', 'paid1', 'paid2', 'paid3', 'paid4', 'paid5']\n",
    "\n",
    "\n",
    "X = rawData[cols]\n",
    "y = rawData['default']\n"
   ]
  },
  {
   "cell_type": "code",
   "execution_count": null,
   "metadata": {},
   "outputs": [],
   "source": [
    "X_train, X_test, y_train, y_test = train_test_split(\n",
    "...     X, y, test_size=0.3, random_state=42)"
   ]
  },
  {
   "cell_type": "code",
   "execution_count": null,
   "metadata": {},
   "outputs": [],
   "source": [
    "# Random Forest Model \n",
    "rf_model = RandomForestClassifier(max_depth=2, random_state=0)\n",
    "rf_model.fit(X_train, y_train)\n",
    "predictions_rf_rfe= rf_model.predict(X_test)"
   ]
  },
  {
   "cell_type": "code",
   "execution_count": null,
   "metadata": {},
   "outputs": [],
   "source": [
    "model=\"Random Forest\"\n",
    "score= recall_score(y_test, predictions_rf_rfe, average=\"binary\")\n",
    "print(f\"The {model} model correctly identifed all customer who defaulted {score:.5f} of the time.\")\n",
    "score= f1_score(y_test, predictions_rf_rfe, average=\"binary\")\n",
    "print(f\"The {model} model has an f1 score of {score:.5f} .\")"
   ]
  },
  {
   "cell_type": "markdown",
   "metadata": {},
   "source": [
    "### Run Random Forest with RFE Features  and Bill Features Removed"
   ]
  },
  {
   "cell_type": "code",
   "execution_count": null,
   "metadata": {},
   "outputs": [],
   "source": [
    "# Remove Sex and Marriage and Bills as Features\n",
    "cols = ['limit','edu', 'age', 'pay1', 'pay2', 'pay3',\n",
    "       'pay4', 'pay5', 'pay6', 'paid1', 'paid2', 'paid3', 'paid4', 'paid5']\n",
    "\n",
    "\n",
    "X = rawData[cols]\n",
    "y = rawData['default']\n"
   ]
  },
  {
   "cell_type": "code",
   "execution_count": null,
   "metadata": {},
   "outputs": [],
   "source": [
    "X_train, X_test, y_train, y_test = train_test_split(\n",
    "...     X, y, test_size=0.3, random_state=42)"
   ]
  },
  {
   "cell_type": "code",
   "execution_count": null,
   "metadata": {},
   "outputs": [],
   "source": [
    "# Random Forest Model \n",
    "rf_model = RandomForestClassifier(max_depth=2, random_state=0)\n",
    "rf_model.fit(X_train, y_train)\n",
    "predictions_rf_rfe= rf_model.predict(X_test)"
   ]
  },
  {
   "cell_type": "code",
   "execution_count": null,
   "metadata": {},
   "outputs": [],
   "source": [
    "model=\"Random Forest\"\n",
    "score= recall_score(y_test, predictions_rf_rfe, average=\"binary\")\n",
    "print(f\"The {model} model correctly identifed all customer who defaulted {score:.5f} of the time.\")\n",
    "score= f1_score(y_test, predictions_rf_rfe, average=\"binary\")\n",
    "print(f\"The {model} model has an f1 score of {score:.5f} .\")"
   ]
  },
  {
   "cell_type": "markdown",
   "metadata": {},
   "source": [
    "### RFE: KNN and GNG\n",
    "\n",
    "KNN and GNB do not support RFE"
   ]
  },
  {
   "cell_type": "markdown",
   "metadata": {},
   "source": [
    "## Remove Outliers\n",
    "\n",
    "Our features that have outliers\n",
    "\n",
    "Continuous \n",
    " - Limit (remove limits higher than 525,000 per IQR test)\n",
    " - Monthly Bills (we will remove this variable, so no need to remove outliers here)\n",
    " - Monthly Payments\n",
    " \n",
    " IQR Test for Monthly Payments (from EDA):\n",
    " \n",
    "lowOutliers: -5009.0 highOutliers: 11015.0\n",
    "lowOutliers: -5417.5 highOutliers: 11250.5\n",
    "lowOutliers: -5782.5 highOutliers: 10677.5\n",
    "lowOutliers: -5279.875 highOutliers: 9589.125\n",
    "lowOutliers: -5416.0 highOutliers: 9700.0\n",
    "lowOutliers: -5705.625 highOutliers: 9823.375\n",
    " \n",
    "* No monthly payments were negative (credits) so no need to remove low outliers.  \n",
    " \n",
    "Categorical (leave as is for now)\n",
    " - Sex\n",
    " - Edu\n",
    " - Marriage\n",
    " - Paid Status"
   ]
  },
  {
   "cell_type": "code",
   "execution_count": null,
   "metadata": {},
   "outputs": [],
   "source": [
    "# Start Fresh\n",
    "\n",
    "## load data\n",
    "rawData = pd.read_csv('creditFiltered.csv', header=0)\n",
    "\n",
    "## change categorical variables to category type\n",
    "rawData['sex'] = rawData.sex.astype('category')\n",
    "rawData['edu'] = rawData.edu.astype('category')\n",
    "rawData['marriage'] = rawData.marriage.astype('category')\n",
    "rawData['pay1'] = rawData.pay1.astype('category')\n",
    "rawData['pay2'] = rawData.pay2.astype('category')\n",
    "rawData['pay3'] = rawData.pay3.astype('category')\n",
    "rawData['pay4'] = rawData.pay4.astype('category')\n",
    "rawData['pay5'] = rawData.pay5.astype('category')\n",
    "rawData['pay6'] = rawData.pay6.astype('category')\n",
    "rawData['default'] = rawData.default.astype('category')\n",
    "\n"
   ]
  },
  {
   "cell_type": "code",
   "execution_count": null,
   "metadata": {},
   "outputs": [],
   "source": [
    "# Code to remove outliers\n",
    "\n",
    "rawData = rawData[rawData.limit < 11015]\n",
    "rawData = rawData[rawData.paid1 < 11250.5]\n",
    "rawData = rawData[rawData.paid2 < 10677.5]\n",
    "rawData = rawData[rawData.paid3 < 9589.125]\n",
    "rawData = rawData[rawData.paid4 < 9700]\n",
    "rawData = rawData[rawData.paid5 < 525000]\n",
    "rawData = rawData[rawData.paid6 < 9823.375]"
   ]
  },
  {
   "cell_type": "code",
   "execution_count": null,
   "metadata": {},
   "outputs": [],
   "source": [
    "X = rawData.iloc[:,2:24]\n",
    "y = rawData['default']"
   ]
  },
  {
   "cell_type": "code",
   "execution_count": null,
   "metadata": {},
   "outputs": [],
   "source": [
    "X_train, X_test, y_train, y_test = train_test_split(\n",
    "...     X, y, test_size=0.3, random_state=42)"
   ]
  },
  {
   "cell_type": "markdown",
   "metadata": {},
   "source": [
    "### Random Forest without Outliers"
   ]
  },
  {
   "cell_type": "code",
   "execution_count": null,
   "metadata": {},
   "outputs": [],
   "source": [
    "# Random Forest Model \n",
    "rf_model = RandomForestClassifier(max_depth=2, random_state=0)\n",
    "rf_model.fit(X_train, y_train)\n",
    "predictions_rf_noOutliers= rf_model.predict(X_test)"
   ]
  },
  {
   "cell_type": "code",
   "execution_count": null,
   "metadata": {
    "scrolled": true
   },
   "outputs": [],
   "source": [
    "model=\"Random Forest\"\n",
    "score= recall_score(y_test, predictions_rf_noOutliers, average=\"binary\")\n",
    "print(f\"The {model} model correctly identifed all customer who defaulted {score:.5f} of the time.\")\n",
    "score= f1_score(y_test, predictions_rf_noOutliers, average=\"binary\")\n",
    "print(f\"The {model} model has an f1 score of {score:.5f} .\")"
   ]
  },
  {
   "cell_type": "markdown",
   "metadata": {},
   "source": [
    "### K-Nearest Neighbors without Outliers"
   ]
  },
  {
   "cell_type": "code",
   "execution_count": null,
   "metadata": {},
   "outputs": [],
   "source": [
    "# K- Nearest Neighbor\n",
    "knn_model = KNeighborsClassifier(n_neighbors=3)\n",
    "knn_model.fit(X_train, y_train)\n",
    "predictions_knn_no_outliers = knn_model.predict(X_test)"
   ]
  },
  {
   "cell_type": "code",
   "execution_count": null,
   "metadata": {},
   "outputs": [],
   "source": [
    "model=\"K-Nearest Neighbor\"\n",
    "score= recall_score(y_test, predictions_knn_no_outliers, average=\"binary\")\n",
    "print(f\"The {model} model correctly identifed all customer who defaulted {score:.5f} of the time.\")\n",
    "\n",
    "model=\"K-Nearest Neighbor\"\n",
    "score= f1_score(y_test, predictions_knn_no_outliers, average=\"binary\")\n",
    "print(f\"The {model} model has an f1 score of {score:.5f} .\")\n"
   ]
  },
  {
   "cell_type": "markdown",
   "metadata": {},
   "source": [
    "### Gaussian Naive Bayes without Outliers"
   ]
  },
  {
   "cell_type": "code",
   "execution_count": null,
   "metadata": {},
   "outputs": [],
   "source": [
    "# Gaussian Naive Bayes\n",
    "gnb_model = GaussianNB()\n",
    "gnb_model.fit(X_train, y_train)\n",
    "predictions_gnb_no_outliers=gnb_model.predict(X_test)"
   ]
  },
  {
   "cell_type": "code",
   "execution_count": null,
   "metadata": {},
   "outputs": [],
   "source": [
    "model=\"Gaussian Naive Bayes\"\n",
    "score= recall_score(y_test, predictions_gnb_no_outliers, average=\"binary\")\n",
    "print(f\"The {model} model correctly identifed all customer who defaulted {score:.5f} of the time.\")\n",
    "\n",
    "model=\"Gaussian Naive Bayes\"\n",
    "score= f1_score(y_test, predictions_gnb_no_outliers, average=\"binary\")\n",
    "print(f\"The {model} model has an f1 score of {score:.5f} .\")\n",
    "\n"
   ]
  },
  {
   "cell_type": "markdown",
   "metadata": {},
   "source": [
    "# Classification (3 Models) - Third Attempt - MultiCollinearity & Outliers Combo"
   ]
  },
  {
   "cell_type": "code",
   "execution_count": null,
   "metadata": {},
   "outputs": [],
   "source": [
    "# Start Fresh\n",
    "\n",
    "## load data\n",
    "rawData = pd.read_csv('creditFiltered.csv', header=0)\n",
    "\n",
    "## change categorical variables to category type\n",
    "rawData['sex'] = rawData.sex.astype('category')\n",
    "rawData['edu'] = rawData.edu.astype('category')\n",
    "rawData['marriage'] = rawData.marriage.astype('category')\n",
    "rawData['pay1'] = rawData.pay1.astype('category')\n",
    "rawData['pay2'] = rawData.pay2.astype('category')\n",
    "rawData['pay3'] = rawData.pay3.astype('category')\n",
    "rawData['pay4'] = rawData.pay4.astype('category')\n",
    "rawData['pay5'] = rawData.pay5.astype('category')\n",
    "rawData['pay6'] = rawData.pay6.astype('category')\n",
    "rawData['default'] = rawData.default.astype('category')\n",
    "\n"
   ]
  },
  {
   "cell_type": "code",
   "execution_count": null,
   "metadata": {},
   "outputs": [],
   "source": [
    "# Remove outliers\n",
    "\n",
    "rawData = rawData[rawData.limit < 11015]\n",
    "rawData = rawData[rawData.paid1 < 11250.5]\n",
    "rawData = rawData[rawData.paid2 < 10677.5]\n",
    "rawData = rawData[rawData.paid3 < 9589.125]\n",
    "rawData = rawData[rawData.paid4 < 9700]\n",
    "rawData = rawData[rawData.paid5 < 525000]\n",
    "rawData = rawData[rawData.paid6 < 9823.375]"
   ]
  },
  {
   "cell_type": "code",
   "execution_count": null,
   "metadata": {},
   "outputs": [],
   "source": [
    "# remove Bill columns from features\n",
    "cols = ['limit', 'sex', 'edu', 'marriage', 'age', 'pay1',\n",
    "       'pay2', 'pay3', 'pay4', 'pay5', 'pay6', 'paid1', 'paid2', 'paid3', 'paid4', 'paid5',\n",
    "       'paid6', 'default']\n",
    "X = rawData[cols]\n",
    "y = rawData['default']"
   ]
  },
  {
   "cell_type": "markdown",
   "metadata": {},
   "source": [
    "## Random Forest\n",
    "Remove Bill Column, Remove Outliers"
   ]
  },
  {
   "cell_type": "code",
   "execution_count": null,
   "metadata": {},
   "outputs": [],
   "source": [
    "X_train, X_test, y_train, y_test = train_test_split(\n",
    "...     X, y, test_size=0.3, random_state=98)"
   ]
  },
  {
   "cell_type": "code",
   "execution_count": null,
   "metadata": {},
   "outputs": [],
   "source": [
    "# Random Forest Model \n",
    "rf_model = RandomForestClassifier(max_depth=3, random_state=5)\n",
    "rf_model.fit(X_train, y_train)\n",
    "pred_rf_OutBills= rf_model.predict(X_test)"
   ]
  },
  {
   "cell_type": "code",
   "execution_count": null,
   "metadata": {},
   "outputs": [],
   "source": [
    "model=\"Random Forest\"\n",
    "score= recall_score(y_test, pred_rf_OutBills, average=\"binary\")\n",
    "print(f\"The {model} model correctly identifed all customer who defaulted {score:.5f} of the time.\")\n",
    "score= f1_score(y_test, pred_rf_OutBills, average=\"binary\")\n",
    "print(f\"The {model} model has an f1 score of {score:.5f} .\")"
   ]
  },
  {
   "cell_type": "markdown",
   "metadata": {},
   "source": [
    "## K-Nearest Neighbor\n",
    "Remove Bill Column, Remove Outliers"
   ]
  },
  {
   "cell_type": "code",
   "execution_count": null,
   "metadata": {},
   "outputs": [],
   "source": [
    "X_train, X_test, y_train, y_test = train_test_split(\n",
    "...     X, y, test_size=0.3, random_state=98)"
   ]
  },
  {
   "cell_type": "code",
   "execution_count": null,
   "metadata": {},
   "outputs": [],
   "source": [
    "# K- Nearest Neighbor\n",
    "knn_model = KNeighborsClassifier(n_neighbors=3)\n",
    "knn_model.fit(X_train, y_train)\n",
    "pred_knn_OutBills = knn_model.predict(X_test)"
   ]
  },
  {
   "cell_type": "code",
   "execution_count": null,
   "metadata": {
    "scrolled": true
   },
   "outputs": [],
   "source": [
    "model=\"K-Nearest Neighbor\"\n",
    "score= recall_score(y_test, pred_knn_OutBills, average=\"binary\")\n",
    "print(f\"The {model} model correctly identifed all customer who defaulted {score:.5f} of the time.\")\n",
    "\n",
    "model=\"K-Nearest Neighbor\"\n",
    "score= f1_score(y_test, pred_knn_OutBills, average=\"binary\")\n",
    "print(f\"The {model} model has an f1 score of {score:.5f} .\")\n"
   ]
  },
  {
   "cell_type": "markdown",
   "metadata": {},
   "source": [
    "## Gaussian Naive Bayes\n",
    "Remove Bill Column, Remove Outliers"
   ]
  },
  {
   "cell_type": "code",
   "execution_count": null,
   "metadata": {},
   "outputs": [],
   "source": [
    "# Gaussian Naive Bayes\n",
    "gnb_model = GaussianNB()\n",
    "gnb_model.fit(X_train, y_train)\n",
    "pred_gnb_OutBills=gnb_model.predict(X_test)"
   ]
  },
  {
   "cell_type": "code",
   "execution_count": null,
   "metadata": {},
   "outputs": [],
   "source": [
    "model=\"Gaussian Naive Bayes\"\n",
    "score= recall_score(y_test, pred_gnb_OutBills, average=\"binary\")\n",
    "print(f\"The {model} model correctly identifed all customer who defaulted {score:.5f} of the time.\")\n",
    "\n",
    "model=\"Gaussian Naive Bayes\"\n",
    "score= f1_score(y_test, pred_gnb_OutBills, average=\"binary\")\n",
    "print(f\"The {model} model has an f1 score of {score:.5f} .\")"
   ]
  },
  {
   "cell_type": "markdown",
   "metadata": {},
   "source": [
    "# Classification (3 Models) - 4th Attempt - Tune Parameters"
   ]
  },
  {
   "cell_type": "code",
   "execution_count": 50,
   "metadata": {},
   "outputs": [],
   "source": [
    "# Start Fresh\n",
    "\n",
    "## load data\n",
    "rawData = pd.read_csv('creditFiltered.csv', header=0)\n",
    "\n",
    "## change categorical variables to category type\n",
    "rawData['sex'] = rawData.sex.astype('category')\n",
    "rawData['edu'] = rawData.edu.astype('category')\n",
    "rawData['marriage'] = rawData.marriage.astype('category')\n",
    "rawData['pay1'] = rawData.pay1.astype('category')\n",
    "rawData['pay2'] = rawData.pay2.astype('category')\n",
    "rawData['pay3'] = rawData.pay3.astype('category')\n",
    "rawData['pay4'] = rawData.pay4.astype('category')\n",
    "rawData['pay5'] = rawData.pay5.astype('category')\n",
    "rawData['pay6'] = rawData.pay6.astype('category')\n",
    "rawData['default'] = rawData.default.astype('category')\n",
    "\n",
    "# Remove outliers\n",
    "\n",
    "rawData = rawData[rawData.limit < 11015]\n",
    "rawData = rawData[rawData.paid1 < 11250.5]\n",
    "rawData = rawData[rawData.paid2 < 10677.5]\n",
    "rawData = rawData[rawData.paid3 < 9589.125]\n",
    "rawData = rawData[rawData.paid4 < 9700]\n",
    "rawData = rawData[rawData.paid5 < 525000]\n",
    "rawData = rawData[rawData.paid6 < 9823.375]\n",
    "\n",
    "# remove Bill columns from features\n",
    "cols = ['limit', 'sex', 'edu', 'marriage', 'age', 'pay1',\n",
    "       'pay2', 'pay3', 'pay4', 'pay5', 'pay6', 'paid1', 'paid2', 'paid3', 'paid4', 'paid5',\n",
    "       'paid6', 'default']\n",
    "X = rawData[cols]\n",
    "y = rawData['default']"
   ]
  },
  {
   "cell_type": "code",
   "execution_count": 51,
   "metadata": {},
   "outputs": [],
   "source": [
    "X_train, X_test, y_train, y_test = train_test_split(\n",
    "...     X, y, test_size=0.3, random_state=42)"
   ]
  },
  {
   "cell_type": "markdown",
   "metadata": {},
   "source": [
    "## Tune Random Forest"
   ]
  },
  {
   "cell_type": "code",
   "execution_count": 52,
   "metadata": {},
   "outputs": [
    {
     "data": {
      "text/plain": [
       "RandomForestClassifier(bootstrap=True, ccp_alpha=0.0, class_weight=None,\n",
       "                       criterion='gini', max_depth=3, max_features='auto',\n",
       "                       max_leaf_nodes=None, max_samples=None,\n",
       "                       min_impurity_decrease=0.0, min_impurity_split=None,\n",
       "                       min_samples_leaf=1, min_samples_split=2,\n",
       "                       min_weight_fraction_leaf=0.0, n_estimators=100,\n",
       "                       n_jobs=None, oob_score=False, random_state=5, verbose=0,\n",
       "                       warm_start=False)"
      ]
     },
     "execution_count": 52,
     "metadata": {},
     "output_type": "execute_result"
    }
   ],
   "source": [
    "# Random Forest Model \n",
    "rf_model = RandomForestClassifier(max_depth=3, random_state=5)\n",
    "rf_model.fit(X_train, y_train)\n",
    "#pred_rf_OutBills= rf_model.predict(X_test)"
   ]
  },
  {
   "cell_type": "markdown",
   "metadata": {},
   "source": [
    "Main Parameters to adjust per Sci Kit Learn Documentation:\n",
    "\n",
    "- n_estimators: number of trees in forest. (100)\n",
    " - larger, the better\n",
    "- max_features:  size of the random subsets of features to consider when splitting a node\n",
    " - the lower, the greater the reduction of variance\n",
    " - the lower, greater the increase in bias\n",
    " - Empirical good default values are max_features=\"sqrt\" (using a random subset of size sqrt(n_features)) for classification tasks (where n_features is the number of features in the data)\n",
    "- Good results with max_depth=None in combination with min_samples_split=2 \n",
    "\n",
    "source: https://scikit-learn.org/stable/modules/ensemble.html#forest , 1.11.2.3. Parameters¶\n"
   ]
  },
  {
   "cell_type": "code",
   "execution_count": 53,
   "metadata": {},
   "outputs": [
    {
     "name": "stdout",
     "output_type": "stream",
     "text": [
      "Parameters currently in use:\n",
      "\n",
      "{'bootstrap': True, 'ccp_alpha': 0.0, 'class_weight': None, 'criterion': 'gini', 'max_depth': 3, 'max_features': 'auto', 'max_leaf_nodes': None, 'max_samples': None, 'min_impurity_decrease': 0.0, 'min_impurity_split': None, 'min_samples_leaf': 1, 'min_samples_split': 2, 'min_weight_fraction_leaf': 0.0, 'n_estimators': 100, 'n_jobs': None, 'oob_score': False, 'random_state': 5, 'verbose': 0, 'warm_start': False}\n"
     ]
    }
   ],
   "source": [
    "print('Parameters currently in use:\\n')\n",
    "print(rf_model.get_params())\n",
    "\n",
    "# source: https://github.com/WillKoehrsen/Machine-Learning-Projects/blob/master/random_forest_explained/Improving%20Random%20Forest%20Part%202.ipynb"
   ]
  },
  {
   "cell_type": "code",
   "execution_count": 55,
   "metadata": {},
   "outputs": [
    {
     "name": "stdout",
     "output_type": "stream",
     "text": [
      "{'n_estimators': [200, 400, 600, 800, 1000, 1200, 1400, 1600, 1800, 2000], 'max_features': ['auto', 'sqrt'], 'max_depth': [10, 20, 30, 40, 50, 60, 70, 80, 90, 100, 110, None], 'min_samples_split': [2, 5, 10, 15, 20, 25, 30, 35, 40], 'min_samples_leaf': [1, 2, 4], 'bootstrap': [True, False]}\n"
     ]
    }
   ],
   "source": [
    "# Random Search with Cross Validation¶\n",
    "\n",
    "\n",
    "from sklearn.model_selection import RandomizedSearchCV\n",
    "\n",
    "\n",
    "# Number of trees (estimators) in random forest\n",
    "n_estimators = [int(x) for x in np.linspace(start = 200, stop = 2000, num = 10)]\n",
    "\n",
    "# Number of features to consider at every split\n",
    "max_features = ['auto', 'sqrt']\n",
    "\n",
    "# Maximum number of levels in tree\n",
    "max_depth = [int(x) for x in np.linspace(10, 110, num = 11)]\n",
    "max_depth.append(None)\n",
    "\n",
    "# Minimum number of samples required to split a node\n",
    "min_samples_split = [2, 5, 10,15,20,25,30,35,40]\n",
    "\n",
    "# Minimum number of samples required at each leaf node\n",
    "min_samples_leaf = [1, 2, 4]\n",
    "\n",
    "# Method of selecting samples for training each tree\n",
    "bootstrap = [True, False]\n",
    "\n",
    "# Create the random grid\n",
    "random_grid = {'n_estimators': n_estimators,\n",
    "               'max_features': max_features,\n",
    "               'max_depth': max_depth,\n",
    "               'min_samples_split': min_samples_split,\n",
    "               'min_samples_leaf': min_samples_leaf,\n",
    "               'bootstrap': bootstrap}\n",
    "\n",
    "print(random_grid)"
   ]
  },
  {
   "cell_type": "code",
   "execution_count": 56,
   "metadata": {},
   "outputs": [
    {
     "name": "stdout",
     "output_type": "stream",
     "text": [
      "Fitting 10 folds for each of 100 candidates, totalling 1000 fits\n"
     ]
    },
    {
     "name": "stderr",
     "output_type": "stream",
     "text": [
      "[Parallel(n_jobs=-1)]: Using backend LokyBackend with 4 concurrent workers.\n",
      "[Parallel(n_jobs=-1)]: Done  33 tasks      | elapsed:    9.6s\n",
      "[Parallel(n_jobs=-1)]: Done 154 tasks      | elapsed:  2.6min\n",
      "[Parallel(n_jobs=-1)]: Done 357 tasks      | elapsed:  7.7min\n",
      "[Parallel(n_jobs=-1)]: Done 640 tasks      | elapsed: 14.4min\n",
      "[Parallel(n_jobs=-1)]: Done 1000 out of 1000 | elapsed: 22.8min finished\n"
     ]
    }
   ],
   "source": [
    "# Use the random grid to search for best hyperparameters\n",
    "# First create the base model to tune\n",
    "rf = RandomForestClassifier(random_state = 42)\n",
    "# Random search of parameters, using 10 fold cross validation, \n",
    "# search across 100 different combinations, and use all available cores\n",
    "rf_random = RandomizedSearchCV(estimator=rf, param_distributions=random_grid,\n",
    "                              n_iter = 100, scoring='neg_mean_absolute_error', \n",
    "                              cv = 10, verbose=2, random_state=42, n_jobs=-1,\n",
    "                              return_train_score=True)\n",
    "\n",
    "# Fit the random search model\n",
    "rf_random.fit(X_train, y_train);"
   ]
  },
  {
   "cell_type": "code",
   "execution_count": 57,
   "metadata": {},
   "outputs": [
    {
     "data": {
      "text/plain": [
       "{'n_estimators': 200,\n",
       " 'min_samples_split': 35,\n",
       " 'min_samples_leaf': 4,\n",
       " 'max_features': 'auto',\n",
       " 'max_depth': 20,\n",
       " 'bootstrap': False}"
      ]
     },
     "execution_count": 57,
     "metadata": {},
     "output_type": "execute_result"
    }
   ],
   "source": [
    "rf_random.best_params_\n"
   ]
  },
  {
   "cell_type": "code",
   "execution_count": 58,
   "metadata": {},
   "outputs": [
    {
     "data": {
      "text/plain": [
       "{'mean_fit_time': array([ 0.46043537,  0.61948822,  0.65000205,  1.42479789,  3.17939305,\n",
       "         3.47167666,  4.9143187 ,  7.49742651,  5.05469666,  5.32485671,\n",
       "         8.45841224,  6.53161604,  2.30574918,  1.12452002,  1.65850158,\n",
       "         5.01587856, 10.97941444,  3.50767517,  6.15780408,  3.55325658,\n",
       "         1.7273001 ,  1.95553658,  0.69971125,  4.27690063,  5.37203889,\n",
       "         5.01229565,  6.49904706,  6.21689458,  5.09024391,  4.62920544,\n",
       "         2.99738159,  7.26083653,  7.78338203,  8.29027722,  8.23041034,\n",
       "         6.22056131,  7.14178724, 10.09698024,  4.99732094,  5.52326722,\n",
       "         8.47140858,  9.55833941,  3.11936846,  7.83003452,  7.99401953,\n",
       "         3.91039972,  6.70962923,  1.01932471,  6.68984439,  0.72113657,\n",
       "         3.65561321,  6.27089984,  2.06665039,  4.23152819,  3.09898915,\n",
       "         2.74152784,  3.02419319,  4.71618507,  3.09051125,  2.53211677,\n",
       "         1.53792872,  4.71566179,  5.93467324,  6.37591491,  7.24272563,\n",
       "         0.86376843,  6.77733886,  5.53124154,  5.38976359,  5.0811625 ,\n",
       "         3.05904095,  5.55813599,  6.00356147,  3.59731584,  4.49010808,\n",
       "         4.16054716,  1.60379491,  3.22896187,  4.10771897,  4.18127236,\n",
       "         7.50026317,  2.09407315,  3.24421098,  5.72952807,  2.15077784,\n",
       "         7.21278186,  3.07196867,  6.32785804,  3.94835184,  3.30141304,\n",
       "         8.94845362,  0.76872721,  6.21159897,  8.06153581,  8.83035896,\n",
       "        10.52959642,  2.26576989,  3.13707538,  5.3256413 ,  7.29956579]),\n",
       " 'std_fit_time': array([0.00610481, 0.00885218, 0.08032209, 0.07366436, 0.61814387,\n",
       "        0.23846631, 0.39445802, 1.82887337, 0.21170667, 0.17939411,\n",
       "        1.91737426, 0.47865629, 0.11188078, 0.03615308, 0.04507478,\n",
       "        0.54334157, 1.98740112, 0.56373177, 0.94413745, 0.68898836,\n",
       "        0.30251038, 0.11469243, 0.06302556, 0.7663287 , 0.45916432,\n",
       "        0.81162794, 0.91028755, 0.67145006, 0.3744765 , 0.75875141,\n",
       "        0.49469731, 1.17841935, 0.12508819, 0.86256477, 0.31982937,\n",
       "        0.43531779, 0.18504744, 0.22564193, 0.19650633, 0.59747913,\n",
       "        0.58640534, 0.72010426, 0.5805783 , 0.72917595, 0.64036817,\n",
       "        0.15700447, 0.40144443, 0.03670583, 0.39841991, 0.1855139 ,\n",
       "        0.43499249, 0.20572628, 0.3858263 , 0.53597615, 0.18854509,\n",
       "        0.20752754, 0.06359008, 0.48851462, 0.31849146, 0.5289387 ,\n",
       "        0.04249369, 0.16932606, 0.322867  , 0.93669862, 0.90932062,\n",
       "        0.22379657, 0.09413556, 0.5561656 , 0.3431019 , 0.48826668,\n",
       "        0.02926717, 0.71400986, 0.06617951, 0.75523886, 0.2858557 ,\n",
       "        0.13765914, 0.25545418, 0.15229006, 0.60695218, 0.18989344,\n",
       "        0.62954165, 0.30198692, 0.21015327, 0.43459482, 0.14108272,\n",
       "        0.59796995, 0.28731002, 0.33541804, 0.19699962, 0.42745197,\n",
       "        0.4380448 , 0.07508074, 0.30756053, 1.14576205, 0.93922754,\n",
       "        0.71556728, 0.01979411, 0.16358092, 0.19636019, 0.60777067]),\n",
       " 'mean_score_time': array([0.03556373, 0.03725717, 0.04224024, 0.07830033, 0.27560813,\n",
       "        0.2624912 , 0.22393939, 0.4281806 , 0.25291016, 0.25838451,\n",
       "        0.51612234, 0.36017737, 0.15425816, 0.08074417, 0.11339149,\n",
       "        0.2853034 , 0.55988002, 0.24095104, 0.40136893, 0.17513878,\n",
       "        0.10994618, 0.10298409, 0.03730404, 0.23387275, 0.2521028 ,\n",
       "        0.2728297 , 0.4530659 , 0.32000809, 0.33844502, 0.34419808,\n",
       "        0.22104414, 0.35890853, 0.50203397, 0.42742229, 0.41580162,\n",
       "        0.46208768, 0.49379916, 0.52451012, 0.26311982, 0.28715544,\n",
       "        0.48377721, 0.51564691, 0.24071825, 0.4147959 , 0.46580429,\n",
       "        0.2745666 , 0.33096936, 0.05828612, 0.439535  , 0.05068672,\n",
       "        0.21763151, 0.43138223, 0.1203742 , 0.31395197, 0.21459875,\n",
       "        0.19819105, 0.21616449, 0.32041073, 0.21403637, 0.15597887,\n",
       "        0.10925059, 0.33083742, 0.27827086, 0.37423036, 0.49969342,\n",
       "        0.06257794, 0.49106185, 0.3143033 , 0.40997396, 0.37068732,\n",
       "        0.16204042, 0.40761902, 0.3357161 , 0.17831385, 0.31706169,\n",
       "        0.22431123, 0.0837558 , 0.22985289, 0.26915393, 0.22233095,\n",
       "        0.49511068, 0.16202817, 0.25143008, 0.30691285, 0.11567717,\n",
       "        0.33998449, 0.20107081, 0.32448459, 0.28699262, 0.25005505,\n",
       "        0.56110864, 0.05861583, 0.43462143, 0.49807413, 0.58222811,\n",
       "        0.53182054, 0.17027409, 0.21631613, 0.38957245, 0.48692272]),\n",
       " 'std_score_time': array([0.00167804, 0.00258329, 0.01249675, 0.01249882, 0.12966535,\n",
       "        0.10180714, 0.037001  , 0.23643679, 0.02129916, 0.01090066,\n",
       "        0.17989179, 0.06325677, 0.00892613, 0.00579077, 0.00559777,\n",
       "        0.11636085, 0.16018   , 0.0548028 , 0.09519975, 0.03946617,\n",
       "        0.02666383, 0.01496471, 0.00209072, 0.04462414, 0.04733795,\n",
       "        0.05164426, 0.09485603, 0.06340339, 0.05160781, 0.0484986 ,\n",
       "        0.05274874, 0.06700557, 0.01627777, 0.0352393 , 0.02688811,\n",
       "        0.15426119, 0.03996676, 0.01728204, 0.03947746, 0.06034348,\n",
       "        0.08423122, 0.02081012, 0.07152443, 0.06620216, 0.02233884,\n",
       "        0.02586099, 0.05545932, 0.00654853, 0.07575858, 0.01485483,\n",
       "        0.01498404, 0.05729006, 0.02314374, 0.01101499, 0.01375052,\n",
       "        0.05540688, 0.01204618, 0.06960252, 0.04870293, 0.02801293,\n",
       "        0.01612559, 0.01973377, 0.05588172, 0.07116238, 0.08391843,\n",
       "        0.01452735, 0.0165793 , 0.02110439, 0.10241686, 0.07210013,\n",
       "        0.01500869, 0.08356644, 0.04014448, 0.04017624, 0.01824628,\n",
       "        0.0252124 , 0.02062875, 0.02293841, 0.06187626, 0.01274301,\n",
       "        0.07585498, 0.00830997, 0.04538935, 0.08361497, 0.01553179,\n",
       "        0.0658821 , 0.02591184, 0.01436075, 0.03214844, 0.05066806,\n",
       "        0.06064027, 0.00768383, 0.02942863, 0.16745192, 0.06103102,\n",
       "        0.03170555, 0.01105092, 0.01462111, 0.0492479 , 0.07530305]),\n",
       " 'param_n_estimators': masked_array(data=[200, 200, 200, 400, 1000, 1000, 1000, 1200, 1400, 1400,\n",
       "                    1800, 1400, 800, 400, 600, 1200, 2000, 800, 2000, 800,\n",
       "                    400, 400, 200, 1000, 1200, 1200, 2000, 1400, 1400,\n",
       "                    1400, 1000, 1800, 2000, 1600, 1600, 1600, 1800, 2000,\n",
       "                    1000, 1200, 1800, 2000, 1000, 1600, 1800, 1000, 1400,\n",
       "                    200, 1800, 200, 800, 1600, 600, 1200, 800, 800, 800,\n",
       "                    1400, 800, 600, 400, 1200, 1200, 1400, 2000, 200, 1800,\n",
       "                    1200, 1400, 1400, 600, 1600, 1200, 800, 1200, 800, 400,\n",
       "                    800, 1200, 800, 2000, 600, 800, 1200, 400, 1600, 800,\n",
       "                    1200, 1000, 800, 2000, 200, 1600, 1400, 2000, 2000,\n",
       "                    600, 800, 1400, 2000],\n",
       "              mask=[False, False, False, False, False, False, False, False,\n",
       "                    False, False, False, False, False, False, False, False,\n",
       "                    False, False, False, False, False, False, False, False,\n",
       "                    False, False, False, False, False, False, False, False,\n",
       "                    False, False, False, False, False, False, False, False,\n",
       "                    False, False, False, False, False, False, False, False,\n",
       "                    False, False, False, False, False, False, False, False,\n",
       "                    False, False, False, False, False, False, False, False,\n",
       "                    False, False, False, False, False, False, False, False,\n",
       "                    False, False, False, False, False, False, False, False,\n",
       "                    False, False, False, False, False, False, False, False,\n",
       "                    False, False, False, False, False, False, False, False,\n",
       "                    False, False, False, False],\n",
       "        fill_value='?',\n",
       "             dtype=object),\n",
       " 'param_min_samples_split': masked_array(data=[35, 25, 40, 30, 40, 15, 30, 25, 5, 5, 40, 10, 10, 20,\n",
       "                    20, 30, 20, 25, 5, 2, 2, 5, 15, 5, 25, 25, 30, 2, 10,\n",
       "                    10, 2, 15, 5, 30, 20, 35, 2, 2, 15, 15, 30, 2, 40, 2,\n",
       "                    40, 25, 20, 10, 5, 5, 40, 2, 30, 10, 40, 30, 30, 15,\n",
       "                    20, 2, 10, 5, 10, 40, 35, 20, 15, 25, 25, 15, 2, 30,\n",
       "                    25, 35, 40, 5, 15, 20, 2, 30, 30, 30, 15, 2, 35, 30, 2,\n",
       "                    2, 5, 25, 30, 10, 5, 10, 15, 20, 30, 10, 40, 30],\n",
       "              mask=[False, False, False, False, False, False, False, False,\n",
       "                    False, False, False, False, False, False, False, False,\n",
       "                    False, False, False, False, False, False, False, False,\n",
       "                    False, False, False, False, False, False, False, False,\n",
       "                    False, False, False, False, False, False, False, False,\n",
       "                    False, False, False, False, False, False, False, False,\n",
       "                    False, False, False, False, False, False, False, False,\n",
       "                    False, False, False, False, False, False, False, False,\n",
       "                    False, False, False, False, False, False, False, False,\n",
       "                    False, False, False, False, False, False, False, False,\n",
       "                    False, False, False, False, False, False, False, False,\n",
       "                    False, False, False, False, False, False, False, False,\n",
       "                    False, False, False, False],\n",
       "        fill_value='?',\n",
       "             dtype=object),\n",
       " 'param_min_samples_leaf': masked_array(data=[4, 1, 4, 1, 1, 4, 1, 1, 4, 2, 2, 1, 1, 1, 4, 1, 4, 1,\n",
       "                    4, 1, 4, 4, 4, 2, 4, 2, 2, 4, 1, 1, 2, 2, 1, 2, 1, 4,\n",
       "                    1, 4, 1, 1, 1, 1, 2, 4, 2, 1, 1, 2, 4, 1, 4, 2, 2, 1,\n",
       "                    4, 1, 4, 4, 4, 4, 1, 2, 1, 1, 1, 4, 4, 4, 1, 2, 4, 2,\n",
       "                    4, 2, 4, 2, 4, 1, 1, 1, 2, 4, 2, 1, 2, 4, 4, 4, 4, 1,\n",
       "                    1, 2, 1, 4, 1, 4, 1, 2, 1, 2],\n",
       "              mask=[False, False, False, False, False, False, False, False,\n",
       "                    False, False, False, False, False, False, False, False,\n",
       "                    False, False, False, False, False, False, False, False,\n",
       "                    False, False, False, False, False, False, False, False,\n",
       "                    False, False, False, False, False, False, False, False,\n",
       "                    False, False, False, False, False, False, False, False,\n",
       "                    False, False, False, False, False, False, False, False,\n",
       "                    False, False, False, False, False, False, False, False,\n",
       "                    False, False, False, False, False, False, False, False,\n",
       "                    False, False, False, False, False, False, False, False,\n",
       "                    False, False, False, False, False, False, False, False,\n",
       "                    False, False, False, False, False, False, False, False,\n",
       "                    False, False, False, False],\n",
       "        fill_value='?',\n",
       "             dtype=object),\n",
       " 'param_max_features': masked_array(data=['auto', 'sqrt', 'sqrt', 'sqrt', 'auto', 'sqrt', 'sqrt',\n",
       "                    'sqrt', 'sqrt', 'auto', 'auto', 'sqrt', 'auto', 'sqrt',\n",
       "                    'auto', 'auto', 'auto', 'sqrt', 'sqrt', 'sqrt', 'sqrt',\n",
       "                    'auto', 'sqrt', 'auto', 'auto', 'auto', 'sqrt', 'sqrt',\n",
       "                    'sqrt', 'auto', 'auto', 'sqrt', 'sqrt', 'sqrt', 'auto',\n",
       "                    'sqrt', 'sqrt', 'auto', 'auto', 'sqrt', 'sqrt', 'sqrt',\n",
       "                    'auto', 'auto', 'sqrt', 'auto', 'sqrt', 'auto', 'auto',\n",
       "                    'sqrt', 'sqrt', 'sqrt', 'auto', 'sqrt', 'sqrt', 'sqrt',\n",
       "                    'sqrt', 'auto', 'sqrt', 'sqrt', 'auto', 'sqrt', 'sqrt',\n",
       "                    'auto', 'auto', 'sqrt', 'sqrt', 'auto', 'sqrt', 'auto',\n",
       "                    'sqrt', 'sqrt', 'sqrt', 'auto', 'sqrt', 'sqrt', 'sqrt',\n",
       "                    'sqrt', 'auto', 'auto', 'sqrt', 'sqrt', 'sqrt', 'sqrt',\n",
       "                    'auto', 'sqrt', 'sqrt', 'sqrt', 'auto', 'sqrt', 'auto',\n",
       "                    'auto', 'sqrt', 'sqrt', 'sqrt', 'sqrt', 'sqrt', 'sqrt',\n",
       "                    'sqrt', 'sqrt'],\n",
       "              mask=[False, False, False, False, False, False, False, False,\n",
       "                    False, False, False, False, False, False, False, False,\n",
       "                    False, False, False, False, False, False, False, False,\n",
       "                    False, False, False, False, False, False, False, False,\n",
       "                    False, False, False, False, False, False, False, False,\n",
       "                    False, False, False, False, False, False, False, False,\n",
       "                    False, False, False, False, False, False, False, False,\n",
       "                    False, False, False, False, False, False, False, False,\n",
       "                    False, False, False, False, False, False, False, False,\n",
       "                    False, False, False, False, False, False, False, False,\n",
       "                    False, False, False, False, False, False, False, False,\n",
       "                    False, False, False, False, False, False, False, False,\n",
       "                    False, False, False, False],\n",
       "        fill_value='?',\n",
       "             dtype=object),\n",
       " 'param_max_depth': masked_array(data=[20, 20, 100, 100, 110, 90, 110, None, 10, 90, 110, 100,\n",
       "                    100, 90, 40, 40, 20, 80, 10, 50, 100, 100, None, 30,\n",
       "                    90, 70, 110, None, 90, 50, 60, 50, 30, 40, 60, 50, 70,\n",
       "                    10, 60, 60, 90, 40, 30, 30, 30, 100, 70, 80, 50, 90,\n",
       "                    100, 80, 50, 80, 70, 40, 70, 90, 20, 50, 20, 60, None,\n",
       "                    110, 20, 60, 80, 20, 110, 40, 60, 70, 30, 80, 20, 60,\n",
       "                    20, 100, 90, 80, 30, 60, 10, 110, 10, 80, 70, 20, 100,\n",
       "                    None, 30, 110, 60, 20, 30, None, 30, 10, 30, 40],\n",
       "              mask=[False, False, False, False, False, False, False, False,\n",
       "                    False, False, False, False, False, False, False, False,\n",
       "                    False, False, False, False, False, False, False, False,\n",
       "                    False, False, False, False, False, False, False, False,\n",
       "                    False, False, False, False, False, False, False, False,\n",
       "                    False, False, False, False, False, False, False, False,\n",
       "                    False, False, False, False, False, False, False, False,\n",
       "                    False, False, False, False, False, False, False, False,\n",
       "                    False, False, False, False, False, False, False, False,\n",
       "                    False, False, False, False, False, False, False, False,\n",
       "                    False, False, False, False, False, False, False, False,\n",
       "                    False, False, False, False, False, False, False, False,\n",
       "                    False, False, False, False],\n",
       "        fill_value='?',\n",
       "             dtype=object),\n",
       " 'param_bootstrap': masked_array(data=[False, True, True, True, False, False, True, True,\n",
       "                    True, True, True, False, False, False, False, True,\n",
       "                    True, False, False, True, True, True, True, True, True,\n",
       "                    True, False, True, False, False, False, True, False,\n",
       "                    True, True, False, False, True, True, True, True, True,\n",
       "                    False, True, True, False, True, True, False, False,\n",
       "                    True, False, False, False, False, False, False, False,\n",
       "                    False, True, False, False, True, True, False, False,\n",
       "                    False, True, False, False, True, False, True, True,\n",
       "                    False, True, True, False, False, True, False, False,\n",
       "                    False, True, True, True, False, True, False, False,\n",
       "                    False, False, False, True, False, True, False, False,\n",
       "                    False, False],\n",
       "              mask=[False, False, False, False, False, False, False, False,\n",
       "                    False, False, False, False, False, False, False, False,\n",
       "                    False, False, False, False, False, False, False, False,\n",
       "                    False, False, False, False, False, False, False, False,\n",
       "                    False, False, False, False, False, False, False, False,\n",
       "                    False, False, False, False, False, False, False, False,\n",
       "                    False, False, False, False, False, False, False, False,\n",
       "                    False, False, False, False, False, False, False, False,\n",
       "                    False, False, False, False, False, False, False, False,\n",
       "                    False, False, False, False, False, False, False, False,\n",
       "                    False, False, False, False, False, False, False, False,\n",
       "                    False, False, False, False, False, False, False, False,\n",
       "                    False, False, False, False],\n",
       "        fill_value='?',\n",
       "             dtype=object),\n",
       " 'params': [{'n_estimators': 200,\n",
       "   'min_samples_split': 35,\n",
       "   'min_samples_leaf': 4,\n",
       "   'max_features': 'auto',\n",
       "   'max_depth': 20,\n",
       "   'bootstrap': False},\n",
       "  {'n_estimators': 200,\n",
       "   'min_samples_split': 25,\n",
       "   'min_samples_leaf': 1,\n",
       "   'max_features': 'sqrt',\n",
       "   'max_depth': 20,\n",
       "   'bootstrap': True},\n",
       "  {'n_estimators': 200,\n",
       "   'min_samples_split': 40,\n",
       "   'min_samples_leaf': 4,\n",
       "   'max_features': 'sqrt',\n",
       "   'max_depth': 100,\n",
       "   'bootstrap': True},\n",
       "  {'n_estimators': 400,\n",
       "   'min_samples_split': 30,\n",
       "   'min_samples_leaf': 1,\n",
       "   'max_features': 'sqrt',\n",
       "   'max_depth': 100,\n",
       "   'bootstrap': True},\n",
       "  {'n_estimators': 1000,\n",
       "   'min_samples_split': 40,\n",
       "   'min_samples_leaf': 1,\n",
       "   'max_features': 'auto',\n",
       "   'max_depth': 110,\n",
       "   'bootstrap': False},\n",
       "  {'n_estimators': 1000,\n",
       "   'min_samples_split': 15,\n",
       "   'min_samples_leaf': 4,\n",
       "   'max_features': 'sqrt',\n",
       "   'max_depth': 90,\n",
       "   'bootstrap': False},\n",
       "  {'n_estimators': 1000,\n",
       "   'min_samples_split': 30,\n",
       "   'min_samples_leaf': 1,\n",
       "   'max_features': 'sqrt',\n",
       "   'max_depth': 110,\n",
       "   'bootstrap': True},\n",
       "  {'n_estimators': 1200,\n",
       "   'min_samples_split': 25,\n",
       "   'min_samples_leaf': 1,\n",
       "   'max_features': 'sqrt',\n",
       "   'max_depth': None,\n",
       "   'bootstrap': True},\n",
       "  {'n_estimators': 1400,\n",
       "   'min_samples_split': 5,\n",
       "   'min_samples_leaf': 4,\n",
       "   'max_features': 'sqrt',\n",
       "   'max_depth': 10,\n",
       "   'bootstrap': True},\n",
       "  {'n_estimators': 1400,\n",
       "   'min_samples_split': 5,\n",
       "   'min_samples_leaf': 2,\n",
       "   'max_features': 'auto',\n",
       "   'max_depth': 90,\n",
       "   'bootstrap': True},\n",
       "  {'n_estimators': 1800,\n",
       "   'min_samples_split': 40,\n",
       "   'min_samples_leaf': 2,\n",
       "   'max_features': 'auto',\n",
       "   'max_depth': 110,\n",
       "   'bootstrap': True},\n",
       "  {'n_estimators': 1400,\n",
       "   'min_samples_split': 10,\n",
       "   'min_samples_leaf': 1,\n",
       "   'max_features': 'sqrt',\n",
       "   'max_depth': 100,\n",
       "   'bootstrap': False},\n",
       "  {'n_estimators': 800,\n",
       "   'min_samples_split': 10,\n",
       "   'min_samples_leaf': 1,\n",
       "   'max_features': 'auto',\n",
       "   'max_depth': 100,\n",
       "   'bootstrap': False},\n",
       "  {'n_estimators': 400,\n",
       "   'min_samples_split': 20,\n",
       "   'min_samples_leaf': 1,\n",
       "   'max_features': 'sqrt',\n",
       "   'max_depth': 90,\n",
       "   'bootstrap': False},\n",
       "  {'n_estimators': 600,\n",
       "   'min_samples_split': 20,\n",
       "   'min_samples_leaf': 4,\n",
       "   'max_features': 'auto',\n",
       "   'max_depth': 40,\n",
       "   'bootstrap': False},\n",
       "  {'n_estimators': 1200,\n",
       "   'min_samples_split': 30,\n",
       "   'min_samples_leaf': 1,\n",
       "   'max_features': 'auto',\n",
       "   'max_depth': 40,\n",
       "   'bootstrap': True},\n",
       "  {'n_estimators': 2000,\n",
       "   'min_samples_split': 20,\n",
       "   'min_samples_leaf': 4,\n",
       "   'max_features': 'auto',\n",
       "   'max_depth': 20,\n",
       "   'bootstrap': True},\n",
       "  {'n_estimators': 800,\n",
       "   'min_samples_split': 25,\n",
       "   'min_samples_leaf': 1,\n",
       "   'max_features': 'sqrt',\n",
       "   'max_depth': 80,\n",
       "   'bootstrap': False},\n",
       "  {'n_estimators': 2000,\n",
       "   'min_samples_split': 5,\n",
       "   'min_samples_leaf': 4,\n",
       "   'max_features': 'sqrt',\n",
       "   'max_depth': 10,\n",
       "   'bootstrap': False},\n",
       "  {'n_estimators': 800,\n",
       "   'min_samples_split': 2,\n",
       "   'min_samples_leaf': 1,\n",
       "   'max_features': 'sqrt',\n",
       "   'max_depth': 50,\n",
       "   'bootstrap': True},\n",
       "  {'n_estimators': 400,\n",
       "   'min_samples_split': 2,\n",
       "   'min_samples_leaf': 4,\n",
       "   'max_features': 'sqrt',\n",
       "   'max_depth': 100,\n",
       "   'bootstrap': True},\n",
       "  {'n_estimators': 400,\n",
       "   'min_samples_split': 5,\n",
       "   'min_samples_leaf': 4,\n",
       "   'max_features': 'auto',\n",
       "   'max_depth': 100,\n",
       "   'bootstrap': True},\n",
       "  {'n_estimators': 200,\n",
       "   'min_samples_split': 15,\n",
       "   'min_samples_leaf': 4,\n",
       "   'max_features': 'sqrt',\n",
       "   'max_depth': None,\n",
       "   'bootstrap': True},\n",
       "  {'n_estimators': 1000,\n",
       "   'min_samples_split': 5,\n",
       "   'min_samples_leaf': 2,\n",
       "   'max_features': 'auto',\n",
       "   'max_depth': 30,\n",
       "   'bootstrap': True},\n",
       "  {'n_estimators': 1200,\n",
       "   'min_samples_split': 25,\n",
       "   'min_samples_leaf': 4,\n",
       "   'max_features': 'auto',\n",
       "   'max_depth': 90,\n",
       "   'bootstrap': True},\n",
       "  {'n_estimators': 1200,\n",
       "   'min_samples_split': 25,\n",
       "   'min_samples_leaf': 2,\n",
       "   'max_features': 'auto',\n",
       "   'max_depth': 70,\n",
       "   'bootstrap': True},\n",
       "  {'n_estimators': 2000,\n",
       "   'min_samples_split': 30,\n",
       "   'min_samples_leaf': 2,\n",
       "   'max_features': 'sqrt',\n",
       "   'max_depth': 110,\n",
       "   'bootstrap': False},\n",
       "  {'n_estimators': 1400,\n",
       "   'min_samples_split': 2,\n",
       "   'min_samples_leaf': 4,\n",
       "   'max_features': 'sqrt',\n",
       "   'max_depth': None,\n",
       "   'bootstrap': True},\n",
       "  {'n_estimators': 1400,\n",
       "   'min_samples_split': 10,\n",
       "   'min_samples_leaf': 1,\n",
       "   'max_features': 'sqrt',\n",
       "   'max_depth': 90,\n",
       "   'bootstrap': False},\n",
       "  {'n_estimators': 1400,\n",
       "   'min_samples_split': 10,\n",
       "   'min_samples_leaf': 1,\n",
       "   'max_features': 'auto',\n",
       "   'max_depth': 50,\n",
       "   'bootstrap': False},\n",
       "  {'n_estimators': 1000,\n",
       "   'min_samples_split': 2,\n",
       "   'min_samples_leaf': 2,\n",
       "   'max_features': 'auto',\n",
       "   'max_depth': 60,\n",
       "   'bootstrap': False},\n",
       "  {'n_estimators': 1800,\n",
       "   'min_samples_split': 15,\n",
       "   'min_samples_leaf': 2,\n",
       "   'max_features': 'sqrt',\n",
       "   'max_depth': 50,\n",
       "   'bootstrap': True},\n",
       "  {'n_estimators': 2000,\n",
       "   'min_samples_split': 5,\n",
       "   'min_samples_leaf': 1,\n",
       "   'max_features': 'sqrt',\n",
       "   'max_depth': 30,\n",
       "   'bootstrap': False},\n",
       "  {'n_estimators': 1600,\n",
       "   'min_samples_split': 30,\n",
       "   'min_samples_leaf': 2,\n",
       "   'max_features': 'sqrt',\n",
       "   'max_depth': 40,\n",
       "   'bootstrap': True},\n",
       "  {'n_estimators': 1600,\n",
       "   'min_samples_split': 20,\n",
       "   'min_samples_leaf': 1,\n",
       "   'max_features': 'auto',\n",
       "   'max_depth': 60,\n",
       "   'bootstrap': True},\n",
       "  {'n_estimators': 1600,\n",
       "   'min_samples_split': 35,\n",
       "   'min_samples_leaf': 4,\n",
       "   'max_features': 'sqrt',\n",
       "   'max_depth': 50,\n",
       "   'bootstrap': False},\n",
       "  {'n_estimators': 1800,\n",
       "   'min_samples_split': 2,\n",
       "   'min_samples_leaf': 1,\n",
       "   'max_features': 'sqrt',\n",
       "   'max_depth': 70,\n",
       "   'bootstrap': False},\n",
       "  {'n_estimators': 2000,\n",
       "   'min_samples_split': 2,\n",
       "   'min_samples_leaf': 4,\n",
       "   'max_features': 'auto',\n",
       "   'max_depth': 10,\n",
       "   'bootstrap': True},\n",
       "  {'n_estimators': 1000,\n",
       "   'min_samples_split': 15,\n",
       "   'min_samples_leaf': 1,\n",
       "   'max_features': 'auto',\n",
       "   'max_depth': 60,\n",
       "   'bootstrap': True},\n",
       "  {'n_estimators': 1200,\n",
       "   'min_samples_split': 15,\n",
       "   'min_samples_leaf': 1,\n",
       "   'max_features': 'sqrt',\n",
       "   'max_depth': 60,\n",
       "   'bootstrap': True},\n",
       "  {'n_estimators': 1800,\n",
       "   'min_samples_split': 30,\n",
       "   'min_samples_leaf': 1,\n",
       "   'max_features': 'sqrt',\n",
       "   'max_depth': 90,\n",
       "   'bootstrap': True},\n",
       "  {'n_estimators': 2000,\n",
       "   'min_samples_split': 2,\n",
       "   'min_samples_leaf': 1,\n",
       "   'max_features': 'sqrt',\n",
       "   'max_depth': 40,\n",
       "   'bootstrap': True},\n",
       "  {'n_estimators': 1000,\n",
       "   'min_samples_split': 40,\n",
       "   'min_samples_leaf': 2,\n",
       "   'max_features': 'auto',\n",
       "   'max_depth': 30,\n",
       "   'bootstrap': False},\n",
       "  {'n_estimators': 1600,\n",
       "   'min_samples_split': 2,\n",
       "   'min_samples_leaf': 4,\n",
       "   'max_features': 'auto',\n",
       "   'max_depth': 30,\n",
       "   'bootstrap': True},\n",
       "  {'n_estimators': 1800,\n",
       "   'min_samples_split': 40,\n",
       "   'min_samples_leaf': 2,\n",
       "   'max_features': 'sqrt',\n",
       "   'max_depth': 30,\n",
       "   'bootstrap': True},\n",
       "  {'n_estimators': 1000,\n",
       "   'min_samples_split': 25,\n",
       "   'min_samples_leaf': 1,\n",
       "   'max_features': 'auto',\n",
       "   'max_depth': 100,\n",
       "   'bootstrap': False},\n",
       "  {'n_estimators': 1400,\n",
       "   'min_samples_split': 20,\n",
       "   'min_samples_leaf': 1,\n",
       "   'max_features': 'sqrt',\n",
       "   'max_depth': 70,\n",
       "   'bootstrap': True},\n",
       "  {'n_estimators': 200,\n",
       "   'min_samples_split': 10,\n",
       "   'min_samples_leaf': 2,\n",
       "   'max_features': 'auto',\n",
       "   'max_depth': 80,\n",
       "   'bootstrap': True},\n",
       "  {'n_estimators': 1800,\n",
       "   'min_samples_split': 5,\n",
       "   'min_samples_leaf': 4,\n",
       "   'max_features': 'auto',\n",
       "   'max_depth': 50,\n",
       "   'bootstrap': False},\n",
       "  {'n_estimators': 200,\n",
       "   'min_samples_split': 5,\n",
       "   'min_samples_leaf': 1,\n",
       "   'max_features': 'sqrt',\n",
       "   'max_depth': 90,\n",
       "   'bootstrap': False},\n",
       "  {'n_estimators': 800,\n",
       "   'min_samples_split': 40,\n",
       "   'min_samples_leaf': 4,\n",
       "   'max_features': 'sqrt',\n",
       "   'max_depth': 100,\n",
       "   'bootstrap': True},\n",
       "  {'n_estimators': 1600,\n",
       "   'min_samples_split': 2,\n",
       "   'min_samples_leaf': 2,\n",
       "   'max_features': 'sqrt',\n",
       "   'max_depth': 80,\n",
       "   'bootstrap': False},\n",
       "  {'n_estimators': 600,\n",
       "   'min_samples_split': 30,\n",
       "   'min_samples_leaf': 2,\n",
       "   'max_features': 'auto',\n",
       "   'max_depth': 50,\n",
       "   'bootstrap': False},\n",
       "  {'n_estimators': 1200,\n",
       "   'min_samples_split': 10,\n",
       "   'min_samples_leaf': 1,\n",
       "   'max_features': 'sqrt',\n",
       "   'max_depth': 80,\n",
       "   'bootstrap': False},\n",
       "  {'n_estimators': 800,\n",
       "   'min_samples_split': 40,\n",
       "   'min_samples_leaf': 4,\n",
       "   'max_features': 'sqrt',\n",
       "   'max_depth': 70,\n",
       "   'bootstrap': False},\n",
       "  {'n_estimators': 800,\n",
       "   'min_samples_split': 30,\n",
       "   'min_samples_leaf': 1,\n",
       "   'max_features': 'sqrt',\n",
       "   'max_depth': 40,\n",
       "   'bootstrap': False},\n",
       "  {'n_estimators': 800,\n",
       "   'min_samples_split': 30,\n",
       "   'min_samples_leaf': 4,\n",
       "   'max_features': 'sqrt',\n",
       "   'max_depth': 70,\n",
       "   'bootstrap': False},\n",
       "  {'n_estimators': 1400,\n",
       "   'min_samples_split': 15,\n",
       "   'min_samples_leaf': 4,\n",
       "   'max_features': 'auto',\n",
       "   'max_depth': 90,\n",
       "   'bootstrap': False},\n",
       "  {'n_estimators': 800,\n",
       "   'min_samples_split': 20,\n",
       "   'min_samples_leaf': 4,\n",
       "   'max_features': 'sqrt',\n",
       "   'max_depth': 20,\n",
       "   'bootstrap': False},\n",
       "  {'n_estimators': 600,\n",
       "   'min_samples_split': 2,\n",
       "   'min_samples_leaf': 4,\n",
       "   'max_features': 'sqrt',\n",
       "   'max_depth': 50,\n",
       "   'bootstrap': True},\n",
       "  {'n_estimators': 400,\n",
       "   'min_samples_split': 10,\n",
       "   'min_samples_leaf': 1,\n",
       "   'max_features': 'auto',\n",
       "   'max_depth': 20,\n",
       "   'bootstrap': False},\n",
       "  {'n_estimators': 1200,\n",
       "   'min_samples_split': 5,\n",
       "   'min_samples_leaf': 2,\n",
       "   'max_features': 'sqrt',\n",
       "   'max_depth': 60,\n",
       "   'bootstrap': False},\n",
       "  {'n_estimators': 1200,\n",
       "   'min_samples_split': 10,\n",
       "   'min_samples_leaf': 1,\n",
       "   'max_features': 'sqrt',\n",
       "   'max_depth': None,\n",
       "   'bootstrap': True},\n",
       "  {'n_estimators': 1400,\n",
       "   'min_samples_split': 40,\n",
       "   'min_samples_leaf': 1,\n",
       "   'max_features': 'auto',\n",
       "   'max_depth': 110,\n",
       "   'bootstrap': True},\n",
       "  {'n_estimators': 2000,\n",
       "   'min_samples_split': 35,\n",
       "   'min_samples_leaf': 1,\n",
       "   'max_features': 'auto',\n",
       "   'max_depth': 20,\n",
       "   'bootstrap': False},\n",
       "  {'n_estimators': 200,\n",
       "   'min_samples_split': 20,\n",
       "   'min_samples_leaf': 4,\n",
       "   'max_features': 'sqrt',\n",
       "   'max_depth': 60,\n",
       "   'bootstrap': False},\n",
       "  {'n_estimators': 1800,\n",
       "   'min_samples_split': 15,\n",
       "   'min_samples_leaf': 4,\n",
       "   'max_features': 'sqrt',\n",
       "   'max_depth': 80,\n",
       "   'bootstrap': False},\n",
       "  {'n_estimators': 1200,\n",
       "   'min_samples_split': 25,\n",
       "   'min_samples_leaf': 4,\n",
       "   'max_features': 'auto',\n",
       "   'max_depth': 20,\n",
       "   'bootstrap': True},\n",
       "  {'n_estimators': 1400,\n",
       "   'min_samples_split': 25,\n",
       "   'min_samples_leaf': 1,\n",
       "   'max_features': 'sqrt',\n",
       "   'max_depth': 110,\n",
       "   'bootstrap': False},\n",
       "  {'n_estimators': 1400,\n",
       "   'min_samples_split': 15,\n",
       "   'min_samples_leaf': 2,\n",
       "   'max_features': 'auto',\n",
       "   'max_depth': 40,\n",
       "   'bootstrap': False},\n",
       "  {'n_estimators': 600,\n",
       "   'min_samples_split': 2,\n",
       "   'min_samples_leaf': 4,\n",
       "   'max_features': 'sqrt',\n",
       "   'max_depth': 60,\n",
       "   'bootstrap': True},\n",
       "  {'n_estimators': 1600,\n",
       "   'min_samples_split': 30,\n",
       "   'min_samples_leaf': 2,\n",
       "   'max_features': 'sqrt',\n",
       "   'max_depth': 70,\n",
       "   'bootstrap': False},\n",
       "  {'n_estimators': 1200,\n",
       "   'min_samples_split': 25,\n",
       "   'min_samples_leaf': 4,\n",
       "   'max_features': 'sqrt',\n",
       "   'max_depth': 30,\n",
       "   'bootstrap': True},\n",
       "  {'n_estimators': 800,\n",
       "   'min_samples_split': 35,\n",
       "   'min_samples_leaf': 2,\n",
       "   'max_features': 'auto',\n",
       "   'max_depth': 80,\n",
       "   'bootstrap': True},\n",
       "  {'n_estimators': 1200,\n",
       "   'min_samples_split': 40,\n",
       "   'min_samples_leaf': 4,\n",
       "   'max_features': 'sqrt',\n",
       "   'max_depth': 20,\n",
       "   'bootstrap': False},\n",
       "  {'n_estimators': 800,\n",
       "   'min_samples_split': 5,\n",
       "   'min_samples_leaf': 2,\n",
       "   'max_features': 'sqrt',\n",
       "   'max_depth': 60,\n",
       "   'bootstrap': True},\n",
       "  {'n_estimators': 400,\n",
       "   'min_samples_split': 15,\n",
       "   'min_samples_leaf': 4,\n",
       "   'max_features': 'sqrt',\n",
       "   'max_depth': 20,\n",
       "   'bootstrap': True},\n",
       "  {'n_estimators': 800,\n",
       "   'min_samples_split': 20,\n",
       "   'min_samples_leaf': 1,\n",
       "   'max_features': 'sqrt',\n",
       "   'max_depth': 100,\n",
       "   'bootstrap': False},\n",
       "  {'n_estimators': 1200,\n",
       "   'min_samples_split': 2,\n",
       "   'min_samples_leaf': 1,\n",
       "   'max_features': 'auto',\n",
       "   'max_depth': 90,\n",
       "   'bootstrap': False},\n",
       "  {'n_estimators': 800,\n",
       "   'min_samples_split': 30,\n",
       "   'min_samples_leaf': 1,\n",
       "   'max_features': 'auto',\n",
       "   'max_depth': 80,\n",
       "   'bootstrap': True},\n",
       "  {'n_estimators': 2000,\n",
       "   'min_samples_split': 30,\n",
       "   'min_samples_leaf': 2,\n",
       "   'max_features': 'sqrt',\n",
       "   'max_depth': 30,\n",
       "   'bootstrap': False},\n",
       "  {'n_estimators': 600,\n",
       "   'min_samples_split': 30,\n",
       "   'min_samples_leaf': 4,\n",
       "   'max_features': 'sqrt',\n",
       "   'max_depth': 60,\n",
       "   'bootstrap': False},\n",
       "  {'n_estimators': 800,\n",
       "   'min_samples_split': 15,\n",
       "   'min_samples_leaf': 2,\n",
       "   'max_features': 'sqrt',\n",
       "   'max_depth': 10,\n",
       "   'bootstrap': False},\n",
       "  {'n_estimators': 1200,\n",
       "   'min_samples_split': 2,\n",
       "   'min_samples_leaf': 1,\n",
       "   'max_features': 'sqrt',\n",
       "   'max_depth': 110,\n",
       "   'bootstrap': True},\n",
       "  {'n_estimators': 400,\n",
       "   'min_samples_split': 35,\n",
       "   'min_samples_leaf': 2,\n",
       "   'max_features': 'auto',\n",
       "   'max_depth': 10,\n",
       "   'bootstrap': True},\n",
       "  {'n_estimators': 1600,\n",
       "   'min_samples_split': 30,\n",
       "   'min_samples_leaf': 4,\n",
       "   'max_features': 'sqrt',\n",
       "   'max_depth': 80,\n",
       "   'bootstrap': True},\n",
       "  {'n_estimators': 800,\n",
       "   'min_samples_split': 2,\n",
       "   'min_samples_leaf': 4,\n",
       "   'max_features': 'sqrt',\n",
       "   'max_depth': 70,\n",
       "   'bootstrap': False},\n",
       "  {'n_estimators': 1200,\n",
       "   'min_samples_split': 2,\n",
       "   'min_samples_leaf': 4,\n",
       "   'max_features': 'sqrt',\n",
       "   'max_depth': 20,\n",
       "   'bootstrap': True},\n",
       "  {'n_estimators': 1000,\n",
       "   'min_samples_split': 5,\n",
       "   'min_samples_leaf': 4,\n",
       "   'max_features': 'auto',\n",
       "   'max_depth': 100,\n",
       "   'bootstrap': False},\n",
       "  {'n_estimators': 800,\n",
       "   'min_samples_split': 25,\n",
       "   'min_samples_leaf': 1,\n",
       "   'max_features': 'sqrt',\n",
       "   'max_depth': None,\n",
       "   'bootstrap': False},\n",
       "  {'n_estimators': 2000,\n",
       "   'min_samples_split': 30,\n",
       "   'min_samples_leaf': 1,\n",
       "   'max_features': 'auto',\n",
       "   'max_depth': 30,\n",
       "   'bootstrap': False},\n",
       "  {'n_estimators': 200,\n",
       "   'min_samples_split': 10,\n",
       "   'min_samples_leaf': 2,\n",
       "   'max_features': 'auto',\n",
       "   'max_depth': 110,\n",
       "   'bootstrap': False},\n",
       "  {'n_estimators': 1600,\n",
       "   'min_samples_split': 5,\n",
       "   'min_samples_leaf': 1,\n",
       "   'max_features': 'sqrt',\n",
       "   'max_depth': 60,\n",
       "   'bootstrap': False},\n",
       "  {'n_estimators': 1400,\n",
       "   'min_samples_split': 10,\n",
       "   'min_samples_leaf': 4,\n",
       "   'max_features': 'sqrt',\n",
       "   'max_depth': 20,\n",
       "   'bootstrap': True},\n",
       "  {'n_estimators': 2000,\n",
       "   'min_samples_split': 15,\n",
       "   'min_samples_leaf': 1,\n",
       "   'max_features': 'sqrt',\n",
       "   'max_depth': 30,\n",
       "   'bootstrap': False},\n",
       "  {'n_estimators': 2000,\n",
       "   'min_samples_split': 20,\n",
       "   'min_samples_leaf': 4,\n",
       "   'max_features': 'sqrt',\n",
       "   'max_depth': None,\n",
       "   'bootstrap': True},\n",
       "  {'n_estimators': 600,\n",
       "   'min_samples_split': 30,\n",
       "   'min_samples_leaf': 1,\n",
       "   'max_features': 'sqrt',\n",
       "   'max_depth': 30,\n",
       "   'bootstrap': False},\n",
       "  {'n_estimators': 800,\n",
       "   'min_samples_split': 10,\n",
       "   'min_samples_leaf': 2,\n",
       "   'max_features': 'sqrt',\n",
       "   'max_depth': 10,\n",
       "   'bootstrap': False},\n",
       "  {'n_estimators': 1400,\n",
       "   'min_samples_split': 40,\n",
       "   'min_samples_leaf': 1,\n",
       "   'max_features': 'sqrt',\n",
       "   'max_depth': 30,\n",
       "   'bootstrap': False},\n",
       "  {'n_estimators': 2000,\n",
       "   'min_samples_split': 30,\n",
       "   'min_samples_leaf': 2,\n",
       "   'max_features': 'sqrt',\n",
       "   'max_depth': 40,\n",
       "   'bootstrap': False}],\n",
       " 'split0_test_score': array([-0., -0., -0., -0., -0., -0., -0., -0., -0., -0., -0., -0., -0.,\n",
       "        -0., -0., -0., -0., -0., -0., -0., -0., -0., -0., -0., -0., -0.,\n",
       "        -0., -0., -0., -0., -0., -0., -0., -0., -0., -0., -0., -0., -0.,\n",
       "        -0., -0., -0., -0., -0., -0., -0., -0., -0., -0., -0., -0., -0.,\n",
       "        -0., -0., -0., -0., -0., -0., -0., -0., -0., -0., -0., -0., -0.,\n",
       "        -0., -0., -0., -0., -0., -0., -0., -0., -0., -0., -0., -0., -0.,\n",
       "        -0., -0., -0., -0., -0., -0., -0., -0., -0., -0., -0., -0., -0.,\n",
       "        -0., -0., -0., -0., -0., -0., -0., -0., -0.]),\n",
       " 'split1_test_score': array([-0., -0., -0., -0., -0., -0., -0., -0., -0., -0., -0., -0., -0.,\n",
       "        -0., -0., -0., -0., -0., -0., -0., -0., -0., -0., -0., -0., -0.,\n",
       "        -0., -0., -0., -0., -0., -0., -0., -0., -0., -0., -0., -0., -0.,\n",
       "        -0., -0., -0., -0., -0., -0., -0., -0., -0., -0., -0., -0., -0.,\n",
       "        -0., -0., -0., -0., -0., -0., -0., -0., -0., -0., -0., -0., -0.,\n",
       "        -0., -0., -0., -0., -0., -0., -0., -0., -0., -0., -0., -0., -0.,\n",
       "        -0., -0., -0., -0., -0., -0., -0., -0., -0., -0., -0., -0., -0.,\n",
       "        -0., -0., -0., -0., -0., -0., -0., -0., -0.]),\n",
       " 'split2_test_score': array([-0., -0., -0., -0., -0., -0., -0., -0., -0., -0., -0., -0., -0.,\n",
       "        -0., -0., -0., -0., -0., -0., -0., -0., -0., -0., -0., -0., -0.,\n",
       "        -0., -0., -0., -0., -0., -0., -0., -0., -0., -0., -0., -0., -0.,\n",
       "        -0., -0., -0., -0., -0., -0., -0., -0., -0., -0., -0., -0., -0.,\n",
       "        -0., -0., -0., -0., -0., -0., -0., -0., -0., -0., -0., -0., -0.,\n",
       "        -0., -0., -0., -0., -0., -0., -0., -0., -0., -0., -0., -0., -0.,\n",
       "        -0., -0., -0., -0., -0., -0., -0., -0., -0., -0., -0., -0., -0.,\n",
       "        -0., -0., -0., -0., -0., -0., -0., -0., -0.]),\n",
       " 'split3_test_score': array([-0., -0., -0., -0., -0., -0., -0., -0., -0., -0., -0., -0., -0.,\n",
       "        -0., -0., -0., -0., -0., -0., -0., -0., -0., -0., -0., -0., -0.,\n",
       "        -0., -0., -0., -0., -0., -0., -0., -0., -0., -0., -0., -0., -0.,\n",
       "        -0., -0., -0., -0., -0., -0., -0., -0., -0., -0., -0., -0., -0.,\n",
       "        -0., -0., -0., -0., -0., -0., -0., -0., -0., -0., -0., -0., -0.,\n",
       "        -0., -0., -0., -0., -0., -0., -0., -0., -0., -0., -0., -0., -0.,\n",
       "        -0., -0., -0., -0., -0., -0., -0., -0., -0., -0., -0., -0., -0.,\n",
       "        -0., -0., -0., -0., -0., -0., -0., -0., -0.]),\n",
       " 'split4_test_score': array([-0., -0., -0., -0., -0., -0., -0., -0., -0., -0., -0., -0., -0.,\n",
       "        -0., -0., -0., -0., -0., -0., -0., -0., -0., -0., -0., -0., -0.,\n",
       "        -0., -0., -0., -0., -0., -0., -0., -0., -0., -0., -0., -0., -0.,\n",
       "        -0., -0., -0., -0., -0., -0., -0., -0., -0., -0., -0., -0., -0.,\n",
       "        -0., -0., -0., -0., -0., -0., -0., -0., -0., -0., -0., -0., -0.,\n",
       "        -0., -0., -0., -0., -0., -0., -0., -0., -0., -0., -0., -0., -0.,\n",
       "        -0., -0., -0., -0., -0., -0., -0., -0., -0., -0., -0., -0., -0.,\n",
       "        -0., -0., -0., -0., -0., -0., -0., -0., -0.]),\n",
       " 'split5_test_score': array([-0., -0., -0., -0., -0., -0., -0., -0., -0., -0., -0., -0., -0.,\n",
       "        -0., -0., -0., -0., -0., -0., -0., -0., -0., -0., -0., -0., -0.,\n",
       "        -0., -0., -0., -0., -0., -0., -0., -0., -0., -0., -0., -0., -0.,\n",
       "        -0., -0., -0., -0., -0., -0., -0., -0., -0., -0., -0., -0., -0.,\n",
       "        -0., -0., -0., -0., -0., -0., -0., -0., -0., -0., -0., -0., -0.,\n",
       "        -0., -0., -0., -0., -0., -0., -0., -0., -0., -0., -0., -0., -0.,\n",
       "        -0., -0., -0., -0., -0., -0., -0., -0., -0., -0., -0., -0., -0.,\n",
       "        -0., -0., -0., -0., -0., -0., -0., -0., -0.]),\n",
       " 'split6_test_score': array([-0., -0., -0., -0., -0., -0., -0., -0., -0., -0., -0., -0., -0.,\n",
       "        -0., -0., -0., -0., -0., -0., -0., -0., -0., -0., -0., -0., -0.,\n",
       "        -0., -0., -0., -0., -0., -0., -0., -0., -0., -0., -0., -0., -0.,\n",
       "        -0., -0., -0., -0., -0., -0., -0., -0., -0., -0., -0., -0., -0.,\n",
       "        -0., -0., -0., -0., -0., -0., -0., -0., -0., -0., -0., -0., -0.,\n",
       "        -0., -0., -0., -0., -0., -0., -0., -0., -0., -0., -0., -0., -0.,\n",
       "        -0., -0., -0., -0., -0., -0., -0., -0., -0., -0., -0., -0., -0.,\n",
       "        -0., -0., -0., -0., -0., -0., -0., -0., -0.]),\n",
       " 'split7_test_score': array([-0., -0., -0., -0., -0., -0., -0., -0., -0., -0., -0., -0., -0.,\n",
       "        -0., -0., -0., -0., -0., -0., -0., -0., -0., -0., -0., -0., -0.,\n",
       "        -0., -0., -0., -0., -0., -0., -0., -0., -0., -0., -0., -0., -0.,\n",
       "        -0., -0., -0., -0., -0., -0., -0., -0., -0., -0., -0., -0., -0.,\n",
       "        -0., -0., -0., -0., -0., -0., -0., -0., -0., -0., -0., -0., -0.,\n",
       "        -0., -0., -0., -0., -0., -0., -0., -0., -0., -0., -0., -0., -0.,\n",
       "        -0., -0., -0., -0., -0., -0., -0., -0., -0., -0., -0., -0., -0.,\n",
       "        -0., -0., -0., -0., -0., -0., -0., -0., -0.]),\n",
       " 'split8_test_score': array([-0., -0., -0., -0., -0., -0., -0., -0., -0., -0., -0., -0., -0.,\n",
       "        -0., -0., -0., -0., -0., -0., -0., -0., -0., -0., -0., -0., -0.,\n",
       "        -0., -0., -0., -0., -0., -0., -0., -0., -0., -0., -0., -0., -0.,\n",
       "        -0., -0., -0., -0., -0., -0., -0., -0., -0., -0., -0., -0., -0.,\n",
       "        -0., -0., -0., -0., -0., -0., -0., -0., -0., -0., -0., -0., -0.,\n",
       "        -0., -0., -0., -0., -0., -0., -0., -0., -0., -0., -0., -0., -0.,\n",
       "        -0., -0., -0., -0., -0., -0., -0., -0., -0., -0., -0., -0., -0.,\n",
       "        -0., -0., -0., -0., -0., -0., -0., -0., -0.]),\n",
       " 'split9_test_score': array([-0., -0., -0., -0., -0., -0., -0., -0., -0., -0., -0., -0., -0.,\n",
       "        -0., -0., -0., -0., -0., -0., -0., -0., -0., -0., -0., -0., -0.,\n",
       "        -0., -0., -0., -0., -0., -0., -0., -0., -0., -0., -0., -0., -0.,\n",
       "        -0., -0., -0., -0., -0., -0., -0., -0., -0., -0., -0., -0., -0.,\n",
       "        -0., -0., -0., -0., -0., -0., -0., -0., -0., -0., -0., -0., -0.,\n",
       "        -0., -0., -0., -0., -0., -0., -0., -0., -0., -0., -0., -0., -0.,\n",
       "        -0., -0., -0., -0., -0., -0., -0., -0., -0., -0., -0., -0., -0.,\n",
       "        -0., -0., -0., -0., -0., -0., -0., -0., -0.]),\n",
       " 'mean_test_score': array([0., 0., 0., 0., 0., 0., 0., 0., 0., 0., 0., 0., 0., 0., 0., 0., 0.,\n",
       "        0., 0., 0., 0., 0., 0., 0., 0., 0., 0., 0., 0., 0., 0., 0., 0., 0.,\n",
       "        0., 0., 0., 0., 0., 0., 0., 0., 0., 0., 0., 0., 0., 0., 0., 0., 0.,\n",
       "        0., 0., 0., 0., 0., 0., 0., 0., 0., 0., 0., 0., 0., 0., 0., 0., 0.,\n",
       "        0., 0., 0., 0., 0., 0., 0., 0., 0., 0., 0., 0., 0., 0., 0., 0., 0.,\n",
       "        0., 0., 0., 0., 0., 0., 0., 0., 0., 0., 0., 0., 0., 0., 0.]),\n",
       " 'std_test_score': array([0., 0., 0., 0., 0., 0., 0., 0., 0., 0., 0., 0., 0., 0., 0., 0., 0.,\n",
       "        0., 0., 0., 0., 0., 0., 0., 0., 0., 0., 0., 0., 0., 0., 0., 0., 0.,\n",
       "        0., 0., 0., 0., 0., 0., 0., 0., 0., 0., 0., 0., 0., 0., 0., 0., 0.,\n",
       "        0., 0., 0., 0., 0., 0., 0., 0., 0., 0., 0., 0., 0., 0., 0., 0., 0.,\n",
       "        0., 0., 0., 0., 0., 0., 0., 0., 0., 0., 0., 0., 0., 0., 0., 0., 0.,\n",
       "        0., 0., 0., 0., 0., 0., 0., 0., 0., 0., 0., 0., 0., 0., 0.]),\n",
       " 'rank_test_score': array([1, 1, 1, 1, 1, 1, 1, 1, 1, 1, 1, 1, 1, 1, 1, 1, 1, 1, 1, 1, 1, 1,\n",
       "        1, 1, 1, 1, 1, 1, 1, 1, 1, 1, 1, 1, 1, 1, 1, 1, 1, 1, 1, 1, 1, 1,\n",
       "        1, 1, 1, 1, 1, 1, 1, 1, 1, 1, 1, 1, 1, 1, 1, 1, 1, 1, 1, 1, 1, 1,\n",
       "        1, 1, 1, 1, 1, 1, 1, 1, 1, 1, 1, 1, 1, 1, 1, 1, 1, 1, 1, 1, 1, 1,\n",
       "        1, 1, 1, 1, 1, 1, 1, 1, 1, 1, 1, 1], dtype=int32),\n",
       " 'split0_train_score': array([-0., -0., -0., -0., -0., -0., -0., -0., -0., -0., -0., -0., -0.,\n",
       "        -0., -0., -0., -0., -0., -0., -0., -0., -0., -0., -0., -0., -0.,\n",
       "        -0., -0., -0., -0., -0., -0., -0., -0., -0., -0., -0., -0., -0.,\n",
       "        -0., -0., -0., -0., -0., -0., -0., -0., -0., -0., -0., -0., -0.,\n",
       "        -0., -0., -0., -0., -0., -0., -0., -0., -0., -0., -0., -0., -0.,\n",
       "        -0., -0., -0., -0., -0., -0., -0., -0., -0., -0., -0., -0., -0.,\n",
       "        -0., -0., -0., -0., -0., -0., -0., -0., -0., -0., -0., -0., -0.,\n",
       "        -0., -0., -0., -0., -0., -0., -0., -0., -0.]),\n",
       " 'split1_train_score': array([-0., -0., -0., -0., -0., -0., -0., -0., -0., -0., -0., -0., -0.,\n",
       "        -0., -0., -0., -0., -0., -0., -0., -0., -0., -0., -0., -0., -0.,\n",
       "        -0., -0., -0., -0., -0., -0., -0., -0., -0., -0., -0., -0., -0.,\n",
       "        -0., -0., -0., -0., -0., -0., -0., -0., -0., -0., -0., -0., -0.,\n",
       "        -0., -0., -0., -0., -0., -0., -0., -0., -0., -0., -0., -0., -0.,\n",
       "        -0., -0., -0., -0., -0., -0., -0., -0., -0., -0., -0., -0., -0.,\n",
       "        -0., -0., -0., -0., -0., -0., -0., -0., -0., -0., -0., -0., -0.,\n",
       "        -0., -0., -0., -0., -0., -0., -0., -0., -0.]),\n",
       " 'split2_train_score': array([-0., -0., -0., -0., -0., -0., -0., -0., -0., -0., -0., -0., -0.,\n",
       "        -0., -0., -0., -0., -0., -0., -0., -0., -0., -0., -0., -0., -0.,\n",
       "        -0., -0., -0., -0., -0., -0., -0., -0., -0., -0., -0., -0., -0.,\n",
       "        -0., -0., -0., -0., -0., -0., -0., -0., -0., -0., -0., -0., -0.,\n",
       "        -0., -0., -0., -0., -0., -0., -0., -0., -0., -0., -0., -0., -0.,\n",
       "        -0., -0., -0., -0., -0., -0., -0., -0., -0., -0., -0., -0., -0.,\n",
       "        -0., -0., -0., -0., -0., -0., -0., -0., -0., -0., -0., -0., -0.,\n",
       "        -0., -0., -0., -0., -0., -0., -0., -0., -0.]),\n",
       " 'split3_train_score': array([-0., -0., -0., -0., -0., -0., -0., -0., -0., -0., -0., -0., -0.,\n",
       "        -0., -0., -0., -0., -0., -0., -0., -0., -0., -0., -0., -0., -0.,\n",
       "        -0., -0., -0., -0., -0., -0., -0., -0., -0., -0., -0., -0., -0.,\n",
       "        -0., -0., -0., -0., -0., -0., -0., -0., -0., -0., -0., -0., -0.,\n",
       "        -0., -0., -0., -0., -0., -0., -0., -0., -0., -0., -0., -0., -0.,\n",
       "        -0., -0., -0., -0., -0., -0., -0., -0., -0., -0., -0., -0., -0.,\n",
       "        -0., -0., -0., -0., -0., -0., -0., -0., -0., -0., -0., -0., -0.,\n",
       "        -0., -0., -0., -0., -0., -0., -0., -0., -0.]),\n",
       " 'split4_train_score': array([-0., -0., -0., -0., -0., -0., -0., -0., -0., -0., -0., -0., -0.,\n",
       "        -0., -0., -0., -0., -0., -0., -0., -0., -0., -0., -0., -0., -0.,\n",
       "        -0., -0., -0., -0., -0., -0., -0., -0., -0., -0., -0., -0., -0.,\n",
       "        -0., -0., -0., -0., -0., -0., -0., -0., -0., -0., -0., -0., -0.,\n",
       "        -0., -0., -0., -0., -0., -0., -0., -0., -0., -0., -0., -0., -0.,\n",
       "        -0., -0., -0., -0., -0., -0., -0., -0., -0., -0., -0., -0., -0.,\n",
       "        -0., -0., -0., -0., -0., -0., -0., -0., -0., -0., -0., -0., -0.,\n",
       "        -0., -0., -0., -0., -0., -0., -0., -0., -0.]),\n",
       " 'split5_train_score': array([-0., -0., -0., -0., -0., -0., -0., -0., -0., -0., -0., -0., -0.,\n",
       "        -0., -0., -0., -0., -0., -0., -0., -0., -0., -0., -0., -0., -0.,\n",
       "        -0., -0., -0., -0., -0., -0., -0., -0., -0., -0., -0., -0., -0.,\n",
       "        -0., -0., -0., -0., -0., -0., -0., -0., -0., -0., -0., -0., -0.,\n",
       "        -0., -0., -0., -0., -0., -0., -0., -0., -0., -0., -0., -0., -0.,\n",
       "        -0., -0., -0., -0., -0., -0., -0., -0., -0., -0., -0., -0., -0.,\n",
       "        -0., -0., -0., -0., -0., -0., -0., -0., -0., -0., -0., -0., -0.,\n",
       "        -0., -0., -0., -0., -0., -0., -0., -0., -0.]),\n",
       " 'split6_train_score': array([-0., -0., -0., -0., -0., -0., -0., -0., -0., -0., -0., -0., -0.,\n",
       "        -0., -0., -0., -0., -0., -0., -0., -0., -0., -0., -0., -0., -0.,\n",
       "        -0., -0., -0., -0., -0., -0., -0., -0., -0., -0., -0., -0., -0.,\n",
       "        -0., -0., -0., -0., -0., -0., -0., -0., -0., -0., -0., -0., -0.,\n",
       "        -0., -0., -0., -0., -0., -0., -0., -0., -0., -0., -0., -0., -0.,\n",
       "        -0., -0., -0., -0., -0., -0., -0., -0., -0., -0., -0., -0., -0.,\n",
       "        -0., -0., -0., -0., -0., -0., -0., -0., -0., -0., -0., -0., -0.,\n",
       "        -0., -0., -0., -0., -0., -0., -0., -0., -0.]),\n",
       " 'split7_train_score': array([-0., -0., -0., -0., -0., -0., -0., -0., -0., -0., -0., -0., -0.,\n",
       "        -0., -0., -0., -0., -0., -0., -0., -0., -0., -0., -0., -0., -0.,\n",
       "        -0., -0., -0., -0., -0., -0., -0., -0., -0., -0., -0., -0., -0.,\n",
       "        -0., -0., -0., -0., -0., -0., -0., -0., -0., -0., -0., -0., -0.,\n",
       "        -0., -0., -0., -0., -0., -0., -0., -0., -0., -0., -0., -0., -0.,\n",
       "        -0., -0., -0., -0., -0., -0., -0., -0., -0., -0., -0., -0., -0.,\n",
       "        -0., -0., -0., -0., -0., -0., -0., -0., -0., -0., -0., -0., -0.,\n",
       "        -0., -0., -0., -0., -0., -0., -0., -0., -0.]),\n",
       " 'split8_train_score': array([-0., -0., -0., -0., -0., -0., -0., -0., -0., -0., -0., -0., -0.,\n",
       "        -0., -0., -0., -0., -0., -0., -0., -0., -0., -0., -0., -0., -0.,\n",
       "        -0., -0., -0., -0., -0., -0., -0., -0., -0., -0., -0., -0., -0.,\n",
       "        -0., -0., -0., -0., -0., -0., -0., -0., -0., -0., -0., -0., -0.,\n",
       "        -0., -0., -0., -0., -0., -0., -0., -0., -0., -0., -0., -0., -0.,\n",
       "        -0., -0., -0., -0., -0., -0., -0., -0., -0., -0., -0., -0., -0.,\n",
       "        -0., -0., -0., -0., -0., -0., -0., -0., -0., -0., -0., -0., -0.,\n",
       "        -0., -0., -0., -0., -0., -0., -0., -0., -0.]),\n",
       " 'split9_train_score': array([-0., -0., -0., -0., -0., -0., -0., -0., -0., -0., -0., -0., -0.,\n",
       "        -0., -0., -0., -0., -0., -0., -0., -0., -0., -0., -0., -0., -0.,\n",
       "        -0., -0., -0., -0., -0., -0., -0., -0., -0., -0., -0., -0., -0.,\n",
       "        -0., -0., -0., -0., -0., -0., -0., -0., -0., -0., -0., -0., -0.,\n",
       "        -0., -0., -0., -0., -0., -0., -0., -0., -0., -0., -0., -0., -0.,\n",
       "        -0., -0., -0., -0., -0., -0., -0., -0., -0., -0., -0., -0., -0.,\n",
       "        -0., -0., -0., -0., -0., -0., -0., -0., -0., -0., -0., -0., -0.,\n",
       "        -0., -0., -0., -0., -0., -0., -0., -0., -0.]),\n",
       " 'mean_train_score': array([0., 0., 0., 0., 0., 0., 0., 0., 0., 0., 0., 0., 0., 0., 0., 0., 0.,\n",
       "        0., 0., 0., 0., 0., 0., 0., 0., 0., 0., 0., 0., 0., 0., 0., 0., 0.,\n",
       "        0., 0., 0., 0., 0., 0., 0., 0., 0., 0., 0., 0., 0., 0., 0., 0., 0.,\n",
       "        0., 0., 0., 0., 0., 0., 0., 0., 0., 0., 0., 0., 0., 0., 0., 0., 0.,\n",
       "        0., 0., 0., 0., 0., 0., 0., 0., 0., 0., 0., 0., 0., 0., 0., 0., 0.,\n",
       "        0., 0., 0., 0., 0., 0., 0., 0., 0., 0., 0., 0., 0., 0., 0.]),\n",
       " 'std_train_score': array([0., 0., 0., 0., 0., 0., 0., 0., 0., 0., 0., 0., 0., 0., 0., 0., 0.,\n",
       "        0., 0., 0., 0., 0., 0., 0., 0., 0., 0., 0., 0., 0., 0., 0., 0., 0.,\n",
       "        0., 0., 0., 0., 0., 0., 0., 0., 0., 0., 0., 0., 0., 0., 0., 0., 0.,\n",
       "        0., 0., 0., 0., 0., 0., 0., 0., 0., 0., 0., 0., 0., 0., 0., 0., 0.,\n",
       "        0., 0., 0., 0., 0., 0., 0., 0., 0., 0., 0., 0., 0., 0., 0., 0., 0.,\n",
       "        0., 0., 0., 0., 0., 0., 0., 0., 0., 0., 0., 0., 0., 0., 0.])}"
      ]
     },
     "execution_count": 58,
     "metadata": {},
     "output_type": "execute_result"
    }
   ],
   "source": [
    "rf_random.cv_results_\n"
   ]
  },
  {
   "cell_type": "code",
   "execution_count": 87,
   "metadata": {},
   "outputs": [],
   "source": [
    "# Function to Evaluate Model\n",
    "\n",
    "def evaluate(model,model_name, x_test, y_test):\n",
    "    predictions = model.predict(x_test)\n",
    "    recall= recall_score(y_test, predictions, average=\"binary\", zero_division=1)\n",
    "    f1 = f1_score(y_test, predictions, average=\"binary\", zero_division = 1)\n",
    "    print(f\"The {model_name} model correctly identifed all customer who defaulted {recall:.5f} of the time.\")\n",
    "    print(f\"The {model_name} model has an f1 score of {f1:.5f} .\") \n",
    "\n",
    "    return f1"
   ]
  },
  {
   "cell_type": "code",
   "execution_count": 90,
   "metadata": {},
   "outputs": [
    {
     "name": "stdout",
     "output_type": "stream",
     "text": [
      "The Random Forest model correctly identifed all customer who defaulted 1.00000 of the time.\n",
      "The Random Forest model has an f1 score of 1.00000 .\n"
     ]
    }
   ],
   "source": [
    "# Evaluate default model\n",
    "rf_model_name = \"Random Forest\"\n",
    "base_model = RandomForestClassifier(max_depth=3, random_state=5)\n",
    "base_model.fit(X_train, y_train)\n",
    "base_rf_metrics = evaluate(base_model, rf_model_name, X_test, y_test)"
   ]
  },
  {
   "cell_type": "code",
   "execution_count": 91,
   "metadata": {},
   "outputs": [
    {
     "name": "stdout",
     "output_type": "stream",
     "text": [
      "The Random Forest w/ Random Parameter Search model correctly identifed all customer who defaulted 1.00000 of the time.\n",
      "The Random Forest w/ Random Parameter Search model has an f1 score of 1.00000 .\n"
     ]
    }
   ],
   "source": [
    "# Evaluate the Best Random Search Model¶\n",
    "rf_model_name = \"Random Forest w/ Random Parameter Search\"\n",
    "best_random = rf_random.best_estimator_\n",
    "random_rf_metrics = evaluate(best_random, rf_model_name, X_test, y_test)\n"
   ]
  },
  {
   "cell_type": "code",
   "execution_count": null,
   "metadata": {},
   "outputs": [],
   "source": [
    "model=\"K-Nearest Neighbor\"\n",
    "score= f1_score(y_test, predictions_knn, average=\"binary\")\n",
    "print(f\"The {model} model has an f1 score of {score:.5f} .\")\n",
    "\n",
    "model=\"K-Nearest Neighbor\"\n",
    "score= recall_score(y_test, predictions_knn, average=\"binary\")\n",
    "print(f\"The {model} model correctly identifed all customer who defaulted {score:.5f} of the time.\")"
   ]
  },
  {
   "cell_type": "markdown",
   "metadata": {},
   "source": [
    "## Tune K-Nearest Neighbor"
   ]
  },
  {
   "cell_type": "code",
   "execution_count": 92,
   "metadata": {},
   "outputs": [],
   "source": [
    "# K- Nearest Neighbor\n",
    "knn_model = KNeighborsClassifier(n_neighbors=3)\n",
    "knn_model.fit(X_train, y_train)\n",
    "pred_knn_OutBills = knn_model.predict(X_test)"
   ]
  },
  {
   "cell_type": "markdown",
   "metadata": {},
   "source": [
    "Main Parameters to adjust per Sci Kit Learn Documentation:\n",
    "\n",
    "- n_estimators: number of trees in forest. (100)\n",
    " - larger, the better\n",
    "- max_features:  size of the random subsets of features to consider when splitting a node\n",
    " - the lower, the greater the reduction of variance\n",
    " - the lower, greater the increase in bias\n",
    " - Empirical good default values are max_features=\"sqrt\" (using a random subset of size sqrt(n_features)) for classification tasks (where n_features is the number of features in the data)\n",
    "- Good results with max_depth=None in combination with min_samples_split=2 \n",
    "\n",
    "source: https://scikit-learn.org/stable/modules/ensemble.html#forest , 1.11.2.3. Parameters¶\n"
   ]
  },
  {
   "cell_type": "code",
   "execution_count": 53,
   "metadata": {},
   "outputs": [
    {
     "name": "stdout",
     "output_type": "stream",
     "text": [
      "Parameters currently in use:\n",
      "\n",
      "{'bootstrap': True, 'ccp_alpha': 0.0, 'class_weight': None, 'criterion': 'gini', 'max_depth': 3, 'max_features': 'auto', 'max_leaf_nodes': None, 'max_samples': None, 'min_impurity_decrease': 0.0, 'min_impurity_split': None, 'min_samples_leaf': 1, 'min_samples_split': 2, 'min_weight_fraction_leaf': 0.0, 'n_estimators': 100, 'n_jobs': None, 'oob_score': False, 'random_state': 5, 'verbose': 0, 'warm_start': False}\n"
     ]
    }
   ],
   "source": [
    "print('Parameters currently in use:\\n')\n",
    "print(rf_model.get_params())\n",
    "\n",
    "# source: https://github.com/WillKoehrsen/Machine-Learning-Projects/blob/master/random_forest_explained/Improving%20Random%20Forest%20Part%202.ipynb"
   ]
  },
  {
   "cell_type": "code",
   "execution_count": 94,
   "metadata": {},
   "outputs": [
    {
     "name": "stdout",
     "output_type": "stream",
     "text": [
      "Best leaf_size: 1\n",
      "Best p: 1\n",
      "Best n_neighbors: 13\n"
     ]
    }
   ],
   "source": [
    "from sklearn.model_selection import GridSearchCV\n",
    "\n",
    "#List Hyperparameters that we want to tune.\n",
    "leaf_size = list(range(1,50))\n",
    "n_neighbors = list(range(1,30))\n",
    "p=[1,2]\n",
    "#Convert to dictionary\n",
    "hyperparameters = dict(leaf_size=leaf_size, n_neighbors=n_neighbors, p=p)\n",
    "#Create new KNN object\n",
    "knn_2 = KNeighborsClassifier()\n",
    "#Use GridSearch\n",
    "clf = GridSearchCV(knn_2, hyperparameters, cv=10)\n",
    "#Fit the model\n",
    "best_model_knn = clf.fit(X_train,y_train)\n",
    "#Print The value of best Hyperparameters\n",
    "print('Best leaf_size:', best_model.best_estimator_.get_params()['leaf_size'])\n",
    "print('Best p:', best_model.best_estimator_.get_params()['p'])\n",
    "print('Best n_neighbors:', best_model.best_estimator_.get_params()['n_neighbors'])\n",
    "\n",
    "#source: https://medium.com/datadriveninvestor/k-nearest-neighbors-in-python-hyperparameters-tuning-716734bc557f"
   ]
  },
  {
   "cell_type": "code",
   "execution_count": 95,
   "metadata": {},
   "outputs": [
    {
     "name": "stdout",
     "output_type": "stream",
     "text": [
      "The Random Forest w/ Random Parameter Search model correctly identifed all customer who defaulted 0.51020 of the time.\n",
      "The Random Forest w/ Random Parameter Search model has an f1 score of 0.48544 .\n"
     ]
    }
   ],
   "source": [
    "# Evaluate default model\n",
    "knn_model_name = \"K-Nearest Neighbor\"\n",
    "base_model = KNeighborsClassifier(n_neighbors=3)\n",
    "base_model.fit(X_train, y_train)\n",
    "base_knn_metrics = evaluate(base_model, rf_model_name, X_test, y_test)"
   ]
  },
  {
   "cell_type": "code",
   "execution_count": 97,
   "metadata": {},
   "outputs": [
    {
     "name": "stdout",
     "output_type": "stream",
     "text": [
      "The K-Nearest Neighbor w/  Grid Search model correctly identifed all customer who defaulted 0.51020 of the time.\n",
      "The K-Nearest Neighbor w/  Grid Search model has an f1 score of 0.50000 .\n"
     ]
    }
   ],
   "source": [
    "# Evaluate the Best Model for K-NN from Tuning\n",
    "knn_model_name = \"K-Nearest Neighbor w/  Grid Search\"\n",
    "best_knn = best_model.best_estimator_\n",
    "best_knn_metrics = evaluate(best_knn, knn_model_name, X_test, y_test)"
   ]
  },
  {
   "cell_type": "markdown",
   "metadata": {},
   "source": [
    "## Tune Guassian Naive Bayes\n",
    "\n",
    "No parameters to tune:\n",
    "\n",
    "https://stats.stackexchange.com/questions/299842/why-grid-search-is-not-performed-for-naive-bayes-classifier\n",
    "\n",
    "Not many parameters here:\n",
    "https://scikit-learn.org/stable/modules/generated/sklearn.naive_bayes.GaussianNB.html#sklearn.naive_bayes.GaussianNB"
   ]
  },
  {
   "cell_type": "code",
   "execution_count": null,
   "metadata": {},
   "outputs": [],
   "source": []
  },
  {
   "cell_type": "code",
   "execution_count": null,
   "metadata": {},
   "outputs": [],
   "source": []
  },
  {
   "cell_type": "markdown",
   "metadata": {},
   "source": [
    "# Model Evaluation"
   ]
  },
  {
   "cell_type": "markdown",
   "metadata": {},
   "source": []
  },
  {
   "cell_type": "markdown",
   "metadata": {},
   "source": [
    "## Model Metric Notes for Random Forest:\n",
    "\n",
    "Notes: \n",
    "\n",
    "Random Forest (Recall and F1 Scores)\n",
    "\n",
    "All Features \n",
    "\n",
    " - The Random Forest model correctly identifed all customer who defaulted 0.20453 of the time.\n",
    " - The Random Forest model has an f1 score of 0.31913 .\n",
    "\n",
    "Removed Bills Only\n",
    "\n",
    "- The Random Forest model correctly identifed all customer who defaulted 0.70222 of the time.\n",
    "- The Random Forest model has an f1 score of 0.82506 .\n",
    "\n",
    "Removed RFE features Only\n",
    "\n",
    "- The Random Forest model correctly identifed all customer who defaulted 0.17806 of the time.\n",
    "- The Random Forest model has an f1 score of 0.00000 .\n",
    "\n",
    "Removed Bills and RFE Features\n",
    "\n",
    "- The Random Forest model correctly identifed all customer who defaulted 0.25399 of the time.\n",
    "- The Random Forest model has an f1 score of 0.28443 .\n",
    "\n",
    "All Features, Removed Outliers\n",
    "\n",
    "- The Random Forest model correctly identifed all customer who defaulted 0.44898 of the time.\n",
    "- The Random Forest model has an f1 score of 0.52381 .\n",
    "\n",
    "Removed Bills Only, Removed Outliers\n",
    "\n",
    "- The Random Forest model correctly identifed all customer who defaulted 1.00000 of the time.\n",
    "- The Random Forest model has an f1 score of 1.00000 .\n",
    "- This is a problem. Why is it 100%?  \n",
    "\n",
    "Removed Bills Only, Removed Outliers, Tuned Parameters\n",
    "\n",
    "- The Random Forest w/ Random Parameter Search model correctly identifed all customer who defaulted 1.00000 of the time.\n",
    "- The Random Forest w/ Random Parameter Search model has an f1 score of 1.00000 .\n",
    "\n",
    "\n",
    "* Removing Bills helped, but RFE features did not. "
   ]
  },
  {
   "cell_type": "markdown",
   "metadata": {},
   "source": [
    "## Model Metric Notes for KNN:\n",
    "\n",
    "Notes: \n",
    "\n",
    "KNN (Recall and F1 Scores)\n",
    "\n",
    "All Features \n",
    "\n",
    "- The K-Nearest Neighbor model correctly identifed all customer who defaulted 0.22704 of the time.\n",
    "- The K-Nearest Neighbor model has an f1 score of 0.27176 .\n",
    "\n",
    "Removed Bills Only\n",
    "\n",
    "- The K-Nearest Neighbor model correctly identifed all customer who defaulted 0.22245 of the time.\n",
    "- The K-Nearest Neighbor model has an f1 score of 0.27267 .\n",
    "\n",
    "Removed RFE features Only\n",
    "\n",
    "N/A\n",
    "\n",
    "Removed Bills and RFE Features\n",
    "\n",
    "N/A\n",
    "\n",
    "All Features, Removed Outliers\n",
    "\n",
    "- The K-Nearest Neighbor model correctly identifed all customer who defaulted 0.53061 of the time.\n",
    "- The K-Nearest Neighbor model has an f1 score of 0.46429 .\n",
    "\n",
    "Removed Bills Only, Removed Outliers\n",
    "\n",
    "- The K-Nearest Neighbor model correctly identifed all customer who defaulted 0.35088 of the time.\n",
    "- The K-Nearest Neighbor model has an f1 score of 0.38462 .\n",
    "\n",
    "Removed Bills Only, Removed Outliers, Tuned Parameters\n",
    "\n",
    "- The K-Nearest Neighbor w/  Grid Search model correctly identifed all customer who defaulted 0.51020 of the time.\n",
    "- The K-Nearest Neighbor w/  Grid Search model has an f1 score of 0.50000 .\n"
   ]
  },
  {
   "cell_type": "markdown",
   "metadata": {},
   "source": [
    "## Model Metric Notes for GBN:\n",
    "\n",
    "Notes: \n",
    "\n",
    "GBN (Recall and F1 Scores)\n",
    "\n",
    "All Features \n",
    "\n",
    "- The Gaussian Naive Bayes model correctly identifed all customer who defaulted 0.86429 of the time.\n",
    "- The Gaussian Naive Bayes model has an f1 score of 0.38326 .\n",
    "\n",
    "Removed Bills Only\n",
    "\n",
    "- The Gaussian Naive Bayes model correctly identifed all customer who defaulted 0.89694 of the time.\n",
    "- The Gaussian Naive Bayes model has an f1 score of 0.38447 .\n",
    "\n",
    "Removed RFE features Only\n",
    "\n",
    "N/A\n",
    "\n",
    "Removed Bills and RFE Features\n",
    "\n",
    "N/A\n",
    "\n",
    "All Features, Removed Outliers\n",
    "\n",
    "- The Gaussian Naive Bayes model correctly identifed all customer who defaulted 0.51020 of the time.\n",
    "- The Gaussian Naive Bayes model has an f1 score of 0.48544 .\n",
    "\n",
    "Removed Bills Only, Removed Outliers\n",
    "\n",
    "- The Gaussian Naive Bayes model correctly identifed all customer who defaulted 0.89694 of the time.\n",
    "- The Gaussian Naive Bayes model has an f1 score of 0.38447 .\n",
    "\n",
    "Removed Bills Only, Removed Outliers, Tuned Parameters\n",
    "\n",
    "N/A\n"
   ]
  }
 ],
 "metadata": {
  "kernelspec": {
   "display_name": "Python 3",
   "language": "python",
   "name": "python3"
  },
  "language_info": {
   "codemirror_mode": {
    "name": "ipython",
    "version": 3
   },
   "file_extension": ".py",
   "mimetype": "text/x-python",
   "name": "python",
   "nbconvert_exporter": "python",
   "pygments_lexer": "ipython3",
   "version": "3.7.4"
  },
  "toc": {
   "base_numbering": 1,
   "nav_menu": {},
   "number_sections": true,
   "sideBar": true,
   "skip_h1_title": false,
   "title_cell": "Table of Contents",
   "title_sidebar": "Contents",
   "toc_cell": false,
   "toc_position": {
    "height": "calc(100% - 180px)",
    "left": "10px",
    "top": "150px",
    "width": "341.292px"
   },
   "toc_section_display": true,
   "toc_window_display": true
  }
 },
 "nbformat": 4,
 "nbformat_minor": 2
}
