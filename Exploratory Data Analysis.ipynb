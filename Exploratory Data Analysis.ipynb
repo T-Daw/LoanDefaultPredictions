{
 "cells": [
  {
   "cell_type": "markdown",
   "metadata": {
    "slideshow": {
     "slide_type": "-"
    },
    "toc": true
   },
   "source": [
    "<h1>Table of Contents<span class=\"tocSkip\"></span></h1>\n",
    "<div class=\"toc\"><ul class=\"toc-item\"><li><span><a href=\"#Purpose\" data-toc-modified-id=\"Purpose-1\"><span class=\"toc-item-num\">1&nbsp;&nbsp;</span>Purpose</a></span></li><li><span><a href=\"#Describe-Data\" data-toc-modified-id=\"Describe-Data-2\"><span class=\"toc-item-num\">2&nbsp;&nbsp;</span>Describe Data</a></span><ul class=\"toc-item\"><li><span><a href=\"#Load-Data\" data-toc-modified-id=\"Load-Data-2.1\"><span class=\"toc-item-num\">2.1&nbsp;&nbsp;</span>Load Data</a></span></li><li><span><a href=\"#Examine-Data\" data-toc-modified-id=\"Examine-Data-2.2\"><span class=\"toc-item-num\">2.2&nbsp;&nbsp;</span>Examine Data</a></span></li><li><span><a href=\"#Identify-Variables:\" data-toc-modified-id=\"Identify-Variables:-2.3\"><span class=\"toc-item-num\">2.3&nbsp;&nbsp;</span>Identify Variables:</a></span><ul class=\"toc-item\"><li><span><a href=\"#Predictor-Variables\" data-toc-modified-id=\"Predictor-Variables-2.3.1\"><span class=\"toc-item-num\">2.3.1&nbsp;&nbsp;</span>Predictor Variables</a></span></li><li><span><a href=\"#Target-Variable:-Default-Status\" data-toc-modified-id=\"Target-Variable:-Default-Status-2.3.2\"><span class=\"toc-item-num\">2.3.2&nbsp;&nbsp;</span>Target Variable: Default Status</a></span></li></ul></li></ul></li><li><span><a href=\"#Clean-Up-Data\" data-toc-modified-id=\"Clean-Up-Data-3\"><span class=\"toc-item-num\">3&nbsp;&nbsp;</span>Clean Up Data</a></span><ul class=\"toc-item\"><li><span><a href=\"#Drop-Columns\" data-toc-modified-id=\"Drop-Columns-3.1\"><span class=\"toc-item-num\">3.1&nbsp;&nbsp;</span>Drop Columns</a></span></li><li><span><a href=\"#Rename-Columns\" data-toc-modified-id=\"Rename-Columns-3.2\"><span class=\"toc-item-num\">3.2&nbsp;&nbsp;</span>Rename Columns</a></span></li><li><span><a href=\"#Recode-Variables\" data-toc-modified-id=\"Recode-Variables-3.3\"><span class=\"toc-item-num\">3.3&nbsp;&nbsp;</span>Recode Variables</a></span></li><li><span><a href=\"#Convert-Categorical-Variables-that-are-Numeric-Types-into-Category-Types\" data-toc-modified-id=\"Convert-Categorical-Variables-that-are-Numeric-Types-into-Category-Types-3.4\"><span class=\"toc-item-num\">3.4&nbsp;&nbsp;</span>Convert Categorical Variables that are Numeric Types into Category Types</a></span></li><li><span><a href=\"#Check-for-Missing-Values\" data-toc-modified-id=\"Check-for-Missing-Values-3.5\"><span class=\"toc-item-num\">3.5&nbsp;&nbsp;</span>Check for Missing Values</a></span></li><li><span><a href=\"#Review-Summary-Statistics-of-Cleaned-up-Data\" data-toc-modified-id=\"Review-Summary-Statistics-of-Cleaned-up-Data-3.6\"><span class=\"toc-item-num\">3.6&nbsp;&nbsp;</span>Review Summary Statistics of Cleaned up Data</a></span></li></ul></li><li><span><a href=\"#Univariate-Analysis\" data-toc-modified-id=\"Univariate-Analysis-4\"><span class=\"toc-item-num\">4&nbsp;&nbsp;</span>Univariate Analysis</a></span><ul class=\"toc-item\"><li><span><a href=\"#Numerical-Variables\" data-toc-modified-id=\"Numerical-Variables-4.1\"><span class=\"toc-item-num\">4.1&nbsp;&nbsp;</span>Numerical Variables</a></span><ul class=\"toc-item\"><li><span><a href=\"#Limit-Balance\" data-toc-modified-id=\"Limit-Balance-4.1.1\"><span class=\"toc-item-num\">4.1.1&nbsp;&nbsp;</span>Limit Balance</a></span></li><li><span><a href=\"#Age\" data-toc-modified-id=\"Age-4.1.2\"><span class=\"toc-item-num\">4.1.2&nbsp;&nbsp;</span>Age</a></span></li><li><span><a href=\"#Bill-Amounts\" data-toc-modified-id=\"Bill-Amounts-4.1.3\"><span class=\"toc-item-num\">4.1.3&nbsp;&nbsp;</span>Bill Amounts</a></span></li><li><span><a href=\"#Payment-Amounts\" data-toc-modified-id=\"Payment-Amounts-4.1.4\"><span class=\"toc-item-num\">4.1.4&nbsp;&nbsp;</span>Payment Amounts</a></span></li></ul></li><li><span><a href=\"#Categorical-Variables\" data-toc-modified-id=\"Categorical-Variables-4.2\"><span class=\"toc-item-num\">4.2&nbsp;&nbsp;</span>Categorical Variables</a></span><ul class=\"toc-item\"><li><span><a href=\"#Sex\" data-toc-modified-id=\"Sex-4.2.1\"><span class=\"toc-item-num\">4.2.1&nbsp;&nbsp;</span>Sex</a></span></li><li><span><a href=\"#Education\" data-toc-modified-id=\"Education-4.2.2\"><span class=\"toc-item-num\">4.2.2&nbsp;&nbsp;</span>Education</a></span></li><li><span><a href=\"#Marriage\" data-toc-modified-id=\"Marriage-4.2.3\"><span class=\"toc-item-num\">4.2.3&nbsp;&nbsp;</span>Marriage</a></span></li><li><span><a href=\"#Payment-Histories\" data-toc-modified-id=\"Payment-Histories-4.2.4\"><span class=\"toc-item-num\">4.2.4&nbsp;&nbsp;</span>Payment Histories</a></span></li><li><span><a href=\"#Default\" data-toc-modified-id=\"Default-4.2.5\"><span class=\"toc-item-num\">4.2.5&nbsp;&nbsp;</span>Default</a></span></li></ul></li></ul></li><li><span><a href=\"#Dimensionality-Reduction\" data-toc-modified-id=\"Dimensionality-Reduction-5\"><span class=\"toc-item-num\">5&nbsp;&nbsp;</span>Dimensionality Reduction</a></span><ul class=\"toc-item\"><li><span><a href=\"#Multicollinearity\" data-toc-modified-id=\"Multicollinearity-5.1\"><span class=\"toc-item-num\">5.1&nbsp;&nbsp;</span>Multicollinearity</a></span></li><li><span><a href=\"#Variance\" data-toc-modified-id=\"Variance-5.2\"><span class=\"toc-item-num\">5.2&nbsp;&nbsp;</span>Variance</a></span></li></ul></li><li><span><a href=\"#Multivariate-Analysis\" data-toc-modified-id=\"Multivariate-Analysis-6\"><span class=\"toc-item-num\">6&nbsp;&nbsp;</span>Multivariate Analysis</a></span><ul class=\"toc-item\"><li><span><a href=\"#Continuous-Variables-vs-Target-Variable\" data-toc-modified-id=\"Continuous-Variables-vs-Target-Variable-6.1\"><span class=\"toc-item-num\">6.1&nbsp;&nbsp;</span>Continuous Variables vs Target Variable</a></span><ul class=\"toc-item\"><li><span><a href=\"#Limit-Balance--vs-Default\" data-toc-modified-id=\"Limit-Balance--vs-Default-6.1.1\"><span class=\"toc-item-num\">6.1.1&nbsp;&nbsp;</span>Limit Balance  vs Default</a></span></li><li><span><a href=\"#Age---vs-Default\" data-toc-modified-id=\"Age---vs-Default-6.1.2\"><span class=\"toc-item-num\">6.1.2&nbsp;&nbsp;</span>Age   vs Default</a></span></li><li><span><a href=\"#Bill-Amounts--vs-Default\" data-toc-modified-id=\"Bill-Amounts--vs-Default-6.1.3\"><span class=\"toc-item-num\">6.1.3&nbsp;&nbsp;</span>Bill Amounts  vs Default</a></span></li><li><span><a href=\"#Monthly-Payments--vs-Default\" data-toc-modified-id=\"Monthly-Payments--vs-Default-6.1.4\"><span class=\"toc-item-num\">6.1.4&nbsp;&nbsp;</span>Monthly Payments  vs Default</a></span></li></ul></li><li><span><a href=\"#Categorical-Predictors-vs-Target-Variable\" data-toc-modified-id=\"Categorical-Predictors-vs-Target-Variable-6.2\"><span class=\"toc-item-num\">6.2&nbsp;&nbsp;</span>Categorical Predictors vs Target Variable</a></span><ul class=\"toc-item\"><li><span><a href=\"#Sex-vs-Default\" data-toc-modified-id=\"Sex-vs-Default-6.2.1\"><span class=\"toc-item-num\">6.2.1&nbsp;&nbsp;</span>Sex vs Default</a></span></li><li><span><a href=\"#Education-vs-Default\" data-toc-modified-id=\"Education-vs-Default-6.2.2\"><span class=\"toc-item-num\">6.2.2&nbsp;&nbsp;</span>Education vs Default</a></span></li><li><span><a href=\"#Marriage-vs-Default\" data-toc-modified-id=\"Marriage-vs-Default-6.2.3\"><span class=\"toc-item-num\">6.2.3&nbsp;&nbsp;</span>Marriage vs Default</a></span></li><li><span><a href=\"#Payment-Histories-vs-Default\" data-toc-modified-id=\"Payment-Histories-vs-Default-6.2.4\"><span class=\"toc-item-num\">6.2.4&nbsp;&nbsp;</span>Payment Histories vs Default</a></span></li></ul></li><li><span><a href=\"#Other-Relationships\" data-toc-modified-id=\"Other-Relationships-6.3\"><span class=\"toc-item-num\">6.3&nbsp;&nbsp;</span>Other Relationships</a></span><ul class=\"toc-item\"><li><span><a href=\"#Sex-vs-Edu\" data-toc-modified-id=\"Sex-vs-Edu-6.3.1\"><span class=\"toc-item-num\">6.3.1&nbsp;&nbsp;</span>Sex vs Edu</a></span></li><li><span><a href=\"#Sex-vs-Marriage\" data-toc-modified-id=\"Sex-vs-Marriage-6.3.2\"><span class=\"toc-item-num\">6.3.2&nbsp;&nbsp;</span>Sex vs Marriage</a></span></li><li><span><a href=\"#Sex-vs-Age,-with-Default\" data-toc-modified-id=\"Sex-vs-Age,-with-Default-6.3.3\"><span class=\"toc-item-num\">6.3.3&nbsp;&nbsp;</span>Sex vs Age, with Default</a></span></li><li><span><a href=\"#Sex-vs-Limit,-with-Default\" data-toc-modified-id=\"Sex-vs-Limit,-with-Default-6.3.4\"><span class=\"toc-item-num\">6.3.4&nbsp;&nbsp;</span>Sex vs Limit, with Default</a></span></li><li><span><a href=\"#Age-vs-Limit,-with-Default\" data-toc-modified-id=\"Age-vs-Limit,-with-Default-6.3.5\"><span class=\"toc-item-num\">6.3.5&nbsp;&nbsp;</span>Age vs Limit, with Default</a></span></li><li><span><a href=\"#Marriage-vs-Limit-with-Default\" data-toc-modified-id=\"Marriage-vs-Limit-with-Default-6.3.6\"><span class=\"toc-item-num\">6.3.6&nbsp;&nbsp;</span>Marriage vs Limit with Default</a></span></li><li><span><a href=\"#Education-vs-Limit,-with-Default\" data-toc-modified-id=\"Education-vs-Limit,-with-Default-6.3.7\"><span class=\"toc-item-num\">6.3.7&nbsp;&nbsp;</span>Education vs Limit, with Default</a></span></li></ul></li><li><span><a href=\"#Distribution-of-Customers-with-High-Limits\" data-toc-modified-id=\"Distribution-of-Customers-with-High-Limits-6.4\"><span class=\"toc-item-num\">6.4&nbsp;&nbsp;</span>Distribution of Customers with High Limits</a></span><ul class=\"toc-item\"><li><span><a href=\"#Customers-with-High-Limits-vs-Monthy-Bill\" data-toc-modified-id=\"Customers-with-High-Limits-vs-Monthy-Bill-6.4.1\"><span class=\"toc-item-num\">6.4.1&nbsp;&nbsp;</span>Customers with High Limits vs Monthy Bill</a></span></li><li><span><a href=\"#Customers-with-High-Limits-vs-Monthly-Payments\" data-toc-modified-id=\"Customers-with-High-Limits-vs-Monthly-Payments-6.4.2\"><span class=\"toc-item-num\">6.4.2&nbsp;&nbsp;</span>Customers with High Limits vs Monthly Payments</a></span></li></ul></li></ul></li><li><span><a href=\"#Outliers\" data-toc-modified-id=\"Outliers-7\"><span class=\"toc-item-num\">7&nbsp;&nbsp;</span>Outliers</a></span></li><li><span><a href=\"#Other-Notes:-Techniques-for-Addressing-Class-Imbalances\" data-toc-modified-id=\"Other-Notes:-Techniques-for-Addressing-Class-Imbalances-8\"><span class=\"toc-item-num\">8&nbsp;&nbsp;</span>Other Notes: Techniques for Addressing Class Imbalances</a></span></li><li><span><a href=\"#Download-Data-for-Model-Building\" data-toc-modified-id=\"Download-Data-for-Model-Building-9\"><span class=\"toc-item-num\">9&nbsp;&nbsp;</span>Download Data for Model Building</a></span></li></ul></div>"
   ]
  },
  {
   "cell_type": "markdown",
   "metadata": {},
   "source": [
    "# Purpose\n",
    "\n",
    "The purpose of this exploratory data analysis is to develop an understanding of the data. I want to understand the relevance of the features, how they impact one another and, most importantly, how they interact with the target variable."
   ]
  },
  {
   "cell_type": "code",
   "execution_count": 4,
   "metadata": {},
   "outputs": [],
   "source": [
    "# ensures all output is printed\n",
    "from IPython.core.interactiveshell import InteractiveShell\n",
    "InteractiveShell.ast_node_interactivity = \"all\""
   ]
  },
  {
   "cell_type": "code",
   "execution_count": 47,
   "metadata": {},
   "outputs": [],
   "source": [
    "# import libraries\n",
    "import pandas as pd\n",
    "import numpy as np\n",
    "import matplotlib.pyplot as plt\n",
    "from  matplotlib.ticker import PercentFormatter\n",
    "import scipy\n",
    "from scipy import stats # Is this line really necessary? It should work either way sine already imported all of scipy\n",
    "from sklearn.feature_selection import VarianceThreshold\n",
    "import seaborn as sns \n",
    "from IPython.display import display, HTML\n"
   ]
  },
  {
   "cell_type": "markdown",
   "metadata": {},
   "source": [
    "# Describe Data "
   ]
  },
  {
   "cell_type": "markdown",
   "metadata": {},
   "source": [
    "## Load Data"
   ]
  },
  {
   "cell_type": "code",
   "execution_count": 6,
   "metadata": {},
   "outputs": [],
   "source": [
    "# Load Data\n",
    "credit = pd.read_csv('default of credit card clients.csv', header =1)\n",
    "credit_original = pd.read_csv('default of credit card clients.csv', header =1)"
   ]
  },
  {
   "cell_type": "markdown",
   "metadata": {},
   "source": [
    "## Examine Data"
   ]
  },
  {
   "cell_type": "code",
   "execution_count": 7,
   "metadata": {},
   "outputs": [
    {
     "data": {
      "text/html": [
       "<div>\n",
       "<style scoped>\n",
       "    .dataframe tbody tr th:only-of-type {\n",
       "        vertical-align: middle;\n",
       "    }\n",
       "\n",
       "    .dataframe tbody tr th {\n",
       "        vertical-align: top;\n",
       "    }\n",
       "\n",
       "    .dataframe thead th {\n",
       "        text-align: right;\n",
       "    }\n",
       "</style>\n",
       "<table border=\"1\" class=\"dataframe\">\n",
       "  <thead>\n",
       "    <tr style=\"text-align: right;\">\n",
       "      <th></th>\n",
       "      <th>ID</th>\n",
       "      <th>LIMIT_BAL</th>\n",
       "      <th>SEX</th>\n",
       "      <th>EDUCATION</th>\n",
       "      <th>MARRIAGE</th>\n",
       "      <th>AGE</th>\n",
       "      <th>PAY_0</th>\n",
       "      <th>PAY_2</th>\n",
       "      <th>PAY_3</th>\n",
       "      <th>PAY_4</th>\n",
       "      <th>...</th>\n",
       "      <th>BILL_AMT4</th>\n",
       "      <th>BILL_AMT5</th>\n",
       "      <th>BILL_AMT6</th>\n",
       "      <th>PAY_AMT1</th>\n",
       "      <th>PAY_AMT2</th>\n",
       "      <th>PAY_AMT3</th>\n",
       "      <th>PAY_AMT4</th>\n",
       "      <th>PAY_AMT5</th>\n",
       "      <th>PAY_AMT6</th>\n",
       "      <th>default payment next month</th>\n",
       "    </tr>\n",
       "  </thead>\n",
       "  <tbody>\n",
       "    <tr>\n",
       "      <td>0</td>\n",
       "      <td>1</td>\n",
       "      <td>20000</td>\n",
       "      <td>2</td>\n",
       "      <td>2</td>\n",
       "      <td>1</td>\n",
       "      <td>24</td>\n",
       "      <td>2</td>\n",
       "      <td>2</td>\n",
       "      <td>-1</td>\n",
       "      <td>-1</td>\n",
       "      <td>...</td>\n",
       "      <td>0</td>\n",
       "      <td>0</td>\n",
       "      <td>0</td>\n",
       "      <td>0</td>\n",
       "      <td>689</td>\n",
       "      <td>0</td>\n",
       "      <td>0</td>\n",
       "      <td>0</td>\n",
       "      <td>0</td>\n",
       "      <td>1</td>\n",
       "    </tr>\n",
       "    <tr>\n",
       "      <td>1</td>\n",
       "      <td>2</td>\n",
       "      <td>120000</td>\n",
       "      <td>2</td>\n",
       "      <td>2</td>\n",
       "      <td>2</td>\n",
       "      <td>26</td>\n",
       "      <td>-1</td>\n",
       "      <td>2</td>\n",
       "      <td>0</td>\n",
       "      <td>0</td>\n",
       "      <td>...</td>\n",
       "      <td>3272</td>\n",
       "      <td>3455</td>\n",
       "      <td>3261</td>\n",
       "      <td>0</td>\n",
       "      <td>1000</td>\n",
       "      <td>1000</td>\n",
       "      <td>1000</td>\n",
       "      <td>0</td>\n",
       "      <td>2000</td>\n",
       "      <td>1</td>\n",
       "    </tr>\n",
       "    <tr>\n",
       "      <td>2</td>\n",
       "      <td>3</td>\n",
       "      <td>90000</td>\n",
       "      <td>2</td>\n",
       "      <td>2</td>\n",
       "      <td>2</td>\n",
       "      <td>34</td>\n",
       "      <td>0</td>\n",
       "      <td>0</td>\n",
       "      <td>0</td>\n",
       "      <td>0</td>\n",
       "      <td>...</td>\n",
       "      <td>14331</td>\n",
       "      <td>14948</td>\n",
       "      <td>15549</td>\n",
       "      <td>1518</td>\n",
       "      <td>1500</td>\n",
       "      <td>1000</td>\n",
       "      <td>1000</td>\n",
       "      <td>1000</td>\n",
       "      <td>5000</td>\n",
       "      <td>0</td>\n",
       "    </tr>\n",
       "    <tr>\n",
       "      <td>3</td>\n",
       "      <td>4</td>\n",
       "      <td>50000</td>\n",
       "      <td>2</td>\n",
       "      <td>2</td>\n",
       "      <td>1</td>\n",
       "      <td>37</td>\n",
       "      <td>0</td>\n",
       "      <td>0</td>\n",
       "      <td>0</td>\n",
       "      <td>0</td>\n",
       "      <td>...</td>\n",
       "      <td>28314</td>\n",
       "      <td>28959</td>\n",
       "      <td>29547</td>\n",
       "      <td>2000</td>\n",
       "      <td>2019</td>\n",
       "      <td>1200</td>\n",
       "      <td>1100</td>\n",
       "      <td>1069</td>\n",
       "      <td>1000</td>\n",
       "      <td>0</td>\n",
       "    </tr>\n",
       "    <tr>\n",
       "      <td>4</td>\n",
       "      <td>5</td>\n",
       "      <td>50000</td>\n",
       "      <td>1</td>\n",
       "      <td>2</td>\n",
       "      <td>1</td>\n",
       "      <td>57</td>\n",
       "      <td>-1</td>\n",
       "      <td>0</td>\n",
       "      <td>-1</td>\n",
       "      <td>0</td>\n",
       "      <td>...</td>\n",
       "      <td>20940</td>\n",
       "      <td>19146</td>\n",
       "      <td>19131</td>\n",
       "      <td>2000</td>\n",
       "      <td>36681</td>\n",
       "      <td>10000</td>\n",
       "      <td>9000</td>\n",
       "      <td>689</td>\n",
       "      <td>679</td>\n",
       "      <td>0</td>\n",
       "    </tr>\n",
       "  </tbody>\n",
       "</table>\n",
       "<p>5 rows × 25 columns</p>\n",
       "</div>"
      ],
      "text/plain": [
       "   ID  LIMIT_BAL  SEX  EDUCATION  MARRIAGE  AGE  PAY_0  PAY_2  PAY_3  PAY_4  \\\n",
       "0   1      20000    2          2         1   24      2      2     -1     -1   \n",
       "1   2     120000    2          2         2   26     -1      2      0      0   \n",
       "2   3      90000    2          2         2   34      0      0      0      0   \n",
       "3   4      50000    2          2         1   37      0      0      0      0   \n",
       "4   5      50000    1          2         1   57     -1      0     -1      0   \n",
       "\n",
       "   ...  BILL_AMT4  BILL_AMT5  BILL_AMT6  PAY_AMT1  PAY_AMT2  PAY_AMT3  \\\n",
       "0  ...          0          0          0         0       689         0   \n",
       "1  ...       3272       3455       3261         0      1000      1000   \n",
       "2  ...      14331      14948      15549      1518      1500      1000   \n",
       "3  ...      28314      28959      29547      2000      2019      1200   \n",
       "4  ...      20940      19146      19131      2000     36681     10000   \n",
       "\n",
       "   PAY_AMT4  PAY_AMT5  PAY_AMT6  default payment next month  \n",
       "0         0         0         0                           1  \n",
       "1      1000         0      2000                           1  \n",
       "2      1000      1000      5000                           0  \n",
       "3      1100      1069      1000                           0  \n",
       "4      9000       689       679                           0  \n",
       "\n",
       "[5 rows x 25 columns]"
      ]
     },
     "execution_count": 7,
     "metadata": {},
     "output_type": "execute_result"
    }
   ],
   "source": [
    "# First five rows\n",
    "credit.head()"
   ]
  },
  {
   "cell_type": "code",
   "execution_count": 8,
   "metadata": {},
   "outputs": [
    {
     "name": "stdout",
     "output_type": "stream",
     "text": [
      "<class 'pandas.core.frame.DataFrame'>\n",
      "RangeIndex: 30000 entries, 0 to 29999\n",
      "Data columns (total 25 columns):\n",
      "ID                            30000 non-null int64\n",
      "LIMIT_BAL                     30000 non-null int64\n",
      "SEX                           30000 non-null int64\n",
      "EDUCATION                     30000 non-null int64\n",
      "MARRIAGE                      30000 non-null int64\n",
      "AGE                           30000 non-null int64\n",
      "PAY_0                         30000 non-null int64\n",
      "PAY_2                         30000 non-null int64\n",
      "PAY_3                         30000 non-null int64\n",
      "PAY_4                         30000 non-null int64\n",
      "PAY_5                         30000 non-null int64\n",
      "PAY_6                         30000 non-null int64\n",
      "BILL_AMT1                     30000 non-null int64\n",
      "BILL_AMT2                     30000 non-null int64\n",
      "BILL_AMT3                     30000 non-null int64\n",
      "BILL_AMT4                     30000 non-null int64\n",
      "BILL_AMT5                     30000 non-null int64\n",
      "BILL_AMT6                     30000 non-null int64\n",
      "PAY_AMT1                      30000 non-null int64\n",
      "PAY_AMT2                      30000 non-null int64\n",
      "PAY_AMT3                      30000 non-null int64\n",
      "PAY_AMT4                      30000 non-null int64\n",
      "PAY_AMT5                      30000 non-null int64\n",
      "PAY_AMT6                      30000 non-null int64\n",
      "default payment next month    30000 non-null int64\n",
      "dtypes: int64(25)\n",
      "memory usage: 5.7 MB\n"
     ]
    }
   ],
   "source": [
    "# What columns are hidden in the ellipsis between Pay_4 and Bill_AMT 4?\n",
    "credit.info()"
   ]
  },
  {
   "cell_type": "code",
   "execution_count": 9,
   "metadata": {},
   "outputs": [
    {
     "data": {
      "text/html": [
       "<div>\n",
       "<style scoped>\n",
       "    .dataframe tbody tr th:only-of-type {\n",
       "        vertical-align: middle;\n",
       "    }\n",
       "\n",
       "    .dataframe tbody tr th {\n",
       "        vertical-align: top;\n",
       "    }\n",
       "\n",
       "    .dataframe thead th {\n",
       "        text-align: right;\n",
       "    }\n",
       "</style>\n",
       "<table border=\"1\" class=\"dataframe\">\n",
       "  <thead>\n",
       "    <tr style=\"text-align: right;\">\n",
       "      <th></th>\n",
       "      <th>ID</th>\n",
       "      <th>LIMIT_BAL</th>\n",
       "      <th>SEX</th>\n",
       "      <th>EDUCATION</th>\n",
       "      <th>MARRIAGE</th>\n",
       "      <th>AGE</th>\n",
       "      <th>PAY_0</th>\n",
       "      <th>PAY_2</th>\n",
       "      <th>PAY_3</th>\n",
       "      <th>PAY_4</th>\n",
       "      <th>...</th>\n",
       "      <th>BILL_AMT4</th>\n",
       "      <th>BILL_AMT5</th>\n",
       "      <th>BILL_AMT6</th>\n",
       "      <th>PAY_AMT1</th>\n",
       "      <th>PAY_AMT2</th>\n",
       "      <th>PAY_AMT3</th>\n",
       "      <th>PAY_AMT4</th>\n",
       "      <th>PAY_AMT5</th>\n",
       "      <th>PAY_AMT6</th>\n",
       "      <th>default payment next month</th>\n",
       "    </tr>\n",
       "  </thead>\n",
       "  <tbody>\n",
       "    <tr>\n",
       "      <td>count</td>\n",
       "      <td>30000.000000</td>\n",
       "      <td>30000.000000</td>\n",
       "      <td>30000.000000</td>\n",
       "      <td>30000.000000</td>\n",
       "      <td>30000.000000</td>\n",
       "      <td>30000.000000</td>\n",
       "      <td>30000.000000</td>\n",
       "      <td>30000.000000</td>\n",
       "      <td>30000.000000</td>\n",
       "      <td>30000.000000</td>\n",
       "      <td>...</td>\n",
       "      <td>30000.000000</td>\n",
       "      <td>30000.000000</td>\n",
       "      <td>30000.000000</td>\n",
       "      <td>30000.000000</td>\n",
       "      <td>3.000000e+04</td>\n",
       "      <td>30000.00000</td>\n",
       "      <td>30000.000000</td>\n",
       "      <td>30000.000000</td>\n",
       "      <td>30000.000000</td>\n",
       "      <td>30000.000000</td>\n",
       "    </tr>\n",
       "    <tr>\n",
       "      <td>mean</td>\n",
       "      <td>15000.500000</td>\n",
       "      <td>167484.322667</td>\n",
       "      <td>1.603733</td>\n",
       "      <td>1.853133</td>\n",
       "      <td>1.551867</td>\n",
       "      <td>35.485500</td>\n",
       "      <td>-0.016700</td>\n",
       "      <td>-0.133767</td>\n",
       "      <td>-0.166200</td>\n",
       "      <td>-0.220667</td>\n",
       "      <td>...</td>\n",
       "      <td>43262.948967</td>\n",
       "      <td>40311.400967</td>\n",
       "      <td>38871.760400</td>\n",
       "      <td>5663.580500</td>\n",
       "      <td>5.921163e+03</td>\n",
       "      <td>5225.68150</td>\n",
       "      <td>4826.076867</td>\n",
       "      <td>4799.387633</td>\n",
       "      <td>5215.502567</td>\n",
       "      <td>0.221200</td>\n",
       "    </tr>\n",
       "    <tr>\n",
       "      <td>std</td>\n",
       "      <td>8660.398374</td>\n",
       "      <td>129747.661567</td>\n",
       "      <td>0.489129</td>\n",
       "      <td>0.790349</td>\n",
       "      <td>0.521970</td>\n",
       "      <td>9.217904</td>\n",
       "      <td>1.123802</td>\n",
       "      <td>1.197186</td>\n",
       "      <td>1.196868</td>\n",
       "      <td>1.169139</td>\n",
       "      <td>...</td>\n",
       "      <td>64332.856134</td>\n",
       "      <td>60797.155770</td>\n",
       "      <td>59554.107537</td>\n",
       "      <td>16563.280354</td>\n",
       "      <td>2.304087e+04</td>\n",
       "      <td>17606.96147</td>\n",
       "      <td>15666.159744</td>\n",
       "      <td>15278.305679</td>\n",
       "      <td>17777.465775</td>\n",
       "      <td>0.415062</td>\n",
       "    </tr>\n",
       "    <tr>\n",
       "      <td>min</td>\n",
       "      <td>1.000000</td>\n",
       "      <td>10000.000000</td>\n",
       "      <td>1.000000</td>\n",
       "      <td>0.000000</td>\n",
       "      <td>0.000000</td>\n",
       "      <td>21.000000</td>\n",
       "      <td>-2.000000</td>\n",
       "      <td>-2.000000</td>\n",
       "      <td>-2.000000</td>\n",
       "      <td>-2.000000</td>\n",
       "      <td>...</td>\n",
       "      <td>-170000.000000</td>\n",
       "      <td>-81334.000000</td>\n",
       "      <td>-339603.000000</td>\n",
       "      <td>0.000000</td>\n",
       "      <td>0.000000e+00</td>\n",
       "      <td>0.00000</td>\n",
       "      <td>0.000000</td>\n",
       "      <td>0.000000</td>\n",
       "      <td>0.000000</td>\n",
       "      <td>0.000000</td>\n",
       "    </tr>\n",
       "    <tr>\n",
       "      <td>25%</td>\n",
       "      <td>7500.750000</td>\n",
       "      <td>50000.000000</td>\n",
       "      <td>1.000000</td>\n",
       "      <td>1.000000</td>\n",
       "      <td>1.000000</td>\n",
       "      <td>28.000000</td>\n",
       "      <td>-1.000000</td>\n",
       "      <td>-1.000000</td>\n",
       "      <td>-1.000000</td>\n",
       "      <td>-1.000000</td>\n",
       "      <td>...</td>\n",
       "      <td>2326.750000</td>\n",
       "      <td>1763.000000</td>\n",
       "      <td>1256.000000</td>\n",
       "      <td>1000.000000</td>\n",
       "      <td>8.330000e+02</td>\n",
       "      <td>390.00000</td>\n",
       "      <td>296.000000</td>\n",
       "      <td>252.500000</td>\n",
       "      <td>117.750000</td>\n",
       "      <td>0.000000</td>\n",
       "    </tr>\n",
       "    <tr>\n",
       "      <td>50%</td>\n",
       "      <td>15000.500000</td>\n",
       "      <td>140000.000000</td>\n",
       "      <td>2.000000</td>\n",
       "      <td>2.000000</td>\n",
       "      <td>2.000000</td>\n",
       "      <td>34.000000</td>\n",
       "      <td>0.000000</td>\n",
       "      <td>0.000000</td>\n",
       "      <td>0.000000</td>\n",
       "      <td>0.000000</td>\n",
       "      <td>...</td>\n",
       "      <td>19052.000000</td>\n",
       "      <td>18104.500000</td>\n",
       "      <td>17071.000000</td>\n",
       "      <td>2100.000000</td>\n",
       "      <td>2.009000e+03</td>\n",
       "      <td>1800.00000</td>\n",
       "      <td>1500.000000</td>\n",
       "      <td>1500.000000</td>\n",
       "      <td>1500.000000</td>\n",
       "      <td>0.000000</td>\n",
       "    </tr>\n",
       "    <tr>\n",
       "      <td>75%</td>\n",
       "      <td>22500.250000</td>\n",
       "      <td>240000.000000</td>\n",
       "      <td>2.000000</td>\n",
       "      <td>2.000000</td>\n",
       "      <td>2.000000</td>\n",
       "      <td>41.000000</td>\n",
       "      <td>0.000000</td>\n",
       "      <td>0.000000</td>\n",
       "      <td>0.000000</td>\n",
       "      <td>0.000000</td>\n",
       "      <td>...</td>\n",
       "      <td>54506.000000</td>\n",
       "      <td>50190.500000</td>\n",
       "      <td>49198.250000</td>\n",
       "      <td>5006.000000</td>\n",
       "      <td>5.000000e+03</td>\n",
       "      <td>4505.00000</td>\n",
       "      <td>4013.250000</td>\n",
       "      <td>4031.500000</td>\n",
       "      <td>4000.000000</td>\n",
       "      <td>0.000000</td>\n",
       "    </tr>\n",
       "    <tr>\n",
       "      <td>max</td>\n",
       "      <td>30000.000000</td>\n",
       "      <td>1000000.000000</td>\n",
       "      <td>2.000000</td>\n",
       "      <td>6.000000</td>\n",
       "      <td>3.000000</td>\n",
       "      <td>79.000000</td>\n",
       "      <td>8.000000</td>\n",
       "      <td>8.000000</td>\n",
       "      <td>8.000000</td>\n",
       "      <td>8.000000</td>\n",
       "      <td>...</td>\n",
       "      <td>891586.000000</td>\n",
       "      <td>927171.000000</td>\n",
       "      <td>961664.000000</td>\n",
       "      <td>873552.000000</td>\n",
       "      <td>1.684259e+06</td>\n",
       "      <td>896040.00000</td>\n",
       "      <td>621000.000000</td>\n",
       "      <td>426529.000000</td>\n",
       "      <td>528666.000000</td>\n",
       "      <td>1.000000</td>\n",
       "    </tr>\n",
       "  </tbody>\n",
       "</table>\n",
       "<p>8 rows × 25 columns</p>\n",
       "</div>"
      ],
      "text/plain": [
       "                 ID       LIMIT_BAL           SEX     EDUCATION      MARRIAGE  \\\n",
       "count  30000.000000    30000.000000  30000.000000  30000.000000  30000.000000   \n",
       "mean   15000.500000   167484.322667      1.603733      1.853133      1.551867   \n",
       "std     8660.398374   129747.661567      0.489129      0.790349      0.521970   \n",
       "min        1.000000    10000.000000      1.000000      0.000000      0.000000   \n",
       "25%     7500.750000    50000.000000      1.000000      1.000000      1.000000   \n",
       "50%    15000.500000   140000.000000      2.000000      2.000000      2.000000   \n",
       "75%    22500.250000   240000.000000      2.000000      2.000000      2.000000   \n",
       "max    30000.000000  1000000.000000      2.000000      6.000000      3.000000   \n",
       "\n",
       "                AGE         PAY_0         PAY_2         PAY_3         PAY_4  \\\n",
       "count  30000.000000  30000.000000  30000.000000  30000.000000  30000.000000   \n",
       "mean      35.485500     -0.016700     -0.133767     -0.166200     -0.220667   \n",
       "std        9.217904      1.123802      1.197186      1.196868      1.169139   \n",
       "min       21.000000     -2.000000     -2.000000     -2.000000     -2.000000   \n",
       "25%       28.000000     -1.000000     -1.000000     -1.000000     -1.000000   \n",
       "50%       34.000000      0.000000      0.000000      0.000000      0.000000   \n",
       "75%       41.000000      0.000000      0.000000      0.000000      0.000000   \n",
       "max       79.000000      8.000000      8.000000      8.000000      8.000000   \n",
       "\n",
       "       ...      BILL_AMT4      BILL_AMT5      BILL_AMT6       PAY_AMT1  \\\n",
       "count  ...   30000.000000   30000.000000   30000.000000   30000.000000   \n",
       "mean   ...   43262.948967   40311.400967   38871.760400    5663.580500   \n",
       "std    ...   64332.856134   60797.155770   59554.107537   16563.280354   \n",
       "min    ... -170000.000000  -81334.000000 -339603.000000       0.000000   \n",
       "25%    ...    2326.750000    1763.000000    1256.000000    1000.000000   \n",
       "50%    ...   19052.000000   18104.500000   17071.000000    2100.000000   \n",
       "75%    ...   54506.000000   50190.500000   49198.250000    5006.000000   \n",
       "max    ...  891586.000000  927171.000000  961664.000000  873552.000000   \n",
       "\n",
       "           PAY_AMT2      PAY_AMT3       PAY_AMT4       PAY_AMT5  \\\n",
       "count  3.000000e+04   30000.00000   30000.000000   30000.000000   \n",
       "mean   5.921163e+03    5225.68150    4826.076867    4799.387633   \n",
       "std    2.304087e+04   17606.96147   15666.159744   15278.305679   \n",
       "min    0.000000e+00       0.00000       0.000000       0.000000   \n",
       "25%    8.330000e+02     390.00000     296.000000     252.500000   \n",
       "50%    2.009000e+03    1800.00000    1500.000000    1500.000000   \n",
       "75%    5.000000e+03    4505.00000    4013.250000    4031.500000   \n",
       "max    1.684259e+06  896040.00000  621000.000000  426529.000000   \n",
       "\n",
       "            PAY_AMT6  default payment next month  \n",
       "count   30000.000000                30000.000000  \n",
       "mean     5215.502567                    0.221200  \n",
       "std     17777.465775                    0.415062  \n",
       "min         0.000000                    0.000000  \n",
       "25%       117.750000                    0.000000  \n",
       "50%      1500.000000                    0.000000  \n",
       "75%      4000.000000                    0.000000  \n",
       "max    528666.000000                    1.000000  \n",
       "\n",
       "[8 rows x 25 columns]"
      ]
     },
     "execution_count": 9,
     "metadata": {},
     "output_type": "execute_result"
    }
   ],
   "source": [
    "# Describe variables\n",
    "credit.describe(include ='all')"
   ]
  },
  {
   "cell_type": "code",
   "execution_count": 10,
   "metadata": {},
   "outputs": [
    {
     "data": {
      "text/html": [
       "<div>\n",
       "<style scoped>\n",
       "    .dataframe tbody tr th:only-of-type {\n",
       "        vertical-align: middle;\n",
       "    }\n",
       "\n",
       "    .dataframe tbody tr th {\n",
       "        vertical-align: top;\n",
       "    }\n",
       "\n",
       "    .dataframe thead th {\n",
       "        text-align: right;\n",
       "    }\n",
       "</style>\n",
       "<table border=\"1\" class=\"dataframe\">\n",
       "  <thead>\n",
       "    <tr style=\"text-align: right;\">\n",
       "      <th></th>\n",
       "      <th>PAY_0</th>\n",
       "      <th>PAY_2</th>\n",
       "      <th>PAY_3</th>\n",
       "      <th>PAY_4</th>\n",
       "      <th>PAY_5</th>\n",
       "      <th>PAY_6</th>\n",
       "    </tr>\n",
       "  </thead>\n",
       "  <tbody>\n",
       "    <tr>\n",
       "      <td>count</td>\n",
       "      <td>30000.000000</td>\n",
       "      <td>30000.000000</td>\n",
       "      <td>30000.000000</td>\n",
       "      <td>30000.000000</td>\n",
       "      <td>30000.000000</td>\n",
       "      <td>30000.000000</td>\n",
       "    </tr>\n",
       "    <tr>\n",
       "      <td>mean</td>\n",
       "      <td>-0.016700</td>\n",
       "      <td>-0.133767</td>\n",
       "      <td>-0.166200</td>\n",
       "      <td>-0.220667</td>\n",
       "      <td>-0.266200</td>\n",
       "      <td>-0.291100</td>\n",
       "    </tr>\n",
       "    <tr>\n",
       "      <td>std</td>\n",
       "      <td>1.123802</td>\n",
       "      <td>1.197186</td>\n",
       "      <td>1.196868</td>\n",
       "      <td>1.169139</td>\n",
       "      <td>1.133187</td>\n",
       "      <td>1.149988</td>\n",
       "    </tr>\n",
       "    <tr>\n",
       "      <td>min</td>\n",
       "      <td>-2.000000</td>\n",
       "      <td>-2.000000</td>\n",
       "      <td>-2.000000</td>\n",
       "      <td>-2.000000</td>\n",
       "      <td>-2.000000</td>\n",
       "      <td>-2.000000</td>\n",
       "    </tr>\n",
       "    <tr>\n",
       "      <td>25%</td>\n",
       "      <td>-1.000000</td>\n",
       "      <td>-1.000000</td>\n",
       "      <td>-1.000000</td>\n",
       "      <td>-1.000000</td>\n",
       "      <td>-1.000000</td>\n",
       "      <td>-1.000000</td>\n",
       "    </tr>\n",
       "    <tr>\n",
       "      <td>50%</td>\n",
       "      <td>0.000000</td>\n",
       "      <td>0.000000</td>\n",
       "      <td>0.000000</td>\n",
       "      <td>0.000000</td>\n",
       "      <td>0.000000</td>\n",
       "      <td>0.000000</td>\n",
       "    </tr>\n",
       "    <tr>\n",
       "      <td>75%</td>\n",
       "      <td>0.000000</td>\n",
       "      <td>0.000000</td>\n",
       "      <td>0.000000</td>\n",
       "      <td>0.000000</td>\n",
       "      <td>0.000000</td>\n",
       "      <td>0.000000</td>\n",
       "    </tr>\n",
       "    <tr>\n",
       "      <td>max</td>\n",
       "      <td>8.000000</td>\n",
       "      <td>8.000000</td>\n",
       "      <td>8.000000</td>\n",
       "      <td>8.000000</td>\n",
       "      <td>8.000000</td>\n",
       "      <td>8.000000</td>\n",
       "    </tr>\n",
       "  </tbody>\n",
       "</table>\n",
       "</div>"
      ],
      "text/plain": [
       "              PAY_0         PAY_2         PAY_3         PAY_4         PAY_5  \\\n",
       "count  30000.000000  30000.000000  30000.000000  30000.000000  30000.000000   \n",
       "mean      -0.016700     -0.133767     -0.166200     -0.220667     -0.266200   \n",
       "std        1.123802      1.197186      1.196868      1.169139      1.133187   \n",
       "min       -2.000000     -2.000000     -2.000000     -2.000000     -2.000000   \n",
       "25%       -1.000000     -1.000000     -1.000000     -1.000000     -1.000000   \n",
       "50%        0.000000      0.000000      0.000000      0.000000      0.000000   \n",
       "75%        0.000000      0.000000      0.000000      0.000000      0.000000   \n",
       "max        8.000000      8.000000      8.000000      8.000000      8.000000   \n",
       "\n",
       "              PAY_6  \n",
       "count  30000.000000  \n",
       "mean      -0.291100  \n",
       "std        1.149988  \n",
       "min       -2.000000  \n",
       "25%       -1.000000  \n",
       "50%        0.000000  \n",
       "75%        0.000000  \n",
       "max        8.000000  "
      ]
     },
     "execution_count": 10,
     "metadata": {},
     "output_type": "execute_result"
    }
   ],
   "source": [
    "# Describe variables Pay_0 through PAY-6. These columns do not appear when using describe() on entire dataframe \n",
    "credit[['PAY_0', 'PAY_2', 'PAY_3', 'PAY_4', 'PAY_5', 'PAY_6']].describe()"
   ]
  },
  {
   "cell_type": "code",
   "execution_count": 11,
   "metadata": {},
   "outputs": [
    {
     "data": {
      "text/html": [
       "<div>\n",
       "<style scoped>\n",
       "    .dataframe tbody tr th:only-of-type {\n",
       "        vertical-align: middle;\n",
       "    }\n",
       "\n",
       "    .dataframe tbody tr th {\n",
       "        vertical-align: top;\n",
       "    }\n",
       "\n",
       "    .dataframe thead th {\n",
       "        text-align: right;\n",
       "    }\n",
       "</style>\n",
       "<table border=\"1\" class=\"dataframe\">\n",
       "  <thead>\n",
       "    <tr style=\"text-align: right;\">\n",
       "      <th></th>\n",
       "      <th>BILL_AMT1</th>\n",
       "      <th>BILL_AMT2</th>\n",
       "      <th>BILL_AMT3</th>\n",
       "      <th>BILL_AMT4</th>\n",
       "      <th>BILL_AMT5</th>\n",
       "      <th>BILL_AMT6</th>\n",
       "    </tr>\n",
       "  </thead>\n",
       "  <tbody>\n",
       "    <tr>\n",
       "      <td>count</td>\n",
       "      <td>30000.000000</td>\n",
       "      <td>30000.000000</td>\n",
       "      <td>3.000000e+04</td>\n",
       "      <td>30000.000000</td>\n",
       "      <td>30000.000000</td>\n",
       "      <td>30000.000000</td>\n",
       "    </tr>\n",
       "    <tr>\n",
       "      <td>mean</td>\n",
       "      <td>51223.330900</td>\n",
       "      <td>49179.075167</td>\n",
       "      <td>4.701315e+04</td>\n",
       "      <td>43262.948967</td>\n",
       "      <td>40311.400967</td>\n",
       "      <td>38871.760400</td>\n",
       "    </tr>\n",
       "    <tr>\n",
       "      <td>std</td>\n",
       "      <td>73635.860576</td>\n",
       "      <td>71173.768783</td>\n",
       "      <td>6.934939e+04</td>\n",
       "      <td>64332.856134</td>\n",
       "      <td>60797.155770</td>\n",
       "      <td>59554.107537</td>\n",
       "    </tr>\n",
       "    <tr>\n",
       "      <td>min</td>\n",
       "      <td>-165580.000000</td>\n",
       "      <td>-69777.000000</td>\n",
       "      <td>-1.572640e+05</td>\n",
       "      <td>-170000.000000</td>\n",
       "      <td>-81334.000000</td>\n",
       "      <td>-339603.000000</td>\n",
       "    </tr>\n",
       "    <tr>\n",
       "      <td>25%</td>\n",
       "      <td>3558.750000</td>\n",
       "      <td>2984.750000</td>\n",
       "      <td>2.666250e+03</td>\n",
       "      <td>2326.750000</td>\n",
       "      <td>1763.000000</td>\n",
       "      <td>1256.000000</td>\n",
       "    </tr>\n",
       "    <tr>\n",
       "      <td>50%</td>\n",
       "      <td>22381.500000</td>\n",
       "      <td>21200.000000</td>\n",
       "      <td>2.008850e+04</td>\n",
       "      <td>19052.000000</td>\n",
       "      <td>18104.500000</td>\n",
       "      <td>17071.000000</td>\n",
       "    </tr>\n",
       "    <tr>\n",
       "      <td>75%</td>\n",
       "      <td>67091.000000</td>\n",
       "      <td>64006.250000</td>\n",
       "      <td>6.016475e+04</td>\n",
       "      <td>54506.000000</td>\n",
       "      <td>50190.500000</td>\n",
       "      <td>49198.250000</td>\n",
       "    </tr>\n",
       "    <tr>\n",
       "      <td>max</td>\n",
       "      <td>964511.000000</td>\n",
       "      <td>983931.000000</td>\n",
       "      <td>1.664089e+06</td>\n",
       "      <td>891586.000000</td>\n",
       "      <td>927171.000000</td>\n",
       "      <td>961664.000000</td>\n",
       "    </tr>\n",
       "  </tbody>\n",
       "</table>\n",
       "</div>"
      ],
      "text/plain": [
       "           BILL_AMT1      BILL_AMT2     BILL_AMT3      BILL_AMT4  \\\n",
       "count   30000.000000   30000.000000  3.000000e+04   30000.000000   \n",
       "mean    51223.330900   49179.075167  4.701315e+04   43262.948967   \n",
       "std     73635.860576   71173.768783  6.934939e+04   64332.856134   \n",
       "min   -165580.000000  -69777.000000 -1.572640e+05 -170000.000000   \n",
       "25%      3558.750000    2984.750000  2.666250e+03    2326.750000   \n",
       "50%     22381.500000   21200.000000  2.008850e+04   19052.000000   \n",
       "75%     67091.000000   64006.250000  6.016475e+04   54506.000000   \n",
       "max    964511.000000  983931.000000  1.664089e+06  891586.000000   \n",
       "\n",
       "           BILL_AMT5      BILL_AMT6  \n",
       "count   30000.000000   30000.000000  \n",
       "mean    40311.400967   38871.760400  \n",
       "std     60797.155770   59554.107537  \n",
       "min    -81334.000000 -339603.000000  \n",
       "25%      1763.000000    1256.000000  \n",
       "50%     18104.500000   17071.000000  \n",
       "75%     50190.500000   49198.250000  \n",
       "max    927171.000000  961664.000000  "
      ]
     },
     "execution_count": 11,
     "metadata": {},
     "output_type": "execute_result"
    }
   ],
   "source": [
    "# Describe variables BILL_AMT1 through BILL_AMT6. These columns do not appear when using describe() on entire dataframe \n",
    "credit[['BILL_AMT1','BILL_AMT2','BILL_AMT3','BILL_AMT4', 'BILL_AMT5','BILL_AMT6']].describe()"
   ]
  },
  {
   "cell_type": "markdown",
   "metadata": {},
   "source": [
    "## Identify Variables:"
   ]
  },
  {
   "cell_type": "markdown",
   "metadata": {},
   "source": [
    "### Predictor Variables\n",
    "\n",
    "<b>Identifier</b>\n",
    "- ID\n",
    "- Drop variable as it is insignificant to our analysis. \n",
    "- There are 30,000 identifiers for customers in our dataset.\n",
    "\n",
    "<b>Loan Limit Balance</b>\n",
    "- Loan Amount in NT dollars\n",
    "- continuous\n",
    "- IQR test shows that amounts greater than 240,000 and less than 50,000 are outliers.\n",
    "- Mean is at 167,484.32. \n",
    "- Standard deviation is 129,747.66 . This is big value for variance. The loans are from as low as 10,000 to as high as 1,000,000. We will need to use binning on this variable. \n",
    "- Rename variable name from LIMIT_BAL to limit\n",
    "\n",
    "<b>Sex</b>\n",
    "- customer sex\n",
    "- categorical\n",
    "- Needs to be converted into categorical variable type\n",
    "- Rename variable from SEX to sex\n",
    "- 1 = male, 2= female\n",
    "\n",
    "<b>Education </b> \n",
    "- Education level\n",
    "- categorical ordinal\n",
    "- Needs to be converted into categorical variable type \n",
    "- Per the documentation, we don't know what 0,4,5, or 6 refers to so we will need to bin 0,4,5,6 into one group. We will refer to this group as 4 (4 = other). <span style=\"color:red\"> We can try models without binning later on if  we need to improve accuracy rate</span>\n",
    "- Rename variable from EDUCATION to edu. \n",
    "- 1 = graduate school, 2 = university, 3 = high school, 0,4, 5, 6 = others\n",
    "\n",
    "<b>Marriage</b>\n",
    "- Marital Status\n",
    "- categorical \n",
    "- Needs to be converted into categorical variable type \n",
    "- Rename variable from MARRIAGE to marriage\n",
    "- 1 = married, 2 = single, 3 = divorce, 0=others\n",
    "\n",
    "<b> Age </b>\n",
    "- customer age in years\n",
    "- continuous \n",
    "- Consider binning and changing to categorical ordinal variable type\n",
    "- Rename variable from AGE to age\n",
    "\n",
    "<b>PAY_0, PAY_2, PAY_3, PAY_4, PAY_5, PAY_6 </b>\n",
    "- Past monthly payment records\n",
    "- Six variables for six payment histories from April 2005 to September 2005\n",
    "- Categorical \n",
    "- Needs to be converted into categorical variable types\n",
    "- Consider dimension reduction techniques\n",
    "- Rename variable from Pay_# format to pay#\n",
    "    - Change PAY_0 to pay1 to avoid confusion\n",
    "Classes: \n",
    "PAY_0 = SEPTEMBER 2005 \n",
    "PAY_2 = AUGUST 2005\n",
    "PAY_3 = JULY 2005\n",
    "PAY_4 = JUNE 2005\n",
    "PAY_5 = MAY 2005\n",
    "PAY_6 = APRIL 2005\n",
    "\n",
    "Key:\n",
    "-2 = No consumption\n",
    "-1 = Paid in full\n",
    "0 = The use of revolving credit\n",
    "1 = payment delay for one month\n",
    "2 = payment delay for two months\n",
    "3 = payment delay for three months\n",
    "4 = payment delay for four months\n",
    "5 = payment delay for five months\n",
    "6 = payment delay for six months\n",
    "7 = payment delay for seven months\n",
    "8 = payment delay for eight months\n",
    "9 = payment delay for nine months and above.\n",
    "\n",
    "- No values with payment delays for nine months or above in the data\n",
    "\n",
    "<b>BILL_AMT1, BILL_AMT2, BILL_AMT3, BILL_AMT4, BILL_AMT5, BILL_AMT6 </b>\n",
    "- Amount on the bill statement\n",
    "- Six variables for six bills each month from April 2005 to September 2005\n",
    "- Continuous \n",
    "- Consider dimension reduction techniques\n",
    "- Rename variable from BILL_AMT# format to bill# format\n",
    "BILL_AMT1 = SEPTEMBER 2005\n",
    "BILL_AMT2 = AUGUST 2005\n",
    "BILL_AMT3 = JULY 2005\n",
    "BILL_AMT4 = JUNE 2005\n",
    "BILL_AMT5 = MAY 2005\n",
    "BILL_AMT6 = APRIL 2005\n",
    "\n",
    "<b>PAY_AMT1, PAY_AMT2, PAY_AMT3, PAY_AMT4, PAY_AMT5, PAY_AMT6</b>\n",
    "- Amount of the previous payment <span style =\"color:red\"> this is confusing. not sure what this variable represents </span>\n",
    "- Six variables for each month of payment from April 2005 to September 2005\n",
    "- Continuous\n",
    "- Rename variable from PAY_AMT# format to paid#\n",
    "- COnsider dimension reduction techniques\n",
    "PAY_AMT1 = SEPTEMBER 2005\n",
    "PAY_AMT2 = AUGUST 2005\n",
    "PAY_AMT3 = JULY 2005\n",
    "PAY_AMT4 = JUNE 2005\n",
    "PAY_AMT5 = MAY 2005\n",
    "PAY_AMT6 = APRIL 2005\n",
    "\n",
    "<span style=\"color:red\"> If we need to reduce the number of predictors, we can consider combining PAY_AMT1 and BILL_AMT1 into variable, and likewise for the remaining monthly variables.  </span>"
   ]
  },
  {
   "cell_type": "markdown",
   "metadata": {},
   "source": [
    "### Target Variable: Default Status\n",
    "- Variable we want to predict\n",
    "- Categorical\n",
    "- Needs to be converted into categorical variable type \n",
    "- Rename variable from 'default payment next month' to 'default' \n",
    "0 = did not default\n",
    "1 = did default\n",
    "\n",
    "<span style=\"color:red\"> How would turning our target variable into a boolean affect our algorithms?  </span>"
   ]
  },
  {
   "cell_type": "markdown",
   "metadata": {},
   "source": [
    "# Clean Up Data "
   ]
  },
  {
   "cell_type": "markdown",
   "metadata": {},
   "source": [
    "##  Drop Columns"
   ]
  },
  {
   "cell_type": "code",
   "execution_count": 12,
   "metadata": {
    "scrolled": true
   },
   "outputs": [],
   "source": [
    "# Remove Identifier Column\n",
    "#credit = credit.drop(['ID'],axis=1)\n",
    "# I discovered that the identifier column is helpful in reshaping and transposing data and therefore, have commented it out"
   ]
  },
  {
   "cell_type": "markdown",
   "metadata": {},
   "source": [
    "## Rename Columns"
   ]
  },
  {
   "cell_type": "code",
   "execution_count": 13,
   "metadata": {},
   "outputs": [],
   "source": [
    "# Rename Columns\n",
    "credit.rename(columns={\n",
    " 'ID': 'id', \n",
    " 'LIMIT_BAL': 'limit', \n",
    " 'SEX' : 'sex',\n",
    " 'EDUCATION' : 'edu',\n",
    " 'MARRIAGE' : 'marriage',\n",
    " 'AGE': 'age',\n",
    " 'PAY_0': 'pay1',\n",
    " 'PAY_2': 'pay2',\n",
    " 'PAY_3': 'pay3' ,\n",
    " 'PAY_4': 'pay4',\n",
    " 'PAY_5': 'pay5',\n",
    " 'PAY_6': 'pay6',\n",
    " 'BILL_AMT1' : 'bill1',\n",
    " 'BILL_AMT2': 'bill2',\n",
    " 'BILL_AMT3': 'bill3',\n",
    " 'BILL_AMT4': 'bill4',\n",
    " 'BILL_AMT5': 'bill5',\n",
    " 'BILL_AMT6': 'bill6',\n",
    " 'PAY_AMT1': 'paid1',\n",
    " 'PAY_AMT2': 'paid2',\n",
    " 'PAY_AMT3': 'paid3',\n",
    " 'PAY_AMT4': 'paid4',\n",
    " 'PAY_AMT5': 'paid5',\n",
    " 'PAY_AMT6': 'paid6',\n",
    " 'default payment next month' : 'default'}, inplace=True)"
   ]
  },
  {
   "cell_type": "markdown",
   "metadata": {},
   "source": [
    "##  Recode Variables"
   ]
  },
  {
   "cell_type": "code",
   "execution_count": 14,
   "metadata": {},
   "outputs": [],
   "source": [
    "# Bin Education column (for all 0,4,5,6 in edu, replace with 4)\n",
    "credit[\"edu\"].replace({0: 4, 5:4 , 6:4}, inplace=True)"
   ]
  },
  {
   "cell_type": "markdown",
   "metadata": {},
   "source": [
    "## Convert Categorical Variables that are Numeric Types into Category Types"
   ]
  },
  {
   "cell_type": "code",
   "execution_count": 15,
   "metadata": {},
   "outputs": [],
   "source": [
    "# Convert categorical variables that are inputted as numeric into categorical types\n",
    "credit['sex'] = credit.sex.astype('category')\n",
    "credit['edu'] = credit.edu.astype('category')\n",
    "credit['marriage'] = credit.marriage.astype('category')\n",
    "credit['pay1'] = credit.pay1.astype('category')\n",
    "credit['pay2'] = credit.pay2.astype('category')\n",
    "credit['pay3'] = credit.pay3.astype('category')\n",
    "credit['pay4'] = credit.pay4.astype('category')\n",
    "credit['pay5'] = credit.pay5.astype('category')\n",
    "credit['pay6'] = credit.pay6.astype('category')\n",
    "credit['default'] = credit.default.astype('category')"
   ]
  },
  {
   "cell_type": "markdown",
   "metadata": {},
   "source": [
    "## Check for Missing Values"
   ]
  },
  {
   "cell_type": "code",
   "execution_count": 43,
   "metadata": {},
   "outputs": [
    {
     "data": {
      "text/plain": [
       "id          0\n",
       "limit       0\n",
       "sex         0\n",
       "edu         0\n",
       "marriage    0\n",
       "age         0\n",
       "pay1        0\n",
       "pay2        0\n",
       "pay3        0\n",
       "pay4        0\n",
       "pay5        0\n",
       "pay6        0\n",
       "bill1       0\n",
       "bill2       0\n",
       "bill3       0\n",
       "bill4       0\n",
       "bill5       0\n",
       "bill6       0\n",
       "paid1       0\n",
       "paid2       0\n",
       "paid3       0\n",
       "paid4       0\n",
       "paid5       0\n",
       "paid6       0\n",
       "default     0\n",
       "dtype: int64"
      ]
     },
     "execution_count": 43,
     "metadata": {},
     "output_type": "execute_result"
    }
   ],
   "source": [
    "# No Missing Values\n",
    "credit_isna = pd.isna(credit)\n",
    "credit_isna.sum()"
   ]
  },
  {
   "cell_type": "markdown",
   "metadata": {},
   "source": [
    "## Review Summary Statistics of Cleaned up Data"
   ]
  },
  {
   "cell_type": "code",
   "execution_count": 16,
   "metadata": {},
   "outputs": [
    {
     "data": {
      "text/html": [
       "<div>\n",
       "<style scoped>\n",
       "    .dataframe tbody tr th:only-of-type {\n",
       "        vertical-align: middle;\n",
       "    }\n",
       "\n",
       "    .dataframe tbody tr th {\n",
       "        vertical-align: top;\n",
       "    }\n",
       "\n",
       "    .dataframe thead th {\n",
       "        text-align: right;\n",
       "    }\n",
       "</style>\n",
       "<table border=\"1\" class=\"dataframe\">\n",
       "  <thead>\n",
       "    <tr style=\"text-align: right;\">\n",
       "      <th></th>\n",
       "      <th>id</th>\n",
       "      <th>limit</th>\n",
       "      <th>sex</th>\n",
       "      <th>edu</th>\n",
       "      <th>marriage</th>\n",
       "      <th>age</th>\n",
       "      <th>pay1</th>\n",
       "      <th>pay2</th>\n",
       "      <th>pay3</th>\n",
       "      <th>pay4</th>\n",
       "      <th>...</th>\n",
       "      <th>bill4</th>\n",
       "      <th>bill5</th>\n",
       "      <th>bill6</th>\n",
       "      <th>paid1</th>\n",
       "      <th>paid2</th>\n",
       "      <th>paid3</th>\n",
       "      <th>paid4</th>\n",
       "      <th>paid5</th>\n",
       "      <th>paid6</th>\n",
       "      <th>default</th>\n",
       "    </tr>\n",
       "  </thead>\n",
       "  <tbody>\n",
       "    <tr>\n",
       "      <td>count</td>\n",
       "      <td>30000.000000</td>\n",
       "      <td>30000.000000</td>\n",
       "      <td>30000.0</td>\n",
       "      <td>30000.0</td>\n",
       "      <td>30000.0</td>\n",
       "      <td>30000.000000</td>\n",
       "      <td>30000.0</td>\n",
       "      <td>30000.0</td>\n",
       "      <td>30000.0</td>\n",
       "      <td>30000.0</td>\n",
       "      <td>...</td>\n",
       "      <td>30000.000000</td>\n",
       "      <td>30000.000000</td>\n",
       "      <td>30000.000000</td>\n",
       "      <td>30000.000000</td>\n",
       "      <td>3.000000e+04</td>\n",
       "      <td>30000.00000</td>\n",
       "      <td>30000.000000</td>\n",
       "      <td>30000.000000</td>\n",
       "      <td>30000.000000</td>\n",
       "      <td>30000.0</td>\n",
       "    </tr>\n",
       "    <tr>\n",
       "      <td>unique</td>\n",
       "      <td>NaN</td>\n",
       "      <td>NaN</td>\n",
       "      <td>2.0</td>\n",
       "      <td>4.0</td>\n",
       "      <td>4.0</td>\n",
       "      <td>NaN</td>\n",
       "      <td>11.0</td>\n",
       "      <td>11.0</td>\n",
       "      <td>11.0</td>\n",
       "      <td>11.0</td>\n",
       "      <td>...</td>\n",
       "      <td>NaN</td>\n",
       "      <td>NaN</td>\n",
       "      <td>NaN</td>\n",
       "      <td>NaN</td>\n",
       "      <td>NaN</td>\n",
       "      <td>NaN</td>\n",
       "      <td>NaN</td>\n",
       "      <td>NaN</td>\n",
       "      <td>NaN</td>\n",
       "      <td>2.0</td>\n",
       "    </tr>\n",
       "    <tr>\n",
       "      <td>top</td>\n",
       "      <td>NaN</td>\n",
       "      <td>NaN</td>\n",
       "      <td>2.0</td>\n",
       "      <td>2.0</td>\n",
       "      <td>2.0</td>\n",
       "      <td>NaN</td>\n",
       "      <td>0.0</td>\n",
       "      <td>0.0</td>\n",
       "      <td>0.0</td>\n",
       "      <td>0.0</td>\n",
       "      <td>...</td>\n",
       "      <td>NaN</td>\n",
       "      <td>NaN</td>\n",
       "      <td>NaN</td>\n",
       "      <td>NaN</td>\n",
       "      <td>NaN</td>\n",
       "      <td>NaN</td>\n",
       "      <td>NaN</td>\n",
       "      <td>NaN</td>\n",
       "      <td>NaN</td>\n",
       "      <td>0.0</td>\n",
       "    </tr>\n",
       "    <tr>\n",
       "      <td>freq</td>\n",
       "      <td>NaN</td>\n",
       "      <td>NaN</td>\n",
       "      <td>18112.0</td>\n",
       "      <td>14030.0</td>\n",
       "      <td>15964.0</td>\n",
       "      <td>NaN</td>\n",
       "      <td>14737.0</td>\n",
       "      <td>15730.0</td>\n",
       "      <td>15764.0</td>\n",
       "      <td>16455.0</td>\n",
       "      <td>...</td>\n",
       "      <td>NaN</td>\n",
       "      <td>NaN</td>\n",
       "      <td>NaN</td>\n",
       "      <td>NaN</td>\n",
       "      <td>NaN</td>\n",
       "      <td>NaN</td>\n",
       "      <td>NaN</td>\n",
       "      <td>NaN</td>\n",
       "      <td>NaN</td>\n",
       "      <td>23364.0</td>\n",
       "    </tr>\n",
       "    <tr>\n",
       "      <td>mean</td>\n",
       "      <td>15000.500000</td>\n",
       "      <td>167484.322667</td>\n",
       "      <td>NaN</td>\n",
       "      <td>NaN</td>\n",
       "      <td>NaN</td>\n",
       "      <td>35.485500</td>\n",
       "      <td>NaN</td>\n",
       "      <td>NaN</td>\n",
       "      <td>NaN</td>\n",
       "      <td>NaN</td>\n",
       "      <td>...</td>\n",
       "      <td>43262.948967</td>\n",
       "      <td>40311.400967</td>\n",
       "      <td>38871.760400</td>\n",
       "      <td>5663.580500</td>\n",
       "      <td>5.921163e+03</td>\n",
       "      <td>5225.68150</td>\n",
       "      <td>4826.076867</td>\n",
       "      <td>4799.387633</td>\n",
       "      <td>5215.502567</td>\n",
       "      <td>NaN</td>\n",
       "    </tr>\n",
       "    <tr>\n",
       "      <td>std</td>\n",
       "      <td>8660.398374</td>\n",
       "      <td>129747.661567</td>\n",
       "      <td>NaN</td>\n",
       "      <td>NaN</td>\n",
       "      <td>NaN</td>\n",
       "      <td>9.217904</td>\n",
       "      <td>NaN</td>\n",
       "      <td>NaN</td>\n",
       "      <td>NaN</td>\n",
       "      <td>NaN</td>\n",
       "      <td>...</td>\n",
       "      <td>64332.856134</td>\n",
       "      <td>60797.155770</td>\n",
       "      <td>59554.107537</td>\n",
       "      <td>16563.280354</td>\n",
       "      <td>2.304087e+04</td>\n",
       "      <td>17606.96147</td>\n",
       "      <td>15666.159744</td>\n",
       "      <td>15278.305679</td>\n",
       "      <td>17777.465775</td>\n",
       "      <td>NaN</td>\n",
       "    </tr>\n",
       "    <tr>\n",
       "      <td>min</td>\n",
       "      <td>1.000000</td>\n",
       "      <td>10000.000000</td>\n",
       "      <td>NaN</td>\n",
       "      <td>NaN</td>\n",
       "      <td>NaN</td>\n",
       "      <td>21.000000</td>\n",
       "      <td>NaN</td>\n",
       "      <td>NaN</td>\n",
       "      <td>NaN</td>\n",
       "      <td>NaN</td>\n",
       "      <td>...</td>\n",
       "      <td>-170000.000000</td>\n",
       "      <td>-81334.000000</td>\n",
       "      <td>-339603.000000</td>\n",
       "      <td>0.000000</td>\n",
       "      <td>0.000000e+00</td>\n",
       "      <td>0.00000</td>\n",
       "      <td>0.000000</td>\n",
       "      <td>0.000000</td>\n",
       "      <td>0.000000</td>\n",
       "      <td>NaN</td>\n",
       "    </tr>\n",
       "    <tr>\n",
       "      <td>25%</td>\n",
       "      <td>7500.750000</td>\n",
       "      <td>50000.000000</td>\n",
       "      <td>NaN</td>\n",
       "      <td>NaN</td>\n",
       "      <td>NaN</td>\n",
       "      <td>28.000000</td>\n",
       "      <td>NaN</td>\n",
       "      <td>NaN</td>\n",
       "      <td>NaN</td>\n",
       "      <td>NaN</td>\n",
       "      <td>...</td>\n",
       "      <td>2326.750000</td>\n",
       "      <td>1763.000000</td>\n",
       "      <td>1256.000000</td>\n",
       "      <td>1000.000000</td>\n",
       "      <td>8.330000e+02</td>\n",
       "      <td>390.00000</td>\n",
       "      <td>296.000000</td>\n",
       "      <td>252.500000</td>\n",
       "      <td>117.750000</td>\n",
       "      <td>NaN</td>\n",
       "    </tr>\n",
       "    <tr>\n",
       "      <td>50%</td>\n",
       "      <td>15000.500000</td>\n",
       "      <td>140000.000000</td>\n",
       "      <td>NaN</td>\n",
       "      <td>NaN</td>\n",
       "      <td>NaN</td>\n",
       "      <td>34.000000</td>\n",
       "      <td>NaN</td>\n",
       "      <td>NaN</td>\n",
       "      <td>NaN</td>\n",
       "      <td>NaN</td>\n",
       "      <td>...</td>\n",
       "      <td>19052.000000</td>\n",
       "      <td>18104.500000</td>\n",
       "      <td>17071.000000</td>\n",
       "      <td>2100.000000</td>\n",
       "      <td>2.009000e+03</td>\n",
       "      <td>1800.00000</td>\n",
       "      <td>1500.000000</td>\n",
       "      <td>1500.000000</td>\n",
       "      <td>1500.000000</td>\n",
       "      <td>NaN</td>\n",
       "    </tr>\n",
       "    <tr>\n",
       "      <td>75%</td>\n",
       "      <td>22500.250000</td>\n",
       "      <td>240000.000000</td>\n",
       "      <td>NaN</td>\n",
       "      <td>NaN</td>\n",
       "      <td>NaN</td>\n",
       "      <td>41.000000</td>\n",
       "      <td>NaN</td>\n",
       "      <td>NaN</td>\n",
       "      <td>NaN</td>\n",
       "      <td>NaN</td>\n",
       "      <td>...</td>\n",
       "      <td>54506.000000</td>\n",
       "      <td>50190.500000</td>\n",
       "      <td>49198.250000</td>\n",
       "      <td>5006.000000</td>\n",
       "      <td>5.000000e+03</td>\n",
       "      <td>4505.00000</td>\n",
       "      <td>4013.250000</td>\n",
       "      <td>4031.500000</td>\n",
       "      <td>4000.000000</td>\n",
       "      <td>NaN</td>\n",
       "    </tr>\n",
       "    <tr>\n",
       "      <td>max</td>\n",
       "      <td>30000.000000</td>\n",
       "      <td>1000000.000000</td>\n",
       "      <td>NaN</td>\n",
       "      <td>NaN</td>\n",
       "      <td>NaN</td>\n",
       "      <td>79.000000</td>\n",
       "      <td>NaN</td>\n",
       "      <td>NaN</td>\n",
       "      <td>NaN</td>\n",
       "      <td>NaN</td>\n",
       "      <td>...</td>\n",
       "      <td>891586.000000</td>\n",
       "      <td>927171.000000</td>\n",
       "      <td>961664.000000</td>\n",
       "      <td>873552.000000</td>\n",
       "      <td>1.684259e+06</td>\n",
       "      <td>896040.00000</td>\n",
       "      <td>621000.000000</td>\n",
       "      <td>426529.000000</td>\n",
       "      <td>528666.000000</td>\n",
       "      <td>NaN</td>\n",
       "    </tr>\n",
       "  </tbody>\n",
       "</table>\n",
       "<p>11 rows × 25 columns</p>\n",
       "</div>"
      ],
      "text/plain": [
       "                  id           limit      sex      edu  marriage  \\\n",
       "count   30000.000000    30000.000000  30000.0  30000.0   30000.0   \n",
       "unique           NaN             NaN      2.0      4.0       4.0   \n",
       "top              NaN             NaN      2.0      2.0       2.0   \n",
       "freq             NaN             NaN  18112.0  14030.0   15964.0   \n",
       "mean    15000.500000   167484.322667      NaN      NaN       NaN   \n",
       "std      8660.398374   129747.661567      NaN      NaN       NaN   \n",
       "min         1.000000    10000.000000      NaN      NaN       NaN   \n",
       "25%      7500.750000    50000.000000      NaN      NaN       NaN   \n",
       "50%     15000.500000   140000.000000      NaN      NaN       NaN   \n",
       "75%     22500.250000   240000.000000      NaN      NaN       NaN   \n",
       "max     30000.000000  1000000.000000      NaN      NaN       NaN   \n",
       "\n",
       "                 age     pay1     pay2     pay3     pay4  ...          bill4  \\\n",
       "count   30000.000000  30000.0  30000.0  30000.0  30000.0  ...   30000.000000   \n",
       "unique           NaN     11.0     11.0     11.0     11.0  ...            NaN   \n",
       "top              NaN      0.0      0.0      0.0      0.0  ...            NaN   \n",
       "freq             NaN  14737.0  15730.0  15764.0  16455.0  ...            NaN   \n",
       "mean       35.485500      NaN      NaN      NaN      NaN  ...   43262.948967   \n",
       "std         9.217904      NaN      NaN      NaN      NaN  ...   64332.856134   \n",
       "min        21.000000      NaN      NaN      NaN      NaN  ... -170000.000000   \n",
       "25%        28.000000      NaN      NaN      NaN      NaN  ...    2326.750000   \n",
       "50%        34.000000      NaN      NaN      NaN      NaN  ...   19052.000000   \n",
       "75%        41.000000      NaN      NaN      NaN      NaN  ...   54506.000000   \n",
       "max        79.000000      NaN      NaN      NaN      NaN  ...  891586.000000   \n",
       "\n",
       "                bill5          bill6          paid1         paid2  \\\n",
       "count    30000.000000   30000.000000   30000.000000  3.000000e+04   \n",
       "unique            NaN            NaN            NaN           NaN   \n",
       "top               NaN            NaN            NaN           NaN   \n",
       "freq              NaN            NaN            NaN           NaN   \n",
       "mean     40311.400967   38871.760400    5663.580500  5.921163e+03   \n",
       "std      60797.155770   59554.107537   16563.280354  2.304087e+04   \n",
       "min     -81334.000000 -339603.000000       0.000000  0.000000e+00   \n",
       "25%       1763.000000    1256.000000    1000.000000  8.330000e+02   \n",
       "50%      18104.500000   17071.000000    2100.000000  2.009000e+03   \n",
       "75%      50190.500000   49198.250000    5006.000000  5.000000e+03   \n",
       "max     927171.000000  961664.000000  873552.000000  1.684259e+06   \n",
       "\n",
       "               paid3          paid4          paid5          paid6  default  \n",
       "count    30000.00000   30000.000000   30000.000000   30000.000000  30000.0  \n",
       "unique           NaN            NaN            NaN            NaN      2.0  \n",
       "top              NaN            NaN            NaN            NaN      0.0  \n",
       "freq             NaN            NaN            NaN            NaN  23364.0  \n",
       "mean      5225.68150    4826.076867    4799.387633    5215.502567      NaN  \n",
       "std      17606.96147   15666.159744   15278.305679   17777.465775      NaN  \n",
       "min          0.00000       0.000000       0.000000       0.000000      NaN  \n",
       "25%        390.00000     296.000000     252.500000     117.750000      NaN  \n",
       "50%       1800.00000    1500.000000    1500.000000    1500.000000      NaN  \n",
       "75%       4505.00000    4013.250000    4031.500000    4000.000000      NaN  \n",
       "max     896040.00000  621000.000000  426529.000000  528666.000000      NaN  \n",
       "\n",
       "[11 rows x 25 columns]"
      ]
     },
     "execution_count": 16,
     "metadata": {},
     "output_type": "execute_result"
    }
   ],
   "source": [
    "# Summary statistics for caterogical types\n",
    "credit.describe(include ='all')"
   ]
  },
  {
   "cell_type": "markdown",
   "metadata": {},
   "source": [
    "# Univariate Analysis\n",
    "\n",
    "In this section, I will plot the distribution of the variables. I am looking for outliers, distribution types, frequency, and class imbalances.\n",
    "\n",
    "For numerical variables, I will use histograms and boxplots.\n",
    "For categorical variables, I will use frequency tables and bar charts.  "
   ]
  },
  {
   "cell_type": "code",
   "execution_count": 23,
   "metadata": {},
   "outputs": [],
   "source": [
    "# function to identify outliers using IQR test\n",
    "def iQRTest( variable ):\n",
    "    Q1 = variable.quantile(0.25)\n",
    "    Q3 = variable.quantile(0.75)\n",
    "    IQR = Q3 - Q1\n",
    "    highOutliers = (IQR*1.5)+Q3\n",
    "    lowOutliers = Q1 - (IQR*1.5)\n",
    "    return [print('Q1:',Q1, 'Q3:',  Q3, 'IQR:', IQR,'lowOutliers:',lowOutliers,'highOutliers:',highOutliers)]"
   ]
  },
  {
   "cell_type": "code",
   "execution_count": 18,
   "metadata": {},
   "outputs": [],
   "source": [
    "# only prints last output\n",
    "InteractiveShell.ast_node_interactivity = \"last_expr\""
   ]
  },
  {
   "cell_type": "markdown",
   "metadata": {},
   "source": [
    "## Numerical Variables\n",
    "\n",
    " - Limit Balance\n",
    "  - Age \n",
    "  - Bill Amounts\n",
    "  - Payment Amounts"
   ]
  },
  {
   "cell_type": "markdown",
   "metadata": {},
   "source": [
    "### Limit Balance"
   ]
  },
  {
   "cell_type": "code",
   "execution_count": 19,
   "metadata": {},
   "outputs": [
    {
     "data": {
      "image/png": "[encoded data removed]",
      "text/plain": [
       "<Figure size 432x288 with 1 Axes>"
      ]
     },
     "metadata": {
      "needs_background": "light"
     },
     "output_type": "display_data"
    }
   ],
   "source": [
    "# histogram of limit\n",
    "plt.hist(credit['limit'], bins=100)\n",
    "plt.show()"
   ]
  },
  {
   "cell_type": "code",
   "execution_count": 20,
   "metadata": {},
   "outputs": [
    {
     "data": {
      "image/png": "[encoded data removed]",
      "text/plain": [
       "<Figure size 432x288 with 1 Axes>"
      ]
     },
     "metadata": {
      "needs_background": "light"
     },
     "output_type": "display_data"
    }
   ],
   "source": [
    "# outliers in limit variable\n",
    "red_square = dict(markerfacecolor='r', marker='s')\n",
    "fig1, ax1 = plt.subplots()\n",
    "ax1.set_title('Limit Balances NT$')\n",
    "_=ax1.boxplot(credit.limit, vert=False, flierprops=red_square)\n",
    "\n",
    "# source: https://stackoverflow.com/questions/12056115/disable-the-output-of-matplotlib-pyplot"
   ]
  },
  {
   "cell_type": "code",
   "execution_count": 24,
   "metadata": {},
   "outputs": [
    {
     "data": {
      "text/plain": [
       "count      30000.000000\n",
       "mean      167484.322667\n",
       "std       129747.661567\n",
       "min        10000.000000\n",
       "25%        50000.000000\n",
       "50%       140000.000000\n",
       "75%       240000.000000\n",
       "max      1000000.000000\n",
       "Name: limit, dtype: float64"
      ]
     },
     "execution_count": 24,
     "metadata": {},
     "output_type": "execute_result"
    }
   ],
   "source": [
    "# summary statistics\n",
    "credit.limit.describe()"
   ]
  },
  {
   "cell_type": "code",
   "execution_count": 25,
   "metadata": {},
   "outputs": [
    {
     "name": "stdout",
     "output_type": "stream",
     "text": [
      "Q1: 50000.0 Q3: 240000.0 IQR: 190000.0 lowOutliers: -235000.0 highOutliers: 525000.0\n"
     ]
    },
    {
     "data": {
      "text/plain": [
       "[None]"
      ]
     },
     "execution_count": 25,
     "metadata": {},
     "output_type": "execute_result"
    }
   ],
   "source": [
    "#IQR for outliers in limit\n",
    "iQRTest(credit.limit)"
   ]
  },
  {
   "cell_type": "markdown",
   "metadata": {},
   "source": [
    "I will consider removing all values in limit higher than 525,000 per the IQR test. These could be considered as natural outliers and may be better suited in a separate model consisting of only customers with high credit limits. "
   ]
  },
  {
   "cell_type": "markdown",
   "metadata": {},
   "source": [
    "### Age"
   ]
  },
  {
   "cell_type": "code",
   "execution_count": 20,
   "metadata": {},
   "outputs": [
    {
     "data": {
      "image/png": "[encoded data removed]",
      "text/plain": [
       "<Figure size 432x288 with 1 Axes>"
      ]
     },
     "metadata": {
      "needs_background": "light"
     },
     "output_type": "display_data"
    }
   ],
   "source": [
    "# Histogram of Age\n",
    "plt.hist(credit['age'], bins=12)\n",
    "plt.show()"
   ]
  },
  {
   "cell_type": "code",
   "execution_count": 26,
   "metadata": {},
   "outputs": [
    {
     "data": {
      "image/png": "[encoded data removed]",
      "text/plain": [
       "<Figure size 432x288 with 1 Axes>"
      ]
     },
     "metadata": {
      "needs_background": "light"
     },
     "output_type": "display_data"
    }
   ],
   "source": [
    "# histogram of age, higher bins\n",
    "plt.hist(credit['age'], bins=55)\n",
    "plt.show()"
   ]
  },
  {
   "cell_type": "markdown",
   "metadata": {},
   "source": [
    "I wonder if there are standard events in people's lives, usually, in their 40s, where they need to take out loans. It makes sense that people in the 20s and early 30s would take out loans (college, graduate school, mortgages) but why in their 40s? Their child's college?\n",
    "\n",
    "* We cannot always go from what we find in our analysis to the underlying \"why\""
   ]
  },
  {
   "cell_type": "code",
   "execution_count": 22,
   "metadata": {},
   "outputs": [
    {
     "data": {
      "image/png": "[encoded data removed]",
      "text/plain": [
       "<Figure size 432x288 with 1 Axes>"
      ]
     },
     "metadata": {
      "needs_background": "light"
     },
     "output_type": "display_data"
    }
   ],
   "source": [
    "# outliers\n",
    "red_square = dict(markerfacecolor='r', marker='s')\n",
    "fig1, ax1 = plt.subplots()\n",
    "ax1.set_title('Age')\n",
    "_=ax1.boxplot(credit.age, vert=False, flierprops=red_square)"
   ]
  },
  {
   "cell_type": "code",
   "execution_count": 27,
   "metadata": {},
   "outputs": [
    {
     "data": {
      "text/plain": [
       "count    30000.000000\n",
       "mean        35.485500\n",
       "std          9.217904\n",
       "min         21.000000\n",
       "25%         28.000000\n",
       "50%         34.000000\n",
       "75%         41.000000\n",
       "max         79.000000\n",
       "Name: age, dtype: float64"
      ]
     },
     "execution_count": 27,
     "metadata": {},
     "output_type": "execute_result"
    }
   ],
   "source": [
    "# summary statistics\n",
    "credit.age.describe()"
   ]
  },
  {
   "cell_type": "code",
   "execution_count": 28,
   "metadata": {},
   "outputs": [
    {
     "name": "stdout",
     "output_type": "stream",
     "text": [
      "Q1: 28.0 Q3: 41.0 IQR: 13.0 lowOutliers: 8.5 highOutliers: 60.5\n"
     ]
    },
    {
     "data": {
      "text/plain": [
       "[None]"
      ]
     },
     "execution_count": 28,
     "metadata": {},
     "output_type": "execute_result"
    }
   ],
   "source": [
    "#IQR\n",
    "iQRTest(credit.age)"
   ]
  },
  {
   "cell_type": "markdown",
   "metadata": {},
   "source": [
    "There are no low outliers since none of our customers are under 21. We will consider removing customers older than 60. I am hesitant about removing age. It seems useful."
   ]
  },
  {
   "cell_type": "markdown",
   "metadata": {},
   "source": [
    "### Bill Amounts"
   ]
  },
  {
   "cell_type": "code",
   "execution_count": 25,
   "metadata": {},
   "outputs": [
    {
     "data": {
      "image/png": "[encoded data removed]",
      "text/plain": [
       "<Figure size 432x288 with 1 Axes>"
      ]
     },
     "metadata": {
      "needs_background": "light"
     },
     "output_type": "display_data"
    }
   ],
   "source": [
    "# combined histograms\n",
    "plt.hist(credit['bill1'], bins = 40)\n",
    "plt.hist(credit['bill2'], bins = 40)\n",
    "plt.hist(credit['bill3'], bins = 40)\n",
    "plt.hist(credit['bill4'], bins = 40)\n",
    "plt.hist(credit['bill5'], bins = 40)\n",
    "plt.hist(credit['bill6'], bins = 40)\n",
    "plt.show()"
   ]
  },
  {
   "cell_type": "code",
   "execution_count": 29,
   "metadata": {},
   "outputs": [
    {
     "data": {
      "image/png": "[encoded data removed]",
      "text/plain": [
       "<Figure size 432x288 with 1 Axes>"
      ]
     },
     "metadata": {
      "needs_background": "light"
     },
     "output_type": "display_data"
    }
   ],
   "source": [
    "boxplot = credit.boxplot(column=['bill1', 'bill2', 'bill3', 'bill4', 'bill5','bill6'])"
   ]
  },
  {
   "cell_type": "markdown",
   "metadata": {},
   "source": [
    "Most of the customer bills are not higher than 100,000 $NT. \n",
    "\n",
    "- How many of the customers who have loans greater than 525,000 NT (values larger than this are considered outliers per the IQR test), also have bill payments larger than 100,000 NT?\n",
    "- How many of the customers who have loans less than 525,000 NT, also have bill payments larger than 100,000 NT?\n",
    "\n",
    "* If I remove the 500,000 limit balance outliers, how will that affect the bill payment distributions?\n",
    "\n",
    "I will examine this relationship further in the Other Relationships section if time allows. While this interesting and may help if I need to tune the models, it is still not directly related to the target variable. It may provide insight if I need to create a separate model for natural outliers. "
   ]
  },
  {
   "cell_type": "code",
   "execution_count": 30,
   "metadata": {},
   "outputs": [
    {
     "name": "stdout",
     "output_type": "stream",
     "text": [
      "Q1: 3558.75 Q3: 67091.0 IQR: 63532.25 lowOutliers: -91739.625 highOutliers: 162389.375\n",
      "Q1: 2984.75 Q3: 64006.25 IQR: 61021.5 lowOutliers: -88547.5 highOutliers: 155538.5\n",
      "Q1: 2666.25 Q3: 60164.75 IQR: 57498.5 lowOutliers: -83581.5 highOutliers: 146412.5\n",
      "Q1: 2326.75 Q3: 54506.0 IQR: 52179.25 lowOutliers: -75942.125 highOutliers: 132774.875\n",
      "Q1: 1763.0 Q3: 50190.5 IQR: 48427.5 lowOutliers: -70878.25 highOutliers: 122831.75\n",
      "Q1: 1256.0 Q3: 49198.25 IQR: 47942.25 lowOutliers: -70657.375 highOutliers: 121111.625\n"
     ]
    },
    {
     "data": {
      "text/plain": [
       "[None]"
      ]
     },
     "execution_count": 30,
     "metadata": {},
     "output_type": "execute_result"
    }
   ],
   "source": [
    "# Bill Amount Outliers\n",
    "iQRTest(credit.bill1)\n",
    "iQRTest(credit.bill2)\n",
    "iQRTest(credit.bill3)\n",
    "iQRTest(credit.bill4)\n",
    "iQRTest(credit.bill5)\n",
    "iQRTest(credit.bill6)\n",
    "# Note to self: Replace with for loop when time allows\n"
   ]
  },
  {
   "cell_type": "markdown",
   "metadata": {},
   "source": [
    "The amounts for all the quarter and outliers increase as the bill amount month increases. bill6 is for April. That's when the smallest amounts are due. Bill1 is for September. That has the largest values. "
   ]
  },
  {
   "cell_type": "markdown",
   "metadata": {},
   "source": [
    "### Payment Amounts"
   ]
  },
  {
   "cell_type": "code",
   "execution_count": 29,
   "metadata": {},
   "outputs": [
    {
     "data": {
      "image/png": "[encoded data removed]",
      "text/plain": [
       "<Figure size 432x288 with 1 Axes>"
      ]
     },
     "metadata": {
      "needs_background": "light"
     },
     "output_type": "display_data"
    }
   ],
   "source": [
    "# combined histograms\n",
    "plt.hist(credit['paid1'], bins = 40)\n",
    "plt.hist(credit['paid2'], bins = 40)\n",
    "plt.hist(credit['paid3'], bins = 40)\n",
    "plt.hist(credit['paid4'], bins = 40)\n",
    "plt.hist(credit['paid5'], bins = 40)\n",
    "plt.hist(credit['paid6'], bins = 40)\n",
    "plt.show()"
   ]
  },
  {
   "cell_type": "code",
   "execution_count": 30,
   "metadata": {},
   "outputs": [
    {
     "data": {
      "image/png": "[encoded data removed]",
      "text/plain": [
       "<Figure size 432x288 with 1 Axes>"
      ]
     },
     "metadata": {
      "needs_background": "light"
     },
     "output_type": "display_data"
    }
   ],
   "source": [
    "boxplot = credit.boxplot(column=['paid1', 'paid2', 'paid3', 'paid4', 'paid5','paid6'])"
   ]
  },
  {
   "cell_type": "code",
   "execution_count": 33,
   "metadata": {},
   "outputs": [
    {
     "data": {
      "text/html": [
       "<div>\n",
       "<style scoped>\n",
       "    .dataframe tbody tr th:only-of-type {\n",
       "        vertical-align: middle;\n",
       "    }\n",
       "\n",
       "    .dataframe tbody tr th {\n",
       "        vertical-align: top;\n",
       "    }\n",
       "\n",
       "    .dataframe thead th {\n",
       "        text-align: right;\n",
       "    }\n",
       "</style>\n",
       "<table border=\"1\" class=\"dataframe\">\n",
       "  <thead>\n",
       "    <tr style=\"text-align: right;\">\n",
       "      <th></th>\n",
       "      <th>paid1</th>\n",
       "      <th>paid2</th>\n",
       "      <th>paid3</th>\n",
       "      <th>paid4</th>\n",
       "      <th>paid5</th>\n",
       "      <th>paid6</th>\n",
       "    </tr>\n",
       "  </thead>\n",
       "  <tbody>\n",
       "    <tr>\n",
       "      <td>count</td>\n",
       "      <td>30000.000000</td>\n",
       "      <td>3.000000e+04</td>\n",
       "      <td>30000.00000</td>\n",
       "      <td>30000.000000</td>\n",
       "      <td>30000.000000</td>\n",
       "      <td>30000.000000</td>\n",
       "    </tr>\n",
       "    <tr>\n",
       "      <td>mean</td>\n",
       "      <td>5663.580500</td>\n",
       "      <td>5.921163e+03</td>\n",
       "      <td>5225.68150</td>\n",
       "      <td>4826.076867</td>\n",
       "      <td>4799.387633</td>\n",
       "      <td>5215.502567</td>\n",
       "    </tr>\n",
       "    <tr>\n",
       "      <td>std</td>\n",
       "      <td>16563.280354</td>\n",
       "      <td>2.304087e+04</td>\n",
       "      <td>17606.96147</td>\n",
       "      <td>15666.159744</td>\n",
       "      <td>15278.305679</td>\n",
       "      <td>17777.465775</td>\n",
       "    </tr>\n",
       "    <tr>\n",
       "      <td>min</td>\n",
       "      <td>0.000000</td>\n",
       "      <td>0.000000e+00</td>\n",
       "      <td>0.00000</td>\n",
       "      <td>0.000000</td>\n",
       "      <td>0.000000</td>\n",
       "      <td>0.000000</td>\n",
       "    </tr>\n",
       "    <tr>\n",
       "      <td>25%</td>\n",
       "      <td>1000.000000</td>\n",
       "      <td>8.330000e+02</td>\n",
       "      <td>390.00000</td>\n",
       "      <td>296.000000</td>\n",
       "      <td>252.500000</td>\n",
       "      <td>117.750000</td>\n",
       "    </tr>\n",
       "    <tr>\n",
       "      <td>50%</td>\n",
       "      <td>2100.000000</td>\n",
       "      <td>2.009000e+03</td>\n",
       "      <td>1800.00000</td>\n",
       "      <td>1500.000000</td>\n",
       "      <td>1500.000000</td>\n",
       "      <td>1500.000000</td>\n",
       "    </tr>\n",
       "    <tr>\n",
       "      <td>75%</td>\n",
       "      <td>5006.000000</td>\n",
       "      <td>5.000000e+03</td>\n",
       "      <td>4505.00000</td>\n",
       "      <td>4013.250000</td>\n",
       "      <td>4031.500000</td>\n",
       "      <td>4000.000000</td>\n",
       "    </tr>\n",
       "    <tr>\n",
       "      <td>max</td>\n",
       "      <td>873552.000000</td>\n",
       "      <td>1.684259e+06</td>\n",
       "      <td>896040.00000</td>\n",
       "      <td>621000.000000</td>\n",
       "      <td>426529.000000</td>\n",
       "      <td>528666.000000</td>\n",
       "    </tr>\n",
       "  </tbody>\n",
       "</table>\n",
       "</div>"
      ],
      "text/plain": [
       "               paid1         paid2         paid3          paid4  \\\n",
       "count   30000.000000  3.000000e+04   30000.00000   30000.000000   \n",
       "mean     5663.580500  5.921163e+03    5225.68150    4826.076867   \n",
       "std     16563.280354  2.304087e+04   17606.96147   15666.159744   \n",
       "min         0.000000  0.000000e+00       0.00000       0.000000   \n",
       "25%      1000.000000  8.330000e+02     390.00000     296.000000   \n",
       "50%      2100.000000  2.009000e+03    1800.00000    1500.000000   \n",
       "75%      5006.000000  5.000000e+03    4505.00000    4013.250000   \n",
       "max    873552.000000  1.684259e+06  896040.00000  621000.000000   \n",
       "\n",
       "               paid5          paid6  \n",
       "count   30000.000000   30000.000000  \n",
       "mean     4799.387633    5215.502567  \n",
       "std     15278.305679   17777.465775  \n",
       "min         0.000000       0.000000  \n",
       "25%       252.500000     117.750000  \n",
       "50%      1500.000000    1500.000000  \n",
       "75%      4031.500000    4000.000000  \n",
       "max    426529.000000  528666.000000  "
      ]
     },
     "execution_count": 33,
     "metadata": {},
     "output_type": "execute_result"
    }
   ],
   "source": [
    "# summary statistics\n",
    "credit[['paid1', 'paid2', 'paid3', 'paid4', 'paid5','paid6']].describe()"
   ]
  },
  {
   "cell_type": "code",
   "execution_count": 32,
   "metadata": {},
   "outputs": [
    {
     "name": "stdout",
     "output_type": "stream",
     "text": [
      "Q1: 1000.0 Q3: 5006.0 IQR: 4006.0 lowOutliers: 5009.0 highOutliers: 11015.0\n",
      "Q1: 833.0 Q3: 5000.0 IQR: 4167.0 lowOutliers: 5417.5 highOutliers: 11250.5\n",
      "Q1: 390.0 Q3: 4505.0 IQR: 4115.0 lowOutliers: 5782.5 highOutliers: 10677.5\n",
      "Q1: 296.0 Q3: 4013.25 IQR: 3717.25 lowOutliers: 5279.875 highOutliers: 9589.125\n",
      "Q1: 252.5 Q3: 4031.5 IQR: 3779.0 lowOutliers: 5416.0 highOutliers: 9700.0\n",
      "Q1: 117.75 Q3: 4000.0 IQR: 3882.25 lowOutliers: 5705.625 highOutliers: 9823.375\n"
     ]
    },
    {
     "data": {
      "text/plain": [
       "[None]"
      ]
     },
     "execution_count": 32,
     "metadata": {},
     "output_type": "execute_result"
    }
   ],
   "source": [
    "# Outlier Test\n",
    "iQRTest(credit.paid1)\n",
    "iQRTest(credit.paid2)\n",
    "iQRTest(credit.paid3)\n",
    "iQRTest(credit.paid4)\n",
    "iQRTest(credit.paid5)\n",
    "iQRTest(credit.paid6)\n",
    "# Note to self: Replace with for loop when time allows\n"
   ]
  },
  {
   "cell_type": "markdown",
   "metadata": {},
   "source": [
    "## Categorical Variables\n",
    "\n",
    " - Sex\n",
    " - Education\n",
    " - Marriage\n",
    " - Payment Histories"
   ]
  },
  {
   "cell_type": "code",
   "execution_count": 34,
   "metadata": {},
   "outputs": [],
   "source": [
    "InteractiveShell.ast_node_interactivity = \"all\""
   ]
  },
  {
   "cell_type": "markdown",
   "metadata": {},
   "source": [
    "### Sex"
   ]
  },
  {
   "cell_type": "code",
   "execution_count": 35,
   "metadata": {},
   "outputs": [
    {
     "data": {
      "text/html": [
       "<div>\n",
       "<style scoped>\n",
       "    .dataframe tbody tr th:only-of-type {\n",
       "        vertical-align: middle;\n",
       "    }\n",
       "\n",
       "    .dataframe tbody tr th {\n",
       "        vertical-align: top;\n",
       "    }\n",
       "\n",
       "    .dataframe thead th {\n",
       "        text-align: right;\n",
       "    }\n",
       "</style>\n",
       "<table border=\"1\" class=\"dataframe\">\n",
       "  <thead>\n",
       "    <tr style=\"text-align: right;\">\n",
       "      <th>col_0</th>\n",
       "      <th>Count</th>\n",
       "    </tr>\n",
       "    <tr>\n",
       "      <th>sex</th>\n",
       "      <th></th>\n",
       "    </tr>\n",
       "  </thead>\n",
       "  <tbody>\n",
       "    <tr>\n",
       "      <td>1</td>\n",
       "      <td>11888</td>\n",
       "    </tr>\n",
       "    <tr>\n",
       "      <td>2</td>\n",
       "      <td>18112</td>\n",
       "    </tr>\n",
       "  </tbody>\n",
       "</table>\n",
       "</div>"
      ],
      "text/plain": [
       "col_0  Count\n",
       "sex         \n",
       "1      11888\n",
       "2      18112"
      ]
     },
     "execution_count": 35,
     "metadata": {},
     "output_type": "execute_result"
    },
    {
     "data": {
      "text/html": [
       "<div>\n",
       "<style scoped>\n",
       "    .dataframe tbody tr th:only-of-type {\n",
       "        vertical-align: middle;\n",
       "    }\n",
       "\n",
       "    .dataframe tbody tr th {\n",
       "        vertical-align: top;\n",
       "    }\n",
       "\n",
       "    .dataframe thead th {\n",
       "        text-align: right;\n",
       "    }\n",
       "</style>\n",
       "<table border=\"1\" class=\"dataframe\">\n",
       "  <thead>\n",
       "    <tr style=\"text-align: right;\">\n",
       "      <th>col_0</th>\n",
       "      <th>Count</th>\n",
       "    </tr>\n",
       "    <tr>\n",
       "      <th>sex</th>\n",
       "      <th></th>\n",
       "    </tr>\n",
       "  </thead>\n",
       "  <tbody>\n",
       "    <tr>\n",
       "      <td>1</td>\n",
       "      <td>0.396267</td>\n",
       "    </tr>\n",
       "    <tr>\n",
       "      <td>2</td>\n",
       "      <td>0.603733</td>\n",
       "    </tr>\n",
       "  </tbody>\n",
       "</table>\n",
       "</div>"
      ],
      "text/plain": [
       "col_0     Count\n",
       "sex            \n",
       "1      0.396267\n",
       "2      0.603733"
      ]
     },
     "execution_count": 35,
     "metadata": {},
     "output_type": "execute_result"
    }
   ],
   "source": [
    "# Sex Frequency Table\n",
    "\n",
    "my_tab = pd.crosstab(index=credit[\"sex\"],  # Make a crosstab\n",
    "                              columns=\"Count\")      # Name the count column\n",
    "my_tab_percent = my_tab/my_tab.sum()\n",
    "my_tab\n",
    "my_tab_percent \n"
   ]
  },
  {
   "cell_type": "code",
   "execution_count": 37,
   "metadata": {},
   "outputs": [
    {
     "data": {
      "text/plain": [
       "<seaborn.axisgrid.FacetGrid at 0x1a1f0f0f90>"
      ]
     },
     "execution_count": 37,
     "metadata": {},
     "output_type": "execute_result"
    },
    {
     "data": {
      "image/png": "[encoded data removed]",
      "text/plain": [
       "<Figure size 540x360 with 1 Axes>"
      ]
     },
     "metadata": {
      "needs_background": "light"
     },
     "output_type": "display_data"
    }
   ],
   "source": [
    "# Sex Bar Chart\n",
    "fg_sex = sns.catplot('sex', data=credit, kind='count', aspect=1.5)\n",
    "fg_sex.set_xlabels('Gender')\n"
   ]
  },
  {
   "cell_type": "markdown",
   "metadata": {},
   "source": [
    "- About 20% more females than males, or a 3:2 imbalance\n",
    "- At this time, I have chosen not to address class imbalances for predictor variables\n",
    "- Furthermore, I have selected a ratio of about 4:1 as what I consider to be a class imbalance"
   ]
  },
  {
   "cell_type": "markdown",
   "metadata": {},
   "source": [
    "### Education"
   ]
  },
  {
   "cell_type": "code",
   "execution_count": 38,
   "metadata": {},
   "outputs": [
    {
     "data": {
      "text/html": [
       "<div>\n",
       "<style scoped>\n",
       "    .dataframe tbody tr th:only-of-type {\n",
       "        vertical-align: middle;\n",
       "    }\n",
       "\n",
       "    .dataframe tbody tr th {\n",
       "        vertical-align: top;\n",
       "    }\n",
       "\n",
       "    .dataframe thead th {\n",
       "        text-align: right;\n",
       "    }\n",
       "</style>\n",
       "<table border=\"1\" class=\"dataframe\">\n",
       "  <thead>\n",
       "    <tr style=\"text-align: right;\">\n",
       "      <th>col_0</th>\n",
       "      <th>edu</th>\n",
       "    </tr>\n",
       "    <tr>\n",
       "      <th>edu</th>\n",
       "      <th></th>\n",
       "    </tr>\n",
       "  </thead>\n",
       "  <tbody>\n",
       "    <tr>\n",
       "      <td>1</td>\n",
       "      <td>10585</td>\n",
       "    </tr>\n",
       "    <tr>\n",
       "      <td>2</td>\n",
       "      <td>14030</td>\n",
       "    </tr>\n",
       "    <tr>\n",
       "      <td>3</td>\n",
       "      <td>4917</td>\n",
       "    </tr>\n",
       "    <tr>\n",
       "      <td>4</td>\n",
       "      <td>468</td>\n",
       "    </tr>\n",
       "  </tbody>\n",
       "</table>\n",
       "</div>"
      ],
      "text/plain": [
       "col_0    edu\n",
       "edu         \n",
       "1      10585\n",
       "2      14030\n",
       "3       4917\n",
       "4        468"
      ]
     },
     "execution_count": 38,
     "metadata": {},
     "output_type": "execute_result"
    },
    {
     "data": {
      "text/html": [
       "<div>\n",
       "<style scoped>\n",
       "    .dataframe tbody tr th:only-of-type {\n",
       "        vertical-align: middle;\n",
       "    }\n",
       "\n",
       "    .dataframe tbody tr th {\n",
       "        vertical-align: top;\n",
       "    }\n",
       "\n",
       "    .dataframe thead th {\n",
       "        text-align: right;\n",
       "    }\n",
       "</style>\n",
       "<table border=\"1\" class=\"dataframe\">\n",
       "  <thead>\n",
       "    <tr style=\"text-align: right;\">\n",
       "      <th>col_0</th>\n",
       "      <th>edu</th>\n",
       "    </tr>\n",
       "    <tr>\n",
       "      <th>edu</th>\n",
       "      <th></th>\n",
       "    </tr>\n",
       "  </thead>\n",
       "  <tbody>\n",
       "    <tr>\n",
       "      <td>1</td>\n",
       "      <td>0.352833</td>\n",
       "    </tr>\n",
       "    <tr>\n",
       "      <td>2</td>\n",
       "      <td>0.467667</td>\n",
       "    </tr>\n",
       "    <tr>\n",
       "      <td>3</td>\n",
       "      <td>0.163900</td>\n",
       "    </tr>\n",
       "    <tr>\n",
       "      <td>4</td>\n",
       "      <td>0.015600</td>\n",
       "    </tr>\n",
       "  </tbody>\n",
       "</table>\n",
       "</div>"
      ],
      "text/plain": [
       "col_0       edu\n",
       "edu            \n",
       "1      0.352833\n",
       "2      0.467667\n",
       "3      0.163900\n",
       "4      0.015600"
      ]
     },
     "execution_count": 38,
     "metadata": {},
     "output_type": "execute_result"
    }
   ],
   "source": [
    "# Education Frequency Table\n",
    "my_tab = pd.crosstab(index=credit[\"edu\"],  # Make a crosstab\n",
    "                              columns=\"edu\")      # Name the count column\n",
    "my_tab_percent = my_tab/my_tab.sum()\n",
    "my_tab\n",
    "my_tab_percent "
   ]
  },
  {
   "cell_type": "code",
   "execution_count": 39,
   "metadata": {},
   "outputs": [
    {
     "data": {
      "text/plain": [
       "<seaborn.axisgrid.FacetGrid at 0x1a1e476dd0>"
      ]
     },
     "execution_count": 39,
     "metadata": {},
     "output_type": "execute_result"
    },
    {
     "data": {
      "image/png": "[encoded data removed]",
      "text/plain": [
       "<Figure size 540x360 with 1 Axes>"
      ]
     },
     "metadata": {
      "needs_background": "light"
     },
     "output_type": "display_data"
    }
   ],
   "source": [
    "# Education Bar Chart\n",
    "fg_edu = sns.catplot('edu', data=credit, kind='count', aspect=1.5)\n",
    "fg_edu.set_xlabels('Education Level')"
   ]
  },
  {
   "cell_type": "markdown",
   "metadata": {},
   "source": [
    "- There's not a lot of 3s (high school) and minimal 4s (other)\n",
    "- Most of the customers went to university, the second most went to graduate school\n",
    "- Furthermore, I don't know what 4 refers to. Per the documentation, there were initially 6 categories. I condensed 3 of them into one 'other' variable, which is minimally present in the data. "
   ]
  },
  {
   "cell_type": "markdown",
   "metadata": {},
   "source": [
    "### Marriage"
   ]
  },
  {
   "cell_type": "code",
   "execution_count": 40,
   "metadata": {},
   "outputs": [
    {
     "data": {
      "text/html": [
       "<div>\n",
       "<style scoped>\n",
       "    .dataframe tbody tr th:only-of-type {\n",
       "        vertical-align: middle;\n",
       "    }\n",
       "\n",
       "    .dataframe tbody tr th {\n",
       "        vertical-align: top;\n",
       "    }\n",
       "\n",
       "    .dataframe thead th {\n",
       "        text-align: right;\n",
       "    }\n",
       "</style>\n",
       "<table border=\"1\" class=\"dataframe\">\n",
       "  <thead>\n",
       "    <tr style=\"text-align: right;\">\n",
       "      <th>col_0</th>\n",
       "      <th>marriage</th>\n",
       "    </tr>\n",
       "    <tr>\n",
       "      <th>marriage</th>\n",
       "      <th></th>\n",
       "    </tr>\n",
       "  </thead>\n",
       "  <tbody>\n",
       "    <tr>\n",
       "      <td>0</td>\n",
       "      <td>54</td>\n",
       "    </tr>\n",
       "    <tr>\n",
       "      <td>1</td>\n",
       "      <td>13659</td>\n",
       "    </tr>\n",
       "    <tr>\n",
       "      <td>2</td>\n",
       "      <td>15964</td>\n",
       "    </tr>\n",
       "    <tr>\n",
       "      <td>3</td>\n",
       "      <td>323</td>\n",
       "    </tr>\n",
       "  </tbody>\n",
       "</table>\n",
       "</div>"
      ],
      "text/plain": [
       "col_0     marriage\n",
       "marriage          \n",
       "0               54\n",
       "1            13659\n",
       "2            15964\n",
       "3              323"
      ]
     },
     "execution_count": 40,
     "metadata": {},
     "output_type": "execute_result"
    },
    {
     "data": {
      "text/html": [
       "<div>\n",
       "<style scoped>\n",
       "    .dataframe tbody tr th:only-of-type {\n",
       "        vertical-align: middle;\n",
       "    }\n",
       "\n",
       "    .dataframe tbody tr th {\n",
       "        vertical-align: top;\n",
       "    }\n",
       "\n",
       "    .dataframe thead th {\n",
       "        text-align: right;\n",
       "    }\n",
       "</style>\n",
       "<table border=\"1\" class=\"dataframe\">\n",
       "  <thead>\n",
       "    <tr style=\"text-align: right;\">\n",
       "      <th>col_0</th>\n",
       "      <th>marriage</th>\n",
       "    </tr>\n",
       "    <tr>\n",
       "      <th>marriage</th>\n",
       "      <th></th>\n",
       "    </tr>\n",
       "  </thead>\n",
       "  <tbody>\n",
       "    <tr>\n",
       "      <td>0</td>\n",
       "      <td>0.001800</td>\n",
       "    </tr>\n",
       "    <tr>\n",
       "      <td>1</td>\n",
       "      <td>0.455300</td>\n",
       "    </tr>\n",
       "    <tr>\n",
       "      <td>2</td>\n",
       "      <td>0.532133</td>\n",
       "    </tr>\n",
       "    <tr>\n",
       "      <td>3</td>\n",
       "      <td>0.010767</td>\n",
       "    </tr>\n",
       "  </tbody>\n",
       "</table>\n",
       "</div>"
      ],
      "text/plain": [
       "col_0     marriage\n",
       "marriage          \n",
       "0         0.001800\n",
       "1         0.455300\n",
       "2         0.532133\n",
       "3         0.010767"
      ]
     },
     "execution_count": 40,
     "metadata": {},
     "output_type": "execute_result"
    }
   ],
   "source": [
    "# Marriage Frequency Table\n",
    "my_tab = pd.crosstab(index=credit[\"marriage\"],  # Make a crosstab\n",
    "                              columns=\"marriage\")      # Name the count column\n",
    "my_tab_percent = my_tab/my_tab.sum()\n",
    "my_tab\n",
    "my_tab_percent "
   ]
  },
  {
   "cell_type": "code",
   "execution_count": 40,
   "metadata": {},
   "outputs": [
    {
     "data": {
      "text/plain": [
       "<seaborn.axisgrid.FacetGrid at 0x1a18b88890>"
      ]
     },
     "execution_count": 40,
     "metadata": {},
     "output_type": "execute_result"
    },
    {
     "data": {
      "image/png": "[encoded data removed]",
      "text/plain": [
       "<Figure size 540x360 with 1 Axes>"
      ]
     },
     "metadata": {
      "needs_background": "light"
     },
     "output_type": "display_data"
    }
   ],
   "source": [
    "# Marriage Bar Chart\n",
    "\n",
    "fg = sns.catplot('marriage', data=credit, kind='count', aspect=1.5)\n",
    "fg.set_xlabels('Relationship Status')"
   ]
  },
  {
   "cell_type": "markdown",
   "metadata": {},
   "source": [
    "Our customers are either 1s (married) or 2s(single). We have very few 3s (divorced) and 0s (other). This an almost 1:1 ratio between married and single. "
   ]
  },
  {
   "cell_type": "markdown",
   "metadata": {},
   "source": [
    "### Payment Histories\n",
    "\n",
    "Key: \n",
    " - -2 = No consumption \n",
    " - -1 = Paid in full \n",
    " - 0 = The use of revolving credit \n",
    " - 1 = payment delay for one month \n",
    " - 2 = payment delay for two months \n",
    " - 3 = payment delay for three months \n",
    " - 4 = payment delay for four months \n",
    " - 5 = payment delay for five months \n",
    " - 6 = payment delay for six months \n",
    " - 7 = payment delay for seven months \n",
    " - 8 = payment delay for eight months \n",
    " - 9 = payment delay for nine months and above."
   ]
  },
  {
   "cell_type": "code",
   "execution_count": 42,
   "metadata": {
    "scrolled": false
   },
   "outputs": [
    {
     "data": {
      "text/html": [
       "<div>\n",
       "<style scoped>\n",
       "    .dataframe tbody tr th:only-of-type {\n",
       "        vertical-align: middle;\n",
       "    }\n",
       "\n",
       "    .dataframe tbody tr th {\n",
       "        vertical-align: top;\n",
       "    }\n",
       "\n",
       "    .dataframe thead th {\n",
       "        text-align: right;\n",
       "    }\n",
       "</style>\n",
       "<table border=\"1\" class=\"dataframe\">\n",
       "  <thead>\n",
       "    <tr style=\"text-align: right;\">\n",
       "      <th></th>\n",
       "      <th>pay1</th>\n",
       "      <th>pay2</th>\n",
       "      <th>pay3</th>\n",
       "      <th>pay4</th>\n",
       "      <th>pay5</th>\n",
       "      <th>pay6</th>\n",
       "    </tr>\n",
       "  </thead>\n",
       "  <tbody>\n",
       "    <tr>\n",
       "      <td>count</td>\n",
       "      <td>11.000000</td>\n",
       "      <td>11.000000</td>\n",
       "      <td>11.000000</td>\n",
       "      <td>11.000000</td>\n",
       "      <td>10.000000</td>\n",
       "      <td>10.00000</td>\n",
       "    </tr>\n",
       "    <tr>\n",
       "      <td>mean</td>\n",
       "      <td>2727.272727</td>\n",
       "      <td>2727.272727</td>\n",
       "      <td>2727.272727</td>\n",
       "      <td>2727.272727</td>\n",
       "      <td>3000.000000</td>\n",
       "      <td>3000.00000</td>\n",
       "    </tr>\n",
       "    <tr>\n",
       "      <td>std</td>\n",
       "      <td>4428.640832</td>\n",
       "      <td>4817.261693</td>\n",
       "      <td>4829.932134</td>\n",
       "      <td>5002.169331</td>\n",
       "      <td>5327.973682</td>\n",
       "      <td>5162.17099</td>\n",
       "    </tr>\n",
       "    <tr>\n",
       "      <td>min</td>\n",
       "      <td>9.000000</td>\n",
       "      <td>1.000000</td>\n",
       "      <td>3.000000</td>\n",
       "      <td>2.000000</td>\n",
       "      <td>1.000000</td>\n",
       "      <td>2.00000</td>\n",
       "    </tr>\n",
       "    <tr>\n",
       "      <td>25%</td>\n",
       "      <td>22.500000</td>\n",
       "      <td>22.500000</td>\n",
       "      <td>22.000000</td>\n",
       "      <td>20.000000</td>\n",
       "      <td>27.250000</td>\n",
       "      <td>25.75000</td>\n",
       "    </tr>\n",
       "    <tr>\n",
       "      <td>50%</td>\n",
       "      <td>322.000000</td>\n",
       "      <td>99.000000</td>\n",
       "      <td>76.000000</td>\n",
       "      <td>69.000000</td>\n",
       "      <td>131.000000</td>\n",
       "      <td>116.50000</td>\n",
       "    </tr>\n",
       "    <tr>\n",
       "      <td>75%</td>\n",
       "      <td>3223.500000</td>\n",
       "      <td>3854.500000</td>\n",
       "      <td>3952.000000</td>\n",
       "      <td>3753.500000</td>\n",
       "      <td>4066.000000</td>\n",
       "      <td>4362.75000</td>\n",
       "    </tr>\n",
       "    <tr>\n",
       "      <td>max</td>\n",
       "      <td>14737.000000</td>\n",
       "      <td>15730.000000</td>\n",
       "      <td>15764.000000</td>\n",
       "      <td>16455.000000</td>\n",
       "      <td>16947.000000</td>\n",
       "      <td>16286.00000</td>\n",
       "    </tr>\n",
       "  </tbody>\n",
       "</table>\n",
       "</div>"
      ],
      "text/plain": [
       "               pay1          pay2          pay3          pay4          pay5  \\\n",
       "count     11.000000     11.000000     11.000000     11.000000     10.000000   \n",
       "mean    2727.272727   2727.272727   2727.272727   2727.272727   3000.000000   \n",
       "std     4428.640832   4817.261693   4829.932134   5002.169331   5327.973682   \n",
       "min        9.000000      1.000000      3.000000      2.000000      1.000000   \n",
       "25%       22.500000     22.500000     22.000000     20.000000     27.250000   \n",
       "50%      322.000000     99.000000     76.000000     69.000000    131.000000   \n",
       "75%     3223.500000   3854.500000   3952.000000   3753.500000   4066.000000   \n",
       "max    14737.000000  15730.000000  15764.000000  16455.000000  16947.000000   \n",
       "\n",
       "              pay6  \n",
       "count     10.00000  \n",
       "mean    3000.00000  \n",
       "std     5162.17099  \n",
       "min        2.00000  \n",
       "25%       25.75000  \n",
       "50%      116.50000  \n",
       "75%     4362.75000  \n",
       "max    16286.00000  "
      ]
     },
     "execution_count": 42,
     "metadata": {},
     "output_type": "execute_result"
    },
    {
     "name": "stdout",
     "output_type": "stream",
     "text": [
      "     pay1   pay2   pay3   pay4     pay5     pay6\n",
      "-2   2759   3782   4085   4348   4546.0   4895.0\n",
      "-1   5686   6050   5938   5687   5539.0   5740.0\n",
      " 0  14737  15730  15764  16455  16947.0  16286.0\n",
      " 1   3688     28      4      2      NaN      NaN\n",
      " 2   2667   3927   3819   3159   2626.0   2766.0\n",
      " 3    322    326    240    180    178.0    184.0\n",
      " 4     76     99     76     69     84.0     49.0\n",
      " 5     26     25     21     35     17.0     13.0\n",
      " 6     11     12     23      5      4.0     19.0\n",
      " 7      9     20     27     58     58.0     46.0\n",
      " 8     19      1      3      2      1.0      2.0\n"
     ]
    }
   ],
   "source": [
    "# Payment Histories Frequency Table\n",
    "pay_hist=credit[['pay1','pay2','pay3','pay4', 'pay5','pay6']]\n",
    "pay_hist_counts = pay_hist.apply(lambda x: x.value_counts())\n",
    "pay_hist_counts.describe()\n",
    "print(pay_hist_counts)"
   ]
  },
  {
   "cell_type": "code",
   "execution_count": 43,
   "metadata": {},
   "outputs": [
    {
     "data": {
      "text/plain": [
       "<matplotlib.axes._subplots.AxesSubplot at 0x1a21400f10>"
      ]
     },
     "execution_count": 43,
     "metadata": {},
     "output_type": "execute_result"
    },
    {
     "data": {
      "image/png": "[encoded data removed]",
      "text/plain": [
       "<Figure size 432x288 with 1 Axes>"
      ]
     },
     "metadata": {
      "needs_background": "light"
     },
     "output_type": "display_data"
    }
   ],
   "source": [
    "# payment history barchart , payment types stacked by payment month\n",
    "pay_hist_counts.plot(ax=plt.figure().add_subplot(111),kind='bar',stacked=True,rot=0)\n",
    "\n",
    "# source: https://stackoverflow.com/questions/50082440/python-stacked-bar-chart-using-categorical-data"
   ]
  },
  {
   "cell_type": "code",
   "execution_count": 44,
   "metadata": {},
   "outputs": [
    {
     "data": {
      "text/plain": [
       "<matplotlib.axes._subplots.AxesSubplot at 0x1a2100d7d0>"
      ]
     },
     "execution_count": 44,
     "metadata": {},
     "output_type": "execute_result"
    },
    {
     "data": {
      "image/png": "[encoded data removed]",
      "text/plain": [
       "<Figure size 432x288 with 1 Axes>"
      ]
     },
     "metadata": {
      "needs_background": "light"
     },
     "output_type": "display_data"
    }
   ],
   "source": [
    "# payment history barchart , payment months stacked by payment types\n",
    "## note to self: when time allows, figure out how to move legend to the right, after column 6. \n",
    "pay_hist_counts.transpose().plot(ax=plt.figure().add_subplot(111),kind='bar',stacked=True,rot=0)"
   ]
  },
  {
   "cell_type": "markdown",
   "metadata": {},
   "source": [
    "Most of the customers pay with revolving credit, like regular credit cards. Per the documentation, level 9 is for customers who have not paid for 9 months or longer; yet, there are no values equal to 9 in the payment histories columns. Despite this, there are customers who defaulted. As indicated in the intitial presentation, when exactly do customers default? Is it after 9 months? If so, the data should have more payment histories in order to visually see this. Likewise, when do custoers start their loans? I would like more information about this dataset, with dates. \n",
    "\n",
    "1 refers to a payment delay of 1 month. Why does pay1, or September 2005, have more 1s while the previous months have almost none or none (April and May). I can't answer why but I will keep this in mind as I build the models. "
   ]
  },
  {
   "cell_type": "markdown",
   "metadata": {},
   "source": [
    "### Default"
   ]
  },
  {
   "cell_type": "code",
   "execution_count": 41,
   "metadata": {},
   "outputs": [
    {
     "data": {
      "text/html": [
       "<div>\n",
       "<style scoped>\n",
       "    .dataframe tbody tr th:only-of-type {\n",
       "        vertical-align: middle;\n",
       "    }\n",
       "\n",
       "    .dataframe tbody tr th {\n",
       "        vertical-align: top;\n",
       "    }\n",
       "\n",
       "    .dataframe thead th {\n",
       "        text-align: right;\n",
       "    }\n",
       "</style>\n",
       "<table border=\"1\" class=\"dataframe\">\n",
       "  <thead>\n",
       "    <tr style=\"text-align: right;\">\n",
       "      <th>col_0</th>\n",
       "      <th>default</th>\n",
       "    </tr>\n",
       "    <tr>\n",
       "      <th>default</th>\n",
       "      <th></th>\n",
       "    </tr>\n",
       "  </thead>\n",
       "  <tbody>\n",
       "    <tr>\n",
       "      <td>0</td>\n",
       "      <td>23364</td>\n",
       "    </tr>\n",
       "    <tr>\n",
       "      <td>1</td>\n",
       "      <td>6636</td>\n",
       "    </tr>\n",
       "  </tbody>\n",
       "</table>\n",
       "</div>"
      ],
      "text/plain": [
       "col_0    default\n",
       "default         \n",
       "0          23364\n",
       "1           6636"
      ]
     },
     "execution_count": 41,
     "metadata": {},
     "output_type": "execute_result"
    },
    {
     "data": {
      "text/html": [
       "<div>\n",
       "<style scoped>\n",
       "    .dataframe tbody tr th:only-of-type {\n",
       "        vertical-align: middle;\n",
       "    }\n",
       "\n",
       "    .dataframe tbody tr th {\n",
       "        vertical-align: top;\n",
       "    }\n",
       "\n",
       "    .dataframe thead th {\n",
       "        text-align: right;\n",
       "    }\n",
       "</style>\n",
       "<table border=\"1\" class=\"dataframe\">\n",
       "  <thead>\n",
       "    <tr style=\"text-align: right;\">\n",
       "      <th>col_0</th>\n",
       "      <th>default</th>\n",
       "    </tr>\n",
       "    <tr>\n",
       "      <th>default</th>\n",
       "      <th></th>\n",
       "    </tr>\n",
       "  </thead>\n",
       "  <tbody>\n",
       "    <tr>\n",
       "      <td>0</td>\n",
       "      <td>0.7788</td>\n",
       "    </tr>\n",
       "    <tr>\n",
       "      <td>1</td>\n",
       "      <td>0.2212</td>\n",
       "    </tr>\n",
       "  </tbody>\n",
       "</table>\n",
       "</div>"
      ],
      "text/plain": [
       "col_0    default\n",
       "default         \n",
       "0         0.7788\n",
       "1         0.2212"
      ]
     },
     "execution_count": 41,
     "metadata": {},
     "output_type": "execute_result"
    }
   ],
   "source": [
    "# Default Frequency Table\n",
    "my_tab = pd.crosstab(index=credit[\"default\"],  # Make a crosstab\n",
    "                              columns=\"default\")      # Name the count column\n",
    "my_tab_percent = my_tab/my_tab.sum()\n",
    "my_tab\n",
    "my_tab_percent "
   ]
  },
  {
   "cell_type": "code",
   "execution_count": 47,
   "metadata": {},
   "outputs": [
    {
     "data": {
      "text/plain": [
       "<seaborn.axisgrid.FacetGrid at 0x1a1f191150>"
      ]
     },
     "execution_count": 47,
     "metadata": {},
     "output_type": "execute_result"
    },
    {
     "data": {
      "image/png": "[encoded data removed]",
      "text/plain": [
       "<Figure size 540x360 with 1 Axes>"
      ]
     },
     "metadata": {
      "needs_background": "light"
     },
     "output_type": "display_data"
    }
   ],
   "source": [
    "# Default Bar Chartfg_default = sns.catplot('default', data=credit, kind='count', aspect=1.5)\n",
    "fg_default = sns.catplot('default', data=credit, kind='count', aspect=1.5)\n",
    "fg_default.set_xlabels('Default')"
   ]
  },
  {
   "cell_type": "markdown",
   "metadata": {},
   "source": [
    "Most customers did not default. In our dataset, only 22% of our customers defaulted. This is a class imbalance issue, with a ratio of approximately 3.5 to 1, even though it is natural to our dataset. "
   ]
  },
  {
   "cell_type": "markdown",
   "metadata": {},
   "source": [
    "# Dimensionality Reduction\n",
    "\n",
    "There are just too many variables to explore and visualize all possible relationships. We will reduce this problem by looking for ,ulticollinearity and near zero variance. I will consider transforming variables as necessary as well. "
   ]
  },
  {
   "cell_type": "markdown",
   "metadata": {},
   "source": [
    "## Multicollinearity"
   ]
  },
  {
   "cell_type": "code",
   "execution_count": 44,
   "metadata": {},
   "outputs": [
    {
     "name": "stdout",
     "output_type": "stream",
     "text": [
      "             id     limit       age     bill1     bill2     bill3     bill4  \\\n",
      "id     1.000000  0.026179  0.018678  0.019389  0.017982  0.024354  0.040351   \n",
      "limit  0.026179  1.000000  0.144713  0.285430  0.278314  0.283236  0.293988   \n",
      "age    0.018678  0.144713  1.000000  0.056239  0.054283  0.053710  0.051353   \n",
      "bill1  0.019389  0.285430  0.056239  1.000000  0.951484  0.892279  0.860272   \n",
      "bill2  0.017982  0.278314  0.054283  0.951484  1.000000  0.928326  0.892482   \n",
      "bill3  0.024354  0.283236  0.053710  0.892279  0.928326  1.000000  0.923969   \n",
      "bill4  0.040351  0.293988  0.051353  0.860272  0.892482  0.923969  1.000000   \n",
      "bill5  0.016705  0.295562  0.049345  0.829779  0.859778  0.883910  0.940134   \n",
      "bill6  0.016730  0.290389  0.047613  0.802650  0.831594  0.853320  0.900941   \n",
      "paid1  0.009742  0.195236  0.026147  0.140277  0.280365  0.244335  0.233012   \n",
      "paid2  0.008406  0.178408  0.021785  0.099355  0.100851  0.316936  0.207564   \n",
      "paid3  0.039151  0.210167  0.029247  0.156887  0.150718  0.130011  0.300023   \n",
      "paid4  0.007793  0.203242  0.021379  0.158303  0.147398  0.143405  0.130191   \n",
      "paid5  0.000652  0.217202  0.022850  0.167026  0.157957  0.179712  0.160433   \n",
      "paid6  0.003000  0.219595  0.019478  0.179341  0.174256  0.182326  0.177637   \n",
      "\n",
      "          bill5     bill6     paid1     paid2     paid3     paid4     paid5  \\\n",
      "id     0.016705  0.016730  0.009742  0.008406  0.039151  0.007793  0.000652   \n",
      "limit  0.295562  0.290389  0.195236  0.178408  0.210167  0.203242  0.217202   \n",
      "age    0.049345  0.047613  0.026147  0.021785  0.029247  0.021379  0.022850   \n",
      "bill1  0.829779  0.802650  0.140277  0.099355  0.156887  0.158303  0.167026   \n",
      "bill2  0.859778  0.831594  0.280365  0.100851  0.150718  0.147398  0.157957   \n",
      "bill3  0.883910  0.853320  0.244335  0.316936  0.130011  0.143405  0.179712   \n",
      "bill4  0.940134  0.900941  0.233012  0.207564  0.300023  0.130191  0.160433   \n",
      "bill5  1.000000  0.946197  0.217031  0.181246  0.252305  0.293118  0.141574   \n",
      "bill6  0.946197  1.000000  0.199965  0.172663  0.233770  0.250237  0.307729   \n",
      "paid1  0.217031  0.199965  1.000000  0.285576  0.252191  0.199558  0.148459   \n",
      "paid2  0.181246  0.172663  0.285576  1.000000  0.244770  0.180107  0.180908   \n",
      "paid3  0.252305  0.233770  0.252191  0.244770  1.000000  0.216325  0.159214   \n",
      "paid4  0.293118  0.250237  0.199558  0.180107  0.216325  1.000000  0.151830   \n",
      "paid5  0.141574  0.307729  0.148459  0.180908  0.159214  0.151830  1.000000   \n",
      "paid6  0.164184  0.115494  0.185735  0.157634  0.162740  0.157834  0.154896   \n",
      "\n",
      "          paid6  \n",
      "id     0.003000  \n",
      "limit  0.219595  \n",
      "age    0.019478  \n",
      "bill1  0.179341  \n",
      "bill2  0.174256  \n",
      "bill3  0.182326  \n",
      "bill4  0.177637  \n",
      "bill5  0.164184  \n",
      "bill6  0.115494  \n",
      "paid1  0.185735  \n",
      "paid2  0.157634  \n",
      "paid3  0.162740  \n",
      "paid4  0.157834  \n",
      "paid5  0.154896  \n",
      "paid6  1.000000  \n"
     ]
    }
   ],
   "source": [
    "corrMat = credit.corr()\n",
    "print(corrMat)"
   ]
  },
  {
   "cell_type": "markdown",
   "metadata": {},
   "source": [
    "Bill amounts are highly correlated with each other (.80 and higher). I had thought that bill amounts and paid amounts would correlate but they don't. Interestingly, paid amounts are not highly correlated amongst each other. \n",
    "Therefore, I will focus on bill1 through bill6 to reduce dimensionality. First, I will visualize the relationship between bill amounts and default, and then consider keeping bills, removing bills, or condensing bills into one variable."
   ]
  },
  {
   "cell_type": "markdown",
   "metadata": {},
   "source": [
    "## Variance"
   ]
  },
  {
   "cell_type": "code",
   "execution_count": 45,
   "metadata": {},
   "outputs": [
    {
     "name": "stdout",
     "output_type": "stream",
     "text": [
      "                 id         limit            age         bill1         bill2  \\\n",
      "id     7.500250e+07  2.941664e+07    1491.057019  1.236447e+07  1.108392e+07   \n",
      "limit  2.941664e+07  1.683446e+10  173076.722569  2.727020e+09  2.570130e+09   \n",
      "age    1.491057e+03  1.730767e+05      84.969755  3.817293e+04  3.561366e+04   \n",
      "bill1  1.236447e+07  2.727020e+09   38172.933546  5.422240e+09  4.986670e+09   \n",
      "bill2  1.108392e+07  2.570130e+09   35613.657962  4.986670e+09  5.065705e+09   \n",
      "bill3  1.462688e+07  2.548533e+09   34334.251320  4.556511e+09  4.582086e+09   \n",
      "bill4  2.248126e+07  2.453926e+09   30453.108180  4.075286e+09  4.086508e+09   \n",
      "bill5  8.795803e+06  2.331481e+09   27654.067800  3.714795e+09  3.720401e+09   \n",
      "bill6  8.628506e+06  2.243837e+09   26137.648547  3.519876e+09  3.524868e+09   \n",
      "paid1  1.397501e+06  4.195711e+08    3992.041735  1.710894e+08  3.305146e+08   \n",
      "paid2  1.677383e+06  5.333504e+08    4626.861549  1.685692e+08  1.653859e+08   \n",
      "paid3  5.969803e+06  4.801180e+08    4746.824393  2.034048e+08  1.888731e+08   \n",
      "paid4  1.057334e+06  4.131202e+08    3087.324192  1.826164e+08  1.643518e+08   \n",
      "paid5  8.629502e+04  4.305657e+08    3218.052172  1.879091e+08  1.717652e+08   \n",
      "paid6  4.618460e+05  5.065153e+08    3191.903901  2.347681e+08  2.204845e+08   \n",
      "\n",
      "              bill3         bill4         bill5         bill6         paid1  \\\n",
      "id     1.462688e+07  2.248126e+07  8.795803e+06  8.628506e+06  1.397501e+06   \n",
      "limit  2.548533e+09  2.453926e+09  2.331481e+09  2.243837e+09  4.195711e+08   \n",
      "age    3.433425e+04  3.045311e+04  2.765407e+04  2.613765e+04  3.992042e+03   \n",
      "bill1  4.556511e+09  4.075286e+09  3.714795e+09  3.519876e+09  1.710894e+08   \n",
      "bill2  4.582086e+09  4.086508e+09  3.720401e+09  3.524868e+09  3.305146e+08   \n",
      "bill3  4.809338e+09  4.122238e+09  3.726780e+09  3.524247e+09  2.806565e+08   \n",
      "bill4  4.122238e+09  4.138716e+09  3.677105e+09  3.451762e+09  2.482888e+08   \n",
      "bill5  3.726780e+09  3.677105e+09  3.696294e+09  3.425914e+09  2.185501e+08   \n",
      "bill6  3.524247e+09  3.451762e+09  3.425914e+09  3.546692e+09  1.972478e+08   \n",
      "paid1  2.806565e+08  2.482888e+08  2.185501e+08  1.972478e+08  2.743423e+08   \n",
      "paid2  5.064226e+08  3.076686e+08  2.538936e+08  2.369244e+08  1.089849e+08   \n",
      "paid3  1.587478e+08  3.398374e+08  2.700805e+08  2.451233e+08  7.354626e+07   \n",
      "paid4  1.558003e+08  1.312133e+08  2.791830e+08  2.334670e+08  5.178189e+07   \n",
      "paid5  1.904126e+08  1.576892e+08  1.315051e+08  2.799982e+08  3.756893e+07   \n",
      "paid6  2.247817e+08  2.031590e+08  1.774537e+08  1.222761e+08  5.469033e+07   \n",
      "\n",
      "              paid2         paid3         paid4         paid5         paid6  \n",
      "id     1.677383e+06  5.969803e+06  1.057334e+06  8.629502e+04  4.618460e+05  \n",
      "limit  5.333504e+08  4.801180e+08  4.131202e+08  4.305657e+08  5.065153e+08  \n",
      "age    4.626862e+03  4.746824e+03  3.087324e+03  3.218052e+03  3.191904e+03  \n",
      "bill1  1.685692e+08  2.034048e+08  1.826164e+08  1.879091e+08  2.347681e+08  \n",
      "bill2  1.653859e+08  1.888731e+08  1.643518e+08  1.717652e+08  2.204845e+08  \n",
      "bill3  5.064226e+08  1.587478e+08  1.558003e+08  1.904126e+08  2.247817e+08  \n",
      "bill4  3.076686e+08  3.398374e+08  1.312133e+08  1.576892e+08  2.031590e+08  \n",
      "bill5  2.538936e+08  2.700805e+08  2.791830e+08  1.315051e+08  1.774537e+08  \n",
      "bill6  2.369244e+08  2.451233e+08  2.334670e+08  2.799982e+08  1.222761e+08  \n",
      "paid1  1.089849e+08  7.354626e+07  5.178189e+07  3.756893e+07  5.469033e+07  \n",
      "paid2  5.308817e+08  9.929841e+07  6.501168e+07  6.368414e+07  6.456816e+07  \n",
      "paid3  9.929841e+07  3.100051e+08  5.966970e+07  4.282921e+07  5.093879e+07  \n",
      "paid4  6.501168e+07  5.966970e+07  2.454286e+08  3.634098e+07  4.395747e+07  \n",
      "paid5  6.368414e+07  4.282921e+07  3.634098e+07  2.334266e+08  4.207110e+07  \n",
      "paid6  6.456816e+07  5.093879e+07  4.395747e+07  4.207110e+07  3.160383e+08  \n"
     ]
    }
   ],
   "source": [
    "# Covariance: understand the strength of relationships between any two variables\n",
    "\n",
    "covMat = credit.cov()\n",
    "print(covMat)"
   ]
  },
  {
   "cell_type": "code",
   "execution_count": 46,
   "metadata": {},
   "outputs": [
    {
     "data": {
      "text/plain": [
       "VarianceThreshold(threshold=0.15999999999999998)"
      ]
     },
     "execution_count": 46,
     "metadata": {},
     "output_type": "execute_result"
    },
    {
     "name": "stdout",
     "output_type": "stream",
     "text": [
      "[ 0  1  2  3  4  5  6  7  8  9 10 11 12 13 14 15 16 17 18 19 20 21 22 23\n",
      " 24]\n"
     ]
    }
   ],
   "source": [
    "selector = VarianceThreshold(threshold=(.8 * (1 - .8)))\n",
    "#col_to_remove = sel.fit_transform(credit)\n",
    "\n",
    "selector.fit(credit)\n",
    "mask = selector.get_support(indices=True)\n",
    "print(mask)\n",
    "# Source: https://www.quora.com/How-do-we-know-which-features-are-being-eliminated-while-removing-them-with-the-variance-threshold-method-in-scikit-learn-The-command-sel-fit_transform-just-drops-features-but-doesnt-tell-us-which-features\n",
    "# Source: https://scikit-learn.org/stable/modules/feature_selection.html"
   ]
  },
  {
   "cell_type": "markdown",
   "metadata": {},
   "source": [
    "I tried adjusting the variance threshold at several levels from 90% to 50%. There is significant variance in all the predictors. This process is not helpful in dimension reduction. If I were bin the continuous monetary variables, perhaps I could discover low variances. For now, I will leave this as is and consider this step again if I need to improve my models."
   ]
  },
  {
   "cell_type": "markdown",
   "metadata": {},
   "source": [
    "# Multivariate Analysis"
   ]
  },
  {
   "cell_type": "code",
   "execution_count": 56,
   "metadata": {},
   "outputs": [],
   "source": [
    "# only prints last output\n",
    "InteractiveShell.ast_node_interactivity = \"last_expr\""
   ]
  },
  {
   "cell_type": "markdown",
   "metadata": {},
   "source": [
    "## Continuous Variables vs Target Variable\n",
    " - Continuous vs Categorical (Kernal Density Plots)\n",
    "     - Limit vs Default\n",
    "     - Age vs Default\n",
    "     - Bill vs Default\n",
    "     - Payment Amount vs Default"
   ]
  },
  {
   "cell_type": "markdown",
   "metadata": {},
   "source": [
    "### Limit Balance  vs Default"
   ]
  },
  {
   "cell_type": "code",
   "execution_count": 57,
   "metadata": {},
   "outputs": [
    {
     "data": {
      "text/plain": [
       "<seaborn.axisgrid.FacetGrid at 0x1a18908750>"
      ]
     },
     "execution_count": 57,
     "metadata": {},
     "output_type": "execute_result"
    },
    {
     "data": {
      "image/png": "[encoded data removed]",
      "text/plain": [
       "<Figure size 907.375x216 with 1 Axes>"
      ]
     },
     "metadata": {
      "needs_background": "light"
     },
     "output_type": "display_data"
    }
   ],
   "source": [
    "# Limit vs Default\n",
    "fig = sns.FacetGrid(credit, hue='default', aspect=4)\n",
    "fig.map(sns.kdeplot, 'limit', shade=True)\n",
    "oldest = credit['limit'].max()\n",
    "fig.set(xlim=(0,oldest))\n",
    "fig.set(title='Distribution of Limit Balance by Default')\n",
    "fig.add_legend()"
   ]
  },
  {
   "cell_type": "markdown",
   "metadata": {},
   "source": [
    "### Age   vs Default"
   ]
  },
  {
   "cell_type": "code",
   "execution_count": 58,
   "metadata": {},
   "outputs": [
    {
     "data": {
      "text/plain": [
       "<seaborn.axisgrid.FacetGrid at 0x1a1c336450>"
      ]
     },
     "execution_count": 58,
     "metadata": {},
     "output_type": "execute_result"
    },
    {
     "data": {
      "image/png": "[encoded data removed]",
      "text/plain": [
       "<Figure size 907.375x216 with 1 Axes>"
      ]
     },
     "metadata": {
      "needs_background": "light"
     },
     "output_type": "display_data"
    }
   ],
   "source": [
    "# Age vs Default\n",
    "fig = sns.FacetGrid(credit, hue='default', aspect=4)\n",
    "fig.map(sns.kdeplot, 'age', shade=True)\n",
    "oldest = credit['age'].max()\n",
    "fig.set(xlim=(0,oldest))\n",
    "fig.set(title='Distribution of Age Grouped by Default')\n",
    "fig.add_legend()"
   ]
  },
  {
   "cell_type": "markdown",
   "metadata": {},
   "source": [
    "It looks like , the older a customer is, the less likely they will default. This still coincides with fewer of our customers being older, or, more of our customers are younger, in the 25-34 age group, specifically. "
   ]
  },
  {
   "cell_type": "markdown",
   "metadata": {},
   "source": [
    "ages 25 to late 30s are more likely to not default. This is an interesting visualization because it's easy to speculate that those who are in the late 20s to 30s will default the most, but, they're also the majority of the customer"
   ]
  },
  {
   "cell_type": "markdown",
   "metadata": {},
   "source": [
    "### Bill Amounts  vs Default"
   ]
  },
  {
   "cell_type": "code",
   "execution_count": 59,
   "metadata": {},
   "outputs": [],
   "source": [
    "# Create dataframe will bill month as one variable and bill amount as it's value variable\n",
    "credit_melt_bills = pd.melt(frame=credit, id_vars = 'default', value_vars = ['bill1','bill2','bill3','bill4','bill5','bill6'], var_name = 'billMonth', value_name = 'billAmount')"
   ]
  },
  {
   "cell_type": "code",
   "execution_count": 60,
   "metadata": {},
   "outputs": [
    {
     "data": {
      "text/plain": [
       "<seaborn.axisgrid.FacetGrid at 0x1a1b01ef90>"
      ]
     },
     "execution_count": 60,
     "metadata": {},
     "output_type": "execute_result"
    },
    {
     "data": {
      "image/png": "[encoded data removed]",
      "text/plain": [
       "<Figure size 360x360 with 1 Axes>"
      ]
     },
     "metadata": {
      "needs_background": "light"
     },
     "output_type": "display_data"
    }
   ],
   "source": [
    "# Monthly Bill Amount, separated by Default, with Outliers\n",
    "g = sns.catplot(x=\"billMonth\", y=\"billAmount\", data =credit_melt_bills, kind = \"box\",order=['bill6','bill5','bill4','bill3','bill2','bill1'])\n",
    "g.fig.suptitle(\"Monthly Bill separted by Default Status\")\n",
    "g.set(xlabel=\"Bill Month\", \n",
    "      ylabel=\"Bill Amount\")\n",
    "g.set_xticklabels(['April','May','June','July','August    ','September']) # quick trick on spacing, find better way to visually separate August and September\n"
   ]
  },
  {
   "cell_type": "code",
   "execution_count": 61,
   "metadata": {},
   "outputs": [
    {
     "data": {
      "text/plain": [
       "<seaborn.axisgrid.FacetGrid at 0x1a1c307d90>"
      ]
     },
     "execution_count": 61,
     "metadata": {},
     "output_type": "execute_result"
    },
    {
     "data": {
      "image/png": "[encoded data removed]",
      "text/plain": [
       "<Figure size 403.375x360 with 1 Axes>"
      ]
     },
     "metadata": {
      "needs_background": "light"
     },
     "output_type": "display_data"
    }
   ],
   "source": [
    "# Monthly Bill Amount, separated by Default, No Outliers\n",
    "g = sns.catplot(x=\"billMonth\", y=\"billAmount\", data =credit_melt_bills, kind = \"box\", sym=\"\", hue = \"default\",order=['bill6','bill5','bill4','bill3','bill2','bill1'])\n",
    "g.fig.suptitle(\"Monthly Bill separted by Default Status\")\n",
    "g.set(xlabel=\"Bill Month\", \n",
    "      ylabel=\"Bill Amount\")\n",
    "g.set_xticklabels(['April','May','June','July','August    ','September']) # quick trick on spacing, find better way to visually separate August and September\n"
   ]
  },
  {
   "cell_type": "markdown",
   "metadata": {},
   "source": [
    "### Monthly Payments  vs Default"
   ]
  },
  {
   "cell_type": "code",
   "execution_count": 62,
   "metadata": {},
   "outputs": [],
   "source": [
    "# Create dataframe will bill month as one variable and bill amount as it's value variable\n",
    "credit_melt_payments = pd.melt(frame=credit, id_vars = 'default', value_vars = ['paid1','paid2','paid3','paid4','paid5','paid6'], var_name = 'paymentMonth', value_name = 'paymentAmount')"
   ]
  },
  {
   "cell_type": "code",
   "execution_count": 63,
   "metadata": {},
   "outputs": [
    {
     "data": {
      "text/plain": [
       "<seaborn.axisgrid.FacetGrid at 0x1a1c0d54d0>"
      ]
     },
     "execution_count": 63,
     "metadata": {},
     "output_type": "execute_result"
    },
    {
     "data": {
      "image/png": "[encoded data removed]",
      "text/plain": [
       "<Figure size 403.375x360 with 1 Axes>"
      ]
     },
     "metadata": {
      "needs_background": "light"
     },
     "output_type": "display_data"
    }
   ],
   "source": [
    "# Monthly Payment Amount, separated by Default, No Outliers\n",
    "g = sns.catplot(x=\"paymentMonth\", y=\"paymentAmount\", data =credit_melt_payments, kind = \"box\",order=['paid6','paid5','paid4','paid3','paid2','paid1'], sym=\"\", hue='default')\n",
    "g.fig.suptitle(\"Monthly Payments separted by Default Status\")\n",
    "g.set(xlabel=\"Payment Month\", \n",
    "      ylabel=\"Payment Amount\")\n",
    "g.set_xticklabels(['April','May','June','July','August    ','September']) # quick trick on spacing, find better way to visually separate August and September\n"
   ]
  },
  {
   "cell_type": "markdown",
   "metadata": {},
   "source": [
    "Payment amount is controlled by the customer and is more indicative of their behaviour than a variable like bill amount. The boxplot shows that customers who default tend to pay less monthly than customers who do not default.\n",
    "The above figure is with outliers removed per the IQR test. "
   ]
  },
  {
   "cell_type": "markdown",
   "metadata": {},
   "source": [
    "## Categorical Predictors vs Target Variable\n",
    "\n",
    " - Categorical vs Categorical\n",
    "     - Sex vs Default\n",
    "     - Edu vs Default\n",
    "     - Marriage vs Default\n",
    "     - Payment Status vs Default"
   ]
  },
  {
   "cell_type": "markdown",
   "metadata": {},
   "source": [
    "### Sex vs Default"
   ]
  },
  {
   "cell_type": "code",
   "execution_count": 64,
   "metadata": {},
   "outputs": [
    {
     "data": {
      "text/plain": [
       "<seaborn.axisgrid.FacetGrid at 0x1a1afd2b10>"
      ]
     },
     "execution_count": 64,
     "metadata": {},
     "output_type": "execute_result"
    },
    {
     "data": {
      "image/png": "[encoded data removed]",
      "text/plain": [
       "<Figure size 673.375x360 with 1 Axes>"
      ]
     },
     "metadata": {
      "needs_background": "light"
     },
     "output_type": "display_data"
    }
   ],
   "source": [
    "# Sex vs Default Chart\n",
    "fg_sexdefault = sns.catplot('sex', data=credit, hue='default', kind='count', aspect=1.75)\n",
    "fg_sexdefault.set_xlabels('1 = male, 2 = female')"
   ]
  },
  {
   "cell_type": "code",
   "execution_count": 65,
   "metadata": {},
   "outputs": [
    {
     "data": {
      "text/plain": [
       "sex  default\n",
       "1    0           9015\n",
       "     1           2873\n",
       "2    0          14349\n",
       "     1           3763\n",
       "Name: sex, dtype: int64"
      ]
     },
     "execution_count": 65,
     "metadata": {},
     "output_type": "execute_result"
    }
   ],
   "source": [
    "# sex and default counts\n",
    "credit.groupby(['sex', 'default'])['sex'].count()\n"
   ]
  },
  {
   "cell_type": "markdown",
   "metadata": {},
   "source": [
    "The percentage of men who defaulted is much larger than the percentage of woman who defaulted."
   ]
  },
  {
   "cell_type": "markdown",
   "metadata": {},
   "source": [
    "There is less of a disparaty between males and females that defaulted than in the 'did not default' group. \n",
    "\n",
    "Because of this, I suspect that being male may play more of a role in defaulting."
   ]
  },
  {
   "cell_type": "markdown",
   "metadata": {},
   "source": [
    "### Education vs Default"
   ]
  },
  {
   "cell_type": "code",
   "execution_count": 19,
   "metadata": {},
   "outputs": [
    {
     "data": {
      "image/png": "[encoded data removed]",
      "text/plain": [
       "<Figure size 673.375x360 with 1 Axes>"
      ]
     },
     "metadata": {
      "needs_background": "light"
     },
     "output_type": "display_data"
    }
   ],
   "source": [
    "# Education vs Default \n",
    "fg_edudefault = sns.catplot('edu', data=credit, hue='default', kind='count', aspect=1.75)"
   ]
  },
  {
   "cell_type": "code",
   "execution_count": 20,
   "metadata": {},
   "outputs": [
    {
     "data": {
      "image/png": "[encoded data removed]",
      "text/plain": [
       "<Figure size 432x288 with 1 Axes>"
      ]
     },
     "metadata": {
      "needs_background": "light"
     },
     "output_type": "display_data"
    }
   ],
   "source": [
    "\n",
    "\n",
    "total = float(len(credit)) # one person per row \n",
    "#ax = sns.barplot(x=\"class\", hue=\"who\", data=titanic)\n",
    "ax = sns.countplot(x=\"edu\", hue=\"default\", data=credit) # for Seaborn version 0.7 and more\n",
    "for p in ax.patches:\n",
    "    height = p.get_height()\n",
    "    ax.text(p.get_x()+p.get_width()/2.,\n",
    "            height + 3,\n",
    "            '{:1.2f}'.format(height/total),\n",
    "            ha=\"center\") \n",
    "plt.show()\n",
    "\n",
    "# source: https://stackoverflow.com/questions/31749448/how-to-add-percentages-on-top-of-bars-in-seaborn"
   ]
  },
  {
   "cell_type": "markdown",
   "metadata": {},
   "source": [
    "### Marriage vs Default"
   ]
  },
  {
   "cell_type": "code",
   "execution_count": 19,
   "metadata": {},
   "outputs": [
    {
     "data": {
      "image/png": "[encoded data removed]",
      "text/plain": [
       "<Figure size 673.375x360 with 1 Axes>"
      ]
     },
     "metadata": {
      "needs_background": "light"
     },
     "output_type": "display_data"
    }
   ],
   "source": [
    "# Education vs Default \n",
    "fg_edudefault = sns.catplot('edu', data=credit, hue='default', kind='count', aspect=1.75)"
   ]
  },
  {
   "cell_type": "code",
   "execution_count": 20,
   "metadata": {},
   "outputs": [
    {
     "data": {
      "image/png": "[encoded data removed]",
      "text/plain": [
       "<Figure size 432x288 with 1 Axes>"
      ]
     },
     "metadata": {
      "needs_background": "light"
     },
     "output_type": "display_data"
    }
   ],
   "source": [
    "\n",
    "\n",
    "total = float(len(credit)) # one person per row \n",
    "#ax = sns.barplot(x=\"class\", hue=\"who\", data=titanic)\n",
    "ax = sns.countplot(x=\"edu\", hue=\"default\", data=credit) # for Seaborn version 0.7 and more\n",
    "for p in ax.patches:\n",
    "    height = p.get_height()\n",
    "    ax.text(p.get_x()+p.get_width()/2.,\n",
    "            height + 3,\n",
    "            '{:1.2f}'.format(height/total),\n",
    "            ha=\"center\") \n",
    "plt.show()\n",
    "\n",
    "# source: https://stackoverflow.com/questions/31749448/how-to-add-percentages-on-top-of-bars-in-seaborn"
   ]
  },
  {
   "cell_type": "markdown",
   "metadata": {},
   "source": [
    "### Payment Histories vs Default"
   ]
  },
  {
   "cell_type": "code",
   "execution_count": 44,
   "metadata": {},
   "outputs": [],
   "source": [
    "# Create dataframe will bill month as one variable and bill amount as it's valu variable\n",
    "credit_melt_pay = pd.melt(frame=credit, id_vars = 'default', value_vars = ['pay1','pay2','pay3','pay4','pay5','pay6'], var_name = 'payMonth', value_name = 'payStatus')"
   ]
  },
  {
   "cell_type": "code",
   "execution_count": 45,
   "metadata": {},
   "outputs": [
    {
     "data": {
      "text/plain": [
       "<seaborn.axisgrid.FacetGrid at 0x1a2a0f29d0>"
      ]
     },
     "execution_count": 45,
     "metadata": {},
     "output_type": "execute_result"
    },
    {
     "data": {
      "image/png": "[encoded data removed]",
      "text/plain": [
       "<Figure size 673.375x360 with 1 Axes>"
      ]
     },
     "metadata": {
      "needs_background": "light"
     },
     "output_type": "display_data"
    }
   ],
   "source": [
    "#Payment Histories (status) vs Default Chart\n",
    "fg_pay_default = sns.catplot(x = 'payStatus', data=credit_melt_pay, hue='default', kind='count', aspect=1.75)\n",
    "fg_edudefault.set_xlabels('0 = did not default, 1 = defaulted')"
   ]
  },
  {
   "cell_type": "code",
   "execution_count": 46,
   "metadata": {},
   "outputs": [
    {
     "data": {
      "text/plain": [
       "<seaborn.axisgrid.FacetGrid at 0x1a2a0f29d0>"
      ]
     },
     "execution_count": 46,
     "metadata": {},
     "output_type": "execute_result"
    },
    {
     "data": {
      "image/png": "[encoded data removed]",
      "text/plain": [
       "<Figure size 673.375x360 with 1 Axes>"
      ]
     },
     "metadata": {
      "needs_background": "light"
     },
     "output_type": "display_data"
    }
   ],
   "source": [
    "#Payment Histories (Month) vs Default Chart\n",
    "fg_pay_default = sns.catplot(x = 'payMonth', data=credit_melt_pay, hue='default', kind='count', aspect=1.75)\n",
    "fg_edudefault.set_xlabels('0 = did not default, 1 = defaulted')"
   ]
  },
  {
   "cell_type": "markdown",
   "metadata": {},
   "source": [
    "The above may seem like a simple chart to make, but it helps explain how we're splitting the payment history columns into two variables, payment Month and payment Status.  It helps isolate time from payment status, when compared to default. We can see here that the month of the payment status has no relationship with default status. \n",
    "\n",
    "From the graph of payment status separated by default status, we can see that for the most part, as the payment status increases (months without paying), the number of customers who default increases. "
   ]
  },
  {
   "cell_type": "markdown",
   "metadata": {},
   "source": [
    "## Other Relationships\n"
   ]
  },
  {
   "cell_type": "markdown",
   "metadata": {},
   "source": [
    "### Sex vs Edu"
   ]
  },
  {
   "cell_type": "code",
   "execution_count": 69,
   "metadata": {},
   "outputs": [
    {
     "data": {
      "text/plain": [
       "<seaborn.axisgrid.FacetGrid at 0x1a1e74d5d0>"
      ]
     },
     "execution_count": 69,
     "metadata": {},
     "output_type": "execute_result"
    },
    {
     "data": {
      "image/png": "[encoded data removed]",
      "text/plain": [
       "<Figure size 672.375x360 with 1 Axes>"
      ]
     },
     "metadata": {
      "needs_background": "light"
     },
     "output_type": "display_data"
    }
   ],
   "source": [
    "# Sex vs Edu \n",
    "fg = sns.catplot(x = 'sex', data=credit, hue='edu', kind='count', aspect=1.75)\n",
    "fg.set_xlabels('1 = Male, 2 = Female')\n"
   ]
  },
  {
   "cell_type": "markdown",
   "metadata": {},
   "source": [
    "### Sex vs Marriage \n"
   ]
  },
  {
   "cell_type": "code",
   "execution_count": 70,
   "metadata": {},
   "outputs": [
    {
     "data": {
      "text/plain": [
       "<seaborn.axisgrid.FacetGrid at 0x1a1da1a310>"
      ]
     },
     "execution_count": 70,
     "metadata": {},
     "output_type": "execute_result"
    },
    {
     "data": {
      "image/png": "[encoded data removed]",
      "text/plain": [
       "<Figure size 683.5x360 with 1 Axes>"
      ]
     },
     "metadata": {
      "needs_background": "light"
     },
     "output_type": "display_data"
    }
   ],
   "source": [
    "# Sex vs Marriage \n",
    "fg = sns.catplot(x = 'sex', data=credit, hue='marriage', kind='count', aspect=1.75)\n",
    "fg.set_xlabels('1 = Male, 2 = Female')\n"
   ]
  },
  {
   "cell_type": "markdown",
   "metadata": {},
   "source": [
    "### Sex vs Age, with Default"
   ]
  },
  {
   "cell_type": "code",
   "execution_count": 82,
   "metadata": {},
   "outputs": [
    {
     "data": {
      "text/plain": [
       "<seaborn.axisgrid.FacetGrid at 0x1a1ee00a10>"
      ]
     },
     "execution_count": 82,
     "metadata": {},
     "output_type": "execute_result"
    },
    {
     "data": {
      "image/png": "[encoded data removed]",
      "text/plain": [
       "<Figure size 909.725x216 with 1 Axes>"
      ]
     },
     "metadata": {},
     "output_type": "display_data"
    }
   ],
   "source": [
    "# First, age by gender\n",
    "fig = sns.FacetGrid(credit, hue='sex', aspect=4)\n",
    "fig.map(sns.kdeplot, 'age', shade=True)\n",
    "oldest = credit['age'].max()\n",
    "fig.set(xlim=(0,oldest))\n",
    "fig.set(title='Distribution of Age Grouped by Gender')\n",
    "fig.add_legend()"
   ]
  },
  {
   "cell_type": "code",
   "execution_count": 71,
   "metadata": {},
   "outputs": [
    {
     "data": {
      "text/plain": [
       "<seaborn.axisgrid.FacetGrid at 0x1a1e617f90>"
      ]
     },
     "execution_count": 71,
     "metadata": {},
     "output_type": "execute_result"
    },
    {
     "data": {
      "image/png": "[encoded data removed]",
      "text/plain": [
       "<Figure size 673.375x360 with 1 Axes>"
      ]
     },
     "metadata": {
      "needs_background": "light"
     },
     "output_type": "display_data"
    }
   ],
   "source": [
    "# Second, Sex vs Age with Default\n",
    "fg = sns.catplot(x = 'sex', y='age', hue =\"default\",data=credit, kind='box', aspect=1.75)\n",
    "fg.set_xlabels('1 = Male, 2 = Female')"
   ]
  },
  {
   "cell_type": "markdown",
   "metadata": {},
   "source": [
    "### Sex vs Limit, with Default"
   ]
  },
  {
   "cell_type": "code",
   "execution_count": 73,
   "metadata": {},
   "outputs": [
    {
     "data": {
      "text/plain": [
       "<seaborn.axisgrid.FacetGrid at 0x1a1e617c50>"
      ]
     },
     "execution_count": 73,
     "metadata": {},
     "output_type": "execute_result"
    },
    {
     "data": {
      "image/png": "[encoded data removed]",
      "text/plain": [
       "<Figure size 673.375x360 with 1 Axes>"
      ]
     },
     "metadata": {
      "needs_background": "light"
     },
     "output_type": "display_data"
    }
   ],
   "source": [
    "fg = sns.catplot(x = 'sex', y='limit', data=credit, hue=\"default\", kind='box', aspect=1.75)\n",
    "fg.set_xlabels('1 = Male, 2 = Female')"
   ]
  },
  {
   "cell_type": "code",
   "execution_count": 75,
   "metadata": {},
   "outputs": [
    {
     "data": {
      "text/plain": [
       "<matplotlib.legend.Legend at 0x1a1bc50fd0>"
      ]
     },
     "execution_count": 75,
     "metadata": {},
     "output_type": "execute_result"
    },
    {
     "data": {
      "image/png": "[encoded data removed]",
      "text/plain": [
       "<Figure size 576x576 with 1 Axes>"
      ]
     },
     "metadata": {},
     "output_type": "display_data"
    }
   ],
   "source": [
    "# Gender Split by Default Status vs Loan Limit \n",
    "\n",
    "sns.set(style=\"whitegrid\", palette=\"pastel\", color_codes=True)\n",
    "\n",
    "f, ax = plt.subplots(figsize=(8, 8)) # makes visual bigger\n",
    "\n",
    "# Draw a nested violinplot and split the violins for easier comparison\n",
    "sns.violinplot(x=\"sex\", y=\"limit\", hue=\"default\", data=credit, split=True, linewidth=2.5)\n",
    "sns.despine(left=True)\n",
    "\n",
    "f.suptitle('Gender by Limit Balance and Default Status', fontsize=18, fontweight='bold')\n",
    "ax.set_xlabel(\"Gender\",size = 16,alpha=0.7)\n",
    "ax.set_ylabel(\"Loan Amount\",size = 16,alpha=0.7)\n",
    "plt.legend(loc='upper left')\n",
    "\n",
    "# source: https://app.mode.com/modeanalytics/reports/f2a442bd3b9a/notebook"
   ]
  },
  {
   "cell_type": "markdown",
   "metadata": {},
   "source": [
    "### Age vs Limit, with Default"
   ]
  },
  {
   "cell_type": "code",
   "execution_count": 74,
   "metadata": {},
   "outputs": [
    {
     "data": {
      "text/plain": [
       "<matplotlib.axes._subplots.AxesSubplot at 0x1a1ee76c90>"
      ]
     },
     "execution_count": 74,
     "metadata": {},
     "output_type": "execute_result"
    },
    {
     "data": {
      "image/png": "[encoded data removed]",
      "text/plain": [
       "<Figure size 432x288 with 1 Axes>"
      ]
     },
     "metadata": {
      "needs_background": "light"
     },
     "output_type": "display_data"
    }
   ],
   "source": [
    "# Age Split by Default Status vs Loan Limit \n",
    "\n",
    "sns.scatterplot(x=\"age\", y=\"limit\", hue = \"default\", data=credit)"
   ]
  },
  {
   "cell_type": "markdown",
   "metadata": {},
   "source": [
    "### Marriage vs Limit with Default"
   ]
  },
  {
   "cell_type": "code",
   "execution_count": 76,
   "metadata": {},
   "outputs": [
    {
     "data": {
      "text/plain": [
       "<matplotlib.legend.Legend at 0x1a1ec9ab90>"
      ]
     },
     "execution_count": 76,
     "metadata": {},
     "output_type": "execute_result"
    },
    {
     "data": {
      "image/png": "[encoded data removed]",
      "text/plain": [
       "<Figure size 576x576 with 1 Axes>"
      ]
     },
     "metadata": {},
     "output_type": "display_data"
    }
   ],
   "source": [
    "# Marriage Split by Default Status vs Loan Amount \n",
    "\n",
    "sns.set(style=\"whitegrid\", palette=\"pastel\", color_codes=True)\n",
    "\n",
    "f, ax = plt.subplots(figsize=(8, 8)) # makes visual bigger\n",
    "\n",
    "# Draw a nested violinplot and split the violins for easier comparison\n",
    "sns.violinplot(x=\"marriage\", y=\"limit\", hue=\"default\", data=credit, split=True, linewidth=2.5)\n",
    "sns.despine(left=True)\n",
    "\n",
    "f.suptitle('Marriage by Limit Balance and Default Status', fontsize=18, fontweight='bold')\n",
    "ax.set_xlabel(\"Marriage\",size = 16,alpha=0.7)\n",
    "ax.set_ylabel(\"Loan Amount\",size = 16,alpha=0.7)\n",
    "plt.legend(loc='upper left')\n",
    "\n",
    "# source: https://app.mode.com/modeanalytics/reports/f2a442bd3b9a/notebook"
   ]
  },
  {
   "cell_type": "markdown",
   "metadata": {},
   "source": [
    "### Education vs Limit, with Default"
   ]
  },
  {
   "cell_type": "code",
   "execution_count": 78,
   "metadata": {},
   "outputs": [],
   "source": [
    "# only prints last output\n",
    "InteractiveShell.ast_node_interactivity = \"last_expr\""
   ]
  },
  {
   "cell_type": "code",
   "execution_count": 80,
   "metadata": {},
   "outputs": [
    {
     "data": {
      "text/plain": [
       "<matplotlib.legend.Legend at 0x1a1ede2e10>"
      ]
     },
     "execution_count": 80,
     "metadata": {},
     "output_type": "execute_result"
    },
    {
     "data": {
      "image/png": "[encoded data removed]",
      "text/plain": [
       "<Figure size 576x576 with 1 Axes>"
      ]
     },
     "metadata": {},
     "output_type": "display_data"
    }
   ],
   "source": [
    "# Education Split by Default Status vs Loan Amount \n",
    "\n",
    "sns.set(style=\"whitegrid\", palette=\"pastel\", color_codes=True)\n",
    "\n",
    "f, ax = plt.subplots(figsize=(8, 8)) # makes visual bigger\n",
    "\n",
    "# Draw a nested violinplot and split the violins for easier comparison\n",
    "sns.violinplot(x=\"edu\", y=\"limit\", hue=\"default\", data=credit, split=True, linewidth=2.5)\n",
    "sns.despine(left=True)\n",
    "\n",
    "f.suptitle('Education by Limit Balance and Default Status', fontsize=18, fontweight='bold')\n",
    "ax.set_xlabel(\"Education\",size = 16,alpha=0.7)\n",
    "ax.set_ylabel(\"Loan Amount\",size = 16,alpha=0.7)\n",
    "plt.legend(loc='upper left')\n",
    "\n",
    "# source: https://app.mode.com/modeanalytics/reports/f2a442bd3b9a/notebook"
   ]
  },
  {
   "cell_type": "markdown",
   "metadata": {},
   "source": [
    "## Distribution of Customers with High Limits "
   ]
  },
  {
   "cell_type": "code",
   "execution_count": 36,
   "metadata": {},
   "outputs": [],
   "source": [
    "# create dataframe with limit\n",
    "credit_noLimitOutliers = credit['limit'] < 500000 # boolean variable\n",
    "credit_noLimitOutliers = credit[credit_noLimitOutliers] # filter for boolean = true"
   ]
  },
  {
   "cell_type": "markdown",
   "metadata": {},
   "source": [
    "### Customers with High Limits vs Monthy Bill "
   ]
  },
  {
   "cell_type": "code",
   "execution_count": 38,
   "metadata": {},
   "outputs": [
    {
     "data": {
      "image/png": "[encoded data removed]",
      "text/plain": [
       "<Figure size 432x288 with 1 Axes>"
      ]
     },
     "metadata": {
      "needs_background": "light"
     },
     "output_type": "display_data"
    }
   ],
   "source": [
    "# bill payment dataframe\n",
    "_ = credit_noLimitOutliers.boxplot(column=['bill1', 'bill2', 'bill3', 'bill4', 'bill5','bill6'])\n",
    "#credit_noLimitOutliers[['bill1','bill2','bill3','bill4', 'bill5','bill6']].describe()"
   ]
  },
  {
   "cell_type": "markdown",
   "metadata": {},
   "source": [
    "Removing customers with loans of 500,000 NT or greater reduced the number of bills between 500,000 NT and 600,000 NT. Also, none of the now bills reach the 600,000. I find the relationship between bill payments and loan amounts interesting and will plot that to better understand whether we have a case for creating a separate model for natural outliers consisting of high value loans. "
   ]
  },
  {
   "cell_type": "markdown",
   "metadata": {},
   "source": [
    "### Customers with High Limits vs Monthly Payments"
   ]
  },
  {
   "cell_type": "code",
   "execution_count": 31,
   "metadata": {
    "scrolled": false
   },
   "outputs": [
    {
     "data": {
      "image/png": "[encoded data removed]",
      "text/plain": [
       "<Figure size 432x288 with 1 Axes>"
      ]
     },
     "metadata": {
      "needs_background": "light"
     },
     "output_type": "display_data"
    }
   ],
   "source": [
    "# plot boxplot without high value loan customers\n",
    "boxplot = credit_noLimitOutliers.boxplot(column=['paid1', 'paid2', 'paid3', 'paid4', 'paid5','paid6'])"
   ]
  },
  {
   "cell_type": "markdown",
   "metadata": {},
   "source": [
    "I don't see a difference between the boxplot with all values and the boxplot with no high value loan customers. Perhaps, these two variables are not correlated. We will explore this further with tests for correlation and tests for variance."
   ]
  },
  {
   "cell_type": "markdown",
   "metadata": {},
   "source": [
    "# Outliers\n",
    "\n",
    "Consider removing the following:\n",
    "- Remove limit balances above 500,000\n",
    "- Consider removing ages above 60 if we need to improve model performance\n",
    "- Consider removing bill amounts per the IQR test\n",
    "- Consider removing paid amounts per the IQR test  "
   ]
  },
  {
   "cell_type": "code",
   "execution_count": 48,
   "metadata": {},
   "outputs": [],
   "source": [
    "# Code to remove outliers\n",
    "\n",
    "#credit = credit[credit.limit < 500000]\n",
    "\n",
    "#credit = credit[credit.bill1 < 600000]\n",
    "#credit = credit[credit.bill2 < 600000]\n",
    "#credit = credit[credit.bill3 < 600000]\n",
    "#credit = credit[credit.bill4 < 600000]\n",
    "#credit = credit[credit.bill5 < 600000]\n",
    "#credit = credit[credit.bill6 < 600000]\n",
    "\n",
    "#credit = credit[credit.bill1 > -50000]\n",
    "#credit = credit[credit.bill2 > -50000]\n",
    "#credit = credit[credit.bill3 > -50000]\n",
    "#credit = credit[credit.bill4 > -50000]\n",
    "#credit = credit[credit.bill5 > -50000]\n",
    "#credit = credit[credit.bill6 > -50000]\n",
    "\n",
    "#credit = credit[credit.paid1 < 75000]\n",
    "#credit = credit[credit.paid2 < 75000]\n",
    "#credit = credit[credit.paid3 < 75000]\n",
    "#credit = credit[credit.paid4 < 75000]\n",
    "#credit = credit[credit.paid5 < 75000]\n",
    "#credit = credit[credit.paid6 < 75000]\n"
   ]
  },
  {
   "cell_type": "markdown",
   "metadata": {},
   "source": [
    "# Other Notes: Techniques for Addressing Class Imbalances\n",
    "\n",
    "- Accuracy Paradox: If our model simply predicts that our customers won't default, than, it will be right most of the time since majority of our data consists of customers who did not default (22,000 compared to about 7,000). We will need to explore performance metrics in addition to accuracy:\n",
    "    - confusion matrix, precision, recall, f1-score\n",
    "    - kappa, roc curves\n",
    "- resampling dataset\n",
    "    - Sampling with Replacement: We will add copies of instances from the default class.\n",
    "        - Depending on time constraints, we can try the Synthetic Minority Over-sampling Technique\n",
    "    - Undersampling: Delete instances from the did not default class. \n",
    "- we will favor decision tree algorithms, which do well with class imbalances\n",
    "\n",
    "\n",
    "Source: https://machinelearningmastery.com/tactics-to-combat-imbalanced-classes-in-your-machine-learning-dataset/"
   ]
  },
  {
   "cell_type": "markdown",
   "metadata": {},
   "source": [
    "# Download Data for Model Building"
   ]
  },
  {
   "cell_type": "code",
   "execution_count": null,
   "metadata": {},
   "outputs": [],
   "source": [
    "# Download Dataset(s) for Model\n",
    "credit.to_csv('creditFiltered.csv')"
   ]
  }
 ],
 "metadata": {
  "kernelspec": {
   "display_name": "Python 3",
   "language": "python",
   "name": "python3"
  },
  "language_info": {
   "codemirror_mode": {
    "name": "ipython",
    "version": 3
   },
   "file_extension": ".py",
   "mimetype": "text/x-python",
   "name": "python",
   "nbconvert_exporter": "python",
   "pygments_lexer": "ipython3",
   "version": "3.7.4"
  },
  "toc": {
   "base_numbering": 1,
   "nav_menu": {},
   "number_sections": true,
   "sideBar": true,
   "skip_h1_title": false,
   "title_cell": "Table of Contents",
   "title_sidebar": "Contents",
   "toc_cell": true,
   "toc_position": {
    "height": "calc(100% - 180px)",
    "left": "10px",
    "top": "150px",
    "width": "341.292px"
   },
   "toc_section_display": true,
   "toc_window_display": true
  }
 },
 "nbformat": 4,
 "nbformat_minor": 2
}
