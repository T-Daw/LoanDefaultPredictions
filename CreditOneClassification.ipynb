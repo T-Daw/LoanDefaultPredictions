{
 "cells": [
  {
   "cell_type": "code",
   "execution_count": 1,
   "metadata": {},
   "outputs": [],
   "source": [
    "#imports\n",
    "#numpy,pandas,scipy, math, matplotlib\n",
    "import numpy as np\n",
    "import pandas as pd\n",
    "import scipy\n",
    "from math import sqrt\n",
    "import matplotlib.pyplot as plt\n",
    "import seaborn as sns \n",
    "from sklearn.feature_selection import RFE"
   ]
  },
  {
   "cell_type": "code",
   "execution_count": 2,
   "metadata": {},
   "outputs": [],
   "source": [
    "#estimators\n",
    "from sklearn.ensemble import RandomForestRegressor\n",
    "from sklearn.linear_model import LinearRegression\n",
    "from sklearn.svm import SVR\n",
    "from sklearn import linear_model"
   ]
  },
  {
   "cell_type": "code",
   "execution_count": 3,
   "metadata": {},
   "outputs": [],
   "source": [
    "#model metrics\n",
    "from sklearn.metrics import mean_squared_error\n",
    "from sklearn.metrics import r2_score\n",
    "from sklearn.model_selection import cross_val_score"
   ]
  },
  {
   "cell_type": "code",
   "execution_count": 4,
   "metadata": {},
   "outputs": [],
   "source": [
    "#cross validation\n",
    "\n",
    "from sklearn.model_selection import train_test_split # replaces deprecated code\n",
    "\n",
    "#from sklearn.cross_validation import train_test_split\n",
    "## This is deprecated. Why is it in the course material?"
   ]
  },
  {
   "cell_type": "code",
   "execution_count": 5,
   "metadata": {},
   "outputs": [
    {
     "data": {
      "text/html": [
       "<div>\n",
       "<style scoped>\n",
       "    .dataframe tbody tr th:only-of-type {\n",
       "        vertical-align: middle;\n",
       "    }\n",
       "\n",
       "    .dataframe tbody tr th {\n",
       "        vertical-align: top;\n",
       "    }\n",
       "\n",
       "    .dataframe thead th {\n",
       "        text-align: right;\n",
       "    }\n",
       "</style>\n",
       "<table border=\"1\" class=\"dataframe\">\n",
       "  <thead>\n",
       "    <tr style=\"text-align: right;\">\n",
       "      <th></th>\n",
       "      <th>Unnamed: 0</th>\n",
       "      <th>id</th>\n",
       "      <th>limit</th>\n",
       "      <th>sex</th>\n",
       "      <th>edu</th>\n",
       "      <th>marriage</th>\n",
       "      <th>age</th>\n",
       "      <th>pay1</th>\n",
       "      <th>pay2</th>\n",
       "      <th>pay3</th>\n",
       "      <th>...</th>\n",
       "      <th>bill4</th>\n",
       "      <th>bill5</th>\n",
       "      <th>bill6</th>\n",
       "      <th>paid1</th>\n",
       "      <th>paid2</th>\n",
       "      <th>paid3</th>\n",
       "      <th>paid4</th>\n",
       "      <th>paid5</th>\n",
       "      <th>paid6</th>\n",
       "      <th>default</th>\n",
       "    </tr>\n",
       "  </thead>\n",
       "  <tbody>\n",
       "    <tr>\n",
       "      <td>0</td>\n",
       "      <td>0</td>\n",
       "      <td>1</td>\n",
       "      <td>20000</td>\n",
       "      <td>2</td>\n",
       "      <td>2</td>\n",
       "      <td>1</td>\n",
       "      <td>24</td>\n",
       "      <td>2</td>\n",
       "      <td>2</td>\n",
       "      <td>-1</td>\n",
       "      <td>...</td>\n",
       "      <td>0</td>\n",
       "      <td>0</td>\n",
       "      <td>0</td>\n",
       "      <td>0</td>\n",
       "      <td>689</td>\n",
       "      <td>0</td>\n",
       "      <td>0</td>\n",
       "      <td>0</td>\n",
       "      <td>0</td>\n",
       "      <td>1</td>\n",
       "    </tr>\n",
       "    <tr>\n",
       "      <td>1</td>\n",
       "      <td>1</td>\n",
       "      <td>2</td>\n",
       "      <td>120000</td>\n",
       "      <td>2</td>\n",
       "      <td>2</td>\n",
       "      <td>2</td>\n",
       "      <td>26</td>\n",
       "      <td>-1</td>\n",
       "      <td>2</td>\n",
       "      <td>0</td>\n",
       "      <td>...</td>\n",
       "      <td>3272</td>\n",
       "      <td>3455</td>\n",
       "      <td>3261</td>\n",
       "      <td>0</td>\n",
       "      <td>1000</td>\n",
       "      <td>1000</td>\n",
       "      <td>1000</td>\n",
       "      <td>0</td>\n",
       "      <td>2000</td>\n",
       "      <td>1</td>\n",
       "    </tr>\n",
       "    <tr>\n",
       "      <td>2</td>\n",
       "      <td>2</td>\n",
       "      <td>3</td>\n",
       "      <td>90000</td>\n",
       "      <td>2</td>\n",
       "      <td>2</td>\n",
       "      <td>2</td>\n",
       "      <td>34</td>\n",
       "      <td>0</td>\n",
       "      <td>0</td>\n",
       "      <td>0</td>\n",
       "      <td>...</td>\n",
       "      <td>14331</td>\n",
       "      <td>14948</td>\n",
       "      <td>15549</td>\n",
       "      <td>1518</td>\n",
       "      <td>1500</td>\n",
       "      <td>1000</td>\n",
       "      <td>1000</td>\n",
       "      <td>1000</td>\n",
       "      <td>5000</td>\n",
       "      <td>0</td>\n",
       "    </tr>\n",
       "    <tr>\n",
       "      <td>3</td>\n",
       "      <td>3</td>\n",
       "      <td>4</td>\n",
       "      <td>50000</td>\n",
       "      <td>2</td>\n",
       "      <td>2</td>\n",
       "      <td>1</td>\n",
       "      <td>37</td>\n",
       "      <td>0</td>\n",
       "      <td>0</td>\n",
       "      <td>0</td>\n",
       "      <td>...</td>\n",
       "      <td>28314</td>\n",
       "      <td>28959</td>\n",
       "      <td>29547</td>\n",
       "      <td>2000</td>\n",
       "      <td>2019</td>\n",
       "      <td>1200</td>\n",
       "      <td>1100</td>\n",
       "      <td>1069</td>\n",
       "      <td>1000</td>\n",
       "      <td>0</td>\n",
       "    </tr>\n",
       "    <tr>\n",
       "      <td>4</td>\n",
       "      <td>4</td>\n",
       "      <td>5</td>\n",
       "      <td>50000</td>\n",
       "      <td>1</td>\n",
       "      <td>2</td>\n",
       "      <td>1</td>\n",
       "      <td>57</td>\n",
       "      <td>-1</td>\n",
       "      <td>0</td>\n",
       "      <td>-1</td>\n",
       "      <td>...</td>\n",
       "      <td>20940</td>\n",
       "      <td>19146</td>\n",
       "      <td>19131</td>\n",
       "      <td>2000</td>\n",
       "      <td>36681</td>\n",
       "      <td>10000</td>\n",
       "      <td>9000</td>\n",
       "      <td>689</td>\n",
       "      <td>679</td>\n",
       "      <td>0</td>\n",
       "    </tr>\n",
       "  </tbody>\n",
       "</table>\n",
       "<p>5 rows × 26 columns</p>\n",
       "</div>"
      ],
      "text/plain": [
       "   Unnamed: 0  id   limit  sex  edu  marriage  age  pay1  pay2  pay3  ...  \\\n",
       "0           0   1   20000    2    2         1   24     2     2    -1  ...   \n",
       "1           1   2  120000    2    2         2   26    -1     2     0  ...   \n",
       "2           2   3   90000    2    2         2   34     0     0     0  ...   \n",
       "3           3   4   50000    2    2         1   37     0     0     0  ...   \n",
       "4           4   5   50000    1    2         1   57    -1     0    -1  ...   \n",
       "\n",
       "   bill4  bill5  bill6  paid1  paid2  paid3  paid4  paid5  paid6  default  \n",
       "0      0      0      0      0    689      0      0      0      0        1  \n",
       "1   3272   3455   3261      0   1000   1000   1000      0   2000        1  \n",
       "2  14331  14948  15549   1518   1500   1000   1000   1000   5000        0  \n",
       "3  28314  28959  29547   2000   2019   1200   1100   1069   1000        0  \n",
       "4  20940  19146  19131   2000  36681  10000   9000    689    679        0  \n",
       "\n",
       "[5 rows x 26 columns]"
      ]
     },
     "execution_count": 5,
     "metadata": {},
     "output_type": "execute_result"
    }
   ],
   "source": [
    "#data\n",
    "rawData = pd.read_csv('creditFiltered.csv', header=0)\n",
    "rawData.head()"
   ]
  },
  {
   "cell_type": "markdown",
   "metadata": {},
   "source": [
    "# Cleaning and Preprocessing"
   ]
  },
  {
   "cell_type": "code",
   "execution_count": 6,
   "metadata": {
    "scrolled": true
   },
   "outputs": [
    {
     "name": "stdout",
     "output_type": "stream",
     "text": [
      "<class 'pandas.core.frame.DataFrame'>\n",
      "RangeIndex: 30000 entries, 0 to 29999\n",
      "Data columns (total 26 columns):\n",
      "Unnamed: 0    30000 non-null int64\n",
      "id            30000 non-null int64\n",
      "limit         30000 non-null int64\n",
      "sex           30000 non-null int64\n",
      "edu           30000 non-null int64\n",
      "marriage      30000 non-null int64\n",
      "age           30000 non-null int64\n",
      "pay1          30000 non-null int64\n",
      "pay2          30000 non-null int64\n",
      "pay3          30000 non-null int64\n",
      "pay4          30000 non-null int64\n",
      "pay5          30000 non-null int64\n",
      "pay6          30000 non-null int64\n",
      "bill1         30000 non-null int64\n",
      "bill2         30000 non-null int64\n",
      "bill3         30000 non-null int64\n",
      "bill4         30000 non-null int64\n",
      "bill5         30000 non-null int64\n",
      "bill6         30000 non-null int64\n",
      "paid1         30000 non-null int64\n",
      "paid2         30000 non-null int64\n",
      "paid3         30000 non-null int64\n",
      "paid4         30000 non-null int64\n",
      "paid5         30000 non-null int64\n",
      "paid6         30000 non-null int64\n",
      "default       30000 non-null int64\n",
      "dtypes: int64(26)\n",
      "memory usage: 6.0 MB\n"
     ]
    }
   ],
   "source": [
    "rawData.info()"
   ]
  },
  {
   "cell_type": "markdown",
   "metadata": {},
   "source": [
    "## Convert Categorical Variables that are Numeric Types into Category Types"
   ]
  },
  {
   "cell_type": "code",
   "execution_count": 7,
   "metadata": {},
   "outputs": [],
   "source": [
    "# Convert categorical variables that are inputted as numeric into categorical types\n",
    "rawData['sex'] = rawData.sex.astype('category')\n",
    "rawData['edu'] = rawData.edu.astype('category')\n",
    "rawData['marriage'] = rawData.marriage.astype('category')\n",
    "rawData['pay1'] = rawData.pay1.astype('category')\n",
    "rawData['pay2'] = rawData.pay2.astype('category')\n",
    "rawData['pay3'] = rawData.pay3.astype('category')\n",
    "rawData['pay4'] = rawData.pay4.astype('category')\n",
    "rawData['pay5'] = rawData.pay5.astype('category')\n",
    "rawData['pay6'] = rawData.pay6.astype('category')\n",
    "rawData['default'] = rawData.default.astype('category')"
   ]
  },
  {
   "cell_type": "markdown",
   "metadata": {},
   "source": [
    "## Create Train and Test set\n",
    "\n",
    "70% and 30% split\n",
    "Train Set: X_train, y_train: \n",
    " Test Set: X_test, y_test (also referred to as ground truth, used to test predictions on for performance)"
   ]
  },
  {
   "cell_type": "code",
   "execution_count": 8,
   "metadata": {},
   "outputs": [],
   "source": [
    "X = rawData.iloc[:,2:24]\n",
    "y = rawData['default']"
   ]
  },
  {
   "cell_type": "code",
   "execution_count": 9,
   "metadata": {},
   "outputs": [],
   "source": [
    "X_train, X_test, y_train, y_test = train_test_split(\n",
    "...     X, y, test_size=0.3, random_state=42)"
   ]
  },
  {
   "cell_type": "code",
   "execution_count": 10,
   "metadata": {},
   "outputs": [
    {
     "name": "stdout",
     "output_type": "stream",
     "text": [
      "The number of observations in the Y training set are: 21000\n"
     ]
    }
   ],
   "source": [
    "print('The number of observations in the Y training set are:',str(len(y_train.index)))\n"
   ]
  },
  {
   "cell_type": "code",
   "execution_count": 11,
   "metadata": {},
   "outputs": [
    {
     "name": "stdout",
     "output_type": "stream",
     "text": [
      "The number of observations in the X training set are: 21000\n"
     ]
    }
   ],
   "source": [
    "print('The number of observations in the X training set are:',str(len(X_train.index)))\n"
   ]
  },
  {
   "cell_type": "code",
   "execution_count": 12,
   "metadata": {},
   "outputs": [
    {
     "name": "stdout",
     "output_type": "stream",
     "text": [
      "The number of observations in the X testing set are: 9000\n"
     ]
    }
   ],
   "source": [
    "print('The number of observations in the X testing set are:',str(len(X_test.index)))\n"
   ]
  },
  {
   "cell_type": "code",
   "execution_count": 13,
   "metadata": {},
   "outputs": [
    {
     "name": "stdout",
     "output_type": "stream",
     "text": [
      "The number of observations in the y testing set are: 9000\n"
     ]
    }
   ],
   "source": [
    "print('The number of observations in the y testing set are:',str(len(y_test.index)))\n"
   ]
  },
  {
   "cell_type": "code",
   "execution_count": 14,
   "metadata": {},
   "outputs": [
    {
     "data": {
      "text/plain": [
       "0.3"
      ]
     },
     "execution_count": 14,
     "metadata": {},
     "output_type": "execute_result"
    }
   ],
   "source": [
    "# verify split\n",
    "len(X_test)/(len(X_test)+len(X_train))"
   ]
  },
  {
   "cell_type": "code",
   "execution_count": 15,
   "metadata": {},
   "outputs": [
    {
     "data": {
      "text/plain": [
       "0.3"
      ]
     },
     "execution_count": 15,
     "metadata": {},
     "output_type": "execute_result"
    }
   ],
   "source": [
    "# verify split\n",
    "len(y_test)/(len(y_test)+len(y_train))"
   ]
  },
  {
   "cell_type": "markdown",
   "metadata": {},
   "source": [
    "# Classification (4 Models) - First Attempt\n",
    "\n",
    "Which algorithms should we try?\n",
    "\n",
    "- Linear Classifiers: Logistic regression, Naive Bayes classifier, Fisher’s linear discriminant\n",
    "- Support vector machines: Least squares support vector machines\n",
    "- Quadratic classifiers\n",
    "- Kernel estimation: k-nearest neighbor \n",
    "- Decision trees: Random forests\n",
    "- Neural networks\n",
    "- Learning vector quantization"
   ]
  },
  {
   "cell_type": "markdown",
   "metadata": {},
   "source": [
    "## Random Forest"
   ]
  },
  {
   "cell_type": "code",
   "execution_count": 16,
   "metadata": {},
   "outputs": [],
   "source": [
    "# Random Forest Model \n",
    "from sklearn.ensemble import RandomForestClassifier\n",
    "rf_model = RandomForestClassifier(max_depth=2, random_state=0)\n",
    "rf_model.fit(X_train, y_train)\n",
    "predictions_rf= rf_model.predict(X_test)"
   ]
  },
  {
   "cell_type": "code",
   "execution_count": 17,
   "metadata": {},
   "outputs": [
    {
     "data": {
      "text/plain": [
       "<matplotlib.axes._subplots.AxesSubplot at 0x1a23a80d90>"
      ]
     },
     "execution_count": 17,
     "metadata": {},
     "output_type": "execute_result"
    },
    {
     "data": {
      "image/png": "[encoded data removed]",
      "text/plain": [
       "<Figure size 432x288 with 2 Axes>"
      ]
     },
     "metadata": {
      "needs_background": "light"
     },
     "output_type": "display_data"
    }
   ],
   "source": [
    "# Create pandas data frame of prediction and y_test results and plot it\n",
    "\n",
    "predictions_df = pd.DataFrame(predictions_rf)\n",
    "predictions_df.columns = ['predictions_rf']\n",
    "predictions_df.reset_index(drop=True, inplace=True)\n",
    "ytest_df = pd.DataFrame(y_test)\n",
    "ytest_df.columns = ['actualResults']\n",
    "ytest_df.reset_index(drop=True, inplace=True)\n",
    "res = [ytest_df,predictions_df]\n",
    "results_rf = pd.concat(res,sort=False, axis = 1)\n",
    "\n",
    "fig, axes = plt.subplots(1,2, sharex=True, sharey= True)\n",
    "sns.despine(left=True)\n",
    "\n",
    "sns.countplot(x='actualResults', data = results_rf, ax=axes[0] )\n",
    "sns.countplot(x='predictions_rf', data = results_rf, ax=axes[1] )"
   ]
  },
  {
   "cell_type": "markdown",
   "metadata": {},
   "source": [
    "## Least Squares Support Vector Machine"
   ]
  },
  {
   "cell_type": "code",
   "execution_count": 18,
   "metadata": {},
   "outputs": [],
   "source": [
    "# Least Squares Support Vector Machine\n",
    "from sklearn.svm import LinearSVC\n",
    "lssVM_model = LinearSVC(random_state=0, tol=1000)\n",
    "lssVM_model.fit(X_train, y_train)\n",
    "predictions_lssVM= lssVM_model.predict(X_test)"
   ]
  },
  {
   "cell_type": "code",
   "execution_count": 19,
   "metadata": {},
   "outputs": [
    {
     "data": {
      "text/plain": [
       "<matplotlib.axes._subplots.AxesSubplot at 0x1a2280cf50>"
      ]
     },
     "execution_count": 19,
     "metadata": {},
     "output_type": "execute_result"
    },
    {
     "data": {
      "image/png": "[encoded data removed]",
      "text/plain": [
       "<Figure size 432x288 with 2 Axes>"
      ]
     },
     "metadata": {
      "needs_background": "light"
     },
     "output_type": "display_data"
    }
   ],
   "source": [
    "# Create pandas data frame of prediction and y_test results and plot it\n",
    "predictions_df = pd.DataFrame(predictions_lssVM)\n",
    "predictions_df.columns = ['predictions_lssVM']\n",
    "predictions_df.reset_index(drop=True, inplace=True)\n",
    "ytest_df = pd.DataFrame(y_test)\n",
    "ytest_df.columns = ['actualResults']\n",
    "ytest_df.reset_index(drop=True, inplace=True)\n",
    "res = [ytest_df,predictions_df]\n",
    "results_lssVM = pd.concat(res,sort=False, axis = 1)\n",
    "\n",
    "fig, axes = plt.subplots(1,2, sharex=True, sharey= True)\n",
    "sns.despine(left=True)\n",
    "\n",
    "sns.countplot(x='actualResults', data = results_lssVM, ax=axes[0] )\n",
    "sns.countplot(x='predictions_lssVM', data = results_lssVM, ax=axes[1] )"
   ]
  },
  {
   "cell_type": "markdown",
   "metadata": {},
   "source": [
    "## K- Nearest Neighbor"
   ]
  },
  {
   "cell_type": "code",
   "execution_count": 20,
   "metadata": {},
   "outputs": [],
   "source": [
    "# K- Nearest Neighbor\n",
    "from sklearn.neighbors import KNeighborsClassifier\n",
    "knn_model = KNeighborsClassifier(n_neighbors=3)\n",
    "knn_model.fit(X_train, y_train)\n",
    "predictions_knn = knn_model.predict(X_test)"
   ]
  },
  {
   "cell_type": "code",
   "execution_count": 21,
   "metadata": {},
   "outputs": [
    {
     "data": {
      "text/plain": [
       "<matplotlib.axes._subplots.AxesSubplot at 0x1a23bd6610>"
      ]
     },
     "execution_count": 21,
     "metadata": {},
     "output_type": "execute_result"
    },
    {
     "data": {
      "image/png": "[encoded data removed]",
      "text/plain": [
       "<Figure size 432x288 with 2 Axes>"
      ]
     },
     "metadata": {
      "needs_background": "light"
     },
     "output_type": "display_data"
    }
   ],
   "source": [
    "# Create pandas data frame of prediction and y_test results and plot it\n",
    "\n",
    "predictions_df = pd.DataFrame(predictions_knn)\n",
    "predictions_df.columns = ['predictions_knn']\n",
    "predictions_df.reset_index(drop=True, inplace=True)\n",
    "ytest_df = pd.DataFrame(y_test)\n",
    "ytest_df.columns = ['actualResults']\n",
    "ytest_df.reset_index(drop=True, inplace=True)\n",
    "res = [ytest_df,predictions_df]\n",
    "results_knn = pd.concat(res,sort=False, axis = 1)\n",
    "\n",
    "fig, axes = plt.subplots(1,2, sharex=True, sharey= True)\n",
    "sns.despine(left=True)\n",
    "\n",
    "sns.countplot(x='actualResults', data = results_knn, ax=axes[0] )\n",
    "sns.countplot(x='predictions_knn', data = results_knn, ax=axes[1] )"
   ]
  },
  {
   "cell_type": "markdown",
   "metadata": {},
   "source": [
    "## Gaussian Naive Bayes"
   ]
  },
  {
   "cell_type": "code",
   "execution_count": 22,
   "metadata": {},
   "outputs": [],
   "source": [
    "# Gaussian Naive Bayes\n",
    "from sklearn.naive_bayes import GaussianNB\n",
    "gnb_model = GaussianNB()\n",
    "gnb_model.fit(X_train, y_train)\n",
    "predictions_gnb=gnb_model.predict(X_test)"
   ]
  },
  {
   "cell_type": "code",
   "execution_count": 23,
   "metadata": {},
   "outputs": [
    {
     "data": {
      "text/plain": [
       "<matplotlib.axes._subplots.AxesSubplot at 0x1a21f3e710>"
      ]
     },
     "execution_count": 23,
     "metadata": {},
     "output_type": "execute_result"
    },
    {
     "data": {
      "image/png": "[encoded data removed]",
      "text/plain": [
       "<Figure size 432x288 with 2 Axes>"
      ]
     },
     "metadata": {
      "needs_background": "light"
     },
     "output_type": "display_data"
    }
   ],
   "source": [
    "# Create pandas data frame of prediction and y_test results and plot it\n",
    "\n",
    "predictions_df = pd.DataFrame(predictions_gnb)\n",
    "predictions_df.columns = ['predictions_gnb']\n",
    "predictions_df.reset_index(drop=True, inplace=True)\n",
    "ytest_df = pd.DataFrame(y_test)\n",
    "ytest_df.columns = ['actualResults']\n",
    "ytest_df.reset_index(drop=True, inplace=True)\n",
    "res = [ytest_df,predictions_df]\n",
    "results_gnb = pd.concat(res,sort=False, axis = 1)\n",
    "\n",
    "fig, axes = plt.subplots(1,2, sharex=True, sharey= True)\n",
    "sns.despine(left=True)\n",
    "\n",
    "sns.countplot(x='actualResults', data = results_gnb, ax=axes[0] )\n",
    "sns.countplot(x='predictions_gnb', data = results_gnb, ax=axes[1] )"
   ]
  },
  {
   "cell_type": "markdown",
   "metadata": {},
   "source": [
    "## Performace Metrics for Models"
   ]
  },
  {
   "cell_type": "markdown",
   "metadata": {},
   "source": [
    "### Model Accuracy\n",
    "\n",
    "We have a class imbalance. Most of our customers did not default (which is great) but that means that accuracy is not the best metric due to the accuracy paradox. "
   ]
  },
  {
   "cell_type": "code",
   "execution_count": 24,
   "metadata": {},
   "outputs": [
    {
     "name": "stdout",
     "output_type": "stream",
     "text": [
      "The RandomForest model Accuracy score is: 0.8067777777777778\n",
      "The Least Squares Support Vector Machine model Accuracy score is: 0.7668888888888888\n",
      "The  K-Nearest Neighbor model Accuracy score is: 0.735\n",
      "The Gaussian Naive Bayes model Accuracy score is: 0.3942222222222222\n"
     ]
    }
   ],
   "source": [
    "# Accuracy\n",
    "from sklearn.metrics import accuracy_score\n",
    "print('The RandomForest model Accuracy score is:',str(accuracy_score(y_test, predictions_rf)))\n",
    "print('The Least Squares Support Vector Machine model Accuracy score is:',str(accuracy_score(y_test, predictions_lssVM)))\n",
    "print('The  K-Nearest Neighbor model Accuracy score is:',str(accuracy_score(y_test, predictions_knn)))\n",
    "print('The Gaussian Naive Bayes model Accuracy score is:',str(accuracy_score(y_test, predictions_gnb)))"
   ]
  },
  {
   "cell_type": "markdown",
   "metadata": {},
   "source": [
    "#### cross_val_score"
   ]
  },
  {
   "cell_type": "code",
   "execution_count": 25,
   "metadata": {},
   "outputs": [
    {
     "name": "stdout",
     "output_type": "stream",
     "text": [
      "The RandomForest model cross_val_score is: [0.81047619 0.80690476 0.80833333 0.80761905 0.80333333]\n",
      "The Least Squares Support Vector Machine model cross_val_score is: [0.77714286 0.77333333 0.77738095 0.77714286 0.77738095]\n",
      "The K-Nearest Neighbor model cross_val_score is: [0.7347619  0.74166667 0.74142857 0.72785714 0.73      ]\n",
      "The Gaussian Naive Bayes model cross_val_score is: [0.37404762 0.39190476 0.3997619  0.39761905 0.39785714]\n"
     ]
    }
   ],
   "source": [
    "print('The RandomForest model cross_val_score is:',str(cross_val_score(rf_model, X_train, y_train)))\n",
    "print('The Least Squares Support Vector Machine model cross_val_score is:',str(cross_val_score(lssVM_model, X_train, y_train)))\n",
    "print('The K-Nearest Neighbor model cross_val_score is:',str(cross_val_score(knn_model, X_train, y_train)))\n",
    "print('The Gaussian Naive Bayes model cross_val_score is:',str(cross_val_score(gnb_model, X_train, y_train)))\n"
   ]
  },
  {
   "cell_type": "markdown",
   "metadata": {},
   "source": [
    "### Precision\n",
    "What proportion of positive identifications (defaults) was actually correct?\n",
    "When the model predicts a customer will default, how many times is it correct?\n",
    "Ideally, we want a high precision. The higher the better. "
   ]
  },
  {
   "cell_type": "code",
   "execution_count": 26,
   "metadata": {},
   "outputs": [
    {
     "name": "stdout",
     "output_type": "stream",
     "text": [
      "When the Random Forest model predicts a customer will default, it is correct 0.69352 of the time.\n",
      "When the Least Squares Support Vector Machine model predicts a customer will default, it is correct 0.29341 of the time.\n",
      "When the K-Nearest Neighbor model predicts a customer will default, it is correct 0.33840 of the time.\n",
      "When the Gaussian Naive Bayes model predicts a customer will default, it is correct 0.24622 of the time.\n"
     ]
    }
   ],
   "source": [
    "# Precision Score (Add percentage instead of decimal later)\n",
    "from sklearn.metrics import precision_score\n",
    "model=\"Random Forest\"\n",
    "score= precision_score(y_test, predictions_rf, average=\"binary\")\n",
    "print(f\"When the {model} model predicts a customer will default, it is correct {score:.5f} of the time.\")\n",
    "model=\"Least Squares Support Vector Machine\"\n",
    "score= precision_score(y_test, predictions_lssVM, average=\"binary\")\n",
    "print(f\"When the {model} model predicts a customer will default, it is correct {score:.5f} of the time.\")\n",
    "model=\"K-Nearest Neighbor\"\n",
    "score= precision_score(y_test, predictions_knn, average=\"binary\")\n",
    "print(f\"When the {model} model predicts a customer will default, it is correct {score:.5f} of the time.\")\n",
    "model=\"Gaussian Naive Bayes\"\n",
    "score= precision_score(y_test, predictions_gnb, average=\"binary\")\n",
    "print(f\"When the {model} model predicts a customer will default, it is correct {score:.5f} of the time.\")"
   ]
  },
  {
   "cell_type": "markdown",
   "metadata": {},
   "source": [
    "### Recall\n",
    "What proportion of actual positives was identified correctly?\n",
    "How many times did the model correctly identify all customers who defaulted?\n",
    "If we have false negatives, it means a customer defaulted but we did not detect it. Recall measures how many times our model predicts that a customer defaulted versus how many times customers actually defaulted. A higher score means we have little false negatives. A lower score means that the model is not correctly identifying these false negatives which is very important because this is our underlying problem. We have had customers who defaulted but we haven't successfully predicted who these customers are."
   ]
  },
  {
   "cell_type": "code",
   "execution_count": 27,
   "metadata": {},
   "outputs": [
    {
     "name": "stdout",
     "output_type": "stream",
     "text": [
      "The Random Forest model correctly identifed all customer who defaulted 0.20204 of the time.\n",
      "The Least Squares Support Vector Machine model correctly identifed all customer who defaulted 0.05000 of the time.\n",
      "The K-Nearest Neighbor model correctly identifed all customer who defaulted 0.22704 of the time.\n",
      "The Gaussian Naive Bayes model correctly identifed all customer who defaulted 0.86429 of the time.\n"
     ]
    }
   ],
   "source": [
    "#Recall Score (Add percentage instead of decimal later)\n",
    "from sklearn.metrics import recall_score\n",
    "model=\"Random Forest\"\n",
    "score= recall_score(y_test, predictions_rf, average=\"binary\")\n",
    "print(f\"The {model} model correctly identifed all customer who defaulted {score:.5f} of the time.\")\n",
    "model=\"Least Squares Support Vector Machine\"\n",
    "score= recall_score(y_test, predictions_lssVM, average=\"binary\")\n",
    "print(f\"The {model} model correctly identifed all customer who defaulted {score:.5f} of the time.\")\n",
    "model=\"K-Nearest Neighbor\"\n",
    "score= recall_score(y_test, predictions_knn, average=\"binary\")\n",
    "print(f\"The {model} model correctly identifed all customer who defaulted {score:.5f} of the time.\")\n",
    "model=\"Gaussian Naive Bayes\"\n",
    "score= recall_score(y_test, predictions_gnb, average=\"binary\")\n",
    "print(f\"The {model} model correctly identifed all customer who defaulted {score:.5f} of the time.\")"
   ]
  },
  {
   "cell_type": "markdown",
   "metadata": {},
   "source": [
    "### F1 Score\n",
    "F1 = 2 * (precision * recall) / (precision + recall)\n",
    "Combines precision and recall. We want a model with the highest F1 score. "
   ]
  },
  {
   "cell_type": "code",
   "execution_count": 28,
   "metadata": {
    "scrolled": true
   },
   "outputs": [
    {
     "name": "stdout",
     "output_type": "stream",
     "text": [
      "The Random Forest model has an f1 score of 0.31292 .\n",
      "The Least Squares Support Vector Machine model has an f1 score of 0.08544 .\n",
      "The K-Nearest Neighbor model has an f1 score of 0.27176 .\n",
      "The Gaussian Naive Bayes model has an f1 score of 0.38326 .\n"
     ]
    }
   ],
   "source": [
    "from sklearn.metrics import f1_score\n",
    "model=\"Random Forest\"\n",
    "score= f1_score(y_test, predictions_rf, average=\"binary\")\n",
    "print(f\"The {model} model has an f1 score of {score:.5f} .\")\n",
    "model=\"Least Squares Support Vector Machine\"\n",
    "score= f1_score(y_test, predictions_lssVM, average=\"binary\")\n",
    "print(f\"The {model} model has an f1 score of {score:.5f} .\")\n",
    "model=\"K-Nearest Neighbor\"\n",
    "score= f1_score(y_test, predictions_knn, average=\"binary\")\n",
    "print(f\"The {model} model has an f1 score of {score:.5f} .\")\n",
    "model=\"Gaussian Naive Bayes\"\n",
    "score= f1_score(y_test, predictions_gnb, average=\"binary\")\n",
    "print(f\"The {model} model has an f1 score of {score:.5f} .\")\n"
   ]
  },
  {
   "cell_type": "markdown",
   "metadata": {},
   "source": [
    "### Combined Bar Chart of Models: Actual vs Predictions"
   ]
  },
  {
   "cell_type": "code",
   "execution_count": 29,
   "metadata": {},
   "outputs": [
    {
     "ename": "NameError",
     "evalue": "name 'results_lr' is not defined",
     "output_type": "error",
     "traceback": [
      "\u001b[0;31m---------------------------------------------------------------------------\u001b[0m",
      "\u001b[0;31mNameError\u001b[0m                                 Traceback (most recent call last)",
      "\u001b[0;32m<ipython-input-29-19309b72687d>\u001b[0m in \u001b[0;36m<module>\u001b[0;34m\u001b[0m\n\u001b[1;32m      2\u001b[0m \u001b[0msns\u001b[0m\u001b[0;34m.\u001b[0m\u001b[0mdespine\u001b[0m\u001b[0;34m(\u001b[0m\u001b[0mleft\u001b[0m\u001b[0;34m=\u001b[0m\u001b[0;32mTrue\u001b[0m\u001b[0;34m)\u001b[0m\u001b[0;34m\u001b[0m\u001b[0;34m\u001b[0m\u001b[0m\n\u001b[1;32m      3\u001b[0m \u001b[0;34m\u001b[0m\u001b[0m\n\u001b[0;32m----> 4\u001b[0;31m \u001b[0msns\u001b[0m\u001b[0;34m.\u001b[0m\u001b[0mcountplot\u001b[0m\u001b[0;34m(\u001b[0m\u001b[0mx\u001b[0m\u001b[0;34m=\u001b[0m\u001b[0;34m'actualResults'\u001b[0m\u001b[0;34m,\u001b[0m \u001b[0mdata\u001b[0m \u001b[0;34m=\u001b[0m \u001b[0mresults_lr\u001b[0m\u001b[0;34m,\u001b[0m \u001b[0max\u001b[0m\u001b[0;34m=\u001b[0m\u001b[0maxes\u001b[0m\u001b[0;34m[\u001b[0m\u001b[0;36m0\u001b[0m\u001b[0;34m]\u001b[0m\u001b[0;34m,\u001b[0m \u001b[0mpalette\u001b[0m\u001b[0;34m=\u001b[0m\u001b[0;34m\"Greens\"\u001b[0m \u001b[0;34m)\u001b[0m\u001b[0;34m\u001b[0m\u001b[0;34m\u001b[0m\u001b[0m\n\u001b[0m\u001b[1;32m      5\u001b[0m \u001b[0msns\u001b[0m\u001b[0;34m.\u001b[0m\u001b[0mcountplot\u001b[0m\u001b[0;34m(\u001b[0m\u001b[0mx\u001b[0m\u001b[0;34m=\u001b[0m\u001b[0;34m'predictions_rf'\u001b[0m\u001b[0;34m,\u001b[0m \u001b[0mdata\u001b[0m \u001b[0;34m=\u001b[0m \u001b[0mresults_rf\u001b[0m\u001b[0;34m,\u001b[0m \u001b[0max\u001b[0m\u001b[0;34m=\u001b[0m\u001b[0maxes\u001b[0m\u001b[0;34m[\u001b[0m\u001b[0;36m1\u001b[0m\u001b[0;34m]\u001b[0m \u001b[0;34m)\u001b[0m\u001b[0;34m\u001b[0m\u001b[0;34m\u001b[0m\u001b[0m\n\u001b[1;32m      6\u001b[0m \u001b[0msns\u001b[0m\u001b[0;34m.\u001b[0m\u001b[0mcountplot\u001b[0m\u001b[0;34m(\u001b[0m\u001b[0mx\u001b[0m\u001b[0;34m=\u001b[0m\u001b[0;34m'predictions_lssVM'\u001b[0m\u001b[0;34m,\u001b[0m \u001b[0mdata\u001b[0m \u001b[0;34m=\u001b[0m\u001b[0mresults_lssVM\u001b[0m\u001b[0;34m,\u001b[0m \u001b[0max\u001b[0m\u001b[0;34m=\u001b[0m\u001b[0maxes\u001b[0m\u001b[0;34m[\u001b[0m\u001b[0;36m2\u001b[0m\u001b[0;34m]\u001b[0m \u001b[0;34m)\u001b[0m\u001b[0;34m\u001b[0m\u001b[0;34m\u001b[0m\u001b[0m\n",
      "\u001b[0;31mNameError\u001b[0m: name 'results_lr' is not defined"
     ]
    },
    {
     "data": {
      "image/png": "[encoded data removed]",
      "text/plain": [
       "<Figure size 864x432 with 5 Axes>"
      ]
     },
     "metadata": {
      "needs_background": "light"
     },
     "output_type": "display_data"
    }
   ],
   "source": [
    "fig, axes = plt.subplots(1,5, sharex=True, sharey= True, figsize=(12,6))\n",
    "sns.despine(left=True)\n",
    "\n",
    "sns.countplot(x='actualResults', data = results_lr, ax=axes[0], palette=\"Greens\" )\n",
    "sns.countplot(x='predictions_rf', data = results_rf, ax=axes[1] )\n",
    "sns.countplot(x='predictions_lssVM', data =results_lssVM, ax=axes[2] )\n",
    "sns.countplot(x='predictions_knn', data = results_knn, ax=axes[3] )\n",
    "sns.countplot(x='predictions_gnb', data = results_gnb, ax=axes[4] )\n",
    "\n",
    "fig.tight_layout()\n",
    "\n",
    "for ax in axes.flat:\n",
    "    ax.label_outer()"
   ]
  },
  {
   "cell_type": "markdown",
   "metadata": {},
   "source": [
    "# Classification (3 Models) - Second Attempt\n",
    "\n",
    "Which algorithms should we try?\n",
    "\n",
    "- Linear Classifiers: Naive Bayes classifier\n",
    "- Kernel estimation: k-nearest neighbor \n",
    "- Decision trees: Random forests"
   ]
  },
  {
   "cell_type": "markdown",
   "metadata": {},
   "source": [
    "While doing the EDA, I have come up with several ways to improve the models:\n",
    "\n",
    "- Outliers\n",
    "- Dimension Reduction\n",
    " - Multicollinearity : Monthly Bills\n",
    "- Class Imbalance Techniques\n",
    "\n",
    "The first technique I will try in improving this model is by reducing the dimensions. Are there any improvements when removing highly correlated variables like monthly bill amounts?"
   ]
  },
  {
   "cell_type": "markdown",
   "metadata": {},
   "source": [
    "## Dimension Reduction - Multicollinearity"
   ]
  },
  {
   "cell_type": "code",
   "execution_count": 74,
   "metadata": {},
   "outputs": [],
   "source": [
    "# Start Fresh\n",
    "\n",
    "## load data\n",
    "rawData = pd.read_csv('creditFiltered.csv', header=0)\n",
    "\n",
    "## change categorical variables to category type\n",
    "rawData['sex'] = rawData.sex.astype('category')\n",
    "rawData['edu'] = rawData.edu.astype('category')\n",
    "rawData['marriage'] = rawData.marriage.astype('category')\n",
    "rawData['pay1'] = rawData.pay1.astype('category')\n",
    "rawData['pay2'] = rawData.pay2.astype('category')\n",
    "rawData['pay3'] = rawData.pay3.astype('category')\n",
    "rawData['pay4'] = rawData.pay4.astype('category')\n",
    "rawData['pay5'] = rawData.pay5.astype('category')\n",
    "rawData['pay6'] = rawData.pay6.astype('category')\n",
    "rawData['default'] = rawData.default.astype('category')"
   ]
  },
  {
   "cell_type": "code",
   "execution_count": 75,
   "metadata": {},
   "outputs": [],
   "source": [
    "# remove Bill Amounts from features\n",
    "cols = ['limit', 'sex', 'edu', 'marriage', 'age', 'pay1',\n",
    "       'pay2', 'pay3', 'pay4', 'pay5', 'pay6', 'paid1', 'paid2', 'paid3', 'paid4', 'paid5',\n",
    "       'paid6', 'default']\n",
    "X = rawData[cols]\n",
    "y = rawData['default']"
   ]
  },
  {
   "cell_type": "code",
   "execution_count": 76,
   "metadata": {},
   "outputs": [],
   "source": [
    "X_train, X_test, y_train, y_test = train_test_split(\n",
    "...     X, y, test_size=0.3, random_state=42)"
   ]
  },
  {
   "cell_type": "markdown",
   "metadata": {},
   "source": [
    "### Random Forest"
   ]
  },
  {
   "cell_type": "code",
   "execution_count": 35,
   "metadata": {},
   "outputs": [],
   "source": [
    "# Random Forest Model \n",
    "rf_model = RandomForestClassifier(max_depth=2, random_state=0)\n",
    "rf_model.fit(X_train, y_train)\n",
    "predictions_rf= rf_model.predict(X_test)"
   ]
  },
  {
   "cell_type": "code",
   "execution_count": null,
   "metadata": {},
   "outputs": [],
   "source": [
    "# Create pandas data frame of prediction and y_test results and plot it\n",
    "\n",
    "predictions_df = pd.DataFrame(predictions_rf)\n",
    "predictions_df.columns = ['predictions_rf']\n",
    "predictions_df.reset_index(drop=True, inplace=True)\n",
    "ytest_df = pd.DataFrame(y_test)\n",
    "ytest_df.columns = ['actualResults']\n",
    "ytest_df.reset_index(drop=True, inplace=True)\n",
    "res = [ytest_df,predictions_df]\n",
    "results_rf = pd.concat(res,sort=False, axis = 1)\n",
    "\n",
    "fig, axes = plt.subplots(1,2, sharex=True, sharey= True)\n",
    "sns.despine(left=True)\n",
    "\n",
    "sns.countplot(x='actualResults', data = results_rf, ax=axes[0] )\n",
    "sns.countplot(x='predictions_rf', data = results_rf, ax=axes[1] )"
   ]
  },
  {
   "cell_type": "markdown",
   "metadata": {},
   "source": [
    "### K- Nearest Neighbor"
   ]
  },
  {
   "cell_type": "code",
   "execution_count": 36,
   "metadata": {},
   "outputs": [],
   "source": [
    "# K- Nearest Neighbor\n",
    "knn_model = KNeighborsClassifier(n_neighbors=3)\n",
    "knn_model.fit(X_train, y_train)\n",
    "predictions_knn = knn_model.predict(X_test)"
   ]
  },
  {
   "cell_type": "code",
   "execution_count": null,
   "metadata": {},
   "outputs": [],
   "source": [
    "# Create pandas data frame of prediction and y_test results and plot it\n",
    "\n",
    "predictions_df = pd.DataFrame(predictions_knn)\n",
    "predictions_df.columns = ['predictions_knn']\n",
    "predictions_df.reset_index(drop=True, inplace=True)\n",
    "ytest_df = pd.DataFrame(y_test)\n",
    "ytest_df.columns = ['actualResults']\n",
    "ytest_df.reset_index(drop=True, inplace=True)\n",
    "res = [ytest_df,predictions_df]\n",
    "results_knn = pd.concat(res,sort=False, axis = 1)\n",
    "\n",
    "fig, axes = plt.subplots(1,2, sharex=True, sharey= True)\n",
    "sns.despine(left=True)\n",
    "\n",
    "sns.countplot(x='actualResults', data = results_knn, ax=axes[0] )\n",
    "sns.countplot(x='predictions_knn', data = results_knn, ax=axes[1] )"
   ]
  },
  {
   "cell_type": "markdown",
   "metadata": {},
   "source": [
    "### Gaussian Naive Bayes"
   ]
  },
  {
   "cell_type": "code",
   "execution_count": 77,
   "metadata": {},
   "outputs": [],
   "source": [
    "# Gaussian Naive Bayes\n",
    "gnb_model = GaussianNB()\n",
    "gnb_model.fit(X_train, y_train)\n",
    "predictions_gnb=gnb_model.predict(X_test)"
   ]
  },
  {
   "cell_type": "code",
   "execution_count": null,
   "metadata": {
    "scrolled": true
   },
   "outputs": [],
   "source": [
    "# Create pandas data frame of prediction and y_test results and plot it\n",
    "\n",
    "predictions_df = pd.DataFrame(predictions_gnb)\n",
    "predictions_df.columns = ['predictions_gnb']\n",
    "predictions_df.reset_index(drop=True, inplace=True)\n",
    "ytest_df = pd.DataFrame(y_test)\n",
    "ytest_df.columns = ['actualResults']\n",
    "ytest_df.reset_index(drop=True, inplace=True)\n",
    "res = [ytest_df,predictions_df]\n",
    "results_gnb = pd.concat(res,sort=False, axis = 1)\n",
    "\n",
    "fig, axes = plt.subplots(1,2, sharex=True, sharey= True)\n",
    "sns.despine(left=True)\n",
    "\n",
    "sns.countplot(x='actualResults', data = results_gnb, ax=axes[0] )\n",
    "sns.countplot(x='predictions_gnb', data = results_gnb, ax=axes[1] )"
   ]
  },
  {
   "cell_type": "markdown",
   "metadata": {},
   "source": [
    "### Performance Metrics for Models (Second Attempt - Multicollinearity)"
   ]
  },
  {
   "cell_type": "markdown",
   "metadata": {},
   "source": [
    "####  Recall\n"
   ]
  },
  {
   "cell_type": "code",
   "execution_count": 78,
   "metadata": {},
   "outputs": [
    {
     "name": "stdout",
     "output_type": "stream",
     "text": [
      "The Random Forest model correctly identifed all customer who defaulted 0.73469 of the time.\n",
      "The K-Nearest Neighbor model correctly identifed all customer who defaulted 0.22245 of the time.\n",
      "The Gaussian Naive Bayes model correctly identifed all customer who defaulted 0.89694 of the time.\n"
     ]
    }
   ],
   "source": [
    "#Recall Score (Add percentage instead of decimal later)\n",
    "model=\"Random Forest\"\n",
    "score= recall_score(y_test, predictions_rf, average=\"binary\")\n",
    "print(f\"The {model} model correctly identifed all customer who defaulted {score:.5f} of the time.\")\n",
    "model=\"K-Nearest Neighbor\"\n",
    "score= recall_score(y_test, predictions_knn, average=\"binary\")\n",
    "print(f\"The {model} model correctly identifed all customer who defaulted {score:.5f} of the time.\")\n",
    "model=\"Gaussian Naive Bayes\"\n",
    "score= recall_score(y_test, predictions_gnb, average=\"binary\")\n",
    "print(f\"The {model} model correctly identifed all customer who defaulted {score:.5f} of the time.\")"
   ]
  },
  {
   "cell_type": "markdown",
   "metadata": {},
   "source": [
    "#### F1 Score\n",
    "F1 = 2 * (precision * recall) / (precision + recall)\n",
    "Combines precision and recall. We want a model with the highest F1 score. "
   ]
  },
  {
   "cell_type": "code",
   "execution_count": 79,
   "metadata": {
    "scrolled": true
   },
   "outputs": [
    {
     "name": "stdout",
     "output_type": "stream",
     "text": [
      "The Random Forest model has an f1 score of 0.84706 .\n",
      "The K-Nearest Neighbor model has an f1 score of 0.27267 .\n",
      "The Gaussian Naive Bayes model has an f1 score of 0.38447 .\n"
     ]
    }
   ],
   "source": [
    "model=\"Random Forest\"\n",
    "score= f1_score(y_test, predictions_rf, average=\"binary\")\n",
    "print(f\"The {model} model has an f1 score of {score:.5f} .\")\n",
    "model=\"K-Nearest Neighbor\"\n",
    "score= f1_score(y_test, predictions_knn, average=\"binary\")\n",
    "print(f\"The {model} model has an f1 score of {score:.5f} .\")\n",
    "model=\"Gaussian Naive Bayes\"\n",
    "score= f1_score(y_test, predictions_gnb, average=\"binary\")\n",
    "print(f\"The {model} model has an f1 score of {score:.5f} .\")\n"
   ]
  },
  {
   "cell_type": "markdown",
   "metadata": {},
   "source": [
    "#### Combined Bar Chart of Models: Actual vs Predictions"
   ]
  },
  {
   "cell_type": "code",
   "execution_count": null,
   "metadata": {},
   "outputs": [],
   "source": [
    "fig, axes = plt.subplots(1,4, sharex=True, sharey= True, figsize=(12,6))\n",
    "sns.despine(left=True)\n",
    "\n",
    "sns.countplot(x='actualResults', data = results_lr, ax=axes[0], palette=\"Greens\" )\n",
    "sns.countplot(x='predictions_rf', data = results_rf, ax=axes[1] )\n",
    "sns.countplot(x='predictions_knn', data = results_knn, ax=axes[2] )\n",
    "sns.countplot(x='predictions_gnb', data = results_gnb, ax=axes[3] )\n",
    "\n",
    "fig.tight_layout()\n",
    "\n",
    "for ax in axes.flat:\n",
    "    ax.label_outer()"
   ]
  },
  {
   "cell_type": "markdown",
   "metadata": {},
   "source": [
    "Notes:\n",
    "\n",
    "Recall Score before:\n",
    "\n",
    "- The Random Forest model correctly identifed all customer who defaulted 0.20453 of the time.\n",
    "- The Least Squares Support Vector Machine model correctly identifed all customer who defaulted 0.00258 of the time.\n",
    "- The K-Nearest Neighbor model correctly identifed all customer who defaulted 0.23802 of the time.\n",
    "- The Gaussian Naive Bayest model correctly identifed all customer who defaulted 0.79650 of the time.\n",
    "\n",
    "Recall Score After:\n",
    "\n",
    " - The Random Forest model correctly identifed all customer who defaulted 0.70222 of the time.\n",
    " - The K-Nearest Neighbor model correctly identifed all customer who defaulted 0.22308 of the time.\n",
    " - The Gaussian Naive Bayes model correctly identifed all customer who defaulted 0.81659 of the time.\n",
    "\n",
    "\n",
    "\n",
    "F1 Score before:\n",
    "\n",
    "\n",
    " - <span style=\"color:red\"> The Random Forest model has an f1 score of 0.31913 . </span>\n",
    " - The Least Squares Support Vector Machine model has an f1 score of 0.00512 .\n",
    " - The K-Nearest Neighbor model has an f1 score of 0.28812 .\n",
    " - The Gaussian Naive Bayes model has an f1 score of 0.40679 .\n",
    "\n",
    "F1 Score after:\n",
    "\n",
    " - <span style=\"color:red\"> The Random Forest model has an f1 score of 0.82506 . </span>\n",
    " - The K-Nearest Neighbor model has an f1 score of 0.27545.\n",
    " - The Gaussian Naive Bayes model has an f1 score of 0.40787.\n",
    " \n",
    "Knn did not benefit from removing multocollinearity. It's F1 and Recall score decreased slighly. Gaussian Naive Bayes benefited only slighly Random Forest improved tremendously. "
   ]
  },
  {
   "cell_type": "markdown",
   "metadata": {},
   "source": [
    "## Recursive Feature Elimination\n",
    "\n",
    "* I chose RFE over PCA because when looking at variance in EDA, there weren't features with low variance. \n",
    "\n",
    "* Let's find top 20 features (then 15)"
   ]
  },
  {
   "cell_type": "markdown",
   "metadata": {},
   "source": [
    "### Recursive Feature Elimination for Random Forest\n"
   ]
  },
  {
   "cell_type": "code",
   "execution_count": null,
   "metadata": {},
   "outputs": [],
   "source": [
    "X_train, X_test, y_train, y_test = train_test_split(\n",
    "...     X, y, test_size=0.3, random_state=42)"
   ]
  },
  {
   "cell_type": "code",
   "execution_count": null,
   "metadata": {},
   "outputs": [],
   "source": [
    "from sklearn.feature_selection import RFE\n",
    "\n",
    "\n",
    "#rf_model = RandomForestClassifier(max_depth=2, random_state=0)\n",
    "#rf_model.fit(X_train, y_train)\n",
    "#predictions_rf= rf_model.predict(X_test)\n",
    "\n",
    "\n",
    "\n",
    "# Feature extraction\n",
    "model = RandomForestClassifier()\n",
    "rfe = RFE(model, 20)\n",
    "fit = rfe.fit(X_train, y_train)\n",
    "print(\"Num Features: %s\" % (fit.n_features_))\n",
    "print(\"Selected Features: %s\" % (fit.support_))\n",
    "print(\"Feature Ranking: %s\" % (fit.ranking_))\n",
    "\n",
    "\n",
    "#X = rawData.iloc[:,2:24]\n",
    "#y = rawData['default']"
   ]
  },
  {
   "cell_type": "code",
   "execution_count": null,
   "metadata": {},
   "outputs": [],
   "source": [
    "print(\"All Features: %s\" % (X_train.columns) )\n"
   ]
  },
  {
   "cell_type": "markdown",
   "metadata": {},
   "source": [
    "This is really surprising. I would have expected bills to have the least rating. Instead, they're all important except for sex and lastly, marriage. How surprising. "
   ]
  },
  {
   "cell_type": "markdown",
   "metadata": {},
   "source": [
    "### Run Random Forest with RFE Features Only"
   ]
  },
  {
   "cell_type": "code",
   "execution_count": null,
   "metadata": {},
   "outputs": [],
   "source": [
    "# Remove Sex and Marriage as Features\n",
    "cols = ['limit', 'edu', 'age', 'pay1', 'pay2', 'pay3',\n",
    "       'pay4', 'pay5', 'pay6', 'bill1', 'bill2', 'bill3', 'bill4', 'bill5',\n",
    "       'bill6', 'paid1', 'paid2', 'paid3', 'paid4', 'paid5']\n",
    "\n",
    "\n",
    "X = rawData[cols]\n",
    "y = rawData['default']\n"
   ]
  },
  {
   "cell_type": "code",
   "execution_count": null,
   "metadata": {},
   "outputs": [],
   "source": [
    "X_train, X_test, y_train, y_test = train_test_split(\n",
    "...     X, y, test_size=0.3, random_state=42)"
   ]
  },
  {
   "cell_type": "code",
   "execution_count": null,
   "metadata": {},
   "outputs": [],
   "source": [
    "# Random Forest Model \n",
    "rf_model = RandomForestClassifier(max_depth=2, random_state=0)\n",
    "rf_model.fit(X_train, y_train)\n",
    "predictions_rf_rfe= rf_model.predict(X_test)"
   ]
  },
  {
   "cell_type": "code",
   "execution_count": null,
   "metadata": {},
   "outputs": [],
   "source": [
    "model=\"Random Forest\"\n",
    "score= recall_score(y_test, predictions_rf_rfe, average=\"binary\")\n",
    "print(f\"The {model} model correctly identifed all customer who defaulted {score:.5f} of the time.\")\n",
    "score= f1_score(y_test, predictions_rf_rfe, average=\"binary\")\n",
    "print(f\"The {model} model has an f1 score of {score:.5f} .\")"
   ]
  },
  {
   "cell_type": "markdown",
   "metadata": {},
   "source": [
    "### Run Random Forest with RFE Features  and Bill Features Removed"
   ]
  },
  {
   "cell_type": "code",
   "execution_count": null,
   "metadata": {},
   "outputs": [],
   "source": [
    "# Remove Sex and Marriage and Bills as Features\n",
    "cols = ['limit','edu', 'age', 'pay1', 'pay2', 'pay3',\n",
    "       'pay4', 'pay5', 'pay6', 'paid1', 'paid2', 'paid3', 'paid4', 'paid5']\n",
    "\n",
    "\n",
    "X = rawData[cols]\n",
    "y = rawData['default']\n"
   ]
  },
  {
   "cell_type": "code",
   "execution_count": null,
   "metadata": {},
   "outputs": [],
   "source": [
    "X_train, X_test, y_train, y_test = train_test_split(\n",
    "...     X, y, test_size=0.3, random_state=42)"
   ]
  },
  {
   "cell_type": "code",
   "execution_count": null,
   "metadata": {},
   "outputs": [],
   "source": [
    "# Random Forest Model \n",
    "rf_model = RandomForestClassifier(max_depth=2, random_state=0)\n",
    "rf_model.fit(X_train, y_train)\n",
    "predictions_rf_rfe= rf_model.predict(X_test)"
   ]
  },
  {
   "cell_type": "code",
   "execution_count": null,
   "metadata": {},
   "outputs": [],
   "source": [
    "model=\"Random Forest\"\n",
    "score= recall_score(y_test, predictions_rf_rfe, average=\"binary\")\n",
    "print(f\"The {model} model correctly identifed all customer who defaulted {score:.5f} of the time.\")\n",
    "score= f1_score(y_test, predictions_rf_rfe, average=\"binary\")\n",
    "print(f\"The {model} model has an f1 score of {score:.5f} .\")"
   ]
  },
  {
   "cell_type": "markdown",
   "metadata": {},
   "source": [
    "### RFE: KNN and GNG\n",
    "\n",
    "KNN and GNB do not support RFE"
   ]
  },
  {
   "cell_type": "markdown",
   "metadata": {},
   "source": [
    "## Remove Outliers\n",
    "\n",
    "Our features that have outliers\n",
    "\n",
    "Continuous \n",
    " - Limit (remove limits higher than 525,000 per IQR test)\n",
    " - Monthly Bills (we will remove this variable, so no need to remove outliers here)\n",
    " - Monthly Payments\n",
    " \n",
    " IQR Test for Monthly Payments (from EDA):\n",
    " \n",
    "lowOutliers: -5009.0 highOutliers: 11015.0\n",
    "lowOutliers: -5417.5 highOutliers: 11250.5\n",
    "lowOutliers: -5782.5 highOutliers: 10677.5\n",
    "lowOutliers: -5279.875 highOutliers: 9589.125\n",
    "lowOutliers: -5416.0 highOutliers: 9700.0\n",
    "lowOutliers: -5705.625 highOutliers: 9823.375\n",
    " \n",
    "* No monthly payments were negative (credits) so no need to remove low outliers.  \n",
    " \n",
    "Categorical (leave as is for now)\n",
    " - Sex\n",
    " - Edu\n",
    " - Marriage\n",
    " - Paid Status"
   ]
  },
  {
   "cell_type": "code",
   "execution_count": 64,
   "metadata": {},
   "outputs": [],
   "source": [
    "# Start Fresh\n",
    "\n",
    "## load data\n",
    "rawData = pd.read_csv('creditFiltered.csv', header=0)\n",
    "\n",
    "## change categorical variables to category type\n",
    "rawData['sex'] = rawData.sex.astype('category')\n",
    "rawData['edu'] = rawData.edu.astype('category')\n",
    "rawData['marriage'] = rawData.marriage.astype('category')\n",
    "rawData['pay1'] = rawData.pay1.astype('category')\n",
    "rawData['pay2'] = rawData.pay2.astype('category')\n",
    "rawData['pay3'] = rawData.pay3.astype('category')\n",
    "rawData['pay4'] = rawData.pay4.astype('category')\n",
    "rawData['pay5'] = rawData.pay5.astype('category')\n",
    "rawData['pay6'] = rawData.pay6.astype('category')\n",
    "rawData['default'] = rawData.default.astype('category')\n",
    "\n"
   ]
  },
  {
   "cell_type": "code",
   "execution_count": 65,
   "metadata": {},
   "outputs": [],
   "source": [
    "# Code to remove outliers\n",
    "\n",
    "rawData = rawData[rawData.limit < 11015]\n",
    "rawData = rawData[rawData.paid1 < 11250.5]\n",
    "rawData = rawData[rawData.paid2 < 10677.5]\n",
    "rawData = rawData[rawData.paid3 < 9589.125]\n",
    "rawData = rawData[rawData.paid4 < 9700]\n",
    "rawData = rawData[rawData.paid5 < 525000]\n",
    "rawData = rawData[rawData.paid6 < 9823.375]"
   ]
  },
  {
   "cell_type": "code",
   "execution_count": 66,
   "metadata": {},
   "outputs": [],
   "source": [
    "X = rawData.iloc[:,2:24]\n",
    "y = rawData['default']"
   ]
  },
  {
   "cell_type": "code",
   "execution_count": 67,
   "metadata": {},
   "outputs": [],
   "source": [
    "X_train, X_test, y_train, y_test = train_test_split(\n",
    "...     X, y, test_size=0.3, random_state=42)"
   ]
  },
  {
   "cell_type": "markdown",
   "metadata": {},
   "source": [
    "### Random Forest without Outliers"
   ]
  },
  {
   "cell_type": "code",
   "execution_count": 68,
   "metadata": {},
   "outputs": [],
   "source": [
    "# Random Forest Model \n",
    "rf_model = RandomForestClassifier(max_depth=2, random_state=0)\n",
    "rf_model.fit(X_train, y_train)\n",
    "predictions_rf_noOutliers= rf_model.predict(X_test)"
   ]
  },
  {
   "cell_type": "code",
   "execution_count": 69,
   "metadata": {
    "scrolled": true
   },
   "outputs": [
    {
     "name": "stdout",
     "output_type": "stream",
     "text": [
      "The Random Forest model correctly identifed all customer who defaulted 0.44898 of the time.\n",
      "The Random Forest model has an f1 score of 0.52381 .\n"
     ]
    }
   ],
   "source": [
    "model=\"Random Forest\"\n",
    "score= recall_score(y_test, predictions_rf_noOutliers, average=\"binary\")\n",
    "print(f\"The {model} model correctly identifed all customer who defaulted {score:.5f} of the time.\")\n",
    "score= f1_score(y_test, predictions_rf_noOutliers, average=\"binary\")\n",
    "print(f\"The {model} model has an f1 score of {score:.5f} .\")"
   ]
  },
  {
   "cell_type": "markdown",
   "metadata": {},
   "source": [
    "### K-Nearest Neighbors without Outliers"
   ]
  },
  {
   "cell_type": "code",
   "execution_count": 70,
   "metadata": {},
   "outputs": [],
   "source": [
    "# K- Nearest Neighbor\n",
    "knn_model = KNeighborsClassifier(n_neighbors=3)\n",
    "knn_model.fit(X_train, y_train)\n",
    "predictions_knn_no_outliers = knn_model.predict(X_test)"
   ]
  },
  {
   "cell_type": "code",
   "execution_count": 71,
   "metadata": {},
   "outputs": [
    {
     "name": "stdout",
     "output_type": "stream",
     "text": [
      "The K-Nearest Neighbor model correctly identifed all customer who defaulted 0.53061 of the time.\n",
      "The K-Nearest Neighbor model has an f1 score of 0.46429 .\n"
     ]
    }
   ],
   "source": [
    "model=\"K-Nearest Neighbor\"\n",
    "score= recall_score(y_test, predictions_knn_no_outliers, average=\"binary\")\n",
    "print(f\"The {model} model correctly identifed all customer who defaulted {score:.5f} of the time.\")\n",
    "\n",
    "model=\"K-Nearest Neighbor\"\n",
    "score= f1_score(y_test, predictions_knn_no_outliers, average=\"binary\")\n",
    "print(f\"The {model} model has an f1 score of {score:.5f} .\")\n"
   ]
  },
  {
   "cell_type": "markdown",
   "metadata": {},
   "source": [
    "### Gaussian Naive Bayes without Outliers"
   ]
  },
  {
   "cell_type": "code",
   "execution_count": 72,
   "metadata": {},
   "outputs": [],
   "source": [
    "# Gaussian Naive Bayes\n",
    "gnb_model = GaussianNB()\n",
    "gnb_model.fit(X_train, y_train)\n",
    "predictions_gnb_no_outliers=gnb_model.predict(X_test)"
   ]
  },
  {
   "cell_type": "code",
   "execution_count": 73,
   "metadata": {},
   "outputs": [
    {
     "name": "stdout",
     "output_type": "stream",
     "text": [
      "The Gaussian Naive Bayes model correctly identifed all customer who defaulted 0.51020 of the time.\n",
      "The Gaussian Naive Bayes model has an f1 score of 0.48544 .\n"
     ]
    }
   ],
   "source": [
    "model=\"Gaussian Naive Bayes\"\n",
    "score= recall_score(y_test, predictions_gnb_no_outliers, average=\"binary\")\n",
    "print(f\"The {model} model correctly identifed all customer who defaulted {score:.5f} of the time.\")\n",
    "\n",
    "model=\"Gaussian Naive Bayes\"\n",
    "score= f1_score(y_test, predictions_gnb_no_outliers, average=\"binary\")\n",
    "print(f\"The {model} model has an f1 score of {score:.5f} .\")\n",
    "\n"
   ]
  },
  {
   "cell_type": "markdown",
   "metadata": {},
   "source": [
    "# Classification (3 Models) - Third Attempt"
   ]
  },
  {
   "cell_type": "code",
   "execution_count": 85,
   "metadata": {},
   "outputs": [],
   "source": [
    "# Start Fresh\n",
    "\n",
    "## load data\n",
    "rawData = pd.read_csv('creditFiltered.csv', header=0)\n",
    "\n",
    "## change categorical variables to category type\n",
    "rawData['sex'] = rawData.sex.astype('category')\n",
    "rawData['edu'] = rawData.edu.astype('category')\n",
    "rawData['marriage'] = rawData.marriage.astype('category')\n",
    "rawData['pay1'] = rawData.pay1.astype('category')\n",
    "rawData['pay2'] = rawData.pay2.astype('category')\n",
    "rawData['pay3'] = rawData.pay3.astype('category')\n",
    "rawData['pay4'] = rawData.pay4.astype('category')\n",
    "rawData['pay5'] = rawData.pay5.astype('category')\n",
    "rawData['pay6'] = rawData.pay6.astype('category')\n",
    "rawData['default'] = rawData.default.astype('category')\n",
    "\n"
   ]
  },
  {
   "cell_type": "code",
   "execution_count": 86,
   "metadata": {},
   "outputs": [],
   "source": [
    "# Remove outliers\n",
    "\n",
    "rawData = rawData[rawData.limit < 11015]\n",
    "rawData = rawData[rawData.paid1 < 11250.5]\n",
    "rawData = rawData[rawData.paid2 < 10677.5]\n",
    "rawData = rawData[rawData.paid3 < 9589.125]\n",
    "rawData = rawData[rawData.paid4 < 9700]\n",
    "rawData = rawData[rawData.paid5 < 525000]\n",
    "rawData = rawData[rawData.paid6 < 9823.375]"
   ]
  },
  {
   "cell_type": "code",
   "execution_count": 87,
   "metadata": {},
   "outputs": [],
   "source": [
    "# remove Bill columns from features\n",
    "cols = ['limit', 'sex', 'edu', 'marriage', 'age', 'pay1',\n",
    "       'pay2', 'pay3', 'pay4', 'pay5', 'pay6', 'paid1', 'paid2', 'paid3', 'paid4', 'paid5',\n",
    "       'paid6', 'default']\n",
    "X = rawData[cols]\n",
    "y = rawData['default']"
   ]
  },
  {
   "cell_type": "markdown",
   "metadata": {},
   "source": [
    "## Random Forest\n",
    "Remove Bill Column, Remove Outliers"
   ]
  },
  {
   "cell_type": "code",
   "execution_count": 58,
   "metadata": {},
   "outputs": [],
   "source": [
    "X_train, X_test, y_train, y_test = train_test_split(\n",
    "...     X, y, test_size=0.3, random_state=98)"
   ]
  },
  {
   "cell_type": "code",
   "execution_count": 59,
   "metadata": {},
   "outputs": [],
   "source": [
    "# Random Forest Model \n",
    "rf_model = RandomForestClassifier(max_depth=3, random_state=5)\n",
    "rf_model.fit(X_train, y_train)\n",
    "pred_rf_OutBills= rf_model.predict(X_test)"
   ]
  },
  {
   "cell_type": "code",
   "execution_count": 60,
   "metadata": {},
   "outputs": [
    {
     "name": "stdout",
     "output_type": "stream",
     "text": [
      "The Random Forest model correctly identifed all customer who defaulted 1.00000 of the time.\n",
      "The Random Forest model has an f1 score of 1.00000 .\n"
     ]
    }
   ],
   "source": [
    "model=\"Random Forest\"\n",
    "score= recall_score(y_test, pred_rf_OutBills, average=\"binary\")\n",
    "print(f\"The {model} model correctly identifed all customer who defaulted {score:.5f} of the time.\")\n",
    "score= f1_score(y_test, pred_rf_OutBills, average=\"binary\")\n",
    "print(f\"The {model} model has an f1 score of {score:.5f} .\")"
   ]
  },
  {
   "cell_type": "markdown",
   "metadata": {},
   "source": [
    "## K-Nearest Neighbor\n",
    "Remove Bill Column, Remove Outliers"
   ]
  },
  {
   "cell_type": "code",
   "execution_count": 61,
   "metadata": {},
   "outputs": [],
   "source": [
    "X_train, X_test, y_train, y_test = train_test_split(\n",
    "...     X, y, test_size=0.3, random_state=98)"
   ]
  },
  {
   "cell_type": "code",
   "execution_count": 62,
   "metadata": {},
   "outputs": [],
   "source": [
    "# K- Nearest Neighbor\n",
    "knn_model = KNeighborsClassifier(n_neighbors=3)\n",
    "knn_model.fit(X_train, y_train)\n",
    "pred_knn_OutBills = knn_model.predict(X_test)"
   ]
  },
  {
   "cell_type": "code",
   "execution_count": 63,
   "metadata": {
    "scrolled": true
   },
   "outputs": [
    {
     "name": "stdout",
     "output_type": "stream",
     "text": [
      "The K-Nearest Neighbor model correctly identifed all customer who defaulted 0.35088 of the time.\n",
      "The K-Nearest Neighbor model has an f1 score of 0.38462 .\n"
     ]
    }
   ],
   "source": [
    "model=\"K-Nearest Neighbor\"\n",
    "score= recall_score(y_test, pred_knn_OutBills, average=\"binary\")\n",
    "print(f\"The {model} model correctly identifed all customer who defaulted {score:.5f} of the time.\")\n",
    "\n",
    "model=\"K-Nearest Neighbor\"\n",
    "score= f1_score(y_test, pred_knn_OutBills, average=\"binary\")\n",
    "print(f\"The {model} model has an f1 score of {score:.5f} .\")\n"
   ]
  },
  {
   "cell_type": "markdown",
   "metadata": {},
   "source": [
    "## Gaussian Naive Bayes\n",
    "Remove Bill Column, Remove Outliers"
   ]
  },
  {
   "cell_type": "code",
   "execution_count": 88,
   "metadata": {},
   "outputs": [],
   "source": [
    "# Gaussian Naive Bayes\n",
    "gnb_model = GaussianNB()\n",
    "gnb_model.fit(X_train, y_train)\n",
    "pred_gnb_OutBills=gnb_model.predict(X_test)"
   ]
  },
  {
   "cell_type": "code",
   "execution_count": 89,
   "metadata": {},
   "outputs": [
    {
     "name": "stdout",
     "output_type": "stream",
     "text": [
      "The Gaussian Naive Bayes model correctly identifed all customer who defaulted 0.89694 of the time.\n",
      "The Gaussian Naive Bayes model has an f1 score of 0.38447 .\n"
     ]
    }
   ],
   "source": [
    "model=\"Gaussian Naive Bayes\"\n",
    "score= recall_score(y_test, pred_gnb_OutBills, average=\"binary\")\n",
    "print(f\"The {model} model correctly identifed all customer who defaulted {score:.5f} of the time.\")\n",
    "\n",
    "model=\"Gaussian Naive Bayes\"\n",
    "score= f1_score(y_test, pred_gnb_OutBills, average=\"binary\")\n",
    "print(f\"The {model} model has an f1 score of {score:.5f} .\")"
   ]
  },
  {
   "cell_type": "markdown",
   "metadata": {},
   "source": [
    "# Model Evaluation"
   ]
  },
  {
   "cell_type": "markdown",
   "metadata": {},
   "source": []
  },
  {
   "cell_type": "markdown",
   "metadata": {},
   "source": [
    "# Model Metric Notes for Random Forest:\n",
    "\n",
    "Notes: \n",
    "\n",
    "Random Forest (Recall and F1 Scores)\n",
    "\n",
    "All Features \n",
    "\n",
    "The Random Forest model correctly identifed all customer who defaulted 0.20453 of the time.\n",
    "The Random Forest model has an f1 score of 0.31913 .\n",
    "\n",
    "Removed Bills Only\n",
    "\n",
    " The Random Forest model correctly identifed all customer who defaulted 0.70222 of the time.\n",
    " The Random Forest model has an f1 score of 0.82506 .\n",
    "\n",
    "Removed RFE features Only\n",
    "\n",
    "The Random Forest model correctly identifed all customer who defaulted 0.17806 of the time.\n",
    "The Random Forest model has an f1 score of 0.00000 .\n",
    "\n",
    "Removed Bills and RFE Features\n",
    "The Random Forest model correctly identifed all customer who defaulted 0.25399 of the time.\n",
    "The Random Forest model has an f1 score of 0.28443 .\n",
    "\n",
    "All Features, Removed Outliers\n",
    "\n",
    "The Random Forest model correctly identifed all customer who defaulted 0.44898 of the time.\n",
    "The Random Forest model has an f1 score of 0.52381 .\n",
    "\n",
    "Removed Bills Only, Removed Outliers\n",
    "\n",
    "The Random Forest model correctly identifed all customer who defaulted 1.00000 of the time.\n",
    "The Random Forest model has an f1 score of 1.00000 .\n",
    "** This is a problem. Why is it 100%?  \n",
    "\n",
    "\n",
    "* Removing Bills helped, but RFE features did not. "
   ]
  },
  {
   "cell_type": "markdown",
   "metadata": {},
   "source": [
    "# Model Metric Notes for KNN:\n",
    "\n",
    "Notes: \n",
    "\n",
    "KNN (Recall and F1 Scores)\n",
    "\n",
    "All Features \n",
    "\n",
    "The K-Nearest Neighbor model correctly identifed all customer who defaulted 0.22704 of the time.\n",
    "The K-Nearest Neighbor model has an f1 score of 0.27176 .\n",
    "\n",
    "Removed Bills Only\n",
    "\n",
    "The K-Nearest Neighbor model correctly identifed all customer who defaulted 0.22245 of the time.\n",
    "The K-Nearest Neighbor model has an f1 score of 0.27267 .\n",
    "\n",
    "Removed RFE features Only\n",
    "\n",
    "N/A\n",
    "\n",
    "Removed Bills and RFE Features\n",
    "\n",
    "N/A\n",
    "\n",
    "All Features, Removed Outliers\n",
    "\n",
    "The K-Nearest Neighbor model correctly identifed all customer who defaulted 0.53061 of the time.\n",
    "The K-Nearest Neighbor model has an f1 score of 0.46429 .\n",
    "\n",
    "Removed Bills Only, Removed Outliers\n",
    "\n",
    "The K-Nearest Neighbor model correctly identifed all customer who defaulted 0.35088 of the time.\n",
    "The K-Nearest Neighbor model has an f1 score of 0.38462 ."
   ]
  },
  {
   "cell_type": "markdown",
   "metadata": {},
   "source": [
    "# Model Metric Notes for GBN:\n",
    "\n",
    "Notes: \n",
    "\n",
    "GBN (Recall and F1 Scores)\n",
    "\n",
    "All Features \n",
    "\n",
    "The Gaussian Naive Bayes model correctly identifed all customer who defaulted 0.86429 of the time.\n",
    "The Gaussian Naive Bayes model has an f1 score of 0.38326 .\n",
    "\n",
    "Removed Bills Only\n",
    "\n",
    "The Gaussian Naive Bayes model correctly identifed all customer who defaulted 0.89694 of the time.\n",
    "The Gaussian Naive Bayes model has an f1 score of 0.38447 .\n",
    "\n",
    "Removed RFE features Only\n",
    "\n",
    "N/A\n",
    "\n",
    "Removed Bills and RFE Features\n",
    "\n",
    "N/A\n",
    "\n",
    "All Features, Removed Outliers\n",
    "\n",
    "The Gaussian Naive Bayes model correctly identifed all customer who defaulted 0.51020 of the time.\n",
    "The Gaussian Naive Bayes model has an f1 score of 0.48544 .\n",
    "\n",
    "Removed Bills Only, Removed Outliers\n",
    "\n",
    "The Gaussian Naive Bayes model correctly identifed all customer who defaulted 0.89694 of the time.\n",
    "The Gaussian Naive Bayes model has an f1 score of 0.38447 .\n"
   ]
  }
 ],
 "metadata": {
  "kernelspec": {
   "display_name": "Python 3",
   "language": "python",
   "name": "python3"
  },
  "language_info": {
   "codemirror_mode": {
    "name": "ipython",
    "version": 3
   },
   "file_extension": ".py",
   "mimetype": "text/x-python",
   "name": "python",
   "nbconvert_exporter": "python",
   "pygments_lexer": "ipython3",
   "version": "3.7.4"
  },
  "toc": {
   "base_numbering": 1,
   "nav_menu": {},
   "number_sections": true,
   "sideBar": true,
   "skip_h1_title": false,
   "title_cell": "Table of Contents",
   "title_sidebar": "Contents",
   "toc_cell": false,
   "toc_position": {
    "height": "calc(100% - 180px)",
    "left": "10px",
    "top": "150px",
    "width": "341.292px"
   },
   "toc_section_display": true,
   "toc_window_display": true
  }
 },
 "nbformat": 4,
 "nbformat_minor": 2
}
