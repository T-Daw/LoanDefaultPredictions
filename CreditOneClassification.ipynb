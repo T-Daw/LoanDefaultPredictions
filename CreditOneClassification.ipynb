{
 "cells": [
  {
   "cell_type": "code",
   "execution_count": 211,
   "metadata": {},
   "outputs": [],
   "source": [
    "#imports\n",
    "#numpy,pandas,scipy, math, matplotlib\n",
    "import numpy as np\n",
    "import pandas as pd\n",
    "import scipy\n",
    "from math import sqrt\n",
    "import matplotlib.pyplot as plt\n",
    "import seaborn as sns \n"
   ]
  },
  {
   "cell_type": "code",
   "execution_count": 212,
   "metadata": {},
   "outputs": [],
   "source": [
    "#estimators\n",
    "from sklearn.ensemble import RandomForestRegressor\n",
    "from sklearn.linear_model import LinearRegression\n",
    "from sklearn.svm import SVR\n",
    "from sklearn import linear_model"
   ]
  },
  {
   "cell_type": "code",
   "execution_count": 213,
   "metadata": {},
   "outputs": [],
   "source": [
    "#model metrics\n",
    "from sklearn.metrics import mean_squared_error\n",
    "from sklearn.metrics import r2_score\n",
    "from sklearn.model_selection import cross_val_score"
   ]
  },
  {
   "cell_type": "code",
   "execution_count": 214,
   "metadata": {},
   "outputs": [],
   "source": [
    "#cross validation\n",
    "\n",
    "from sklearn.model_selection import train_test_split # replaces deprecated code\n",
    "\n",
    "#from sklearn.cross_validation import train_test_split\n",
    "## This is deprecated. Why is it in the course material?"
   ]
  },
  {
   "cell_type": "code",
   "execution_count": 215,
   "metadata": {},
   "outputs": [
    {
     "data": {
      "text/html": [
       "<div>\n",
       "<style scoped>\n",
       "    .dataframe tbody tr th:only-of-type {\n",
       "        vertical-align: middle;\n",
       "    }\n",
       "\n",
       "    .dataframe tbody tr th {\n",
       "        vertical-align: top;\n",
       "    }\n",
       "\n",
       "    .dataframe thead th {\n",
       "        text-align: right;\n",
       "    }\n",
       "</style>\n",
       "<table border=\"1\" class=\"dataframe\">\n",
       "  <thead>\n",
       "    <tr style=\"text-align: right;\">\n",
       "      <th></th>\n",
       "      <th>Unnamed: 0</th>\n",
       "      <th>id</th>\n",
       "      <th>limit</th>\n",
       "      <th>sex</th>\n",
       "      <th>edu</th>\n",
       "      <th>marriage</th>\n",
       "      <th>age</th>\n",
       "      <th>pay1</th>\n",
       "      <th>pay2</th>\n",
       "      <th>pay3</th>\n",
       "      <th>...</th>\n",
       "      <th>bill4</th>\n",
       "      <th>bill5</th>\n",
       "      <th>bill6</th>\n",
       "      <th>paid1</th>\n",
       "      <th>paid2</th>\n",
       "      <th>paid3</th>\n",
       "      <th>paid4</th>\n",
       "      <th>paid5</th>\n",
       "      <th>paid6</th>\n",
       "      <th>default</th>\n",
       "    </tr>\n",
       "  </thead>\n",
       "  <tbody>\n",
       "    <tr>\n",
       "      <td>0</td>\n",
       "      <td>0</td>\n",
       "      <td>1</td>\n",
       "      <td>20000</td>\n",
       "      <td>2</td>\n",
       "      <td>2</td>\n",
       "      <td>1</td>\n",
       "      <td>24</td>\n",
       "      <td>2</td>\n",
       "      <td>2</td>\n",
       "      <td>-1</td>\n",
       "      <td>...</td>\n",
       "      <td>0</td>\n",
       "      <td>0</td>\n",
       "      <td>0</td>\n",
       "      <td>0</td>\n",
       "      <td>689</td>\n",
       "      <td>0</td>\n",
       "      <td>0</td>\n",
       "      <td>0</td>\n",
       "      <td>0</td>\n",
       "      <td>1</td>\n",
       "    </tr>\n",
       "    <tr>\n",
       "      <td>1</td>\n",
       "      <td>1</td>\n",
       "      <td>2</td>\n",
       "      <td>120000</td>\n",
       "      <td>2</td>\n",
       "      <td>2</td>\n",
       "      <td>2</td>\n",
       "      <td>26</td>\n",
       "      <td>-1</td>\n",
       "      <td>2</td>\n",
       "      <td>0</td>\n",
       "      <td>...</td>\n",
       "      <td>3272</td>\n",
       "      <td>3455</td>\n",
       "      <td>3261</td>\n",
       "      <td>0</td>\n",
       "      <td>1000</td>\n",
       "      <td>1000</td>\n",
       "      <td>1000</td>\n",
       "      <td>0</td>\n",
       "      <td>2000</td>\n",
       "      <td>1</td>\n",
       "    </tr>\n",
       "    <tr>\n",
       "      <td>2</td>\n",
       "      <td>2</td>\n",
       "      <td>3</td>\n",
       "      <td>90000</td>\n",
       "      <td>2</td>\n",
       "      <td>2</td>\n",
       "      <td>2</td>\n",
       "      <td>34</td>\n",
       "      <td>0</td>\n",
       "      <td>0</td>\n",
       "      <td>0</td>\n",
       "      <td>...</td>\n",
       "      <td>14331</td>\n",
       "      <td>14948</td>\n",
       "      <td>15549</td>\n",
       "      <td>1518</td>\n",
       "      <td>1500</td>\n",
       "      <td>1000</td>\n",
       "      <td>1000</td>\n",
       "      <td>1000</td>\n",
       "      <td>5000</td>\n",
       "      <td>0</td>\n",
       "    </tr>\n",
       "    <tr>\n",
       "      <td>3</td>\n",
       "      <td>3</td>\n",
       "      <td>4</td>\n",
       "      <td>50000</td>\n",
       "      <td>2</td>\n",
       "      <td>2</td>\n",
       "      <td>1</td>\n",
       "      <td>37</td>\n",
       "      <td>0</td>\n",
       "      <td>0</td>\n",
       "      <td>0</td>\n",
       "      <td>...</td>\n",
       "      <td>28314</td>\n",
       "      <td>28959</td>\n",
       "      <td>29547</td>\n",
       "      <td>2000</td>\n",
       "      <td>2019</td>\n",
       "      <td>1200</td>\n",
       "      <td>1100</td>\n",
       "      <td>1069</td>\n",
       "      <td>1000</td>\n",
       "      <td>0</td>\n",
       "    </tr>\n",
       "    <tr>\n",
       "      <td>4</td>\n",
       "      <td>4</td>\n",
       "      <td>5</td>\n",
       "      <td>50000</td>\n",
       "      <td>1</td>\n",
       "      <td>2</td>\n",
       "      <td>1</td>\n",
       "      <td>57</td>\n",
       "      <td>-1</td>\n",
       "      <td>0</td>\n",
       "      <td>-1</td>\n",
       "      <td>...</td>\n",
       "      <td>20940</td>\n",
       "      <td>19146</td>\n",
       "      <td>19131</td>\n",
       "      <td>2000</td>\n",
       "      <td>36681</td>\n",
       "      <td>10000</td>\n",
       "      <td>9000</td>\n",
       "      <td>689</td>\n",
       "      <td>679</td>\n",
       "      <td>0</td>\n",
       "    </tr>\n",
       "  </tbody>\n",
       "</table>\n",
       "<p>5 rows × 26 columns</p>\n",
       "</div>"
      ],
      "text/plain": [
       "   Unnamed: 0  id   limit  sex  edu  marriage  age  pay1  pay2  pay3  ...  \\\n",
       "0           0   1   20000    2    2         1   24     2     2    -1  ...   \n",
       "1           1   2  120000    2    2         2   26    -1     2     0  ...   \n",
       "2           2   3   90000    2    2         2   34     0     0     0  ...   \n",
       "3           3   4   50000    2    2         1   37     0     0     0  ...   \n",
       "4           4   5   50000    1    2         1   57    -1     0    -1  ...   \n",
       "\n",
       "   bill4  bill5  bill6  paid1  paid2  paid3  paid4  paid5  paid6  default  \n",
       "0      0      0      0      0    689      0      0      0      0        1  \n",
       "1   3272   3455   3261      0   1000   1000   1000      0   2000        1  \n",
       "2  14331  14948  15549   1518   1500   1000   1000   1000   5000        0  \n",
       "3  28314  28959  29547   2000   2019   1200   1100   1069   1000        0  \n",
       "4  20940  19146  19131   2000  36681  10000   9000    689    679        0  \n",
       "\n",
       "[5 rows x 26 columns]"
      ]
     },
     "execution_count": 215,
     "metadata": {},
     "output_type": "execute_result"
    }
   ],
   "source": [
    "#data\n",
    "rawData = pd.read_csv('creditFiltered.csv', header=0)\n",
    "rawData.head()"
   ]
  },
  {
   "cell_type": "markdown",
   "metadata": {},
   "source": [
    "# Cleaning and Preprocessing"
   ]
  },
  {
   "cell_type": "code",
   "execution_count": 216,
   "metadata": {
    "scrolled": true
   },
   "outputs": [
    {
     "name": "stdout",
     "output_type": "stream",
     "text": [
      "<class 'pandas.core.frame.DataFrame'>\n",
      "RangeIndex: 29072 entries, 0 to 29071\n",
      "Data columns (total 26 columns):\n",
      "Unnamed: 0    29072 non-null int64\n",
      "id            29072 non-null int64\n",
      "limit         29072 non-null int64\n",
      "sex           29072 non-null int64\n",
      "edu           29072 non-null int64\n",
      "marriage      29072 non-null int64\n",
      "age           29072 non-null int64\n",
      "pay1          29072 non-null int64\n",
      "pay2          29072 non-null int64\n",
      "pay3          29072 non-null int64\n",
      "pay4          29072 non-null int64\n",
      "pay5          29072 non-null int64\n",
      "pay6          29072 non-null int64\n",
      "bill1         29072 non-null int64\n",
      "bill2         29072 non-null int64\n",
      "bill3         29072 non-null int64\n",
      "bill4         29072 non-null int64\n",
      "bill5         29072 non-null int64\n",
      "bill6         29072 non-null int64\n",
      "paid1         29072 non-null int64\n",
      "paid2         29072 non-null int64\n",
      "paid3         29072 non-null int64\n",
      "paid4         29072 non-null int64\n",
      "paid5         29072 non-null int64\n",
      "paid6         29072 non-null int64\n",
      "default       29072 non-null int64\n",
      "dtypes: int64(26)\n",
      "memory usage: 5.8 MB\n"
     ]
    }
   ],
   "source": [
    "rawData.info()"
   ]
  },
  {
   "cell_type": "markdown",
   "metadata": {},
   "source": [
    "## Convert Categorical Variables that are Numeric Types into Category Types"
   ]
  },
  {
   "cell_type": "code",
   "execution_count": 217,
   "metadata": {},
   "outputs": [],
   "source": [
    "# Convert categorical variables that are inputted as numeric into categorical types\n",
    "rawData['sex'] = rawData.sex.astype('category')\n",
    "rawData['edu'] = rawData.edu.astype('category')\n",
    "rawData['marriage'] = rawData.marriage.astype('category')\n",
    "rawData['pay1'] = rawData.pay1.astype('category')\n",
    "rawData['pay2'] = rawData.pay2.astype('category')\n",
    "rawData['pay3'] = rawData.pay3.astype('category')\n",
    "rawData['pay4'] = rawData.pay4.astype('category')\n",
    "rawData['pay5'] = rawData.pay5.astype('category')\n",
    "rawData['pay6'] = rawData.pay6.astype('category')\n",
    "rawData['default'] = rawData.default.astype('category')"
   ]
  },
  {
   "cell_type": "markdown",
   "metadata": {},
   "source": [
    "## Create Train and Test set\n",
    "\n",
    "70% and 30% split\n",
    "\n",
    "Train Set\n",
    " - X_train: \n",
    " - y_train: \n",
    " \n",
    "Test Set\n",
    " - X_test\n",
    " - y_test (also referred to as ground truth, used to test predictions on for performance)\n"
   ]
  },
  {
   "cell_type": "code",
   "execution_count": 218,
   "metadata": {},
   "outputs": [],
   "source": [
    "X = rawData.iloc[:,2:24]\n",
    "y = rawData['default']"
   ]
  },
  {
   "cell_type": "code",
   "execution_count": 219,
   "metadata": {},
   "outputs": [],
   "source": [
    "X_train, X_test, y_train, y_test = train_test_split(\n",
    "...     X, y, test_size=0.3, random_state=42)"
   ]
  },
  {
   "cell_type": "code",
   "execution_count": 220,
   "metadata": {},
   "outputs": [
    {
     "name": "stdout",
     "output_type": "stream",
     "text": [
      "The number of observations in the Y training set are: 20350\n"
     ]
    }
   ],
   "source": [
    "print('The number of observations in the Y training set are:',str(len(y_train.index)))\n"
   ]
  },
  {
   "cell_type": "code",
   "execution_count": 221,
   "metadata": {},
   "outputs": [
    {
     "name": "stdout",
     "output_type": "stream",
     "text": [
      "The number of observations in the X training set are: 20350\n"
     ]
    }
   ],
   "source": [
    "print('The number of observations in the X training set are:',str(len(X_train.index)))\n"
   ]
  },
  {
   "cell_type": "code",
   "execution_count": 222,
   "metadata": {},
   "outputs": [
    {
     "name": "stdout",
     "output_type": "stream",
     "text": [
      "The number of observations in the X testing set are: 8722\n"
     ]
    }
   ],
   "source": [
    "print('The number of observations in the X testing set are:',str(len(X_test.index)))\n"
   ]
  },
  {
   "cell_type": "code",
   "execution_count": 223,
   "metadata": {},
   "outputs": [
    {
     "name": "stdout",
     "output_type": "stream",
     "text": [
      "The number of observations in the y testing set are: 8722\n"
     ]
    }
   ],
   "source": [
    "print('The number of observations in the y testing set are:',str(len(y_test.index)))\n"
   ]
  },
  {
   "cell_type": "code",
   "execution_count": 224,
   "metadata": {},
   "outputs": [
    {
     "data": {
      "text/plain": [
       "0.30001375894331317"
      ]
     },
     "execution_count": 224,
     "metadata": {},
     "output_type": "execute_result"
    }
   ],
   "source": [
    "# verify split\n",
    "len(X_test)/(len(X_test)+len(X_train))"
   ]
  },
  {
   "cell_type": "code",
   "execution_count": 225,
   "metadata": {},
   "outputs": [
    {
     "data": {
      "text/plain": [
       "0.30001375894331317"
      ]
     },
     "execution_count": 225,
     "metadata": {},
     "output_type": "execute_result"
    }
   ],
   "source": [
    "# verify split\n",
    "len(y_test)/(len(y_test)+len(y_train))"
   ]
  },
  {
   "cell_type": "markdown",
   "metadata": {},
   "source": [
    "## Cross Validate Data\n",
    "\n",
    "We don't need a section for this. This happens when we run our models. We specify the number of of folds and the type of folds there."
   ]
  },
  {
   "cell_type": "markdown",
   "metadata": {},
   "source": [
    "# Covariance Estimation"
   ]
  },
  {
   "cell_type": "markdown",
   "metadata": {},
   "source": [
    "# Feature Engineering (either PCA or RFE) and Dimensionality Reduction\n"
   ]
  },
  {
   "cell_type": "markdown",
   "metadata": {},
   "source": [
    "# One-Hot Encoding (if needed)\n"
   ]
  },
  {
   "cell_type": "markdown",
   "metadata": {},
   "source": [
    "# Classification (4 Models) - First Attempt\n",
    "\n",
    "Which algorithms should we try?\n",
    "\n",
    "- Linear Classifiers: Logistic regression, Naive Bayes classifier, Fisher’s linear discriminant\n",
    "- Support vector machines: Least squares support vector machines\n",
    "- Quadratic classifiers\n",
    "- Kernel estimation: k-nearest neighbor \n",
    "- Decision trees: Random forests\n",
    "- Neural networks\n",
    "- Learning vector quantization"
   ]
  },
  {
   "cell_type": "markdown",
   "metadata": {},
   "source": [
    "## Random Forest"
   ]
  },
  {
   "cell_type": "code",
   "execution_count": 322,
   "metadata": {},
   "outputs": [],
   "source": [
    "# Random Forest Model \n",
    "from sklearn.ensemble import RandomForestClassifier\n",
    "rf_model = RandomForestClassifier(max_depth=2, random_state=0)\n",
    "rf_model.fit(X_train, y_train)\n",
    "predictions_rf= rf_model.predict(X_test)"
   ]
  },
  {
   "cell_type": "code",
   "execution_count": 323,
   "metadata": {},
   "outputs": [
    {
     "data": {
      "text/plain": [
       "<matplotlib.axes._subplots.AxesSubplot at 0x1a356bd590>"
      ]
     },
     "execution_count": 323,
     "metadata": {},
     "output_type": "execute_result"
    },
    {
     "data": {
      "image/png": "[encoded data removed]",
      "text/plain": [
       "<Figure size 432x288 with 2 Axes>"
      ]
     },
     "metadata": {
      "needs_background": "light"
     },
     "output_type": "display_data"
    }
   ],
   "source": [
    "# Create pandas data frame of prediction and y_test results and plot it\n",
    "\n",
    "predictions_df = pd.DataFrame(predictions_rf)\n",
    "predictions_df.columns = ['predictions_rf']\n",
    "predictions_df.reset_index(drop=True, inplace=True)\n",
    "ytest_df = pd.DataFrame(y_test)\n",
    "ytest_df.columns = ['actualResults']\n",
    "ytest_df.reset_index(drop=True, inplace=True)\n",
    "res = [ytest_df,predictions_df]\n",
    "results_rf = pd.concat(res,sort=False, axis = 1)\n",
    "\n",
    "fig, axes = plt.subplots(1,2, sharex=True, sharey= True)\n",
    "sns.despine(left=True)\n",
    "\n",
    "sns.countplot(x='actualResults', data = results_rf, ax=axes[0] )\n",
    "sns.countplot(x='predictions_rf', data = results_rf, ax=axes[1] )"
   ]
  },
  {
   "cell_type": "markdown",
   "metadata": {},
   "source": [
    "## Least Squares Support Vector Machine"
   ]
  },
  {
   "cell_type": "code",
   "execution_count": 324,
   "metadata": {},
   "outputs": [],
   "source": [
    "# Least Squares Support Vector Machine\n",
    "from sklearn.svm import LinearSVC\n",
    "lssVM_model = LinearSVC(random_state=0, tol=1000)\n",
    "lssVM_model.fit(X_train, y_train)\n",
    "predictions_lssVM= lssVM_model.predict(X_test)"
   ]
  },
  {
   "cell_type": "code",
   "execution_count": 240,
   "metadata": {},
   "outputs": [
    {
     "data": {
      "text/plain": [
       "<matplotlib.axes._subplots.AxesSubplot at 0x1a2e4f96d0>"
      ]
     },
     "execution_count": 240,
     "metadata": {},
     "output_type": "execute_result"
    },
    {
     "data": {
      "image/png": "[encoded data removed]",
      "text/plain": [
       "<Figure size 432x288 with 2 Axes>"
      ]
     },
     "metadata": {
      "needs_background": "light"
     },
     "output_type": "display_data"
    }
   ],
   "source": [
    "# Create pandas data frame of prediction and y_test results and plot it\n",
    "predictions_df = pd.DataFrame(predictions_lssVM)\n",
    "predictions_df.columns = ['predictions_lssVM']\n",
    "predictions_df.reset_index(drop=True, inplace=True)\n",
    "ytest_df = pd.DataFrame(y_test)\n",
    "ytest_df.columns = ['actualResults']\n",
    "ytest_df.reset_index(drop=True, inplace=True)\n",
    "res = [ytest_df,predictions_df]\n",
    "results_lssVM = pd.concat(res,sort=False, axis = 1)\n",
    "\n",
    "fig, axes = plt.subplots(1,2, sharex=True, sharey= True)\n",
    "sns.despine(left=True)\n",
    "\n",
    "sns.countplot(x='actualResults', data = results_lssVM, ax=axes[0] )\n",
    "sns.countplot(x='predictions_lssVM', data = results_lssVM, ax=axes[1] )"
   ]
  },
  {
   "cell_type": "markdown",
   "metadata": {},
   "source": [
    "## K- Nearest Neighbor"
   ]
  },
  {
   "cell_type": "code",
   "execution_count": 326,
   "metadata": {},
   "outputs": [],
   "source": [
    "# K- Nearest Neighbor\n",
    "from sklearn.neighbors import KNeighborsClassifier\n",
    "knn_model = KNeighborsClassifier(n_neighbors=3)\n",
    "knn_model.fit(X_train, y_train)\n",
    "predictions_knn = knn_model.predict(X_test)"
   ]
  },
  {
   "cell_type": "code",
   "execution_count": 327,
   "metadata": {},
   "outputs": [
    {
     "data": {
      "text/plain": [
       "<matplotlib.axes._subplots.AxesSubplot at 0x1a33b32810>"
      ]
     },
     "execution_count": 327,
     "metadata": {},
     "output_type": "execute_result"
    },
    {
     "data": {
      "image/png": "[encoded data removed]",
      "text/plain": [
       "<Figure size 432x288 with 2 Axes>"
      ]
     },
     "metadata": {
      "needs_background": "light"
     },
     "output_type": "display_data"
    }
   ],
   "source": [
    "# Create pandas data frame of prediction and y_test results and plot it\n",
    "\n",
    "predictions_df = pd.DataFrame(predictions_knn)\n",
    "predictions_df.columns = ['predictions_knn']\n",
    "predictions_df.reset_index(drop=True, inplace=True)\n",
    "ytest_df = pd.DataFrame(y_test)\n",
    "ytest_df.columns = ['actualResults']\n",
    "ytest_df.reset_index(drop=True, inplace=True)\n",
    "res = [ytest_df,predictions_df]\n",
    "results_knn = pd.concat(res,sort=False, axis = 1)\n",
    "\n",
    "fig, axes = plt.subplots(1,2, sharex=True, sharey= True)\n",
    "sns.despine(left=True)\n",
    "\n",
    "sns.countplot(x='actualResults', data = results_knn, ax=axes[0] )\n",
    "sns.countplot(x='predictions_knn', data = results_knn, ax=axes[1] )"
   ]
  },
  {
   "cell_type": "markdown",
   "metadata": {},
   "source": [
    "## Gaussian Naive Bayes"
   ]
  },
  {
   "cell_type": "code",
   "execution_count": 328,
   "metadata": {},
   "outputs": [],
   "source": [
    "# Gaussian Naive Bayes\n",
    "from sklearn.naive_bayes import GaussianNB\n",
    "gnb_model = GaussianNB()\n",
    "gnb_model.fit(X_train, y_train)\n",
    "predictions_gnb=gnb_model.predict(X_test)"
   ]
  },
  {
   "cell_type": "code",
   "execution_count": 329,
   "metadata": {},
   "outputs": [
    {
     "data": {
      "text/plain": [
       "<matplotlib.axes._subplots.AxesSubplot at 0x1a3228a490>"
      ]
     },
     "execution_count": 329,
     "metadata": {},
     "output_type": "execute_result"
    },
    {
     "data": {
      "image/png": "[encoded data removed]",
      "text/plain": [
       "<Figure size 432x288 with 2 Axes>"
      ]
     },
     "metadata": {
      "needs_background": "light"
     },
     "output_type": "display_data"
    }
   ],
   "source": [
    "# Create pandas data frame of prediction and y_test results and plot it\n",
    "\n",
    "predictions_df = pd.DataFrame(predictions_gnb)\n",
    "predictions_df.columns = ['predictions_gnb']\n",
    "predictions_df.reset_index(drop=True, inplace=True)\n",
    "ytest_df = pd.DataFrame(y_test)\n",
    "ytest_df.columns = ['actualResults']\n",
    "ytest_df.reset_index(drop=True, inplace=True)\n",
    "res = [ytest_df,predictions_df]\n",
    "results_gnb = pd.concat(res,sort=False, axis = 1)\n",
    "\n",
    "fig, axes = plt.subplots(1,2, sharex=True, sharey= True)\n",
    "sns.despine(left=True)\n",
    "\n",
    "sns.countplot(x='actualResults', data = results_gnb, ax=axes[0] )\n",
    "sns.countplot(x='predictions_gnb', data = results_gnb, ax=axes[1] )"
   ]
  },
  {
   "cell_type": "markdown",
   "metadata": {},
   "source": [
    "## Performace Metrics for Models"
   ]
  },
  {
   "cell_type": "markdown",
   "metadata": {},
   "source": [
    "### Model Accuracy\n",
    "\n",
    "We have a class imbalance. Most of our customers did not default (which is great) but that means that accuracy is not the best metric due to the accuracy paradox. "
   ]
  },
  {
   "cell_type": "code",
   "execution_count": 276,
   "metadata": {},
   "outputs": [
    {
     "name": "stdout",
     "output_type": "stream",
     "text": [
      "The RandomForest model Accuracy score is: 0.8057784911717496\n",
      "The Least Squares Support Vector Machine model Accuracy score is: 0.7770006879156157\n",
      "The  K-Nearest Neighbor model Accuracy score is: 0.7382481082320569\n",
      "The Gaussian Naive Bayes model Accuracy score is: 0.48303141481311623\n"
     ]
    }
   ],
   "source": [
    "# Accuracy\n",
    "from sklearn.metrics import accuracy_score\n",
    "print('The RandomForest model Accuracy score is:',str(accuracy_score(y_test, predictions_rf)))\n",
    "print('The Least Squares Support Vector Machine model Accuracy score is:',str(accuracy_score(y_test, predictions_lssVM)))\n",
    "print('The  K-Nearest Neighbor model Accuracy score is:',str(accuracy_score(y_test, predictions_knn)))\n",
    "print('The Gaussian Naive Bayes model Accuracy score is:',str(accuracy_score(y_test, predictions_gnb)))"
   ]
  },
  {
   "cell_type": "markdown",
   "metadata": {},
   "source": [
    "#### cross_val_score"
   ]
  },
  {
   "cell_type": "code",
   "execution_count": 330,
   "metadata": {},
   "outputs": [
    {
     "name": "stdout",
     "output_type": "stream",
     "text": [
      "The RandomForest model cross_val_score is: [0.804914   0.80859951 0.8034398  0.8007371  0.802457  ]\n",
      "The Least Squares Support Vector Machine model cross_val_score is: [0.77346437 0.77223587 0.77420147 0.77371007 0.77346437]\n",
      "The K-Nearest Neighbor model cross_val_score is: [0.74250614 0.73218673 0.72628993 0.72137592 0.73095823]\n",
      "The Gaussian Naive Bayes model cross_val_score is: [0.46363636 0.45503686 0.47911548 0.42309582 0.51621622]\n"
     ]
    }
   ],
   "source": [
    "print('The RandomForest model cross_val_score is:',str(cross_val_score(rf_model, X_train, y_train)))\n",
    "print('The Least Squares Support Vector Machine model cross_val_score is:',str(cross_val_score(lssVM_model, X_train, y_train)))\n",
    "print('The K-Nearest Neighbor model cross_val_score is:',str(cross_val_score(knn_model, X_train, y_train)))\n",
    "print('The Gaussian Naive Bayes model cross_val_score is:',str(cross_val_score(gnb_model, X_train, y_train)))\n"
   ]
  },
  {
   "cell_type": "markdown",
   "metadata": {},
   "source": [
    "### Precision\n",
    "What proportion of positive identifications (defaults) was actually correct?\n",
    "When the model predicts a customer will default, how many times is it correct?\n",
    "Ideally, we want a high precision. The higher the better. "
   ]
  },
  {
   "cell_type": "code",
   "execution_count": 315,
   "metadata": {},
   "outputs": [
    {
     "name": "stdout",
     "output_type": "stream",
     "text": [
      "When the Random Forest model predicts a customer will default, it is correct 0.72578 of the time.\n",
      "When the Least Squares Support Vector Machine model predicts a customer will default, it is correct 0.35714 of the time.\n",
      "When the K-Nearest Neighbor model predicts a customer will default, it is correct 0.36493 of the time.\n",
      "When the Gaussian Naive Bayes model predicts a customer will default, it is correct 0.27314 of the time.\n"
     ]
    }
   ],
   "source": [
    "# Precision Score (Add percentage instead of decimal later)\n",
    "from sklearn.metrics import precision_score\n",
    "model=\"Random Forest\"\n",
    "score= precision_score(y_test, predictions_rf, average=\"binary\")\n",
    "print(f\"When the {model} model predicts a customer will default, it is correct {score:.5f} of the time.\")\n",
    "model=\"Least Squares Support Vector Machine\"\n",
    "score= precision_score(y_test, predictions_lssVM, average=\"binary\")\n",
    "print(f\"When the {model} model predicts a customer will default, it is correct {score:.5f} of the time.\")\n",
    "model=\"K-Nearest Neighbor\"\n",
    "score= precision_score(y_test, predictions_knn, average=\"binary\")\n",
    "print(f\"When the {model} model predicts a customer will default, it is correct {score:.5f} of the time.\")\n",
    "model=\"Gaussian Naive Bayes\"\n",
    "score= precision_score(y_test, predictions_gnb, average=\"binary\")\n",
    "print(f\"When the {model} model predicts a customer will default, it is correct {score:.5f} of the time.\")"
   ]
  },
  {
   "cell_type": "markdown",
   "metadata": {},
   "source": [
    "### Recall\n",
    "What proportion of actual positives was identified correctly?\n",
    "How many times did the model correctly identify all customers who defaulted?\n",
    "If we have false negatives, it means a customer defaulted but we did not detect it. Recall measures how many times our model predicts that a customer defaulted versus how many times customers actually defaulted. A higher score means we have little false negatives. A lower score means that the model is not correctly identifying these false negatives which is very important because this is our underlying problem. We have had customers who defaulted but we haven't successfully predicted who these customers are."
   ]
  },
  {
   "cell_type": "code",
   "execution_count": 319,
   "metadata": {},
   "outputs": [
    {
     "name": "stdout",
     "output_type": "stream",
     "text": [
      "The Random Forest model correctly identifed all customer who defaulted 0.20453 of the time.\n",
      "The Least Squares Support Vector Machine model correctly identifed all customer who defaulted 0.00258 of the time.\n",
      "The K-Nearest Neighbor model correctly identifed all customer who defaulted 0.23802 of the time.\n",
      "The Gaussian Naive Bayest model correctly identifed all customer who defaulted 0.79650 of the time.\n"
     ]
    }
   ],
   "source": [
    "#Recall Score (Add percentage instead of decimal later)\n",
    "from sklearn.metrics import recall_score\n",
    "model=\"Random Forest\"\n",
    "score= recall_score(y_test, predictions_rf, average=\"binary\")\n",
    "print(f\"The {model} model correctly identifed all customer who defaulted {score:.5f} of the time.\")\n",
    "model=\"Least Squares Support Vector Machine\"\n",
    "score= recall_score(y_test, predictions_lssVM, average=\"binary\")\n",
    "print(f\"The {model} model correctly identifed all customer who defaulted {score:.5f} of the time.\")\n",
    "model=\"K-Nearest Neighbor\"\n",
    "score= recall_score(y_test, predictions_knn, average=\"binary\")\n",
    "print(f\"The {model} model correctly identifed all customer who defaulted {score:.5f} of the time.\")\n",
    "model=\"Gaussian Naive Bayes\"\n",
    "score= recall_score(y_test, predictions_gnb, average=\"binary\")\n",
    "print(f\"The {model} model correctly identifed all customer who defaulted {score:.5f} of the time.\")"
   ]
  },
  {
   "cell_type": "markdown",
   "metadata": {},
   "source": [
    "### F1 Score\n",
    "F1 = 2 * (precision * recall) / (precision + recall)\n",
    "Combines precision and recall. We want a model with the highest F1 score. "
   ]
  },
  {
   "cell_type": "code",
   "execution_count": 321,
   "metadata": {},
   "outputs": [
    {
     "name": "stdout",
     "output_type": "stream",
     "text": [
      "The Random Forest model has an f1 score of 0.31913 .\n",
      "The Least Squares Support Vector Machine model has an f1 score of 0.00512 .\n",
      "The K-Nearest Neighbor model has an f1 score of 0.28812 .\n",
      "The Gaussian Naive Bayes model has an f1 score of 0.40679 .\n"
     ]
    }
   ],
   "source": [
    "from sklearn.metrics import f1_score\n",
    "model=\"Random Forest\"\n",
    "score= f1_score(y_test, predictions_rf, average=\"binary\")\n",
    "print(f\"The {model} model has an f1 score of {score:.5f} .\")\n",
    "model=\"Least Squares Support Vector Machine\"\n",
    "score= f1_score(y_test, predictions_lssVM, average=\"binary\")\n",
    "print(f\"The {model} model has an f1 score of {score:.5f} .\")\n",
    "model=\"K-Nearest Neighbor\"\n",
    "score= f1_score(y_test, predictions_knn, average=\"binary\")\n",
    "print(f\"The {model} model has an f1 score of {score:.5f} .\")\n",
    "model=\"Gaussian Naive Bayes\"\n",
    "score= f1_score(y_test, predictions_gnb, average=\"binary\")\n",
    "print(f\"The {model} model has an f1 score of {score:.5f} .\")\n"
   ]
  },
  {
   "cell_type": "markdown",
   "metadata": {},
   "source": [
    "### Combined Bar Chart of Models: Actual vs Predictions"
   ]
  },
  {
   "cell_type": "code",
   "execution_count": 271,
   "metadata": {},
   "outputs": [
    {
     "data": {
      "image/png": "[encoded data removed]",
      "text/plain": [
       "<Figure size 864x432 with 5 Axes>"
      ]
     },
     "metadata": {
      "needs_background": "light"
     },
     "output_type": "display_data"
    }
   ],
   "source": [
    "fig, axes = plt.subplots(1,5, sharex=True, sharey= True, figsize=(12,6))\n",
    "sns.despine(left=True)\n",
    "\n",
    "sns.countplot(x='actualResults', data = results_lr, ax=axes[0], palette=\"Greens\" )\n",
    "sns.countplot(x='predictions_rf', data = results_rf, ax=axes[1] )\n",
    "sns.countplot(x='predictions_lssVM', data =results_lssVM, ax=axes[2] )\n",
    "sns.countplot(x='predictions_knn', data = results_knn, ax=axes[3] )\n",
    "sns.countplot(x='predictions_gnb', data = results_gnb, ax=axes[4] )\n",
    "\n",
    "fig.tight_layout()\n",
    "\n",
    "for ax in axes.flat:\n",
    "    ax.label_outer()"
   ]
  },
  {
   "cell_type": "markdown",
   "metadata": {},
   "source": [
    "# Classification (3 Models) - Second Attempt\n",
    "\n",
    "Which algorithms should we try?\n",
    "\n",
    "- Linear Classifiers: Naive Bayes classifier\n",
    "- Kernel estimation: k-nearest neighbor \n",
    "- Decision trees: Random forests"
   ]
  },
  {
   "cell_type": "markdown",
   "metadata": {},
   "source": [
    "# Model Evaluation"
   ]
  }
 ],
 "metadata": {
  "kernelspec": {
   "display_name": "Python 3",
   "language": "python",
   "name": "python3"
  },
  "language_info": {
   "codemirror_mode": {
    "name": "ipython",
    "version": 3
   },
   "file_extension": ".py",
   "mimetype": "text/x-python",
   "name": "python",
   "nbconvert_exporter": "python",
   "pygments_lexer": "ipython3",
   "version": "3.7.4"
  },
  "toc": {
   "base_numbering": 1,
   "nav_menu": {},
   "number_sections": true,
   "sideBar": true,
   "skip_h1_title": false,
   "title_cell": "Table of Contents",
   "title_sidebar": "Contents",
   "toc_cell": false,
   "toc_position": {
    "height": "calc(100% - 180px)",
    "left": "10px",
    "top": "150px",
    "width": "341.292px"
   },
   "toc_section_display": true,
   "toc_window_display": true
  }
 },
 "nbformat": 4,
 "nbformat_minor": 2
}
