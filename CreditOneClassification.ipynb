{
 "cells": [
  {
   "cell_type": "code",
   "execution_count": 2,
   "metadata": {},
   "outputs": [],
   "source": [
    "#imports\n",
    "#numpy,pandas,scipy, math, matplotlib\n",
    "import numpy as np\n",
    "import pandas as pd\n",
    "import scipy\n",
    "from math import sqrt\n",
    "import matplotlib.pyplot as plt\n",
    "import seaborn as sns \n",
    "from sklearn.feature_selection import RFE # for dimension reduction: recursive feature elimination "
   ]
  },
  {
   "cell_type": "code",
   "execution_count": 3,
   "metadata": {},
   "outputs": [],
   "source": [
    "#estimators\n",
    "from sklearn.ensemble import RandomForestClassifier # for random forest model\n",
    "from sklearn.svm import LinearSVC # for least squares support vecor machine model\n",
    "from sklearn.neighbors import KNeighborsClassifier # for k-nearest neighbor model\n",
    "from sklearn.naive_bayes import GaussianNB # for guassian naive bayes model\n",
    "from sklearn.ensemble import AdaBoostClassifier # for Ada Boost model\n",
    "from sklearn.ensemble import GradientBoostingClassifier\n",
    "\n"
   ]
  },
  {
   "cell_type": "code",
   "execution_count": 4,
   "metadata": {},
   "outputs": [],
   "source": [
    "#model metrics\n",
    "from sklearn.model_selection import cross_val_score\n",
    "\n",
    "from sklearn.metrics import recall_score\n",
    "from sklearn.metrics import f1_score\n",
    "from sklearn.metrics import precision_score\n",
    "\n",
    "from sklearn.metrics import accuracy_score \n",
    "from sklearn.metrics import plot_confusion_matrix\n"
   ]
  },
  {
   "cell_type": "code",
   "execution_count": 5,
   "metadata": {},
   "outputs": [],
   "source": [
    "# for sampling\n",
    "from imblearn.over_sampling import RandomOverSampler\n",
    "from imblearn.under_sampling import RandomUnderSampler\n",
    "\n",
    "# pip :  pip install -U imbalanced-learn"
   ]
  },
  {
   "cell_type": "code",
   "execution_count": 6,
   "metadata": {},
   "outputs": [],
   "source": [
    "# for parameter tuning\n",
    "from sklearn.model_selection import RandomizedSearchCV\n"
   ]
  },
  {
   "cell_type": "code",
   "execution_count": 7,
   "metadata": {},
   "outputs": [],
   "source": [
    "#cross validation\n",
    "\n",
    "from sklearn.model_selection import train_test_split # replaces deprecated code\n",
    "\n",
    "#from sklearn.cross_validation import train_test_split\n",
    "## This is deprecated. Why is it in the course material?"
   ]
  },
  {
   "cell_type": "code",
   "execution_count": 362,
   "metadata": {},
   "outputs": [
    {
     "data": {
      "text/html": [
       "<div>\n",
       "<style scoped>\n",
       "    .dataframe tbody tr th:only-of-type {\n",
       "        vertical-align: middle;\n",
       "    }\n",
       "\n",
       "    .dataframe tbody tr th {\n",
       "        vertical-align: top;\n",
       "    }\n",
       "\n",
       "    .dataframe thead th {\n",
       "        text-align: right;\n",
       "    }\n",
       "</style>\n",
       "<table border=\"1\" class=\"dataframe\">\n",
       "  <thead>\n",
       "    <tr style=\"text-align: right;\">\n",
       "      <th></th>\n",
       "      <th>Unnamed: 0</th>\n",
       "      <th>id</th>\n",
       "      <th>limit</th>\n",
       "      <th>sex</th>\n",
       "      <th>edu</th>\n",
       "      <th>marriage</th>\n",
       "      <th>age</th>\n",
       "      <th>pay1</th>\n",
       "      <th>pay2</th>\n",
       "      <th>pay3</th>\n",
       "      <th>...</th>\n",
       "      <th>bill4</th>\n",
       "      <th>bill5</th>\n",
       "      <th>bill6</th>\n",
       "      <th>paid1</th>\n",
       "      <th>paid2</th>\n",
       "      <th>paid3</th>\n",
       "      <th>paid4</th>\n",
       "      <th>paid5</th>\n",
       "      <th>paid6</th>\n",
       "      <th>default</th>\n",
       "    </tr>\n",
       "  </thead>\n",
       "  <tbody>\n",
       "    <tr>\n",
       "      <td>0</td>\n",
       "      <td>0</td>\n",
       "      <td>1</td>\n",
       "      <td>20000</td>\n",
       "      <td>2</td>\n",
       "      <td>2</td>\n",
       "      <td>1</td>\n",
       "      <td>24</td>\n",
       "      <td>2</td>\n",
       "      <td>2</td>\n",
       "      <td>-1</td>\n",
       "      <td>...</td>\n",
       "      <td>0</td>\n",
       "      <td>0</td>\n",
       "      <td>0</td>\n",
       "      <td>0</td>\n",
       "      <td>689</td>\n",
       "      <td>0</td>\n",
       "      <td>0</td>\n",
       "      <td>0</td>\n",
       "      <td>0</td>\n",
       "      <td>1</td>\n",
       "    </tr>\n",
       "    <tr>\n",
       "      <td>1</td>\n",
       "      <td>1</td>\n",
       "      <td>2</td>\n",
       "      <td>120000</td>\n",
       "      <td>2</td>\n",
       "      <td>2</td>\n",
       "      <td>2</td>\n",
       "      <td>26</td>\n",
       "      <td>-1</td>\n",
       "      <td>2</td>\n",
       "      <td>0</td>\n",
       "      <td>...</td>\n",
       "      <td>3272</td>\n",
       "      <td>3455</td>\n",
       "      <td>3261</td>\n",
       "      <td>0</td>\n",
       "      <td>1000</td>\n",
       "      <td>1000</td>\n",
       "      <td>1000</td>\n",
       "      <td>0</td>\n",
       "      <td>2000</td>\n",
       "      <td>1</td>\n",
       "    </tr>\n",
       "    <tr>\n",
       "      <td>2</td>\n",
       "      <td>2</td>\n",
       "      <td>3</td>\n",
       "      <td>90000</td>\n",
       "      <td>2</td>\n",
       "      <td>2</td>\n",
       "      <td>2</td>\n",
       "      <td>34</td>\n",
       "      <td>0</td>\n",
       "      <td>0</td>\n",
       "      <td>0</td>\n",
       "      <td>...</td>\n",
       "      <td>14331</td>\n",
       "      <td>14948</td>\n",
       "      <td>15549</td>\n",
       "      <td>1518</td>\n",
       "      <td>1500</td>\n",
       "      <td>1000</td>\n",
       "      <td>1000</td>\n",
       "      <td>1000</td>\n",
       "      <td>5000</td>\n",
       "      <td>0</td>\n",
       "    </tr>\n",
       "    <tr>\n",
       "      <td>3</td>\n",
       "      <td>3</td>\n",
       "      <td>4</td>\n",
       "      <td>50000</td>\n",
       "      <td>2</td>\n",
       "      <td>2</td>\n",
       "      <td>1</td>\n",
       "      <td>37</td>\n",
       "      <td>0</td>\n",
       "      <td>0</td>\n",
       "      <td>0</td>\n",
       "      <td>...</td>\n",
       "      <td>28314</td>\n",
       "      <td>28959</td>\n",
       "      <td>29547</td>\n",
       "      <td>2000</td>\n",
       "      <td>2019</td>\n",
       "      <td>1200</td>\n",
       "      <td>1100</td>\n",
       "      <td>1069</td>\n",
       "      <td>1000</td>\n",
       "      <td>0</td>\n",
       "    </tr>\n",
       "    <tr>\n",
       "      <td>4</td>\n",
       "      <td>4</td>\n",
       "      <td>5</td>\n",
       "      <td>50000</td>\n",
       "      <td>1</td>\n",
       "      <td>2</td>\n",
       "      <td>1</td>\n",
       "      <td>57</td>\n",
       "      <td>-1</td>\n",
       "      <td>0</td>\n",
       "      <td>-1</td>\n",
       "      <td>...</td>\n",
       "      <td>20940</td>\n",
       "      <td>19146</td>\n",
       "      <td>19131</td>\n",
       "      <td>2000</td>\n",
       "      <td>36681</td>\n",
       "      <td>10000</td>\n",
       "      <td>9000</td>\n",
       "      <td>689</td>\n",
       "      <td>679</td>\n",
       "      <td>0</td>\n",
       "    </tr>\n",
       "  </tbody>\n",
       "</table>\n",
       "<p>5 rows × 26 columns</p>\n",
       "</div>"
      ],
      "text/plain": [
       "   Unnamed: 0  id   limit  sex  edu  marriage  age  pay1  pay2  pay3  ...  \\\n",
       "0           0   1   20000    2    2         1   24     2     2    -1  ...   \n",
       "1           1   2  120000    2    2         2   26    -1     2     0  ...   \n",
       "2           2   3   90000    2    2         2   34     0     0     0  ...   \n",
       "3           3   4   50000    2    2         1   37     0     0     0  ...   \n",
       "4           4   5   50000    1    2         1   57    -1     0    -1  ...   \n",
       "\n",
       "   bill4  bill5  bill6  paid1  paid2  paid3  paid4  paid5  paid6  default  \n",
       "0      0      0      0      0    689      0      0      0      0        1  \n",
       "1   3272   3455   3261      0   1000   1000   1000      0   2000        1  \n",
       "2  14331  14948  15549   1518   1500   1000   1000   1000   5000        0  \n",
       "3  28314  28959  29547   2000   2019   1200   1100   1069   1000        0  \n",
       "4  20940  19146  19131   2000  36681  10000   9000    689    679        0  \n",
       "\n",
       "[5 rows x 26 columns]"
      ]
     },
     "execution_count": 362,
     "metadata": {},
     "output_type": "execute_result"
    }
   ],
   "source": [
    "#data\n",
    "rawData = pd.read_csv('creditFiltered.csv', header=0)\n",
    "rawData.head()"
   ]
  },
  {
   "cell_type": "markdown",
   "metadata": {},
   "source": [
    "# Cleaning and Preprocessing"
   ]
  },
  {
   "cell_type": "code",
   "execution_count": 363,
   "metadata": {
    "scrolled": true
   },
   "outputs": [
    {
     "name": "stdout",
     "output_type": "stream",
     "text": [
      "<class 'pandas.core.frame.DataFrame'>\n",
      "RangeIndex: 30000 entries, 0 to 29999\n",
      "Data columns (total 26 columns):\n",
      "Unnamed: 0    30000 non-null int64\n",
      "id            30000 non-null int64\n",
      "limit         30000 non-null int64\n",
      "sex           30000 non-null int64\n",
      "edu           30000 non-null int64\n",
      "marriage      30000 non-null int64\n",
      "age           30000 non-null int64\n",
      "pay1          30000 non-null int64\n",
      "pay2          30000 non-null int64\n",
      "pay3          30000 non-null int64\n",
      "pay4          30000 non-null int64\n",
      "pay5          30000 non-null int64\n",
      "pay6          30000 non-null int64\n",
      "bill1         30000 non-null int64\n",
      "bill2         30000 non-null int64\n",
      "bill3         30000 non-null int64\n",
      "bill4         30000 non-null int64\n",
      "bill5         30000 non-null int64\n",
      "bill6         30000 non-null int64\n",
      "paid1         30000 non-null int64\n",
      "paid2         30000 non-null int64\n",
      "paid3         30000 non-null int64\n",
      "paid4         30000 non-null int64\n",
      "paid5         30000 non-null int64\n",
      "paid6         30000 non-null int64\n",
      "default       30000 non-null int64\n",
      "dtypes: int64(26)\n",
      "memory usage: 6.0 MB\n"
     ]
    }
   ],
   "source": [
    "rawData.info()"
   ]
  },
  {
   "cell_type": "markdown",
   "metadata": {},
   "source": [
    "## Convert Categorical Variables that are Numeric Types into Category Types"
   ]
  },
  {
   "cell_type": "code",
   "execution_count": 364,
   "metadata": {},
   "outputs": [],
   "source": [
    "# Convert categorical variables that are inputted as numeric into categorical types\n",
    "rawData['sex'] = rawData.sex.astype('category')\n",
    "rawData['edu'] = rawData.edu.astype('category')\n",
    "rawData['marriage'] = rawData.marriage.astype('category')\n",
    "rawData['pay1'] = rawData.pay1.astype('category')\n",
    "rawData['pay2'] = rawData.pay2.astype('category')\n",
    "rawData['pay3'] = rawData.pay3.astype('category')\n",
    "rawData['pay4'] = rawData.pay4.astype('category')\n",
    "rawData['pay5'] = rawData.pay5.astype('category')\n",
    "rawData['pay6'] = rawData.pay6.astype('category')\n",
    "rawData['default'] = rawData.default.astype('category')"
   ]
  },
  {
   "cell_type": "markdown",
   "metadata": {},
   "source": [
    "## Create Train and Test set\n",
    "\n",
    "70% and 30% split\n",
    "Train Set: X_train, y_train: \n",
    " Test Set: X_test, y_test (also referred to as ground truth, used to test predictions on for performance)"
   ]
  },
  {
   "cell_type": "code",
   "execution_count": 365,
   "metadata": {},
   "outputs": [],
   "source": [
    "X = rawData.iloc[:,2:24]\n",
    "y = rawData['default']"
   ]
  },
  {
   "cell_type": "code",
   "execution_count": 366,
   "metadata": {},
   "outputs": [],
   "source": [
    "X_train, X_test, y_train, y_test = train_test_split(\n",
    "...     X, y, test_size=0.3, random_state=42)"
   ]
  },
  {
   "cell_type": "code",
   "execution_count": 367,
   "metadata": {},
   "outputs": [
    {
     "name": "stdout",
     "output_type": "stream",
     "text": [
      "The number of observations in the Y training set are: 21000\n"
     ]
    }
   ],
   "source": [
    "print('The number of observations in the Y training set are:',str(len(y_train.index)))\n"
   ]
  },
  {
   "cell_type": "code",
   "execution_count": 368,
   "metadata": {},
   "outputs": [
    {
     "name": "stdout",
     "output_type": "stream",
     "text": [
      "The number of observations in the X training set are: 21000\n"
     ]
    }
   ],
   "source": [
    "print('The number of observations in the X training set are:',str(len(X_train.index)))\n"
   ]
  },
  {
   "cell_type": "code",
   "execution_count": 369,
   "metadata": {},
   "outputs": [
    {
     "name": "stdout",
     "output_type": "stream",
     "text": [
      "The number of observations in the X testing set are: 9000\n"
     ]
    }
   ],
   "source": [
    "print('The number of observations in the X testing set are:',str(len(X_test.index)))\n"
   ]
  },
  {
   "cell_type": "code",
   "execution_count": 370,
   "metadata": {},
   "outputs": [
    {
     "name": "stdout",
     "output_type": "stream",
     "text": [
      "The number of observations in the y testing set are: 9000\n"
     ]
    }
   ],
   "source": [
    "print('The number of observations in the y testing set are:',str(len(y_test.index)))\n"
   ]
  },
  {
   "cell_type": "code",
   "execution_count": 371,
   "metadata": {},
   "outputs": [
    {
     "data": {
      "text/plain": [
       "0.3"
      ]
     },
     "execution_count": 371,
     "metadata": {},
     "output_type": "execute_result"
    }
   ],
   "source": [
    "# verify split\n",
    "len(X_test)/(len(X_test)+len(X_train))"
   ]
  },
  {
   "cell_type": "code",
   "execution_count": 372,
   "metadata": {},
   "outputs": [
    {
     "data": {
      "text/plain": [
       "0.3"
      ]
     },
     "execution_count": 372,
     "metadata": {},
     "output_type": "execute_result"
    }
   ],
   "source": [
    "# verify split\n",
    "len(y_test)/(len(y_test)+len(y_train))"
   ]
  },
  {
   "cell_type": "code",
   "execution_count": 373,
   "metadata": {},
   "outputs": [
    {
     "data": {
      "text/plain": [
       "9000"
      ]
     },
     "execution_count": 373,
     "metadata": {},
     "output_type": "execute_result"
    }
   ],
   "source": [
    "len(y_train)\n",
    "len(y_test.index)"
   ]
  },
  {
   "cell_type": "markdown",
   "metadata": {},
   "source": [
    "## Note on Metrics\n",
    "\n",
    "\"Accuracy is used when the True Positives and True negatives are more important while F1-score is used when the False Negatives and False Positives are crucial.\"\n",
    "\n",
    "True Positive = A customer defaulted and we correctly identified that they defaulted. \n",
    "True Negative = A customer did not default and we correctly identified that they did not default.\n",
    "False Positive = A customer did not default BUT we incorrectly identified that they defaulted. \n",
    "False Negative = A customer defaulted BUT we incorrectly identified that they did not default. \n",
    "\n",
    "This project came about because too many of our customers, who we approved, have defaulted on loans. This means that we have too many false negatives. Therefore, we will use performance metrics that focus on false negatives (F1 and recall). Our next concern will be false negatives. If we have too many false negatives, we will not approve customers who would otherwise have brought in revenue. It would be helpful if we could have an acceptable risk threshold for this scenario. Better safe than sorry may not apply if we deny too many customers and lose too much money. The metric we will use for false positives are F1 and precision. \n",
    "\n",
    "For this problem, accuracy will naturally be high since we have a natural class imbalance. Most of our customers do not default on loans. We will still consider accuracy, but, we will pay more attention to F1, recall, precision, and then accuracy. \n",
    "\n",
    "\n",
    "source: https://medium.com/analytics-vidhya/accuracy-vs-f1-score-6258237beca2"
   ]
  },
  {
   "cell_type": "markdown",
   "metadata": {},
   "source": [
    "## Useful Functions"
   ]
  },
  {
   "cell_type": "code",
   "execution_count": 374,
   "metadata": {},
   "outputs": [],
   "source": [
    "# function to reload data with correct category types\n",
    "## purpose: prevent assignment mistakes\n",
    "\n",
    "\n",
    "def loadData() :\n",
    "    rawData = pd.read_csv('creditFiltered.csv', header=0)\n",
    "\n",
    "    ## change categorical variables to category type\n",
    "    rawData['sex'] = rawData.sex.astype('category')\n",
    "    rawData['edu'] = rawData.edu.astype('category')\n",
    "    rawData['marriage'] = rawData.marriage.astype('category')\n",
    "    rawData['pay1'] = rawData.pay1.astype('category')\n",
    "    rawData['pay2'] = rawData.pay2.astype('category')\n",
    "    rawData['pay3'] = rawData.pay3.astype('category')\n",
    "    rawData['pay4'] = rawData.pay4.astype('category')\n",
    "    rawData['pay5'] = rawData.pay5.astype('category')\n",
    "    rawData['pay6'] = rawData.pay6.astype('category')\n",
    "    rawData['default'] = rawData.default.astype('category')\n",
    "    \n",
    "    return rawData\n"
   ]
  },
  {
   "cell_type": "code",
   "execution_count": 375,
   "metadata": {},
   "outputs": [],
   "source": [
    "# function to create a pandas dataframe, with prediction results and actual results\n",
    "\n",
    "# modelInitial_string is the initial of the model. Ex: 'rf' is for random forest\n",
    "# predictions is the predictions object from the model. Ex: predictions_rf is created when we run the .predict() on the random forest model\n",
    "# y_test is the default rows (test data), created during train test split step\n",
    "\n",
    "def predDF(modelInitial_string, predictions, y_test ) :\n",
    "    predColumnName = 'predictions_' + modelInitial_string\n",
    "    redColNam = 'results_' + modelInitial_string\n",
    "    predictions_df = pd.DataFrame(predictions)\n",
    "    predictions_df.columns = [predColumnName]\n",
    "    predictions_df.reset_index(drop=True, inplace=True)\n",
    "    ytest_df = pd.DataFrame(y_test)\n",
    "    ytest_df.columns = ['actualResults']\n",
    "    ytest_df.reset_index(drop=True, inplace=True)\n",
    "    res = [ytest_df,predictions_df]\n",
    "    redColNam = pd.concat(res,sort=False, axis = 1)\n",
    "    print (redColNam.columns)\n",
    "    return redColNam"
   ]
  },
  {
   "cell_type": "code",
   "execution_count": 376,
   "metadata": {},
   "outputs": [],
   "source": [
    "# function for my metrics\n",
    "\n",
    "#modelName : name of algorithm as a string, can be initial or full name\n",
    "#y_test : test set of target variable\n",
    "# modelPredictions : model predictions, output of .predict()\n",
    "\n",
    "def myMetrics(modelName_str, y_test, modelPredictions) :\n",
    "    f1Score = f1_score(y_test, modelPredictions, average=\"binary\")\n",
    "    recallScore = recall_score(y_test, modelPredictions, average=\"binary\")\n",
    "    precision = precision_score(y_test, modelPredictions, average=\"binary\")\n",
    "    accuracyScore = accuracy_score(y_test, modelPredictions)\n",
    "    print(f\"Recall : The {modelName} model correctly identifed all customer who defaulted {recallScore:.5f} of the time.\")\n",
    "    print(f\"F1score for {modelName} model: {f1Score:.5f} \")\n",
    "    print(f\"Precision for {modelName} model: {precision:.5f} \")\n",
    "    print(f\"Accuracy for {modelName} model: {accuracyScore:.5f} \")"
   ]
  },
  {
   "cell_type": "code",
   "execution_count": 377,
   "metadata": {},
   "outputs": [],
   "source": [
    "# Function to Evaluate Model, used for parameter tuning \n",
    "# model : fitted model, using x_train and y_train\n",
    "#modelName : name of algorithm as a string, can be initial or full name\n",
    "#x_test : features in test set\n",
    "#y_test : target variable in test set\n",
    "\n",
    "def evaluate(model,model_name, x_test, y_test):\n",
    "    predictions = model.predict(x_test)\n",
    "    recall= recall_score(y_test, predictions, average=\"binary\", zero_division=1)\n",
    "    f1 = f1_score(y_test, predictions, average=\"binary\", zero_division = 1)\n",
    "    print(f\"The {model_name} model correctly identifed all customer who defaulted {recall:.5f} of the time.\")\n",
    "    print(f\"The {model_name} model has an f1 score of {f1:.5f} .\") \n",
    "\n",
    "    return f1"
   ]
  },
  {
   "cell_type": "markdown",
   "metadata": {},
   "source": [
    "# 1st Attempt - Out of the Box - 4 Models\n",
    "\n",
    "Which algorithms should we try?\n",
    "\n",
    "- Linear Classifiers: Logistic regression, Naive Bayes classifier, Fisher’s linear discriminant\n",
    "- Support vector machines: Least squares support vector machines\n",
    "- Quadratic classifiers\n",
    "- Kernel estimation: k-nearest neighbor \n",
    "- Decision trees: Random forests\n",
    "- Neural networks\n",
    "- Learning vector quantization"
   ]
  },
  {
   "cell_type": "markdown",
   "metadata": {},
   "source": [
    "## Random Forest"
   ]
  },
  {
   "cell_type": "code",
   "execution_count": 144,
   "metadata": {},
   "outputs": [
    {
     "name": "stdout",
     "output_type": "stream",
     "text": [
      "Index(['actualResults', 'predictions_rf'], dtype='object')\n",
      "Recall : The rf model correctly identifed all customer who defaulted 0.20204 of the time.\n",
      "F1score for rf model: 0.31292 \n",
      "Precision for rf model: 0.69352 \n",
      "Accuracy for rf model: 0.80678 \n"
     ]
    }
   ],
   "source": [
    "# Random Forest Model \n",
    "modelName = 'rf'\n",
    "rf_model = RandomForestClassifier(max_depth=2, random_state=0)\n",
    "rf_model.fit(X_train, y_train)\n",
    "predictions_rf= rf_model.predict(X_test)\n",
    "results_rf = predDF('rf',predictions_rf, y_test )\n",
    "myMetrics(modelName, y_test, predictions_rf)"
   ]
  },
  {
   "cell_type": "markdown",
   "metadata": {},
   "source": [
    "## Least Squares Support Vector Machine"
   ]
  },
  {
   "cell_type": "code",
   "execution_count": 145,
   "metadata": {},
   "outputs": [
    {
     "name": "stdout",
     "output_type": "stream",
     "text": [
      "Index(['actualResults', 'predictions_lssVM'], dtype='object')\n",
      "Recall : The lssVM model correctly identifed all customer who defaulted 0.05000 of the time.\n",
      "F1score for lssVM model: 0.08544 \n",
      "Precision for lssVM model: 0.29341 \n",
      "Accuracy for lssVM model: 0.76689 \n"
     ]
    }
   ],
   "source": [
    "# Least Squares Support Vector Machine\n",
    "modelName = 'lssVM'\n",
    "lssVM_model = LinearSVC(random_state=0, tol=1000)\n",
    "lssVM_model.fit(X_train, y_train)\n",
    "predictions_lssVM= lssVM_model.predict(X_test)\n",
    "results_lssVM = predDF(modelName,predictions_lssVM, y_test )\n",
    "myMetrics(modelName, y_test, predictions_lssVM)"
   ]
  },
  {
   "cell_type": "markdown",
   "metadata": {},
   "source": [
    "## K- Nearest Neighbor"
   ]
  },
  {
   "cell_type": "code",
   "execution_count": 146,
   "metadata": {},
   "outputs": [
    {
     "name": "stdout",
     "output_type": "stream",
     "text": [
      "Index(['actualResults', 'predictions_knn'], dtype='object')\n",
      "Recall : The knn model correctly identifed all customer who defaulted 0.22704 of the time.\n",
      "F1score for knn model: 0.27176 \n",
      "Precision for knn model: 0.33840 \n",
      "Accuracy for knn model: 0.73500 \n"
     ]
    }
   ],
   "source": [
    "# K- Nearest Neighbor\n",
    "modelName = 'knn'\n",
    "knn_model = KNeighborsClassifier(n_neighbors=3)\n",
    "knn_model.fit(X_train, y_train)\n",
    "predictions_knn = knn_model.predict(X_test)\n",
    "results_knn = predDF(modelName,predictions_knn, y_test )\n",
    "myMetrics(modelName, y_test, predictions_knn)"
   ]
  },
  {
   "cell_type": "markdown",
   "metadata": {},
   "source": [
    "## Gaussian Naive Bayes"
   ]
  },
  {
   "cell_type": "code",
   "execution_count": 378,
   "metadata": {},
   "outputs": [
    {
     "name": "stdout",
     "output_type": "stream",
     "text": [
      "Index(['actualResults', 'predictions_gnb'], dtype='object')\n",
      "Recall : The gnb model correctly identifed all customer who defaulted 0.86429 of the time.\n",
      "F1score for gnb model: 0.38326 \n",
      "Precision for gnb model: 0.24622 \n",
      "Accuracy for gnb model: 0.39422 \n"
     ]
    }
   ],
   "source": [
    "# Gaussian Naive Bayes\n",
    "modelName = 'gnb'\n",
    "gnb_model = GaussianNB()\n",
    "gnb_model.fit(X_train, y_train)\n",
    "predictions_gnb=gnb_model.predict(X_test)\n",
    "results_gnb = predDF(modelName,predictions_gnb, y_test )\n",
    "myMetrics(modelName, y_test, predictions_gnb)"
   ]
  },
  {
   "cell_type": "code",
   "execution_count": 379,
   "metadata": {},
   "outputs": [
    {
     "data": {
      "image/png": "[encoded data removed]",
      "text/plain": [
       "<Figure size 864x432 with 2 Axes>"
      ]
     },
     "metadata": {
      "needs_background": "light"
     },
     "output_type": "display_data"
    }
   ],
   "source": [
    "fig, axes = plt.subplots(1,2, sharex=True, sharey= True, figsize=(12,6))\n",
    "sns.despine(left=True)\n",
    "\n",
    "sns.countplot(x='actualResults', data = results_gnb, ax=axes[0], palette=\"Greens\" )\n",
    "sns.countplot(x='predictions_gnb', data = results_gnb, ax=axes[1] )\n",
    "\n",
    "fig.tight_layout()\n",
    "\n",
    "for ax in axes.flat:\n",
    "    ax.label_outer()"
   ]
  },
  {
   "cell_type": "code",
   "execution_count": 380,
   "metadata": {},
   "outputs": [
    {
     "data": {
      "text/plain": [
       "Text(0.5, 1.0, 'Gaussian Naive Bayes Predictions')"
      ]
     },
     "execution_count": 380,
     "metadata": {},
     "output_type": "execute_result"
    },
    {
     "data": {
      "image/png": "[encoded data removed]",
      "text/plain": [
       "<Figure size 432x288 with 2 Axes>"
      ]
     },
     "metadata": {
      "needs_background": "light"
     },
     "output_type": "display_data"
    }
   ],
   "source": [
    "# Plot Confusion Matrix\n",
    "disp = plot_confusion_matrix(gnb_model, X_test, y_test,\n",
    "                                 display_labels=[\"Did Not Default\",\"Default\"],\n",
    "                                 cmap=plt.cm.Blues,\n",
    "                                 normalize=None, values_format='.0f')\n",
    "\n",
    "disp.ax_.set_title(\"Gaussian Naive Bayes Predictions\")"
   ]
  },
  {
   "cell_type": "markdown",
   "metadata": {},
   "source": [
    "## Ada Boost"
   ]
  },
  {
   "cell_type": "code",
   "execution_count": 166,
   "metadata": {},
   "outputs": [
    {
     "name": "stdout",
     "output_type": "stream",
     "text": [
      "Index(['actualResults', 'predictions_ada'], dtype='object')\n",
      "Recall : The ada model correctly identifed all customer who defaulted 0.32245 of the time.\n",
      "F1score for ada model: 0.43496 \n",
      "Precision for ada model: 0.66808 \n",
      "Accuracy for ada model: 0.81756 \n"
     ]
    }
   ],
   "source": [
    "# Ada Boost\n",
    "modelName = 'ada'\n",
    "ada_model = AdaBoostClassifier()\n",
    "ada_model.fit(X_train, y_train)\n",
    "predictions_ada=ada_model.predict(X_test)\n",
    "results_ada = predDF(modelName,predictions_ada, y_test )\n",
    "myMetrics(modelName, y_test, predictions_ada)"
   ]
  },
  {
   "cell_type": "markdown",
   "metadata": {},
   "source": [
    "## Gradient Tree Boosting"
   ]
  },
  {
   "cell_type": "code",
   "execution_count": 167,
   "metadata": {},
   "outputs": [
    {
     "name": "stdout",
     "output_type": "stream",
     "text": [
      "Index(['actualResults', 'predictions_gtb'], dtype='object')\n",
      "Recall : The gtb model correctly identifed all customer who defaulted 0.35408 of the time.\n",
      "F1score for gtb model: 0.46220 \n",
      "Precision for gtb model: 0.66539 \n",
      "Accuracy for gtb model: 0.82056 \n"
     ]
    }
   ],
   "source": [
    "# GTB Boost\n",
    "modelName = 'gtb'\n",
    "gtb_model = GradientBoostingClassifier()\n",
    "gtb_model.fit(X_train, y_train)\n",
    "predictions_gtb=gtb_model.predict(X_test)\n",
    "results_gtb = predDF(modelName,predictions_gtb, y_test )\n",
    "myMetrics(modelName, y_test, predictions_gtb)"
   ]
  },
  {
   "cell_type": "markdown",
   "metadata": {},
   "source": [
    "### Combined Bar Chart of Models: Actual vs Predictions"
   ]
  },
  {
   "cell_type": "code",
   "execution_count": 158,
   "metadata": {},
   "outputs": [
    {
     "data": {
      "image/png": "[encoded data removed]",
      "text/plain": [
       "<Figure size 864x432 with 7 Axes>"
      ]
     },
     "metadata": {
      "needs_background": "light"
     },
     "output_type": "display_data"
    }
   ],
   "source": [
    "fig, axes = plt.subplots(1,7, sharex=True, sharey= True, figsize=(12,6))\n",
    "sns.despine(left=True)\n",
    "\n",
    "sns.countplot(x='actualResults', data = results_rf, ax=axes[0], palette=\"Greens\" )\n",
    "sns.countplot(x='predictions_rf', data = results_rf, ax=axes[1] )\n",
    "sns.countplot(x='predictions_lssVM', data =results_lssVM, ax=axes[2] )\n",
    "sns.countplot(x='predictions_knn', data = results_knn, ax=axes[3] )\n",
    "sns.countplot(x='predictions_gnb', data = results_gnb, ax=axes[4] )\n",
    "sns.countplot(x='predictions_ada', data = results_ada, ax=axes[5] )\n",
    "sns.countplot(x='predictions_gtb', data = results_gtb, ax=axes[6] )\n",
    "\n",
    "fig.tight_layout()\n",
    "\n",
    "for ax in axes.flat:\n",
    "    ax.label_outer()"
   ]
  },
  {
   "cell_type": "markdown",
   "metadata": {},
   "source": [
    "Algorithms to Remove:\n",
    "- Least Sqaures Support Vector Machine\n",
    "- Guassian Naive Bayes\n",
    "\n",
    "Algorithms to Keep:\n",
    "- Random Forest\n",
    "- K-Nearest Neighbor\n",
    "- Ada Boost\n",
    "- Gradient Tree Boosting\n"
   ]
  },
  {
   "cell_type": "markdown",
   "metadata": {},
   "source": [
    "# 2nd Attempt - Multicollinearity - 3 Models\n",
    "\n",
    "While doing the EDA, I thought of several ways to improve the models:\n",
    "\n",
    "- Dimension Reduction\n",
    " - Multicollinearity : Remove monthly bill columns as they were highly correlated with each other\n",
    " - Apply Recursive Feature Elimination\n",
    "- Remove outliers\n",
    "- Class Imbalance Techniques\n",
    "- Hyper-parameter tuning\n",
    "\n",
    "The first technique I will try in improving this model is by reducing the dimensions. Are there any improvements when removing highly correlated variables?\n",
    "\n",
    "Per the EDA, bills1 - bills 6 were highly correlated with each other, with pearson correlation scores of .8 and higher. I will test the models without these features. \n"
   ]
  },
  {
   "cell_type": "code",
   "execution_count": 442,
   "metadata": {},
   "outputs": [],
   "source": [
    "# start with 'clean' data\n",
    "rawData = loadData()"
   ]
  },
  {
   "cell_type": "code",
   "execution_count": 443,
   "metadata": {},
   "outputs": [],
   "source": [
    "# remove bills from features\n",
    "cols = ['limit', 'sex', 'edu', 'marriage', 'age', 'pay1',\n",
    "       'pay2', 'pay3', 'pay4', 'pay5', 'pay6', 'paid1', 'paid2', 'paid3', 'paid4', 'paid5',\n",
    "       'paid6']"
   ]
  },
  {
   "cell_type": "code",
   "execution_count": 444,
   "metadata": {},
   "outputs": [],
   "source": [
    "X = rawData[cols]\n",
    "y = rawData['default']"
   ]
  },
  {
   "cell_type": "code",
   "execution_count": 445,
   "metadata": {},
   "outputs": [],
   "source": [
    "X_train, X_test, y_train, y_test = train_test_split(\n",
    "...     X, y, test_size=0.3, random_state=42)"
   ]
  },
  {
   "cell_type": "markdown",
   "metadata": {},
   "source": [
    "## Random Forest"
   ]
  },
  {
   "cell_type": "code",
   "execution_count": 163,
   "metadata": {},
   "outputs": [
    {
     "name": "stdout",
     "output_type": "stream",
     "text": [
      "Index(['actualResults', 'predictions_rf_multiColl'], dtype='object')\n",
      "Recall : The rf_multiColl model correctly identifed all customer who defaulted 0.19643 of the time.\n",
      "F1score for rf_multiColl model: 0.30616 \n",
      "Precision for rf_multiColl model: 0.69369 \n",
      "Accuracy for rf_multiColl model: 0.80611 \n"
     ]
    }
   ],
   "source": [
    "# Random Forest Model \n",
    "modelName = 'rf_multiColl'\n",
    "rf_model = RandomForestClassifier(max_depth=2, random_state=0)\n",
    "rf_model.fit(X_train, y_train)\n",
    "predictions_rf= rf_model.predict(X_test)\n",
    "results_rf = predDF(modelName,predictions_rf, y_test )\n",
    "myMetrics(modelName, y_test, predictions_rf)"
   ]
  },
  {
   "cell_type": "markdown",
   "metadata": {},
   "source": [
    "## K- Nearest Neighbor"
   ]
  },
  {
   "cell_type": "code",
   "execution_count": 175,
   "metadata": {},
   "outputs": [
    {
     "name": "stdout",
     "output_type": "stream",
     "text": [
      "Index(['actualResults', 'predictions_knn_multiColl'], dtype='object')\n",
      "Recall : The knn_multiColl model correctly identifed all customer who defaulted 0.21939 of the time.\n",
      "F1score for knn_multiColl model: 0.26833 \n",
      "Precision for knn_multiColl model: 0.34538 \n",
      "Accuracy for knn_multiColl model: 0.73944 \n"
     ]
    }
   ],
   "source": [
    "# K- Nearest Neighbor\n",
    "modelName = 'knn_multiColl'\n",
    "knn_model = KNeighborsClassifier(n_neighbors=3)\n",
    "knn_model.fit(X_train, y_train)\n",
    "predictions_knn = knn_model.predict(X_test)\n",
    "results_knn = predDF(modelName,predictions_knn, y_test )\n",
    "myMetrics(modelName, y_test, predictions_knn)"
   ]
  },
  {
   "cell_type": "markdown",
   "metadata": {},
   "source": [
    "## Ada Boost"
   ]
  },
  {
   "cell_type": "code",
   "execution_count": 180,
   "metadata": {},
   "outputs": [
    {
     "name": "stdout",
     "output_type": "stream",
     "text": [
      "Index(['actualResults', 'predictions_ada_multiColl'], dtype='object')\n",
      "Recall : The ada_multiColl model correctly identifed all customer who defaulted 0.32245 of the time.\n",
      "F1score for ada_multiColl model: 0.43496 \n",
      "Precision for ada_multiColl model: 0.66808 \n",
      "Accuracy for ada_multiColl model: 0.81756 \n"
     ]
    }
   ],
   "source": [
    "# Ada Boost\n",
    "modelName = 'ada_multiColl'\n",
    "ada_model = AdaBoostClassifier()\n",
    "ada_model.fit(X_train, y_train)\n",
    "predictions_ada=ada_model.predict(X_test)\n",
    "results_ada = predDF(modelName,predictions_ada, y_test )\n",
    "myMetrics(modelName, y_test, predictions_ada)"
   ]
  },
  {
   "cell_type": "markdown",
   "metadata": {},
   "source": [
    "## Gradient Tree Boosting"
   ]
  },
  {
   "cell_type": "code",
   "execution_count": 446,
   "metadata": {},
   "outputs": [
    {
     "name": "stdout",
     "output_type": "stream",
     "text": [
      "Index(['actualResults', 'predictions_gtb_multiColl'], dtype='object')\n",
      "Recall : The gtb_multiColl model correctly identifed all customer who defaulted 0.35408 of the time.\n",
      "F1score for gtb_multiColl model: 0.46220 \n",
      "Precision for gtb_multiColl model: 0.66539 \n",
      "Accuracy for gtb_multiColl model: 0.82056 \n"
     ]
    }
   ],
   "source": [
    "# GTB Boost\n",
    "modelName = 'gtb_multiColl'\n",
    "gtb_model = GradientBoostingClassifier()\n",
    "gtb_model.fit(X_train, y_train)\n",
    "predictions_gtb=gtb_model.predict(X_test)\n",
    "results_gtb = predDF(modelName,predictions_gtb, y_test )\n",
    "myMetrics(modelName, y_test, predictions_gtb)"
   ]
  },
  {
   "cell_type": "markdown",
   "metadata": {},
   "source": [
    "### Combined Bar Chart of Models: Actual vs Predictions"
   ]
  },
  {
   "cell_type": "code",
   "execution_count": 173,
   "metadata": {},
   "outputs": [
    {
     "data": {
      "image/png": "[encoded data removed]",
      "text/plain": [
       "<Figure size 864x432 with 5 Axes>"
      ]
     },
     "metadata": {
      "needs_background": "light"
     },
     "output_type": "display_data"
    }
   ],
   "source": [
    "fig, axes = plt.subplots(1,5, sharex=True, sharey= True, figsize=(12,6))\n",
    "sns.despine(left=True)\n",
    "\n",
    "sns.countplot(x='actualResults', data = results_rf, ax=axes[0], palette=\"Greens\" )\n",
    "sns.countplot(x='predictions_rf_multiColl', data = results_rf, ax=axes[1] )\n",
    "sns.countplot(x='predictions_knn_multiColl', data = results_knn, ax=axes[2] )\n",
    "sns.countplot(x='predictions_ada_multiColl', data = results_ada, ax=axes[3] )\n",
    "sns.countplot(x='predictions_gtb_multiColl', data = results_gtb, ax=axes[4] )\n",
    "\n",
    "fig.tight_layout()\n",
    "\n",
    "for ax in axes.flat:\n",
    "    ax.label_outer()"
   ]
  },
  {
   "cell_type": "markdown",
   "metadata": {},
   "source": [
    "# 3rd Attempt - Recursive Feature Elimination - 3 Models\n",
    "\n",
    "\n",
    "There are several techniques we can use to address dimension reduction, in particular, principal component analysis and recursive feature elimination. I chose RFE over PCA because I discovered during the EDA that the no features had significant low variance. \n",
    "\n",
    "With RFE, I will look for the top 20 features. "
   ]
  },
  {
   "cell_type": "code",
   "execution_count": 104,
   "metadata": {},
   "outputs": [],
   "source": [
    "# start with 'clean' data\n",
    "rawData = loadData()"
   ]
  },
  {
   "cell_type": "code",
   "execution_count": 105,
   "metadata": {},
   "outputs": [],
   "source": [
    "X = rawData.iloc[:,2:24]\n",
    "y = rawData['default']"
   ]
  },
  {
   "cell_type": "code",
   "execution_count": 106,
   "metadata": {},
   "outputs": [
    {
     "data": {
      "text/plain": [
       "Index(['limit', 'sex', 'edu', 'marriage', 'age', 'pay1', 'pay2', 'pay3',\n",
       "       'pay4', 'pay5', 'pay6', 'bill1', 'bill2', 'bill3', 'bill4', 'bill5',\n",
       "       'bill6', 'paid1', 'paid2', 'paid3', 'paid4', 'paid5'],\n",
       "      dtype='object')"
      ]
     },
     "execution_count": 106,
     "metadata": {},
     "output_type": "execute_result"
    }
   ],
   "source": [
    "X.columns"
   ]
  },
  {
   "cell_type": "code",
   "execution_count": 107,
   "metadata": {},
   "outputs": [
    {
     "data": {
      "text/plain": [
       "0        1\n",
       "1        1\n",
       "2        0\n",
       "3        0\n",
       "4        0\n",
       "        ..\n",
       "29995    0\n",
       "29996    0\n",
       "29997    1\n",
       "29998    1\n",
       "29999    1\n",
       "Name: default, Length: 30000, dtype: category\n",
       "Categories (2, int64): [0, 1]"
      ]
     },
     "execution_count": 107,
     "metadata": {},
     "output_type": "execute_result"
    }
   ],
   "source": [
    "y"
   ]
  },
  {
   "cell_type": "code",
   "execution_count": 108,
   "metadata": {},
   "outputs": [],
   "source": [
    "X_train, X_test, y_train, y_test = train_test_split(\n",
    "...     X, y, test_size=0.3, random_state=42)"
   ]
  },
  {
   "cell_type": "markdown",
   "metadata": {},
   "source": [
    "## Random Forest"
   ]
  },
  {
   "cell_type": "code",
   "execution_count": 109,
   "metadata": {
    "scrolled": true
   },
   "outputs": [
    {
     "name": "stdout",
     "output_type": "stream",
     "text": [
      "Num Features: 20\n",
      "Selected Features: [ True False  True False  True  True  True  True  True  True  True  True\n",
      "  True  True  True  True  True  True  True  True  True  True]\n",
      "Feature Ranking: [1 3 1 2 1 1 1 1 1 1 1 1 1 1 1 1 1 1 1 1 1 1]\n"
     ]
    }
   ],
   "source": [
    "# Feature extraction\n",
    "model = RandomForestClassifier()\n",
    "rfe = RFE(model, 20)\n",
    "fit = rfe.fit(X_train, y_train)\n",
    "print(\"Num Features: %s\" % (fit.n_features_))\n",
    "print(\"Selected Features: %s\" % (fit.support_))\n",
    "print(\"Feature Ranking: %s\" % (fit.ranking_))\n"
   ]
  },
  {
   "cell_type": "code",
   "execution_count": 110,
   "metadata": {},
   "outputs": [
    {
     "name": "stdout",
     "output_type": "stream",
     "text": [
      "All Features: Index(['limit', 'sex', 'edu', 'marriage', 'age', 'pay1', 'pay2', 'pay3',\n",
      "       'pay4', 'pay5', 'pay6', 'bill1', 'bill2', 'bill3', 'bill4', 'bill5',\n",
      "       'bill6', 'paid1', 'paid2', 'paid3', 'paid4', 'paid5'],\n",
      "      dtype='object')\n"
     ]
    }
   ],
   "source": [
    "print(\"All Features: %s\" % (X_train.columns) )\n"
   ]
  },
  {
   "cell_type": "markdown",
   "metadata": {},
   "source": [
    "All are features play a role. Marriage is not as important and sex is the least important. "
   ]
  },
  {
   "cell_type": "code",
   "execution_count": 111,
   "metadata": {},
   "outputs": [],
   "source": [
    "# Run Random Forest with RFE Features Only\n",
    "# Remove Sex and Marriage as Features\n",
    "cols = ['limit', 'edu', 'age', 'pay1', 'pay2', 'pay3',\n",
    "       'pay4', 'pay5', 'pay6', 'bill1', 'bill2', 'bill3', 'bill4', 'bill5',\n",
    "       'bill6', 'paid1', 'paid2', 'paid3', 'paid4', 'paid5']\n",
    "\n",
    "X = rawData[cols]\n",
    "y = rawData['default']"
   ]
  },
  {
   "cell_type": "code",
   "execution_count": 112,
   "metadata": {},
   "outputs": [],
   "source": [
    "X_train, X_test, y_train, y_test = train_test_split(\n",
    "...     X, y, test_size=0.3, random_state=42)"
   ]
  },
  {
   "cell_type": "code",
   "execution_count": 113,
   "metadata": {
    "scrolled": true
   },
   "outputs": [
    {
     "name": "stdout",
     "output_type": "stream",
     "text": [
      "Index(['actualResults', 'predictions_rf_rfe'], dtype='object')\n",
      "Recall : The rf_rfe model correctly identifed all customer who defaulted 0.17806 of the time.\n",
      "F1score for rf_rfe model: 0.28443 \n",
      "Precision for rf_rfe model: 0.70648 \n",
      "Accuracy for rf_rfe model: 0.80489 \n"
     ]
    }
   ],
   "source": [
    "# Random Forest Model \n",
    "modelName = 'rf_rfe'\n",
    "rf_model = RandomForestClassifier(max_depth=2, random_state=0)\n",
    "rf_model.fit(X_train, y_train)\n",
    "predictions_rf= rf_model.predict(X_test)\n",
    "results_rf = predDF(modelName,predictions_rf, y_test )\n",
    "myMetrics(modelName, y_test, predictions_rf)"
   ]
  },
  {
   "cell_type": "markdown",
   "metadata": {},
   "source": [
    "## Ada Boost"
   ]
  },
  {
   "cell_type": "code",
   "execution_count": 182,
   "metadata": {
    "scrolled": true
   },
   "outputs": [
    {
     "name": "stdout",
     "output_type": "stream",
     "text": [
      "Num Features: 17\n",
      "Selected Features: [ True  True  True  True  True  True  True  True  True  True  True  True\n",
      "  True  True  True  True  True]\n",
      "Feature Ranking: [1 1 1 1 1 1 1 1 1 1 1 1 1 1 1 1 1]\n"
     ]
    }
   ],
   "source": [
    "# Feature extraction\n",
    "model = AdaBoostClassifier()\n",
    "rfe = RFE(model, 20)\n",
    "fit = rfe.fit(X_train, y_train)\n",
    "print(\"Num Features: %s\" % (fit.n_features_))\n",
    "print(\"Selected Features: %s\" % (fit.support_))\n",
    "print(\"Feature Ranking: %s\" % (fit.ranking_))\n"
   ]
  },
  {
   "cell_type": "code",
   "execution_count": 183,
   "metadata": {},
   "outputs": [
    {
     "name": "stdout",
     "output_type": "stream",
     "text": [
      "All Features: Index(['limit', 'sex', 'edu', 'marriage', 'age', 'pay1', 'pay2', 'pay3',\n",
      "       'pay4', 'pay5', 'pay6', 'paid1', 'paid2', 'paid3', 'paid4', 'paid5',\n",
      "       'paid6'],\n",
      "      dtype='object')\n"
     ]
    }
   ],
   "source": [
    "print(\"All Features: %s\" % (X_train.columns) )\n"
   ]
  },
  {
   "cell_type": "markdown",
   "metadata": {},
   "source": [
    "All are features are important. "
   ]
  },
  {
   "cell_type": "markdown",
   "metadata": {},
   "source": [
    "## Gradient Tree Boosting"
   ]
  },
  {
   "cell_type": "code",
   "execution_count": 184,
   "metadata": {
    "scrolled": true
   },
   "outputs": [
    {
     "name": "stdout",
     "output_type": "stream",
     "text": [
      "Num Features: 17\n",
      "Selected Features: [ True  True  True  True  True  True  True  True  True  True  True  True\n",
      "  True  True  True  True  True]\n",
      "Feature Ranking: [1 1 1 1 1 1 1 1 1 1 1 1 1 1 1 1 1]\n"
     ]
    }
   ],
   "source": [
    "# Feature extraction\n",
    "model = GradientBoostingClassifier()\n",
    "rfe = RFE(model, 20)\n",
    "fit = rfe.fit(X_train, y_train)\n",
    "print(\"Num Features: %s\" % (fit.n_features_))\n",
    "print(\"Selected Features: %s\" % (fit.support_))\n",
    "print(\"Feature Ranking: %s\" % (fit.ranking_))\n"
   ]
  },
  {
   "cell_type": "code",
   "execution_count": 185,
   "metadata": {},
   "outputs": [
    {
     "name": "stdout",
     "output_type": "stream",
     "text": [
      "All Features: Index(['limit', 'sex', 'edu', 'marriage', 'age', 'pay1', 'pay2', 'pay3',\n",
      "       'pay4', 'pay5', 'pay6', 'paid1', 'paid2', 'paid3', 'paid4', 'paid5',\n",
      "       'paid6'],\n",
      "      dtype='object')\n"
     ]
    }
   ],
   "source": [
    "print(\"All Features: %s\" % (X_train.columns) )\n"
   ]
  },
  {
   "cell_type": "markdown",
   "metadata": {},
   "source": [
    "All are features are important. "
   ]
  },
  {
   "cell_type": "markdown",
   "metadata": {},
   "source": [
    "## RFE: KNN and GNG\n",
    "\n",
    "KNN does not support RFE. "
   ]
  },
  {
   "cell_type": "markdown",
   "metadata": {},
   "source": [
    "Using rfe significantly worsened the random forest model."
   ]
  },
  {
   "cell_type": "markdown",
   "metadata": {},
   "source": [
    "# 4th Attempt - Remove Outliers - 4 Models\n",
    "\n",
    "The next approach I will take to improve the models is to remove outliers, which I identified during the EDA. I will start\n",
    "Continuous \n",
    " - Limit (remove limits higher than 525,000 per IQR test)\n",
    " - Monthly Payments\n",
    " \n",
    " \n",
    "Results of IQR test for Outliers (from EDA): \n",
    "\n",
    "lowOutliers: -235000.0 highOutliers: 525000.0\n",
    " \n",
    "Results of IQR test for Monthly Payments:\n",
    "lowOutliers: -5009.0 highOutliers: 11015.0\n",
    "lowOutliers: -5417.5 highOutliers: 11250.5\n",
    "lowOutliers: -5782.5 highOutliers: 10677.5\n",
    "lowOutliers: -5279.875 highOutliers: 9589.125\n",
    "lowOutliers: -5416.0 highOutliers: 9700.0\n",
    "lowOutliers: -5705.625 highOutliers: 9823.375\n",
    " \n",
    "* No limits amounts or monthly payments were negative (credits) so no need to remove low outliers.  "
   ]
  },
  {
   "cell_type": "code",
   "execution_count": 381,
   "metadata": {},
   "outputs": [
    {
     "data": {
      "text/plain": [
       "30000"
      ]
     },
     "execution_count": 381,
     "metadata": {},
     "output_type": "execute_result"
    }
   ],
   "source": [
    "# start with 'clean' data\n",
    "rawData = loadData()\n",
    "# number of customers\n",
    "len(rawData.index)"
   ]
  },
  {
   "cell_type": "code",
   "execution_count": 382,
   "metadata": {},
   "outputs": [],
   "source": [
    "# Remove outliers\n",
    "rawData = rawData[rawData.limit < 525000]\n",
    "rawData = rawData[rawData.paid1 < 11015.0]\n",
    "rawData = rawData[rawData.paid2 < 11250.5]\n",
    "rawData = rawData[rawData.paid3 < 10677.5]\n",
    "rawData = rawData[rawData.paid4 < 9589.125]\n",
    "rawData = rawData[rawData.paid5 < 9700.0]\n",
    "rawData = rawData[rawData.paid6 < 9823.375]"
   ]
  },
  {
   "cell_type": "code",
   "execution_count": 383,
   "metadata": {},
   "outputs": [
    {
     "data": {
      "text/plain": [
       "21242"
      ]
     },
     "execution_count": 383,
     "metadata": {},
     "output_type": "execute_result"
    }
   ],
   "source": [
    "# Number of customers after removing outliers\n",
    "len(rawData.index)"
   ]
  },
  {
   "cell_type": "code",
   "execution_count": 384,
   "metadata": {},
   "outputs": [],
   "source": [
    "X = rawData.iloc[:,2:24]\n",
    "y = rawData['default']"
   ]
  },
  {
   "cell_type": "code",
   "execution_count": 385,
   "metadata": {},
   "outputs": [],
   "source": [
    "X_train, X_test, y_train, y_test = train_test_split(\n",
    "...     X, y, test_size=0.3, random_state=42)"
   ]
  },
  {
   "cell_type": "markdown",
   "metadata": {},
   "source": [
    "### Random Forest without Outliers Removed"
   ]
  },
  {
   "cell_type": "code",
   "execution_count": 402,
   "metadata": {},
   "outputs": [
    {
     "name": "stdout",
     "output_type": "stream",
     "text": [
      "Index(['actualResults', 'predictions_rf_noOut'], dtype='object')\n",
      "Recall : The rf_noOut model correctly identifed all customer who defaulted 0.25600 of the time.\n",
      "F1score for rf_noOut model: 0.37562 \n",
      "Precision for rf_noOut model: 0.70508 \n",
      "Accuracy for rf_noOut model: 0.78299 \n"
     ]
    }
   ],
   "source": [
    "# Random Forest Model \n",
    "modelName = 'rf_noOut'\n",
    "rf_model = RandomForestClassifier(max_depth=2, random_state=0)\n",
    "rf_model.fit(X_train, y_train)\n",
    "predictions_rf= rf_model.predict(X_test)\n",
    "results_rf = predDF(modelName,predictions_rf, y_test )\n",
    "myMetrics(modelName, y_test, predictions_rf)"
   ]
  },
  {
   "cell_type": "code",
   "execution_count": 403,
   "metadata": {},
   "outputs": [
    {
     "data": {
      "image/png": "[encoded data removed]",
      "text/plain": [
       "<Figure size 864x432 with 2 Axes>"
      ]
     },
     "metadata": {
      "needs_background": "light"
     },
     "output_type": "display_data"
    }
   ],
   "source": [
    "fig, axes = plt.subplots(1,2, sharex=True, sharey= True, figsize=(12,6))\n",
    "sns.despine(left=True)\n",
    "\n",
    "sns.countplot(x='actualResults', data = results_rf, ax=axes[0], palette=\"Greens\" )\n",
    "sns.countplot(x='predictions_rf_noOut', data = results_rf, ax=axes[1] )\n",
    "\n",
    "fig.tight_layout()\n",
    "\n",
    "for ax in axes.flat:\n",
    "    ax.label_outer()"
   ]
  },
  {
   "cell_type": "code",
   "execution_count": 404,
   "metadata": {},
   "outputs": [
    {
     "data": {
      "text/plain": [
       "Text(0.5, 1.0, 'Random Forest Predictions after Removing Outliers')"
      ]
     },
     "execution_count": 404,
     "metadata": {},
     "output_type": "execute_result"
    },
    {
     "data": {
      "image/png": "[encoded data removed]",
      "text/plain": [
       "<Figure size 432x288 with 2 Axes>"
      ]
     },
     "metadata": {
      "needs_background": "light"
     },
     "output_type": "display_data"
    }
   ],
   "source": [
    "# Plot Confusion Matrix\n",
    "disp = plot_confusion_matrix(rf_model, X_test, y_test,\n",
    "                                 display_labels=[\"Did Not Default\",\"Default\"],\n",
    "                                 cmap=plt.cm.Blues,\n",
    "                                 normalize=None, values_format='.0f')\n",
    "\n",
    "disp.ax_.set_title(\"Random Forest Predictions after Removing Outliers\")"
   ]
  },
  {
   "cell_type": "markdown",
   "metadata": {},
   "source": [
    "### K-Nearest Neighbors without Outliers"
   ]
  },
  {
   "cell_type": "code",
   "execution_count": 359,
   "metadata": {},
   "outputs": [
    {
     "name": "stdout",
     "output_type": "stream",
     "text": [
      "Index(['actualResults', 'predictions_knn_noOut'], dtype='object')\n",
      "Recall : The knn_noOut model correctly identifed all customer who defaulted 0.26277 of the time.\n",
      "F1score for knn_noOut model: 0.31157 \n",
      "Precision for knn_noOut model: 0.38262 \n",
      "Accuracy for knn_noOut model: 0.70391 \n"
     ]
    }
   ],
   "source": [
    "# K- Nearest Neighbor\n",
    "modelName = 'knn_noOut'\n",
    "knn_model = KNeighborsClassifier(n_neighbors=3)\n",
    "knn_model.fit(X_train, y_train)\n",
    "predictions_knn = knn_model.predict(X_test)\n",
    "results_knn = predDF(modelName,predictions_knn, y_test )\n",
    "myMetrics(modelName, y_test, predictions_knn)"
   ]
  },
  {
   "cell_type": "code",
   "execution_count": 360,
   "metadata": {},
   "outputs": [
    {
     "data": {
      "text/plain": [
       "Text(0.5, 1.0, 'KNN Predictions after Removing Outliers')"
      ]
     },
     "execution_count": 360,
     "metadata": {},
     "output_type": "execute_result"
    },
    {
     "data": {
      "image/png": "[encoded data removed]",
      "text/plain": [
       "<Figure size 432x288 with 2 Axes>"
      ]
     },
     "metadata": {
      "needs_background": "light"
     },
     "output_type": "display_data"
    }
   ],
   "source": [
    "# Plot Confusion Matrix\n",
    "disp = plot_confusion_matrix(knn_model, X_test, y_test,\n",
    "                                 display_labels=[\"Did Not Default\",\"Default\"],\n",
    "                                 cmap=plt.cm.Blues,\n",
    "                                 normalize=None, values_format='.0f')\n",
    "\n",
    "disp.ax_.set_title(\"KNN Predictions after Removing Outliers\")"
   ]
  },
  {
   "cell_type": "code",
   "execution_count": 361,
   "metadata": {},
   "outputs": [
    {
     "data": {
      "image/png": "[encoded data removed]",
      "text/plain": [
       "<Figure size 864x432 with 2 Axes>"
      ]
     },
     "metadata": {
      "needs_background": "light"
     },
     "output_type": "display_data"
    }
   ],
   "source": [
    "fig, axes = plt.subplots(1,2, sharex=True, sharey= True, figsize=(12,6))\n",
    "sns.despine(left=True)\n",
    "\n",
    "sns.countplot(x='actualResults', data = results_knn, ax=axes[0], palette=\"Greens\" )\n",
    "sns.countplot(x='predictions_knn_noOut', data = results_knn, ax=axes[1] )\n",
    "\n",
    "fig.tight_layout()\n",
    "\n",
    "for ax in axes.flat:\n",
    "    ax.label_outer()"
   ]
  },
  {
   "cell_type": "markdown",
   "metadata": {},
   "source": [
    "## Gaussian Naive Bayes"
   ]
  },
  {
   "cell_type": "code",
   "execution_count": 390,
   "metadata": {},
   "outputs": [
    {
     "name": "stdout",
     "output_type": "stream",
     "text": [
      "Index(['actualResults', 'predictions_gnb_noOut'], dtype='object')\n",
      "Recall : The gnb_noOut model correctly identifed all customer who defaulted 0.54031 of the time.\n",
      "F1score for gnb_noOut model: 0.42385 \n",
      "Precision for gnb_noOut model: 0.34869 \n",
      "Accuracy for gnb_noOut model: 0.62545 \n"
     ]
    }
   ],
   "source": [
    "# Gaussian Naive Bayes\n",
    "modelName = 'gnb_noOut'\n",
    "gnb_model = GaussianNB()\n",
    "gnb_model.fit(X_train, y_train)\n",
    "predictions_gnb=gnb_model.predict(X_test)\n",
    "results_gnb = predDF(modelName,predictions_gnb, y_test )\n",
    "myMetrics(modelName, y_test, predictions_gnb)"
   ]
  },
  {
   "cell_type": "code",
   "execution_count": 391,
   "metadata": {},
   "outputs": [
    {
     "data": {
      "image/png": "[encoded data removed]",
      "text/plain": [
       "<Figure size 864x432 with 2 Axes>"
      ]
     },
     "metadata": {
      "needs_background": "light"
     },
     "output_type": "display_data"
    }
   ],
   "source": [
    "fig, axes = plt.subplots(1,2, sharex=True, sharey= True, figsize=(12,6))\n",
    "sns.despine(left=True)\n",
    "\n",
    "sns.countplot(x='actualResults', data = results_gnb, ax=axes[0], palette=\"Greens\" )\n",
    "sns.countplot(x='predictions_gnb_noOut', data = results_gnb, ax=axes[1] )\n",
    "\n",
    "fig.tight_layout()\n",
    "\n",
    "for ax in axes.flat:\n",
    "    ax.label_outer()"
   ]
  },
  {
   "cell_type": "code",
   "execution_count": 393,
   "metadata": {},
   "outputs": [
    {
     "data": {
      "text/plain": [
       "Text(0.5, 1.0, 'Gaussian Naive Bayes Predictions after Removing Outliers')"
      ]
     },
     "execution_count": 393,
     "metadata": {},
     "output_type": "execute_result"
    },
    {
     "data": {
      "image/png": "[encoded data removed]",
      "text/plain": [
       "<Figure size 432x288 with 2 Axes>"
      ]
     },
     "metadata": {
      "needs_background": "light"
     },
     "output_type": "display_data"
    }
   ],
   "source": [
    "# Plot Confusion Matrix\n",
    "disp = plot_confusion_matrix(gnb_model, X_test, y_test,\n",
    "                                 display_labels=[\"Did Not Default\",\"Default\"],\n",
    "                                 cmap=plt.cm.Blues,\n",
    "                                 normalize=None, values_format='.0f')\n",
    "\n",
    "disp.ax_.set_title(\"Gaussian Naive Bayes Predictions after Removing Outliers\")"
   ]
  },
  {
   "cell_type": "markdown",
   "metadata": {},
   "source": [
    "### AdaBoost without Outliers"
   ]
  },
  {
   "cell_type": "code",
   "execution_count": 398,
   "metadata": {},
   "outputs": [
    {
     "name": "stdout",
     "output_type": "stream",
     "text": [
      "Index(['actualResults', 'predictions_ada_noOut'], dtype='object')\n",
      "Recall : The ada_noOut model correctly identifed all customer who defaulted 0.33292 of the time.\n",
      "F1score for ada_noOut model: 0.44748 \n",
      "Precision for ada_noOut model: 0.68222 \n",
      "Accuracy for ada_noOut model: 0.79037 \n"
     ]
    }
   ],
   "source": [
    "# Ada Boost\n",
    "modelName = 'ada_noOut'\n",
    "ada_model = AdaBoostClassifier()\n",
    "ada_model.fit(X_train, y_train)\n",
    "predictions_ada=ada_model.predict(X_test)\n",
    "results_ada = predDF(modelName,predictions_ada, y_test )\n",
    "myMetrics(modelName, y_test, predictions_ada)"
   ]
  },
  {
   "cell_type": "code",
   "execution_count": 399,
   "metadata": {},
   "outputs": [
    {
     "data": {
      "image/png": "[encoded data removed]",
      "text/plain": [
       "<Figure size 864x432 with 2 Axes>"
      ]
     },
     "metadata": {
      "needs_background": "light"
     },
     "output_type": "display_data"
    }
   ],
   "source": [
    "fig, axes = plt.subplots(1,2, sharex=True, sharey= True, figsize=(12,6))\n",
    "sns.despine(left=True)\n",
    "\n",
    "sns.countplot(x='actualResults', data = results_ada, ax=axes[0], palette=\"Greens\" )\n",
    "sns.countplot(x='predictions_ada_noOut', data = results_ada, ax=axes[1] )\n",
    "\n",
    "fig.tight_layout()\n",
    "\n",
    "for ax in axes.flat:\n",
    "    ax.label_outer()"
   ]
  },
  {
   "cell_type": "code",
   "execution_count": 401,
   "metadata": {},
   "outputs": [
    {
     "data": {
      "text/plain": [
       "Text(0.5, 1.0, 'Ada Boost Predictions after Removing Outliers')"
      ]
     },
     "execution_count": 401,
     "metadata": {},
     "output_type": "execute_result"
    },
    {
     "data": {
      "image/png": "[encoded data removed]",
      "text/plain": [
       "<Figure size 432x288 with 2 Axes>"
      ]
     },
     "metadata": {
      "needs_background": "light"
     },
     "output_type": "display_data"
    }
   ],
   "source": [
    "# Plot Confusion Matrix\n",
    "disp = plot_confusion_matrix(ada_model, X_test, y_test,\n",
    "                                 display_labels=[\"Did Not Default\",\"Default\"],\n",
    "                                 cmap=plt.cm.Blues,\n",
    "                                 normalize=None, values_format='.0f')\n",
    "\n",
    "disp.ax_.set_title(\"Ada Boost Predictions after Removing Outliers\")"
   ]
  },
  {
   "cell_type": "markdown",
   "metadata": {},
   "source": [
    "### Gradient Tree Boosting without Outliers"
   ]
  },
  {
   "cell_type": "code",
   "execution_count": 394,
   "metadata": {},
   "outputs": [
    {
     "name": "stdout",
     "output_type": "stream",
     "text": [
      "Index(['actualResults', 'predictions_gtb_noOut'], dtype='object')\n",
      "Recall : The gtb_noOut model correctly identifed all customer who defaulted 0.38831 of the time.\n",
      "F1score for gtb_noOut model: 0.49413 \n",
      "Precision for gtb_noOut model: 0.67922 \n",
      "Accuracy for gtb_noOut model: 0.79727 \n"
     ]
    }
   ],
   "source": [
    "# GTB Boost\n",
    "modelName = 'gtb_noOut'\n",
    "gtb_model = GradientBoostingClassifier()\n",
    "gtb_model.fit(X_train, y_train)\n",
    "predictions_gtb=gtb_model.predict(X_test)\n",
    "results_gtb = predDF(modelName,predictions_gtb, y_test )\n",
    "myMetrics(modelName, y_test, predictions_gtb)"
   ]
  },
  {
   "cell_type": "code",
   "execution_count": 395,
   "metadata": {},
   "outputs": [
    {
     "data": {
      "image/png": "[encoded data removed]",
      "text/plain": [
       "<Figure size 864x432 with 2 Axes>"
      ]
     },
     "metadata": {
      "needs_background": "light"
     },
     "output_type": "display_data"
    }
   ],
   "source": [
    "fig, axes = plt.subplots(1,2, sharex=True, sharey= True, figsize=(12,6))\n",
    "sns.despine(left=True)\n",
    "\n",
    "sns.countplot(x='actualResults', data = results_gtb, ax=axes[0], palette=\"Greens\" )\n",
    "sns.countplot(x='predictions_gtb_noOut', data = results_gtb, ax=axes[1] )\n",
    "\n",
    "fig.tight_layout()\n",
    "\n",
    "for ax in axes.flat:\n",
    "    ax.label_outer()"
   ]
  },
  {
   "cell_type": "code",
   "execution_count": 397,
   "metadata": {},
   "outputs": [
    {
     "data": {
      "text/plain": [
       "Text(0.5, 1.0, 'Gradient Boosting Predictions after Removing Outliers')"
      ]
     },
     "execution_count": 397,
     "metadata": {},
     "output_type": "execute_result"
    },
    {
     "data": {
      "image/png": "[encoded data removed]",
      "text/plain": [
       "<Figure size 432x288 with 2 Axes>"
      ]
     },
     "metadata": {
      "needs_background": "light"
     },
     "output_type": "display_data"
    }
   ],
   "source": [
    "# Plot Confusion Matrix\n",
    "disp = plot_confusion_matrix(gtb_model, X_test, y_test,\n",
    "                                 display_labels=[\"Did Not Default\",\"Default\"],\n",
    "                                 cmap=plt.cm.Blues,\n",
    "                                 normalize=None, values_format='.0f')\n",
    "\n",
    "disp.ax_.set_title(\"Gradient Boosting Predictions after Removing Outliers\")"
   ]
  },
  {
   "cell_type": "markdown",
   "metadata": {},
   "source": [
    "### Combined Bar Chart of Models: Actual vs Predictions"
   ]
  },
  {
   "cell_type": "code",
   "execution_count": 200,
   "metadata": {},
   "outputs": [
    {
     "data": {
      "image/png": "[encoded data removed]",
      "text/plain": [
       "<Figure size 864x432 with 5 Axes>"
      ]
     },
     "metadata": {
      "needs_background": "light"
     },
     "output_type": "display_data"
    }
   ],
   "source": [
    "fig, axes = plt.subplots(1,5, sharex=True, sharey= True, figsize=(12,6))\n",
    "sns.despine(left=True)\n",
    "\n",
    "sns.countplot(x='actualResults', data = results_rf, ax=axes[0], palette=\"Greens\" )\n",
    "sns.countplot(x='predictions_rf_noOut', data = results_rf, ax=axes[1] )\n",
    "sns.countplot(x='predictions_knn_noOut', data = results_knn, ax=axes[2] )\n",
    "sns.countplot(x='predictions_ada_noOut', data = results_ada, ax=axes[3] )\n",
    "sns.countplot(x='predictions_gtb_noOut', data = results_gtb, ax=axes[4] )\n",
    "\n",
    "fig.tight_layout()\n",
    "\n",
    "for ax in axes.flat:\n",
    "    ax.label_outer()"
   ]
  },
  {
   "cell_type": "markdown",
   "metadata": {},
   "source": [
    "# 5th Attempt - Address Class Imbalances - 4 Models\n",
    "\n",
    "\n",
    "How does address class imbalance improve our models?\n",
    "\n",
    "source: https://heartbeat.fritz.ai/resampling-to-properly-handle-imbalanced-datasets-in-machine-learning-64d82c16ceaa"
   ]
  },
  {
   "cell_type": "code",
   "execution_count": 405,
   "metadata": {},
   "outputs": [
    {
     "data": {
      "text/plain": [
       "30000"
      ]
     },
     "execution_count": 405,
     "metadata": {},
     "output_type": "execute_result"
    }
   ],
   "source": [
    "# start with 'clean' data\n",
    "rawData = loadData()\n",
    "# number of customers\n",
    "len(rawData.index)"
   ]
  },
  {
   "cell_type": "code",
   "execution_count": 406,
   "metadata": {},
   "outputs": [],
   "source": [
    "X = rawData.iloc[:,2:24]\n",
    "y = rawData['default']"
   ]
  },
  {
   "cell_type": "code",
   "execution_count": 407,
   "metadata": {},
   "outputs": [],
   "source": [
    "X_train, X_test, y_train, y_test = train_test_split(\n",
    "...     X, y, test_size=0.3, random_state=42)"
   ]
  },
  {
   "cell_type": "code",
   "execution_count": 408,
   "metadata": {
    "scrolled": false
   },
   "outputs": [
    {
     "data": {
      "text/plain": [
       "21000"
      ]
     },
     "execution_count": 408,
     "metadata": {},
     "output_type": "execute_result"
    }
   ],
   "source": [
    "len(y_train)"
   ]
  },
  {
   "cell_type": "code",
   "execution_count": 409,
   "metadata": {},
   "outputs": [
    {
     "data": {
      "text/plain": [
       "0    16324\n",
       "1     4676\n",
       "Name: default, dtype: int64"
      ]
     },
     "execution_count": 409,
     "metadata": {},
     "output_type": "execute_result"
    }
   ],
   "source": [
    "y_train.value_counts()"
   ]
  },
  {
   "cell_type": "markdown",
   "metadata": {},
   "source": [
    "## Random Oversampling\n",
    "\n",
    "source: https://heartbeat.fritz.ai/resampling-to-properly-handle-imbalanced-datasets-in-machine-learning-64d82c16ceaa"
   ]
  },
  {
   "cell_type": "code",
   "execution_count": 432,
   "metadata": {},
   "outputs": [],
   "source": [
    "# create the object.\n",
    "over_sampler = RandomOverSampler()\n",
    "# fit the object to the training data.\n",
    "x_train_over, y_train_over = over_sampler.fit_sample(X_train, y_train)"
   ]
  },
  {
   "cell_type": "code",
   "execution_count": 433,
   "metadata": {},
   "outputs": [
    {
     "data": {
      "text/plain": [
       "32648"
      ]
     },
     "execution_count": 433,
     "metadata": {},
     "output_type": "execute_result"
    }
   ],
   "source": [
    "len(y_train_over)"
   ]
  },
  {
   "cell_type": "code",
   "execution_count": 434,
   "metadata": {
    "scrolled": false
   },
   "outputs": [
    {
     "data": {
      "text/plain": [
       "1    16324\n",
       "0    16324\n",
       "Name: default, dtype: int64"
      ]
     },
     "execution_count": 434,
     "metadata": {},
     "output_type": "execute_result"
    }
   ],
   "source": [
    "y_train_over.value_counts()"
   ]
  },
  {
   "cell_type": "markdown",
   "metadata": {},
   "source": [
    "### Random Forest - Class Imbalance"
   ]
  },
  {
   "cell_type": "code",
   "execution_count": 435,
   "metadata": {},
   "outputs": [
    {
     "name": "stdout",
     "output_type": "stream",
     "text": [
      "Index(['actualResults', 'predictions_rf_randOver'], dtype='object')\n",
      "Recall : The rf_randOver model correctly identifed all customer who defaulted 0.57449 of the time.\n",
      "F1score for rf_randOver model: 0.52106 \n",
      "Precision for rf_randOver model: 0.47671 \n",
      "Accuracy for rf_randOver model: 0.77000 \n"
     ]
    }
   ],
   "source": [
    "# Random Forest Model \n",
    "modelName = 'rf_randOver'\n",
    "rf_model = RandomForestClassifier(max_depth=2, random_state=0)\n",
    "rf_model.fit(x_train_over, y_train_over) # train_over\n",
    "predictions_rf= rf_model.predict(X_test)\n",
    "results_rf = predDF(modelName,predictions_rf, y_test )\n",
    "myMetrics(modelName, y_test, predictions_rf)"
   ]
  },
  {
   "cell_type": "markdown",
   "metadata": {},
   "source": [
    "### K-Nearest Neighbor - Class Imbalance"
   ]
  },
  {
   "cell_type": "code",
   "execution_count": 436,
   "metadata": {},
   "outputs": [
    {
     "name": "stdout",
     "output_type": "stream",
     "text": [
      "Index(['actualResults', 'predictions_knn_randOver'], dtype='object')\n",
      "Recall : The knn_randOver model correctly identifed all customer who defaulted 0.46071 of the time.\n",
      "F1score for knn_randOver model: 0.34831 \n",
      "Precision for knn_randOver model: 0.28000 \n",
      "Accuracy for knn_randOver model: 0.62456 \n"
     ]
    }
   ],
   "source": [
    "# K- Nearest Neighbor\n",
    "modelName = 'knn_randOver'\n",
    "knn_model = KNeighborsClassifier(n_neighbors=3)\n",
    "knn_model.fit(x_train_over, y_train_over)\n",
    "predictions_knn = knn_model.predict(X_test)\n",
    "results_knn = predDF(modelName,predictions_knn, y_test )\n",
    "myMetrics(modelName, y_test, predictions_knn)"
   ]
  },
  {
   "cell_type": "markdown",
   "metadata": {},
   "source": [
    "### Gaussian Naive Bayes - Class Imbalance"
   ]
  },
  {
   "cell_type": "code",
   "execution_count": 437,
   "metadata": {},
   "outputs": [
    {
     "name": "stdout",
     "output_type": "stream",
     "text": [
      "Index(['actualResults', 'predictions_gnb_randOver'], dtype='object')\n",
      "Recall : The gnb_randOver model correctly identifed all customer who defaulted 0.93010 of the time.\n",
      "F1score for gnb_randOver model: 0.37503 \n",
      "Precision for gnb_randOver model: 0.23486 \n",
      "Accuracy for gnb_randOver model: 0.32489 \n"
     ]
    }
   ],
   "source": [
    "# Gaussian Naive Bayes\n",
    "modelName = 'gnb_randOver'\n",
    "gnb_model = GaussianNB()\n",
    "gnb_model.fit(x_train_over, y_train_over)\n",
    "predictions_gnb=gnb_model.predict(X_test)\n",
    "results_gnb = predDF(modelName,predictions_gnb, y_test )\n",
    "myMetrics(modelName, y_test, predictions_gnb)"
   ]
  },
  {
   "cell_type": "markdown",
   "metadata": {},
   "source": [
    "### AdaBoost - Class Imbalance"
   ]
  },
  {
   "cell_type": "code",
   "execution_count": 438,
   "metadata": {},
   "outputs": [
    {
     "name": "stdout",
     "output_type": "stream",
     "text": [
      "Index(['actualResults', 'predictions_ada_randOver'], dtype='object')\n",
      "Recall : The ada_randOver model correctly identifed all customer who defaulted 0.60714 of the time.\n",
      "F1score for ada_randOver model: 0.51784 \n",
      "Precision for ada_randOver model: 0.45144 \n",
      "Accuracy for ada_randOver model: 0.75378 \n"
     ]
    }
   ],
   "source": [
    "# Ada Boost\n",
    "modelName = 'ada_randOver'\n",
    "ada_model = AdaBoostClassifier()\n",
    "ada_model.fit(x_train_over, y_train_over)\n",
    "predictions_ada=ada_model.predict(X_test)\n",
    "results_ada = predDF(modelName,predictions_ada, y_test )\n",
    "myMetrics(modelName, y_test, predictions_ada)"
   ]
  },
  {
   "cell_type": "markdown",
   "metadata": {},
   "source": [
    "### Gradient Tree Boosting - Class Imbalance"
   ]
  },
  {
   "cell_type": "code",
   "execution_count": 439,
   "metadata": {},
   "outputs": [
    {
     "name": "stdout",
     "output_type": "stream",
     "text": [
      "Index(['actualResults', 'predictions_gtb_randOver'], dtype='object')\n",
      "Recall : The gtb_randOver model correctly identifed all customer who defaulted 0.61990 of the time.\n",
      "F1score for gtb_randOver model: 0.52643 \n",
      "Precision for gtb_randOver model: 0.45745 \n",
      "Accuracy for gtb_randOver model: 0.75711 \n"
     ]
    }
   ],
   "source": [
    "# GTB Boost\n",
    "modelName = 'gtb_randOver'\n",
    "gtb_model = GradientBoostingClassifier()\n",
    "gtb_model.fit(x_train_over, y_train_over)\n",
    "predictions_gtb=gtb_model.predict(X_test)\n",
    "results_gtb = predDF(modelName,predictions_gtb, y_test )\n",
    "myMetrics(modelName, y_test, predictions_gtb)"
   ]
  },
  {
   "cell_type": "code",
   "execution_count": 441,
   "metadata": {},
   "outputs": [
    {
     "data": {
      "image/png": "[encoded data removed]",
      "text/plain": [
       "<Figure size 864x432 with 6 Axes>"
      ]
     },
     "metadata": {
      "needs_background": "light"
     },
     "output_type": "display_data"
    }
   ],
   "source": [
    "fig, axes = plt.subplots(1,6, sharex=True, sharey= True, figsize=(12,6))\n",
    "sns.despine(left=True)\n",
    "\n",
    "sns.countplot(x='actualResults', data = results_rf, ax=axes[0], palette=\"Greens\" )\n",
    "sns.countplot(x='predictions_rf_randOver', data = results_rf, ax=axes[1] )\n",
    "sns.countplot(x='predictions_knn_randOver', data = results_knn, ax=axes[2] )\n",
    "sns.countplot(x='predictions_ada_randOver', data = results_ada, ax=axes[3] )\n",
    "sns.countplot(x='predictions_gtb_randOver', data = results_gtb, ax=axes[4] )\n",
    "sns.countplot(x='predictions_gnb_randOver', data = results_gnb, ax=axes[5] )\n",
    "\n",
    "\n",
    "fig.tight_layout()\n",
    "\n",
    "for ax in axes.flat:\n",
    "    ax.label_outer()"
   ]
  },
  {
   "cell_type": "markdown",
   "metadata": {},
   "source": [
    "## Random Undersampling"
   ]
  },
  {
   "cell_type": "code",
   "execution_count": 420,
   "metadata": {},
   "outputs": [],
   "source": [
    "under_sampler = RandomUnderSampler()\n",
    "\n",
    "# fit the object to the training data.\n",
    "x_train_under, y_train_under = under_sampler.fit_sample(X_train, y_train)"
   ]
  },
  {
   "cell_type": "code",
   "execution_count": 421,
   "metadata": {},
   "outputs": [
    {
     "data": {
      "text/plain": [
       "9352"
      ]
     },
     "execution_count": 421,
     "metadata": {},
     "output_type": "execute_result"
    }
   ],
   "source": [
    "len(y_train_under)"
   ]
  },
  {
   "cell_type": "code",
   "execution_count": 422,
   "metadata": {},
   "outputs": [
    {
     "data": {
      "text/plain": [
       "1    4676\n",
       "0    4676\n",
       "Name: default, dtype: int64"
      ]
     },
     "execution_count": 422,
     "metadata": {},
     "output_type": "execute_result"
    }
   ],
   "source": [
    "y_train_under.value_counts()"
   ]
  },
  {
   "cell_type": "markdown",
   "metadata": {},
   "source": [
    "### Random Forest "
   ]
  },
  {
   "cell_type": "code",
   "execution_count": 423,
   "metadata": {},
   "outputs": [
    {
     "name": "stdout",
     "output_type": "stream",
     "text": [
      "Index(['actualResults', 'predictions_rf_randUnder'], dtype='object')\n",
      "Recall : The rf_randUnder model correctly identifed all customer who defaulted 0.57347 of the time.\n",
      "F1score for rf_randUnder model: 0.52316 \n",
      "Precision for rf_randUnder model: 0.48096 \n",
      "Accuracy for rf_randUnder model: 0.77233 \n"
     ]
    }
   ],
   "source": [
    "# Random Forest Model \n",
    "modelName = 'rf_randUnder'\n",
    "rf_model = RandomForestClassifier(max_depth=2, random_state=0)\n",
    "rf_model.fit(x_train_over, y_train_over) # train_over\n",
    "predictions_rf= rf_model.predict(X_test)\n",
    "results_rf = predDF(modelName,predictions_rf, y_test )\n",
    "myMetrics(modelName, y_test, predictions_rf)"
   ]
  },
  {
   "cell_type": "markdown",
   "metadata": {},
   "source": [
    "### K-Nearest Neighbor"
   ]
  },
  {
   "cell_type": "code",
   "execution_count": 424,
   "metadata": {},
   "outputs": [
    {
     "name": "stdout",
     "output_type": "stream",
     "text": [
      "Index(['actualResults', 'predictions_knn_randUnder'], dtype='object')\n",
      "Recall : The knn_randUnder model correctly identifed all customer who defaulted 0.46684 of the time.\n",
      "F1score for knn_randUnder model: 0.35044 \n",
      "Precision for knn_randUnder model: 0.28050 \n",
      "Accuracy for knn_randUnder model: 0.62311 \n"
     ]
    }
   ],
   "source": [
    "# K- Nearest Neighbor\n",
    "modelName = 'knn_randUnder'\n",
    "knn_model = KNeighborsClassifier(n_neighbors=3)\n",
    "knn_model.fit(x_train_over, y_train_over)\n",
    "predictions_knn = knn_model.predict(X_test)\n",
    "results_knn = predDF(modelName,predictions_knn, y_test )\n",
    "myMetrics(modelName, y_test, predictions_knn)"
   ]
  },
  {
   "cell_type": "markdown",
   "metadata": {},
   "source": [
    "### Gaussian Naive Bayes"
   ]
  },
  {
   "cell_type": "code",
   "execution_count": 425,
   "metadata": {},
   "outputs": [
    {
     "name": "stdout",
     "output_type": "stream",
     "text": [
      "Index(['actualResults', 'predictions_gnb_randUnder'], dtype='object')\n",
      "Recall : The gnb_randUnder model correctly identifed all customer who defaulted 0.93214 of the time.\n",
      "F1score for gnb_randUnder model: 0.37488 \n",
      "Precision for gnb_randUnder model: 0.23462 \n",
      "Accuracy for gnb_randUnder model: 0.32300 \n"
     ]
    }
   ],
   "source": [
    "# Gaussian Naive Bayes\n",
    "modelName = 'gnb_randUnder'\n",
    "gnb_model = GaussianNB()\n",
    "gnb_model.fit(x_train_over, y_train_over)\n",
    "predictions_gnb=gnb_model.predict(X_test)\n",
    "results_gnb = predDF(modelName,predictions_gnb, y_test )\n",
    "myMetrics(modelName, y_test, predictions_gnb)"
   ]
  },
  {
   "cell_type": "markdown",
   "metadata": {},
   "source": [
    "### AdaBoost "
   ]
  },
  {
   "cell_type": "code",
   "execution_count": 426,
   "metadata": {},
   "outputs": [
    {
     "name": "stdout",
     "output_type": "stream",
     "text": [
      "Index(['actualResults', 'predictions_ada_randUnder'], dtype='object')\n",
      "Recall : The ada_randUnder model correctly identifed all customer who defaulted 0.61122 of the time.\n",
      "F1score for ada_randUnder model: 0.52087 \n",
      "Precision for ada_randUnder model: 0.45379 \n",
      "Accuracy for ada_randUnder model: 0.75511 \n"
     ]
    }
   ],
   "source": [
    "# Ada Boost\n",
    "modelName = 'ada_randUnder'\n",
    "ada_model = AdaBoostClassifier()\n",
    "ada_model.fit(x_train_over, y_train_over)\n",
    "predictions_ada=ada_model.predict(X_test)\n",
    "results_ada = predDF(modelName,predictions_ada, y_test )\n",
    "myMetrics(modelName, y_test, predictions_ada)"
   ]
  },
  {
   "cell_type": "markdown",
   "metadata": {},
   "source": [
    "### Gradient Tree Boosting"
   ]
  },
  {
   "cell_type": "code",
   "execution_count": 427,
   "metadata": {},
   "outputs": [
    {
     "name": "stdout",
     "output_type": "stream",
     "text": [
      "Index(['actualResults', 'predictions_gtb_randUnder'], dtype='object')\n",
      "Recall : The gtb_randUnder model correctly identifed all customer who defaulted 0.62602 of the time.\n",
      "F1score for gtb_randUnder model: 0.52537 \n",
      "Precision for gtb_randUnder model: 0.45260 \n",
      "Accuracy for gtb_randUnder model: 0.75367 \n"
     ]
    }
   ],
   "source": [
    "# GTB Boost\n",
    "modelName = 'gtb_randUnder'\n",
    "gtb_model = GradientBoostingClassifier()\n",
    "gtb_model.fit(x_train_over, y_train_over)\n",
    "predictions_gtb=gtb_model.predict(X_test)\n",
    "results_gtb = predDF(modelName,predictions_gtb, y_test )\n",
    "myMetrics(modelName, y_test, predictions_gtb)"
   ]
  },
  {
   "cell_type": "markdown",
   "metadata": {},
   "source": [
    "### Combined Bar Chart of Models: Actual vs Predictions"
   ]
  },
  {
   "cell_type": "code",
   "execution_count": 429,
   "metadata": {},
   "outputs": [
    {
     "data": {
      "image/png": "[encoded data removed]",
      "text/plain": [
       "<Figure size 864x432 with 6 Axes>"
      ]
     },
     "metadata": {
      "needs_background": "light"
     },
     "output_type": "display_data"
    }
   ],
   "source": [
    "fig, axes = plt.subplots(1,6, sharex=True, sharey= True, figsize=(12,6))\n",
    "sns.despine(left=True)\n",
    "\n",
    "sns.countplot(x='actualResults', data = results_rf, ax=axes[0], palette=\"Greens\" )\n",
    "sns.countplot(x='predictions_rf_randUnder', data = results_rf, ax=axes[1] )\n",
    "sns.countplot(x='predictions_knn_randUnder', data = results_knn, ax=axes[2] )\n",
    "sns.countplot(x='predictions_ada_randUnder', data = results_ada, ax=axes[3] )\n",
    "sns.countplot(x='predictions_gtb_randUnder', data = results_gtb, ax=axes[4] )\n",
    "sns.countplot(x='predictions_gnb_randUnder', data = results_gnb, ax=axes[5] )\n",
    "\n",
    "\n",
    "fig.tight_layout()\n",
    "\n",
    "for ax in axes.flat:\n",
    "    ax.label_outer()"
   ]
  },
  {
   "cell_type": "markdown",
   "metadata": {},
   "source": [
    "# Random Forest - Performance Improvement"
   ]
  },
  {
   "cell_type": "markdown",
   "metadata": {},
   "source": [
    "## Outliers, Oversampling\n",
    "\n",
    "I predict this is going to be worse, but I'm curious. "
   ]
  },
  {
   "cell_type": "code",
   "execution_count": 324,
   "metadata": {
    "scrolled": true
   },
   "outputs": [
    {
     "data": {
      "text/plain": [
       "30000"
      ]
     },
     "execution_count": 324,
     "metadata": {},
     "output_type": "execute_result"
    }
   ],
   "source": [
    "# start with 'clean' data\n",
    "rawData = loadData()\n",
    "# number of customers\n",
    "len(rawData.index)"
   ]
  },
  {
   "cell_type": "code",
   "execution_count": 325,
   "metadata": {},
   "outputs": [],
   "source": [
    "# Remove outliers\n",
    "rawData = rawData[rawData.limit < 525000]\n",
    "rawData = rawData[rawData.paid1 < 11015.0]\n",
    "rawData = rawData[rawData.paid2 < 11250.5]\n",
    "rawData = rawData[rawData.paid3 < 10677.5]\n",
    "rawData = rawData[rawData.paid4 < 9589.125]\n",
    "rawData = rawData[rawData.paid5 < 9700.0]\n",
    "rawData = rawData[rawData.paid6 < 9823.375]"
   ]
  },
  {
   "cell_type": "code",
   "execution_count": 326,
   "metadata": {},
   "outputs": [],
   "source": [
    "X = rawData.iloc[:,2:24]\n",
    "y = rawData['default']"
   ]
  },
  {
   "cell_type": "code",
   "execution_count": 327,
   "metadata": {},
   "outputs": [],
   "source": [
    "X_train, X_test, y_train, y_test = train_test_split(\n",
    "...     X, y, test_size=0.3, random_state=42)"
   ]
  },
  {
   "cell_type": "code",
   "execution_count": 328,
   "metadata": {
    "scrolled": false
   },
   "outputs": [
    {
     "data": {
      "text/plain": [
       "14869"
      ]
     },
     "execution_count": 328,
     "metadata": {},
     "output_type": "execute_result"
    }
   ],
   "source": [
    "len(y_train)"
   ]
  },
  {
   "cell_type": "code",
   "execution_count": 329,
   "metadata": {},
   "outputs": [
    {
     "data": {
      "text/plain": [
       "0    11110\n",
       "1     3759\n",
       "Name: default, dtype: int64"
      ]
     },
     "execution_count": 329,
     "metadata": {},
     "output_type": "execute_result"
    }
   ],
   "source": [
    "y_train.value_counts()"
   ]
  },
  {
   "cell_type": "code",
   "execution_count": 331,
   "metadata": {},
   "outputs": [],
   "source": [
    "# create the object.\n",
    "over_sampler = RandomOverSampler()\n",
    "# fit the object to the training data.\n",
    "x_train_over, y_train_over = over_sampler.fit_sample(X_train, y_train)"
   ]
  },
  {
   "cell_type": "code",
   "execution_count": 332,
   "metadata": {},
   "outputs": [
    {
     "data": {
      "text/plain": [
       "22220"
      ]
     },
     "execution_count": 332,
     "metadata": {},
     "output_type": "execute_result"
    }
   ],
   "source": [
    "len(y_train_over)"
   ]
  },
  {
   "cell_type": "code",
   "execution_count": 333,
   "metadata": {
    "scrolled": false
   },
   "outputs": [
    {
     "data": {
      "text/plain": [
       "1    11110\n",
       "0    11110\n",
       "Name: default, dtype: int64"
      ]
     },
     "execution_count": 333,
     "metadata": {},
     "output_type": "execute_result"
    }
   ],
   "source": [
    "y_train_over.value_counts()"
   ]
  },
  {
   "cell_type": "code",
   "execution_count": 320,
   "metadata": {
    "scrolled": true
   },
   "outputs": [
    {
     "name": "stdout",
     "output_type": "stream",
     "text": [
      "Index(['actualResults', 'predictions_rf_Outliers_Oversampling'], dtype='object')\n",
      "Recall : The rf_Outliers_Oversampling model correctly identifed all customer who defaulted 0.59754 of the time.\n",
      "F1score for rf_Outliers_Oversampling model: 0.54019 \n",
      "Precision for rf_Outliers_Oversampling model: 0.49289 \n",
      "Accuracy for rf_Outliers_Oversampling model: 0.74062 \n"
     ]
    }
   ],
   "source": [
    "# Random Forest Model \n",
    "modelName = 'rf_Outliers_Oversampling'\n",
    "rf_model = RandomForestClassifier(max_depth=2, random_state=0)\n",
    "rf_model.fit(x_train_over, y_train_over) # train_over\n",
    "predictions_rf= rf_model.predict(X_test)\n",
    "results_rf = predDF(modelName,predictions_rf, y_test )\n",
    "myMetrics(modelName, y_test, predictions_rf)"
   ]
  },
  {
   "cell_type": "code",
   "execution_count": 307,
   "metadata": {},
   "outputs": [
    {
     "data": {
      "text/plain": [
       "Text(0.5, 0.98, 'Ground Truth vs Random Forest Predictions after Oversampling & Removing Outliers')"
      ]
     },
     "execution_count": 307,
     "metadata": {},
     "output_type": "execute_result"
    },
    {
     "data": {
      "image/png": "[encoded data removed]",
      "text/plain": [
       "<Figure size 864x432 with 2 Axes>"
      ]
     },
     "metadata": {
      "needs_background": "light"
     },
     "output_type": "display_data"
    }
   ],
   "source": [
    "fig, axes = plt.subplots(1,2, sharex=True, sharey= True, figsize=(12,6))\n",
    "sns.despine(left=True)\n",
    "\n",
    "sns.countplot(x='actualResults', data = results_rf, ax=axes[0] , palette=\"Greens\")\n",
    "sns.countplot(x='predictions_rf_Outliers_Oversampling', data = results_rf, ax=axes[1] )\n",
    "\n",
    "fig.tight_layout()\n",
    "\n",
    "for ax in axes.flat:\n",
    "    ax.label_outer()\n",
    "    \n",
    "fig.suptitle(\"Ground Truth vs Random Forest Predictions after Oversampling & Removing Outliers\")\n"
   ]
  },
  {
   "cell_type": "code",
   "execution_count": 310,
   "metadata": {
    "scrolled": true
   },
   "outputs": [
    {
     "data": {
      "text/plain": [
       "Text(0.5, 1.0, 'Random Forest Predictions after Oversampling & Removing Outliers')"
      ]
     },
     "execution_count": 310,
     "metadata": {},
     "output_type": "execute_result"
    },
    {
     "data": {
      "image/png": "[encoded data removed]",
      "text/plain": [
       "<Figure size 432x288 with 2 Axes>"
      ]
     },
     "metadata": {
      "needs_background": "light"
     },
     "output_type": "display_data"
    }
   ],
   "source": [
    "# Plot Confusion Matrix\n",
    "disp = plot_confusion_matrix(rf_model, X_test, y_test,\n",
    "                                 display_labels=[\"Did Not Default\",\"Default\"],\n",
    "                                 cmap=plt.cm.Blues,\n",
    "                                 normalize=None, values_format='.0f')\n",
    "\n",
    "disp.ax_.set_title(\"Random Forest Predictions after Oversampling & Removing Outliers\")\n"
   ]
  },
  {
   "cell_type": "markdown",
   "metadata": {},
   "source": [
    "# Parameter Tuning"
   ]
  },
  {
   "cell_type": "markdown",
   "metadata": {},
   "source": [
    "Main Parameters to adjust per Sci Kit Learn Documentation:\n",
    "\n",
    "- n_estimators: number of trees in forest. (100)\n",
    " - larger, the better\n",
    "- max_features:  size of the random subsets of features to consider when splitting a node\n",
    " - the lower, the greater the reduction of variance\n",
    " - the lower, greater the increase in bias\n",
    " - Empirical good default values are max_features=\"sqrt\" (using a random subset of size sqrt(n_features)) for classification tasks (where n_features is the number of features in the data)\n",
    "- Good results with max_depth=None in combination with min_samples_split=2 \n",
    "\n",
    "source: https://scikit-learn.org/stable/modules/ensemble.html#forest , 1.11.2.3. Parameters¶\n"
   ]
  },
  {
   "cell_type": "code",
   "execution_count": null,
   "metadata": {
    "scrolled": true
   },
   "outputs": [],
   "source": [
    "print('Parameters currently in use:\\n')\n",
    "print(rf_model_beforeTuning.get_params())\n",
    "\n",
    "# source: https://github.com/WillKoehrsen/Machine-Learning-Projects/blob/master/random_forest_explained/Improving%20Random%20Forest%20Part%202.ipynb"
   ]
  },
  {
   "cell_type": "code",
   "execution_count": null,
   "metadata": {},
   "outputs": [],
   "source": [
    "# Random Search with Cross Validation¶\n",
    "\n",
    "##from sklearn.model_selection import RandomizedSearchCV\n",
    "\n",
    "# Number of trees (estimators) in random forest\n",
    "n_estimators = [int(x) for x in np.linspace(start = 200, stop = 2000, num = 10)]\n",
    "\n",
    "# Number of features to consider at every split\n",
    "max_features = ['auto', 'sqrt']\n",
    "\n",
    "# Maximum number of levels in tree\n",
    "max_depth = [int(x) for x in np.linspace(10, 110, num = 11)]\n",
    "max_depth.append(None)\n",
    "\n",
    "# Minimum number of samples required to split a node\n",
    "min_samples_split = [2, 5, 10,15,20,25,30,35,40]\n",
    "\n",
    "# Minimum number of samples required at each leaf node\n",
    "min_samples_leaf = [1, 2, 4]\n",
    "\n",
    "# Method of selecting samples for training each tree\n",
    "bootstrap = [True, False]\n",
    "\n",
    "# Create the random grid\n",
    "random_grid = {'n_estimators': n_estimators,\n",
    "               'max_features': max_features,\n",
    "               'max_depth': max_depth,\n",
    "               'min_samples_split': min_samples_split,\n",
    "               'min_samples_leaf': min_samples_leaf,\n",
    "               'bootstrap': bootstrap}\n",
    "\n",
    "print(random_grid)"
   ]
  },
  {
   "cell_type": "code",
   "execution_count": null,
   "metadata": {},
   "outputs": [],
   "source": [
    "# Use the random grid to search for best hyperparameters\n",
    "# First create the base model to tune\n",
    "rf = rf_model_beforeTuning\n",
    "\n",
    "# Random search of parameters, using 10 fold cross validation, \n",
    "# search across 100 different combinations, and use all available cores\n",
    "rf_random = RandomizedSearchCV(estimator=rf, param_distributions=random_grid,\n",
    "                              n_iter = 10, scoring='neg_mean_absolute_error', # takes forever to run\n",
    "                              cv = 10, verbose=2, random_state=42, n_jobs=-1,\n",
    "                              return_train_score=True)\n",
    "\n",
    "# Fit the random search model\n",
    "rf_random.fit(X_train, y_train);"
   ]
  },
  {
   "cell_type": "code",
   "execution_count": null,
   "metadata": {},
   "outputs": [],
   "source": [
    "rf_random.best_params_\n"
   ]
  },
  {
   "cell_type": "code",
   "execution_count": null,
   "metadata": {},
   "outputs": [],
   "source": [
    "rf_random.cv_results_\n"
   ]
  },
  {
   "cell_type": "code",
   "execution_count": null,
   "metadata": {},
   "outputs": [],
   "source": [
    "# random forest model with parameters from tuning\n",
    "rf_model_afterTuning = RandomForestClassifier(n_estimators= 200,\n",
    " min_samples_split= 35,\n",
    " min_samples_leaf= 4,\n",
    " max_features= 'auto',\n",
    " max_depth= 20,\n",
    " bootstrap= False)"
   ]
  },
  {
   "cell_type": "code",
   "execution_count": null,
   "metadata": {},
   "outputs": [],
   "source": [
    "# Random Forest Model, after tuning \n",
    "modelName = 'rf_tuned'\n",
    "rf_model = rf_model_afterTuning\n",
    "rf_model.fit(x_train_over, y_train_over) # train_over\n",
    "predictions_rf= rf_model.predict(X_test)\n",
    "results_rf = predDF(modelName,predictions_rf, y_test )\n",
    "myMetrics(modelName, y_test, predictions_rf)"
   ]
  },
  {
   "cell_type": "code",
   "execution_count": null,
   "metadata": {},
   "outputs": [],
   "source": [
    "# Plot Confusion Matrix\n",
    "disp = plot_confusion_matrix(rf_model, X_test, y_test,\n",
    "                                 display_labels=[\"Did Not Default\",\"Default\"],\n",
    "                                 cmap=plt.cm.Blues,\n",
    "                                 normalize=None, values_format='.0f')\n",
    "\n",
    "disp.ax_.set_title(\"Random Forest Model after Tuning\")\n",
    "\n"
   ]
  },
  {
   "cell_type": "markdown",
   "metadata": {},
   "source": [
    "# Random Forest Variable Importance\n",
    "\n",
    "Variable Importance tells us which attributes relate to customer default rates.\n",
    "\n",
    "This is based on Gini impurity/information gain (entropy). This approach is biased, favoring continuous variables and high cardinality categorical variables. None of our categorical variables have high cardinality (payment status has the most levels). \n",
    "\n",
    "source: https://towardsdatascience.com/explaining-feature-importance-by-example-of-a-random-forest-d9166011959e"
   ]
  },
  {
   "cell_type": "code",
   "execution_count": 94,
   "metadata": {},
   "outputs": [
    {
     "data": {
      "text/plain": [
       "array([0.07339565, 0.0092544 , 0.02023506, 0.01146516, 0.06422632,\n",
       "       0.20362996, 0.0932544 , 0.04732571, 0.04014634, 0.02457719,\n",
       "       0.0237345 , 0.07777859, 0.07098584, 0.06688261, 0.05925684,\n",
       "       0.05467673, 0.05917472])"
      ]
     },
     "execution_count": 94,
     "metadata": {},
     "output_type": "execute_result"
    }
   ],
   "source": [
    "rf_model.feature_importances_\n"
   ]
  },
  {
   "cell_type": "code",
   "execution_count": 95,
   "metadata": {},
   "outputs": [
    {
     "name": "stdout",
     "output_type": "stream",
     "text": [
      "Feature ranking:\n",
      "1. feature 5 (0.203630)\n",
      "2. feature 6 (0.093254)\n",
      "3. feature 11 (0.077779)\n",
      "4. feature 0 (0.073396)\n",
      "5. feature 12 (0.070986)\n",
      "6. feature 13 (0.066883)\n",
      "7. feature 4 (0.064226)\n",
      "8. feature 14 (0.059257)\n",
      "9. feature 16 (0.059175)\n",
      "10. feature 15 (0.054677)\n",
      "11. feature 7 (0.047326)\n",
      "12. feature 8 (0.040146)\n",
      "13. feature 9 (0.024577)\n",
      "14. feature 10 (0.023734)\n",
      "15. feature 2 (0.020235)\n",
      "16. feature 3 (0.011465)\n",
      "17. feature 1 (0.009254)\n"
     ]
    },
    {
     "data": {
      "image/png": "[encoded data removed]",
      "text/plain": [
       "<Figure size 432x288 with 1 Axes>"
      ]
     },
     "metadata": {
      "needs_background": "light"
     },
     "output_type": "display_data"
    }
   ],
   "source": [
    "importances = rf_model.feature_importances_\n",
    "std = np.std([tree.feature_importances_ for tree in rf_model.estimators_],\n",
    "             axis=0)\n",
    "indices = np.argsort(importances)[::-1]\n",
    "\n",
    "# Print the feature ranking\n",
    "print(\"Feature ranking:\")\n",
    "\n",
    "for f in range(X.shape[1]):\n",
    "    print(\"%d. feature %d (%f)\" % (f + 1, indices[f], importances[indices[f]]))\n",
    "\n",
    "# Plot the feature importances of the forest\n",
    "plt.figure()\n",
    "plt.title(\"Feature importances\")\n",
    "plt.bar(range(X_test.shape[1]), importances[indices],\n",
    "       color=\"r\", yerr=std[indices], align=\"center\")\n",
    "plt.xticks(range(X.shape[1]), indices)\n",
    "plt.xlim([-1, X_test.shape[1]])\n",
    "plt.show()"
   ]
  },
  {
   "cell_type": "code",
   "execution_count": 39,
   "metadata": {},
   "outputs": [
    {
     "data": {
      "text/plain": [
       "Index(['limit', 'sex', 'edu', 'marriage', 'age', 'pay1', 'pay2', 'pay3',\n",
       "       'pay4', 'pay5', 'pay6', 'paid1', 'paid2', 'paid3', 'paid4', 'paid5',\n",
       "       'paid6'],\n",
       "      dtype='object')"
      ]
     },
     "execution_count": 39,
     "metadata": {},
     "output_type": "execute_result"
    }
   ],
   "source": [
    "X_test.columns"
   ]
  },
  {
   "cell_type": "code",
   "execution_count": 96,
   "metadata": {},
   "outputs": [
    {
     "data": {
      "text/plain": [
       "array([ 5,  6, 11,  0, 12, 13,  4, 14, 16, 15,  7,  8,  9, 10,  2,  3,  1])"
      ]
     },
     "execution_count": 96,
     "metadata": {},
     "output_type": "execute_result"
    }
   ],
   "source": [
    "indices"
   ]
  },
  {
   "cell_type": "markdown",
   "metadata": {},
   "source": [
    "\n",
    "age, pay1,"
   ]
  },
  {
   "cell_type": "code",
   "execution_count": 81,
   "metadata": {},
   "outputs": [
    {
     "data": {
      "text/html": [
       "<div>\n",
       "<style scoped>\n",
       "    .dataframe tbody tr th:only-of-type {\n",
       "        vertical-align: middle;\n",
       "    }\n",
       "\n",
       "    .dataframe tbody tr th {\n",
       "        vertical-align: top;\n",
       "    }\n",
       "\n",
       "    .dataframe thead th {\n",
       "        text-align: right;\n",
       "    }\n",
       "</style>\n",
       "<table border=\"1\" class=\"dataframe\">\n",
       "  <thead>\n",
       "    <tr style=\"text-align: right;\">\n",
       "      <th></th>\n",
       "      <th>pay1</th>\n",
       "      <th>pay2</th>\n",
       "      <th>paid1</th>\n",
       "      <th>paid2</th>\n",
       "      <th>paid3</th>\n",
       "      <th>limit</th>\n",
       "      <th>paid4</th>\n",
       "    </tr>\n",
       "  </thead>\n",
       "  <tbody>\n",
       "  </tbody>\n",
       "</table>\n",
       "</div>"
      ],
      "text/plain": [
       "Empty DataFrame\n",
       "Columns: [pay1, pay2, paid1, paid2, paid3, limit, paid4]\n",
       "Index: []"
      ]
     },
     "execution_count": 81,
     "metadata": {},
     "output_type": "execute_result"
    }
   ],
   "source": [
    "X_test.iloc[0:0, [ 5,  6, 11, 12, 13,  0, 14]]"
   ]
  },
  {
   "cell_type": "code",
   "execution_count": 97,
   "metadata": {},
   "outputs": [
    {
     "data": {
      "text/html": [
       "<div>\n",
       "<style scoped>\n",
       "    .dataframe tbody tr th:only-of-type {\n",
       "        vertical-align: middle;\n",
       "    }\n",
       "\n",
       "    .dataframe tbody tr th {\n",
       "        vertical-align: top;\n",
       "    }\n",
       "\n",
       "    .dataframe thead th {\n",
       "        text-align: right;\n",
       "    }\n",
       "</style>\n",
       "<table border=\"1\" class=\"dataframe\">\n",
       "  <thead>\n",
       "    <tr style=\"text-align: right;\">\n",
       "      <th></th>\n",
       "      <th>pay1</th>\n",
       "      <th>pay2</th>\n",
       "      <th>paid1</th>\n",
       "      <th>limit</th>\n",
       "      <th>paid2</th>\n",
       "      <th>paid3</th>\n",
       "      <th>age</th>\n",
       "      <th>paid4</th>\n",
       "    </tr>\n",
       "  </thead>\n",
       "  <tbody>\n",
       "  </tbody>\n",
       "</table>\n",
       "</div>"
      ],
      "text/plain": [
       "Empty DataFrame\n",
       "Columns: [pay1, pay2, paid1, limit, paid2, paid3, age, paid4]\n",
       "Index: []"
      ]
     },
     "execution_count": 97,
     "metadata": {},
     "output_type": "execute_result"
    }
   ],
   "source": [
    "X_test.iloc[0:0, [5,  6, 11,  0, 12, 13,  4, 14]]"
   ]
  },
  {
   "cell_type": "code",
   "execution_count": 275,
   "metadata": {},
   "outputs": [
    {
     "name": "stdout",
     "output_type": "stream",
     "text": [
      "Recall: 0.39 (+/- 0.03) [Gradient Boost Tree]\n",
      "Recall: 0.39 (+/- 0.03) [Random Forest]\n",
      "Recall: 0.35 (+/- 0.03) [Ada Boost]\n",
      "Recall: 0.38 (+/- 0.03) [Ensemble]\n"
     ]
    }
   ],
   "source": [
    "from sklearn.model_selection import cross_val_score\n",
    "from sklearn.ensemble import VotingClassifier\n",
    "\n",
    "clf1 = GradientBoostingClassifier(random_state=1)\n",
    "clf2 = RandomForestClassifier(n_estimators=50, random_state=1)\n",
    "clf3 = AdaBoostClassifier()\n",
    "\n",
    "eclf = VotingClassifier(\n",
    "    estimators =[('gbt', clf1), ('rf', clf2), ('ada', clf3)],\n",
    "    voting ='hard')\n",
    "\n",
    "for clf, label in zip([clf1, clf2, clf3, eclf], ['Gradient Boost Tree', 'Random Forest', 'Ada Boost', 'Ensemble']):\n",
    "    scores = cross_val_score(clf, X, y, scoring='recall', cv=5)\n",
    "    print(\"Recall: %0.2f (+/- %0.2f) [%s]\" % (scores.mean(), scores.std(), label))\n",
    "#Accuracy: 0.95 (+/- 0.04) [Gradient Boost Tree]\n",
    "#Accuracy: 0.94 (+/- 0.04) [Random Forest]\n",
    "#Accuracy: 0.91 (+/- 0.04) [Ada Boost]\n",
    "#Accuracy: 0.95 (+/- 0.04) [Ensemble]"
   ]
  },
  {
   "cell_type": "code",
   "execution_count": 336,
   "metadata": {},
   "outputs": [
    {
     "name": "stdout",
     "output_type": "stream",
     "text": [
      "Recall: 0.76 (+/- 0.01) [Gaussian Naive Bayes]\n",
      "Recall: 0.97 (+/- 0.03) [Random Forest]\n",
      "Recall: 0.63 (+/- 0.01) [Ensemble]\n",
      "Precision: 0.55 (+/- 0.01) [Gaussian Naive Bayes]\n",
      "Precision: 0.88 (+/- 0.00) [Random Forest]\n",
      "Precision: 0.75 (+/- 0.01) [Ensemble]\n",
      "Accuracy: 0.57 (+/- 0.01) [Gaussian Naive Bayes]\n",
      "Accuracy: 0.92 (+/- 0.01) [Random Forest]\n",
      "Accuracy: 0.71 (+/- 0.00) [Ensemble]\n"
     ]
    }
   ],
   "source": [
    "# try guassian naive bayes and rnadom foreset\n",
    "\n",
    "\n",
    "from sklearn.model_selection import cross_val_score\n",
    "from sklearn.ensemble import VotingClassifier\n",
    "\n",
    "clf1 = GaussianNB()\n",
    "clf2 = RandomForestClassifier(n_estimators=50, random_state=1)\n",
    "\n",
    "\n",
    "eclf = VotingClassifier(\n",
    "    estimators =[('gbn', clf1), ('rf', clf2)],\n",
    "    voting ='hard')\n",
    "\n",
    "for clf, label in zip([clf1, clf2, clf3, eclf], ['Gaussian Naive Bayes', 'Random Forest', 'Ensemble']):\n",
    "    scores = cross_val_score(clf, x_train_over, y_train_over, scoring='recall', cv=5)\n",
    "    print(\"Recall: %0.2f (+/- %0.2f) [%s]\" % (scores.mean(), scores.std(), label))\n",
    "for clf, label in zip([clf1, clf2, clf3, eclf], ['Gaussian Naive Bayes', 'Random Forest', 'Ensemble']):\n",
    "    scores = cross_val_score(clf, x_train_over, y_train_over, scoring='precision', cv=5)\n",
    "    print(\"Precision: %0.2f (+/- %0.2f) [%s]\" % (scores.mean(), scores.std(), label))\n",
    "for clf, label in zip([clf1, clf2, clf3, eclf], ['Gaussian Naive Bayes', 'Random Forest', 'Ensemble']):\n",
    "    scores = cross_val_score(clf, x_train_over, y_train_over, scoring='accuracy', cv=5)\n",
    "    print(\"Accuracy: %0.2f (+/- %0.2f) [%s]\" % (scores.mean(), scores.std(), label))\n",
    "#Accuracy: 0.95 (+/- 0.04) [Gradient Boost Tree]\n",
    "#Accuracy: 0.95 (+/- 0.04) [Gradient Boost Tree]\n",
    "#Accuracy: 0.94 (+/- 0.04) [Random Forest]\n",
    "#Accuracy: 0.95 (+/- 0.04) [Ensemble]"
   ]
  },
  {
   "cell_type": "code",
   "execution_count": null,
   "metadata": {},
   "outputs": [],
   "source": []
  }
 ],
 "metadata": {
  "kernelspec": {
   "display_name": "Python 3",
   "language": "python",
   "name": "python3"
  },
  "language_info": {
   "codemirror_mode": {
    "name": "ipython",
    "version": 3
   },
   "file_extension": ".py",
   "mimetype": "text/x-python",
   "name": "python",
   "nbconvert_exporter": "python",
   "pygments_lexer": "ipython3",
   "version": "3.7.4"
  },
  "toc": {
   "base_numbering": 1,
   "nav_menu": {},
   "number_sections": true,
   "sideBar": true,
   "skip_h1_title": false,
   "title_cell": "Table of Contents",
   "title_sidebar": "Contents",
   "toc_cell": false,
   "toc_position": {
    "height": "calc(100% - 180px)",
    "left": "10px",
    "top": "150px",
    "width": "341.292px"
   },
   "toc_section_display": true,
   "toc_window_display": true
  }
 },
 "nbformat": 4,
 "nbformat_minor": 2
}
